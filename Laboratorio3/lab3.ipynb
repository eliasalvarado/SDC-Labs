{
 "cells": [
  {
   "cell_type": "markdown",
   "metadata": {},
   "source": [
    "# Laboratorio #3 – Malware detection"
   ]
  },
  {
   "cell_type": "markdown",
   "metadata": {},
   "source": [
    "El alcance del laboratorio se redujo a solamente desarrollar UN modelo, ya que la cuenta gratiuta se agotó al momento de generar los embeddings. \n",
    "\n",
    "Teniendo eso en cuenta se decidió implementar DOS modelos de ML, con el fin de tener un análisis comparativo al final del laboratorio. Se escogieron los modelos logistic regression (LR) y gradient boosting (GB)."
   ]
  },
  {
   "cell_type": "code",
   "execution_count": 82,
   "metadata": {},
   "outputs": [],
   "source": [
    "import pandas as pd\n",
    "import numpy as np\n",
    "import matplotlib.pyplot as plt\n",
    "import seaborn as sns\n",
    "from sklearn.feature_extraction.text import TfidfVectorizer, CountVectorizer\n",
    "from sklearn.model_selection import train_test_split, cross_val_score, StratifiedKFold\n",
    "from sklearn.linear_model import LogisticRegression\n",
    "from sklearn.ensemble import GradientBoostingClassifier\n",
    "from sklearn.metrics import accuracy_score, confusion_matrix, precision_score, recall_score, roc_curve, auc, classification_report"
   ]
  },
  {
   "cell_type": "markdown",
   "metadata": {},
   "source": [
    "# Exploración de datos (EDA)"
   ]
  },
  {
   "cell_type": "code",
   "execution_count": 13,
   "metadata": {},
   "outputs": [],
   "source": [
    "dataset = pd.read_csv('MalBehavD-V1-dataset.csv')"
   ]
  },
  {
   "cell_type": "code",
   "execution_count": 14,
   "metadata": {},
   "outputs": [
    {
     "data": {
      "application/vnd.microsoft.datawrangler.viewer.v0+json": {
       "columns": [
        {
         "name": "index",
         "rawType": "int64",
         "type": "integer"
        },
        {
         "name": "sha256",
         "rawType": "object",
         "type": "string"
        },
        {
         "name": "labels",
         "rawType": "int64",
         "type": "integer"
        },
        {
         "name": "0",
         "rawType": "object",
         "type": "string"
        },
        {
         "name": "1",
         "rawType": "object",
         "type": "string"
        },
        {
         "name": "2",
         "rawType": "object",
         "type": "string"
        },
        {
         "name": "3",
         "rawType": "object",
         "type": "string"
        },
        {
         "name": "4",
         "rawType": "object",
         "type": "string"
        },
        {
         "name": "5",
         "rawType": "object",
         "type": "string"
        },
        {
         "name": "6",
         "rawType": "object",
         "type": "string"
        },
        {
         "name": "7",
         "rawType": "object",
         "type": "string"
        },
        {
         "name": "8",
         "rawType": "object",
         "type": "string"
        },
        {
         "name": "9",
         "rawType": "object",
         "type": "string"
        },
        {
         "name": "10",
         "rawType": "object",
         "type": "string"
        },
        {
         "name": "11",
         "rawType": "object",
         "type": "unknown"
        },
        {
         "name": "12",
         "rawType": "object",
         "type": "unknown"
        },
        {
         "name": "13",
         "rawType": "object",
         "type": "unknown"
        },
        {
         "name": "14",
         "rawType": "object",
         "type": "unknown"
        },
        {
         "name": "15",
         "rawType": "object",
         "type": "unknown"
        },
        {
         "name": "16",
         "rawType": "object",
         "type": "unknown"
        },
        {
         "name": "17",
         "rawType": "object",
         "type": "unknown"
        },
        {
         "name": "18",
         "rawType": "object",
         "type": "unknown"
        },
        {
         "name": "19",
         "rawType": "object",
         "type": "unknown"
        },
        {
         "name": "20",
         "rawType": "object",
         "type": "unknown"
        },
        {
         "name": "21",
         "rawType": "object",
         "type": "unknown"
        },
        {
         "name": "22",
         "rawType": "object",
         "type": "unknown"
        },
        {
         "name": "23",
         "rawType": "object",
         "type": "unknown"
        },
        {
         "name": "24",
         "rawType": "object",
         "type": "unknown"
        },
        {
         "name": "25",
         "rawType": "object",
         "type": "unknown"
        },
        {
         "name": "26",
         "rawType": "object",
         "type": "unknown"
        },
        {
         "name": "27",
         "rawType": "object",
         "type": "unknown"
        },
        {
         "name": "28",
         "rawType": "object",
         "type": "unknown"
        },
        {
         "name": "29",
         "rawType": "object",
         "type": "unknown"
        },
        {
         "name": "30",
         "rawType": "object",
         "type": "unknown"
        },
        {
         "name": "31",
         "rawType": "object",
         "type": "unknown"
        },
        {
         "name": "32",
         "rawType": "object",
         "type": "unknown"
        },
        {
         "name": "33",
         "rawType": "object",
         "type": "unknown"
        },
        {
         "name": "34",
         "rawType": "object",
         "type": "unknown"
        },
        {
         "name": "35",
         "rawType": "object",
         "type": "unknown"
        },
        {
         "name": "36",
         "rawType": "object",
         "type": "unknown"
        },
        {
         "name": "37",
         "rawType": "object",
         "type": "unknown"
        },
        {
         "name": "38",
         "rawType": "object",
         "type": "unknown"
        },
        {
         "name": "39",
         "rawType": "object",
         "type": "unknown"
        },
        {
         "name": "40",
         "rawType": "object",
         "type": "unknown"
        },
        {
         "name": "41",
         "rawType": "object",
         "type": "unknown"
        },
        {
         "name": "42",
         "rawType": "object",
         "type": "unknown"
        },
        {
         "name": "43",
         "rawType": "object",
         "type": "unknown"
        },
        {
         "name": "44",
         "rawType": "object",
         "type": "unknown"
        },
        {
         "name": "45",
         "rawType": "object",
         "type": "unknown"
        },
        {
         "name": "46",
         "rawType": "object",
         "type": "unknown"
        },
        {
         "name": "47",
         "rawType": "object",
         "type": "unknown"
        },
        {
         "name": "48",
         "rawType": "object",
         "type": "unknown"
        },
        {
         "name": "49",
         "rawType": "object",
         "type": "unknown"
        },
        {
         "name": "50",
         "rawType": "object",
         "type": "unknown"
        },
        {
         "name": "51",
         "rawType": "object",
         "type": "unknown"
        },
        {
         "name": "52",
         "rawType": "object",
         "type": "unknown"
        },
        {
         "name": "53",
         "rawType": "object",
         "type": "unknown"
        },
        {
         "name": "54",
         "rawType": "object",
         "type": "unknown"
        },
        {
         "name": "55",
         "rawType": "object",
         "type": "unknown"
        },
        {
         "name": "56",
         "rawType": "object",
         "type": "unknown"
        },
        {
         "name": "57",
         "rawType": "object",
         "type": "unknown"
        },
        {
         "name": "58",
         "rawType": "object",
         "type": "unknown"
        },
        {
         "name": "59",
         "rawType": "object",
         "type": "unknown"
        },
        {
         "name": "60",
         "rawType": "object",
         "type": "unknown"
        },
        {
         "name": "61",
         "rawType": "object",
         "type": "unknown"
        },
        {
         "name": "62",
         "rawType": "object",
         "type": "unknown"
        },
        {
         "name": "63",
         "rawType": "object",
         "type": "unknown"
        },
        {
         "name": "64",
         "rawType": "object",
         "type": "unknown"
        },
        {
         "name": "65",
         "rawType": "object",
         "type": "unknown"
        },
        {
         "name": "66",
         "rawType": "object",
         "type": "unknown"
        },
        {
         "name": "67",
         "rawType": "object",
         "type": "unknown"
        },
        {
         "name": "68",
         "rawType": "object",
         "type": "unknown"
        },
        {
         "name": "69",
         "rawType": "object",
         "type": "unknown"
        },
        {
         "name": "70",
         "rawType": "object",
         "type": "unknown"
        },
        {
         "name": "71",
         "rawType": "object",
         "type": "unknown"
        },
        {
         "name": "72",
         "rawType": "object",
         "type": "unknown"
        },
        {
         "name": "73",
         "rawType": "object",
         "type": "unknown"
        },
        {
         "name": "74",
         "rawType": "object",
         "type": "unknown"
        },
        {
         "name": "75",
         "rawType": "object",
         "type": "unknown"
        },
        {
         "name": "76",
         "rawType": "object",
         "type": "unknown"
        },
        {
         "name": "77",
         "rawType": "object",
         "type": "unknown"
        },
        {
         "name": "78",
         "rawType": "object",
         "type": "unknown"
        },
        {
         "name": "79",
         "rawType": "object",
         "type": "unknown"
        },
        {
         "name": "80",
         "rawType": "object",
         "type": "unknown"
        },
        {
         "name": "81",
         "rawType": "object",
         "type": "unknown"
        },
        {
         "name": "82",
         "rawType": "object",
         "type": "unknown"
        },
        {
         "name": "83",
         "rawType": "object",
         "type": "unknown"
        },
        {
         "name": "84",
         "rawType": "object",
         "type": "unknown"
        },
        {
         "name": "85",
         "rawType": "object",
         "type": "unknown"
        },
        {
         "name": "86",
         "rawType": "object",
         "type": "unknown"
        },
        {
         "name": "87",
         "rawType": "object",
         "type": "unknown"
        },
        {
         "name": "88",
         "rawType": "object",
         "type": "unknown"
        },
        {
         "name": "89",
         "rawType": "object",
         "type": "unknown"
        },
        {
         "name": "90",
         "rawType": "object",
         "type": "unknown"
        },
        {
         "name": "91",
         "rawType": "object",
         "type": "unknown"
        },
        {
         "name": "92",
         "rawType": "object",
         "type": "unknown"
        },
        {
         "name": "93",
         "rawType": "object",
         "type": "unknown"
        },
        {
         "name": "94",
         "rawType": "object",
         "type": "unknown"
        },
        {
         "name": "95",
         "rawType": "object",
         "type": "unknown"
        },
        {
         "name": "96",
         "rawType": "object",
         "type": "unknown"
        },
        {
         "name": "97",
         "rawType": "object",
         "type": "unknown"
        },
        {
         "name": "98",
         "rawType": "object",
         "type": "unknown"
        },
        {
         "name": "99",
         "rawType": "object",
         "type": "unknown"
        },
        {
         "name": "100",
         "rawType": "object",
         "type": "unknown"
        },
        {
         "name": "101",
         "rawType": "object",
         "type": "unknown"
        },
        {
         "name": "102",
         "rawType": "object",
         "type": "unknown"
        },
        {
         "name": "103",
         "rawType": "object",
         "type": "unknown"
        },
        {
         "name": "104",
         "rawType": "object",
         "type": "unknown"
        },
        {
         "name": "105",
         "rawType": "object",
         "type": "unknown"
        },
        {
         "name": "106",
         "rawType": "object",
         "type": "unknown"
        },
        {
         "name": "107",
         "rawType": "object",
         "type": "unknown"
        },
        {
         "name": "108",
         "rawType": "object",
         "type": "unknown"
        },
        {
         "name": "109",
         "rawType": "object",
         "type": "unknown"
        },
        {
         "name": "110",
         "rawType": "object",
         "type": "unknown"
        },
        {
         "name": "111",
         "rawType": "object",
         "type": "unknown"
        },
        {
         "name": "112",
         "rawType": "object",
         "type": "unknown"
        },
        {
         "name": "113",
         "rawType": "object",
         "type": "unknown"
        },
        {
         "name": "114",
         "rawType": "object",
         "type": "unknown"
        },
        {
         "name": "115",
         "rawType": "object",
         "type": "unknown"
        },
        {
         "name": "116",
         "rawType": "object",
         "type": "unknown"
        },
        {
         "name": "117",
         "rawType": "object",
         "type": "unknown"
        },
        {
         "name": "118",
         "rawType": "object",
         "type": "unknown"
        },
        {
         "name": "119",
         "rawType": "object",
         "type": "unknown"
        },
        {
         "name": "120",
         "rawType": "object",
         "type": "unknown"
        },
        {
         "name": "121",
         "rawType": "object",
         "type": "unknown"
        },
        {
         "name": "122",
         "rawType": "object",
         "type": "unknown"
        },
        {
         "name": "123",
         "rawType": "object",
         "type": "unknown"
        },
        {
         "name": "124",
         "rawType": "object",
         "type": "unknown"
        },
        {
         "name": "125",
         "rawType": "object",
         "type": "unknown"
        },
        {
         "name": "126",
         "rawType": "object",
         "type": "unknown"
        },
        {
         "name": "127",
         "rawType": "object",
         "type": "unknown"
        },
        {
         "name": "128",
         "rawType": "object",
         "type": "unknown"
        },
        {
         "name": "129",
         "rawType": "object",
         "type": "unknown"
        },
        {
         "name": "130",
         "rawType": "object",
         "type": "unknown"
        },
        {
         "name": "131",
         "rawType": "object",
         "type": "unknown"
        },
        {
         "name": "132",
         "rawType": "object",
         "type": "unknown"
        },
        {
         "name": "133",
         "rawType": "object",
         "type": "unknown"
        },
        {
         "name": "134",
         "rawType": "object",
         "type": "unknown"
        },
        {
         "name": "135",
         "rawType": "object",
         "type": "unknown"
        },
        {
         "name": "136",
         "rawType": "object",
         "type": "unknown"
        },
        {
         "name": "137",
         "rawType": "object",
         "type": "unknown"
        },
        {
         "name": "138",
         "rawType": "object",
         "type": "unknown"
        },
        {
         "name": "139",
         "rawType": "object",
         "type": "unknown"
        },
        {
         "name": "140",
         "rawType": "object",
         "type": "unknown"
        },
        {
         "name": "141",
         "rawType": "object",
         "type": "unknown"
        },
        {
         "name": "142",
         "rawType": "object",
         "type": "unknown"
        },
        {
         "name": "143",
         "rawType": "object",
         "type": "unknown"
        },
        {
         "name": "144",
         "rawType": "object",
         "type": "unknown"
        },
        {
         "name": "145",
         "rawType": "object",
         "type": "unknown"
        },
        {
         "name": "146",
         "rawType": "object",
         "type": "unknown"
        },
        {
         "name": "147",
         "rawType": "object",
         "type": "unknown"
        },
        {
         "name": "148",
         "rawType": "object",
         "type": "unknown"
        },
        {
         "name": "149",
         "rawType": "object",
         "type": "unknown"
        },
        {
         "name": "150",
         "rawType": "object",
         "type": "unknown"
        },
        {
         "name": "151",
         "rawType": "object",
         "type": "unknown"
        },
        {
         "name": "152",
         "rawType": "object",
         "type": "unknown"
        },
        {
         "name": "153",
         "rawType": "object",
         "type": "unknown"
        },
        {
         "name": "154",
         "rawType": "object",
         "type": "unknown"
        },
        {
         "name": "155",
         "rawType": "object",
         "type": "unknown"
        },
        {
         "name": "156",
         "rawType": "object",
         "type": "unknown"
        },
        {
         "name": "157",
         "rawType": "object",
         "type": "unknown"
        },
        {
         "name": "158",
         "rawType": "object",
         "type": "unknown"
        },
        {
         "name": "159",
         "rawType": "object",
         "type": "unknown"
        },
        {
         "name": "160",
         "rawType": "object",
         "type": "unknown"
        },
        {
         "name": "161",
         "rawType": "object",
         "type": "unknown"
        },
        {
         "name": "162",
         "rawType": "object",
         "type": "unknown"
        },
        {
         "name": "163",
         "rawType": "object",
         "type": "unknown"
        },
        {
         "name": "164",
         "rawType": "object",
         "type": "unknown"
        },
        {
         "name": "165",
         "rawType": "object",
         "type": "unknown"
        },
        {
         "name": "166",
         "rawType": "object",
         "type": "unknown"
        },
        {
         "name": "167",
         "rawType": "object",
         "type": "unknown"
        },
        {
         "name": "168",
         "rawType": "object",
         "type": "unknown"
        },
        {
         "name": "169",
         "rawType": "object",
         "type": "unknown"
        },
        {
         "name": "170",
         "rawType": "object",
         "type": "unknown"
        },
        {
         "name": "171",
         "rawType": "object",
         "type": "unknown"
        },
        {
         "name": "172",
         "rawType": "object",
         "type": "unknown"
        },
        {
         "name": "173",
         "rawType": "object",
         "type": "unknown"
        },
        {
         "name": "174",
         "rawType": "object",
         "type": "unknown"
        }
       ],
       "conversionMethod": "pd.DataFrame",
       "ref": "ee18ae76-45bd-4a37-a738-1b0fa6bb95a7",
       "rows": [
        [
         "0",
         "5c18291c481a192ed5003084dab2d8a117fd3736359218fee2aea1a164544c9e",
         "0",
         "LdrUnloadDll",
         "CoUninitialize",
         "NtQueryKey",
         "NtDuplicateObject",
         "GetShortPathNameW",
         "GetSystemInfo",
         "IsDebuggerPresent",
         "GetSystemWindowsDirectoryW",
         "NtClose",
         "GetFileVersionInfoSizeW",
         "NtOpenProcess",
         "GetFileAttributesW",
         "RegQueryValueExW",
         "NtMapViewOfSection",
         "RtlAddVectoredExceptionHandler",
         "GetFileSize",
         "RegOpenKeyExW",
         "SetErrorMode",
         "NtResumeThread",
         "NtAllocateVirtualMemory",
         "GetFileInformationByHandle",
         "LdrGetDllHandle",
         "NtFreeVirtualMemory",
         "NtQuerySystemInformation",
         "NtEnumerateValueKey",
         "RtlRemoveVectoredExceptionHandler",
         "NtReadFile",
         "NtOpenFile",
         "CoInitializeEx",
         "CreateThread",
         "NtUnmapViewOfSection",
         "RegQueryInfoKeyW",
         "GetSystemDirectoryW",
         "RegEnumKeyExW",
         "NtQueryDirectoryFile",
         "SetUnhandledExceptionFilter",
         "NtCreateFile",
         "NtCreateThreadEx",
         "GetSystemTimeAsFileTime",
         "GlobalMemoryStatusEx",
         "NtCreateMutant",
         "NtProtectVirtualMemory",
         "GetFileAttributesExW",
         "RegEnumValueW",
         "NtCreateSection",
         "NtOpenKey",
         "LdrGetProcedureAddress",
         "GetFileVersionInfoW",
         "NtOpenDirectoryObject",
         "GetFileType",
         "NtOpenKeyEx",
         "LdrLoadDll",
         "NtTerminateProcess",
         "NtQueryValueKey",
         null,
         null,
         null,
         null,
         null,
         null,
         null,
         null,
         null,
         null,
         null,
         null,
         null,
         null,
         null,
         null,
         null,
         null,
         null,
         null,
         null,
         null,
         null,
         null,
         null,
         null,
         null,
         null,
         null,
         null,
         null,
         null,
         null,
         null,
         null,
         null,
         null,
         null,
         null,
         null,
         null,
         null,
         null,
         null,
         null,
         null,
         null,
         null,
         null,
         null,
         null,
         null,
         null,
         null,
         null,
         null,
         null,
         null,
         null,
         null,
         null,
         null,
         null,
         null,
         null,
         null,
         null,
         null,
         null,
         null,
         null,
         null,
         null,
         null,
         null,
         null,
         null,
         null,
         null,
         null,
         null,
         null,
         null,
         null,
         null,
         null,
         null,
         null,
         null,
         null,
         null,
         null,
         null,
         null,
         null,
         null,
         null,
         null,
         null,
         null,
         null,
         null,
         null,
         null,
         null,
         null,
         null,
         null,
         null,
         null,
         null,
         null,
         null,
         null,
         null,
         null,
         null,
         null,
         null,
         null,
         null
        ],
        [
         "1",
         "4683faf3da550ffb594cf5513c4cbb34f64df85f27fd1c5d75cd1c5cdc598f20",
         "0",
         "NtOpenMutant",
         "GetForegroundWindow",
         "NtQueryKey",
         "DrawTextExW",
         "NtSetInformationFile",
         "RegQueryValueExA",
         "LdrGetProcedureAddress",
         "CoUninitialize",
         "NtQueryValueKey",
         "RegCloseKey",
         "RegQueryValueExW",
         "NtFreeVirtualMemory",
         "GetSystemMetrics",
         "CreateActCtxW",
         "RegOpenKeyExW",
         "NtReadFile",
         "CreateDirectoryW",
         "NtWriteFile",
         "NtMapViewOfSection",
         "GetSystemInfo",
         "GetKeyState",
         "OleInitialize",
         "NtOpenFile",
         "GetFileSizeEx",
         "GetSystemDirectoryW",
         "RegQueryInfoKeyW",
         "NtUnmapViewOfSection",
         "RegEnumKeyExW",
         "LoadStringW",
         "GetTempPathW",
         "NtCreateFile",
         "GetSystemTimeAsFileTime",
         "NtQueryAttributesFile",
         "NtCreateMutant",
         "SHGetFolderPathW",
         "LdrGetDllHandle",
         "NtCreateSection",
         "SetUnhandledExceptionFilter",
         "NtOpenKey",
         "CoInitializeEx",
         "LoadResource",
         "FindResourceExW",
         "NtAllocateVirtualMemory",
         "NtOpenKeyEx",
         "LdrLoadDll",
         "NtQueryInformationFile",
         "NtClose",
         null,
         null,
         null,
         null,
         null,
         null,
         null,
         null,
         null,
         null,
         null,
         null,
         null,
         null,
         null,
         null,
         null,
         null,
         null,
         null,
         null,
         null,
         null,
         null,
         null,
         null,
         null,
         null,
         null,
         null,
         null,
         null,
         null,
         null,
         null,
         null,
         null,
         null,
         null,
         null,
         null,
         null,
         null,
         null,
         null,
         null,
         null,
         null,
         null,
         null,
         null,
         null,
         null,
         null,
         null,
         null,
         null,
         null,
         null,
         null,
         null,
         null,
         null,
         null,
         null,
         null,
         null,
         null,
         null,
         null,
         null,
         null,
         null,
         null,
         null,
         null,
         null,
         null,
         null,
         null,
         null,
         null,
         null,
         null,
         null,
         null,
         null,
         null,
         null,
         null,
         null,
         null,
         null,
         null,
         null,
         null,
         null,
         null,
         null,
         null,
         null,
         null,
         null,
         null,
         null,
         null,
         null,
         null,
         null,
         null,
         null,
         null,
         null,
         null,
         null,
         null,
         null,
         null,
         null,
         null,
         null,
         null,
         null,
         null,
         null,
         null,
         null,
         null
        ],
        [
         "2",
         "9a0aea1c7290031d7c3429d0e921f107282cc6eab854ee1bf80dfa69c7cc65be",
         "0",
         "GetForegroundWindow",
         "DrawTextExW",
         "GetSystemInfo",
         "IsDebuggerPresent",
         "GetSystemWindowsDirectoryW",
         "NtQueryValueKey",
         "RegCloseKey",
         "GetFileAttributesW",
         "RegQueryValueExW",
         "NtMapViewOfSection",
         "GetSystemMetrics",
         "RegOpenKeyExW",
         "NtAllocateVirtualMemory",
         "NtWriteFile",
         "LdrGetDllHandle",
         "NtFreeVirtualMemory",
         "FindResourceExA",
         "NtOpenFile",
         "GetSystemDirectoryW",
         "FindResourceExW",
         "NtCreateFile",
         "NtCreateSection",
         "CoInitializeEx",
         "GlobalMemoryStatus",
         "SearchPathW",
         "NtOpenKey",
         "NtOpenMutant",
         "LoadResource",
         "LdrGetProcedureAddress",
         "NtOpenDirectoryObject",
         "GetFileType",
         "LdrLoadDll",
         "NtClose",
         null,
         null,
         null,
         null,
         null,
         null,
         null,
         null,
         null,
         null,
         null,
         null,
         null,
         null,
         null,
         null,
         null,
         null,
         null,
         null,
         null,
         null,
         null,
         null,
         null,
         null,
         null,
         null,
         null,
         null,
         null,
         null,
         null,
         null,
         null,
         null,
         null,
         null,
         null,
         null,
         null,
         null,
         null,
         null,
         null,
         null,
         null,
         null,
         null,
         null,
         null,
         null,
         null,
         null,
         null,
         null,
         null,
         null,
         null,
         null,
         null,
         null,
         null,
         null,
         null,
         null,
         null,
         null,
         null,
         null,
         null,
         null,
         null,
         null,
         null,
         null,
         null,
         null,
         null,
         null,
         null,
         null,
         null,
         null,
         null,
         null,
         null,
         null,
         null,
         null,
         null,
         null,
         null,
         null,
         null,
         null,
         null,
         null,
         null,
         null,
         null,
         null,
         null,
         null,
         null,
         null,
         null,
         null,
         null,
         null,
         null,
         null,
         null,
         null,
         null,
         null,
         null,
         null,
         null,
         null,
         null,
         null,
         null,
         null,
         null,
         null,
         null,
         null,
         null,
         null,
         null,
         null,
         null,
         null,
         null,
         null,
         null,
         null,
         null,
         null,
         null,
         null
        ],
        [
         "3",
         "e0f3e4d5f50afd9c31e51dd9941c5a52d57c7c524f5d11df30beed672bb50e06",
         "0",
         "NtQueryValueKey",
         "LdrUnloadDll",
         "GlobalMemoryStatus",
         "WriteConsoleA",
         "NtOpenKey",
         "LdrGetProcedureAddress",
         "NtTerminateProcess",
         "NtClose",
         "NtAllocateVirtualMemory",
         "LdrGetDllHandle",
         "GetFileType",
         null,
         null,
         null,
         null,
         null,
         null,
         null,
         null,
         null,
         null,
         null,
         null,
         null,
         null,
         null,
         null,
         null,
         null,
         null,
         null,
         null,
         null,
         null,
         null,
         null,
         null,
         null,
         null,
         null,
         null,
         null,
         null,
         null,
         null,
         null,
         null,
         null,
         null,
         null,
         null,
         null,
         null,
         null,
         null,
         null,
         null,
         null,
         null,
         null,
         null,
         null,
         null,
         null,
         null,
         null,
         null,
         null,
         null,
         null,
         null,
         null,
         null,
         null,
         null,
         null,
         null,
         null,
         null,
         null,
         null,
         null,
         null,
         null,
         null,
         null,
         null,
         null,
         null,
         null,
         null,
         null,
         null,
         null,
         null,
         null,
         null,
         null,
         null,
         null,
         null,
         null,
         null,
         null,
         null,
         null,
         null,
         null,
         null,
         null,
         null,
         null,
         null,
         null,
         null,
         null,
         null,
         null,
         null,
         null,
         null,
         null,
         null,
         null,
         null,
         null,
         null,
         null,
         null,
         null,
         null,
         null,
         null,
         null,
         null,
         null,
         null,
         null,
         null,
         null,
         null,
         null,
         null,
         null,
         null,
         null,
         null,
         null,
         null,
         null,
         null,
         null,
         null,
         null,
         null,
         null,
         null,
         null,
         null,
         null,
         null,
         null,
         null,
         null,
         null,
         null,
         null,
         null,
         null,
         null,
         null,
         null,
         null,
         null,
         null
        ],
        [
         "4",
         "ec2b6d29992f13e74015ff0b129150b4afae15c593e4b7586a225f1797ff0ef1",
         "0",
         "LdrUnloadDll",
         "GetSystemTimeAsFileTime",
         "NtOpenKey",
         "WSAStartup",
         "SetUnhandledExceptionFilter",
         "NtTerminateProcess",
         "NtClose",
         "NtAllocateVirtualMemory",
         "NtQueryAttributesFile",
         "LdrGetDllHandle",
         "NtQueryValueKey",
         null,
         null,
         null,
         null,
         null,
         null,
         null,
         null,
         null,
         null,
         null,
         null,
         null,
         null,
         null,
         null,
         null,
         null,
         null,
         null,
         null,
         null,
         null,
         null,
         null,
         null,
         null,
         null,
         null,
         null,
         null,
         null,
         null,
         null,
         null,
         null,
         null,
         null,
         null,
         null,
         null,
         null,
         null,
         null,
         null,
         null,
         null,
         null,
         null,
         null,
         null,
         null,
         null,
         null,
         null,
         null,
         null,
         null,
         null,
         null,
         null,
         null,
         null,
         null,
         null,
         null,
         null,
         null,
         null,
         null,
         null,
         null,
         null,
         null,
         null,
         null,
         null,
         null,
         null,
         null,
         null,
         null,
         null,
         null,
         null,
         null,
         null,
         null,
         null,
         null,
         null,
         null,
         null,
         null,
         null,
         null,
         null,
         null,
         null,
         null,
         null,
         null,
         null,
         null,
         null,
         null,
         null,
         null,
         null,
         null,
         null,
         null,
         null,
         null,
         null,
         null,
         null,
         null,
         null,
         null,
         null,
         null,
         null,
         null,
         null,
         null,
         null,
         null,
         null,
         null,
         null,
         null,
         null,
         null,
         null,
         null,
         null,
         null,
         null,
         null,
         null,
         null,
         null,
         null,
         null,
         null,
         null,
         null,
         null,
         null,
         null,
         null,
         null,
         null,
         null,
         null,
         null,
         null,
         null,
         null,
         null,
         null,
         null,
         null
        ]
       ],
       "shape": {
        "columns": 177,
        "rows": 5
       }
      },
      "text/html": [
       "<div>\n",
       "<style scoped>\n",
       "    .dataframe tbody tr th:only-of-type {\n",
       "        vertical-align: middle;\n",
       "    }\n",
       "\n",
       "    .dataframe tbody tr th {\n",
       "        vertical-align: top;\n",
       "    }\n",
       "\n",
       "    .dataframe thead th {\n",
       "        text-align: right;\n",
       "    }\n",
       "</style>\n",
       "<table border=\"1\" class=\"dataframe\">\n",
       "  <thead>\n",
       "    <tr style=\"text-align: right;\">\n",
       "      <th></th>\n",
       "      <th>sha256</th>\n",
       "      <th>labels</th>\n",
       "      <th>0</th>\n",
       "      <th>1</th>\n",
       "      <th>2</th>\n",
       "      <th>3</th>\n",
       "      <th>4</th>\n",
       "      <th>5</th>\n",
       "      <th>6</th>\n",
       "      <th>7</th>\n",
       "      <th>...</th>\n",
       "      <th>165</th>\n",
       "      <th>166</th>\n",
       "      <th>167</th>\n",
       "      <th>168</th>\n",
       "      <th>169</th>\n",
       "      <th>170</th>\n",
       "      <th>171</th>\n",
       "      <th>172</th>\n",
       "      <th>173</th>\n",
       "      <th>174</th>\n",
       "    </tr>\n",
       "  </thead>\n",
       "  <tbody>\n",
       "    <tr>\n",
       "      <th>0</th>\n",
       "      <td>5c18291c481a192ed5003084dab2d8a117fd3736359218...</td>\n",
       "      <td>0</td>\n",
       "      <td>LdrUnloadDll</td>\n",
       "      <td>CoUninitialize</td>\n",
       "      <td>NtQueryKey</td>\n",
       "      <td>NtDuplicateObject</td>\n",
       "      <td>GetShortPathNameW</td>\n",
       "      <td>GetSystemInfo</td>\n",
       "      <td>IsDebuggerPresent</td>\n",
       "      <td>GetSystemWindowsDirectoryW</td>\n",
       "      <td>...</td>\n",
       "      <td>NaN</td>\n",
       "      <td>NaN</td>\n",
       "      <td>NaN</td>\n",
       "      <td>NaN</td>\n",
       "      <td>NaN</td>\n",
       "      <td>NaN</td>\n",
       "      <td>NaN</td>\n",
       "      <td>NaN</td>\n",
       "      <td>NaN</td>\n",
       "      <td>NaN</td>\n",
       "    </tr>\n",
       "    <tr>\n",
       "      <th>1</th>\n",
       "      <td>4683faf3da550ffb594cf5513c4cbb34f64df85f27fd1c...</td>\n",
       "      <td>0</td>\n",
       "      <td>NtOpenMutant</td>\n",
       "      <td>GetForegroundWindow</td>\n",
       "      <td>NtQueryKey</td>\n",
       "      <td>DrawTextExW</td>\n",
       "      <td>NtSetInformationFile</td>\n",
       "      <td>RegQueryValueExA</td>\n",
       "      <td>LdrGetProcedureAddress</td>\n",
       "      <td>CoUninitialize</td>\n",
       "      <td>...</td>\n",
       "      <td>NaN</td>\n",
       "      <td>NaN</td>\n",
       "      <td>NaN</td>\n",
       "      <td>NaN</td>\n",
       "      <td>NaN</td>\n",
       "      <td>NaN</td>\n",
       "      <td>NaN</td>\n",
       "      <td>NaN</td>\n",
       "      <td>NaN</td>\n",
       "      <td>NaN</td>\n",
       "    </tr>\n",
       "    <tr>\n",
       "      <th>2</th>\n",
       "      <td>9a0aea1c7290031d7c3429d0e921f107282cc6eab854ee...</td>\n",
       "      <td>0</td>\n",
       "      <td>GetForegroundWindow</td>\n",
       "      <td>DrawTextExW</td>\n",
       "      <td>GetSystemInfo</td>\n",
       "      <td>IsDebuggerPresent</td>\n",
       "      <td>GetSystemWindowsDirectoryW</td>\n",
       "      <td>NtQueryValueKey</td>\n",
       "      <td>RegCloseKey</td>\n",
       "      <td>GetFileAttributesW</td>\n",
       "      <td>...</td>\n",
       "      <td>NaN</td>\n",
       "      <td>NaN</td>\n",
       "      <td>NaN</td>\n",
       "      <td>NaN</td>\n",
       "      <td>NaN</td>\n",
       "      <td>NaN</td>\n",
       "      <td>NaN</td>\n",
       "      <td>NaN</td>\n",
       "      <td>NaN</td>\n",
       "      <td>NaN</td>\n",
       "    </tr>\n",
       "    <tr>\n",
       "      <th>3</th>\n",
       "      <td>e0f3e4d5f50afd9c31e51dd9941c5a52d57c7c524f5d11...</td>\n",
       "      <td>0</td>\n",
       "      <td>NtQueryValueKey</td>\n",
       "      <td>LdrUnloadDll</td>\n",
       "      <td>GlobalMemoryStatus</td>\n",
       "      <td>WriteConsoleA</td>\n",
       "      <td>NtOpenKey</td>\n",
       "      <td>LdrGetProcedureAddress</td>\n",
       "      <td>NtTerminateProcess</td>\n",
       "      <td>NtClose</td>\n",
       "      <td>...</td>\n",
       "      <td>NaN</td>\n",
       "      <td>NaN</td>\n",
       "      <td>NaN</td>\n",
       "      <td>NaN</td>\n",
       "      <td>NaN</td>\n",
       "      <td>NaN</td>\n",
       "      <td>NaN</td>\n",
       "      <td>NaN</td>\n",
       "      <td>NaN</td>\n",
       "      <td>NaN</td>\n",
       "    </tr>\n",
       "    <tr>\n",
       "      <th>4</th>\n",
       "      <td>ec2b6d29992f13e74015ff0b129150b4afae15c593e4b7...</td>\n",
       "      <td>0</td>\n",
       "      <td>LdrUnloadDll</td>\n",
       "      <td>GetSystemTimeAsFileTime</td>\n",
       "      <td>NtOpenKey</td>\n",
       "      <td>WSAStartup</td>\n",
       "      <td>SetUnhandledExceptionFilter</td>\n",
       "      <td>NtTerminateProcess</td>\n",
       "      <td>NtClose</td>\n",
       "      <td>NtAllocateVirtualMemory</td>\n",
       "      <td>...</td>\n",
       "      <td>NaN</td>\n",
       "      <td>NaN</td>\n",
       "      <td>NaN</td>\n",
       "      <td>NaN</td>\n",
       "      <td>NaN</td>\n",
       "      <td>NaN</td>\n",
       "      <td>NaN</td>\n",
       "      <td>NaN</td>\n",
       "      <td>NaN</td>\n",
       "      <td>NaN</td>\n",
       "    </tr>\n",
       "  </tbody>\n",
       "</table>\n",
       "<p>5 rows × 177 columns</p>\n",
       "</div>"
      ],
      "text/plain": [
       "                                              sha256  labels  \\\n",
       "0  5c18291c481a192ed5003084dab2d8a117fd3736359218...       0   \n",
       "1  4683faf3da550ffb594cf5513c4cbb34f64df85f27fd1c...       0   \n",
       "2  9a0aea1c7290031d7c3429d0e921f107282cc6eab854ee...       0   \n",
       "3  e0f3e4d5f50afd9c31e51dd9941c5a52d57c7c524f5d11...       0   \n",
       "4  ec2b6d29992f13e74015ff0b129150b4afae15c593e4b7...       0   \n",
       "\n",
       "                     0                        1                   2  \\\n",
       "0         LdrUnloadDll           CoUninitialize          NtQueryKey   \n",
       "1         NtOpenMutant      GetForegroundWindow          NtQueryKey   \n",
       "2  GetForegroundWindow              DrawTextExW       GetSystemInfo   \n",
       "3      NtQueryValueKey             LdrUnloadDll  GlobalMemoryStatus   \n",
       "4         LdrUnloadDll  GetSystemTimeAsFileTime           NtOpenKey   \n",
       "\n",
       "                   3                            4                       5  \\\n",
       "0  NtDuplicateObject            GetShortPathNameW           GetSystemInfo   \n",
       "1        DrawTextExW         NtSetInformationFile        RegQueryValueExA   \n",
       "2  IsDebuggerPresent   GetSystemWindowsDirectoryW         NtQueryValueKey   \n",
       "3      WriteConsoleA                    NtOpenKey  LdrGetProcedureAddress   \n",
       "4         WSAStartup  SetUnhandledExceptionFilter      NtTerminateProcess   \n",
       "\n",
       "                        6                           7  ...  165  166  167  \\\n",
       "0       IsDebuggerPresent  GetSystemWindowsDirectoryW  ...  NaN  NaN  NaN   \n",
       "1  LdrGetProcedureAddress              CoUninitialize  ...  NaN  NaN  NaN   \n",
       "2             RegCloseKey          GetFileAttributesW  ...  NaN  NaN  NaN   \n",
       "3      NtTerminateProcess                     NtClose  ...  NaN  NaN  NaN   \n",
       "4                 NtClose     NtAllocateVirtualMemory  ...  NaN  NaN  NaN   \n",
       "\n",
       "   168  169  170  171  172  173  174  \n",
       "0  NaN  NaN  NaN  NaN  NaN  NaN  NaN  \n",
       "1  NaN  NaN  NaN  NaN  NaN  NaN  NaN  \n",
       "2  NaN  NaN  NaN  NaN  NaN  NaN  NaN  \n",
       "3  NaN  NaN  NaN  NaN  NaN  NaN  NaN  \n",
       "4  NaN  NaN  NaN  NaN  NaN  NaN  NaN  \n",
       "\n",
       "[5 rows x 177 columns]"
      ]
     },
     "execution_count": 14,
     "metadata": {},
     "output_type": "execute_result"
    }
   ],
   "source": [
    "dataset.head(5)"
   ]
  },
  {
   "cell_type": "code",
   "execution_count": 15,
   "metadata": {},
   "outputs": [
    {
     "name": "stdout",
     "output_type": "stream",
     "text": [
      "<class 'pandas.core.frame.DataFrame'>\n",
      "RangeIndex: 2570 entries, 0 to 2569\n",
      "Columns: 177 entries, sha256 to 174\n",
      "dtypes: int64(1), object(176)\n",
      "memory usage: 3.5+ MB\n"
     ]
    }
   ],
   "source": [
    "dataset.info()"
   ]
  },
  {
   "cell_type": "code",
   "execution_count": 22,
   "metadata": {},
   "outputs": [
    {
     "data": {
      "text/plain": [
       "174       2569\n",
       "163       2569\n",
       "153       2569\n",
       "155       2569\n",
       "156       2569\n",
       "          ... \n",
       "2            6\n",
       "0            0\n",
       "labels       0\n",
       "1            0\n",
       "sha256       0\n",
       "Length: 177, dtype: int64"
      ]
     },
     "execution_count": 22,
     "metadata": {},
     "output_type": "execute_result"
    }
   ],
   "source": [
    "dataset.isnull().sum().sort_values(ascending=False)"
   ]
  },
  {
   "cell_type": "code",
   "execution_count": 20,
   "metadata": {},
   "outputs": [
    {
     "data": {
      "text/plain": [
       "labels\n",
       "0    1285\n",
       "1    1285\n",
       "Name: count, dtype: int64"
      ]
     },
     "execution_count": 20,
     "metadata": {},
     "output_type": "execute_result"
    }
   ],
   "source": [
    "dataset.labels.value_counts()"
   ]
  },
  {
   "cell_type": "markdown",
   "metadata": {},
   "source": [
    "# Preprocesamiento"
   ]
  },
  {
   "cell_type": "markdown",
   "metadata": {},
   "source": [
    "Como se puede observar el dataset en cuanto a labels está perfectamente balanceado. Por lo que no tendremos que preocuparnos por eso.\n",
    "Ahora bien, dada la naturaleza del dataset, existe muchos valores NULL, lo cuál podría llegar a afectar la interpretación del modelo. Para evitar eso se decidió reemplazar todos los valores NULL por una cadena vacía \"\", simple. Con eso se asegurará que el vector generado con GoW y TF-DIF no se verá afectado."
   ]
  },
  {
   "cell_type": "code",
   "execution_count": 24,
   "metadata": {},
   "outputs": [],
   "source": [
    "dataset.fillna(\"\", inplace=True)"
   ]
  },
  {
   "cell_type": "markdown",
   "metadata": {},
   "source": [
    "# Ingeniería de características"
   ]
  },
  {
   "cell_type": "code",
   "execution_count": 38,
   "metadata": {},
   "outputs": [],
   "source": [
    "apiCallsColumns = dataset.columns[2:]\n",
    "dataset['callsSequence'] = dataset[apiCallsColumns].astype(str).agg(' '.join, axis=1)\n",
    "\n",
    "# Bag of Words (BoW)\n",
    "bowVectorizer = CountVectorizer()\n",
    "X_bow = bowVectorizer.fit_transform(dataset['callsSequence'])\n",
    "\n",
    "# TF-IDF\n",
    "tfidfVectorizer = TfidfVectorizer()\n",
    "X_tfidf = tfidfVectorizer.fit_transform(dataset['callsSequence'])\n",
    "y = dataset['labels']"
   ]
  },
  {
   "cell_type": "markdown",
   "metadata": {},
   "source": [
    "# Implementación"
   ]
  },
  {
   "cell_type": "code",
   "execution_count": 39,
   "metadata": {},
   "outputs": [],
   "source": [
    "X_train_bow, X_test_bow, y_train_bow, y_test_bow = train_test_split(X_bow, y, test_size=0.3, random_state=101, stratify=y)\n",
    "X_train_tfidf, X_test_tfidf, y_train_tfidf, y_test_tfidf = train_test_split(X_tfidf, y, test_size=0.3, random_state=101, stratify=y)"
   ]
  },
  {
   "cell_type": "code",
   "execution_count": 83,
   "metadata": {},
   "outputs": [],
   "source": [
    "def testModel(model, X_train, X_test, y_train, y_test, name):\n",
    "    skf = StratifiedKFold(n_splits=10, shuffle=True, random_state=42)\n",
    "    scores = cross_val_score(model, X_train, y_train, cv=skf, scoring='accuracy')\n",
    "    \n",
    "    model.fit(X_train, y_train)\n",
    "    y_pred = model.predict(X_test)\n",
    "    y_prob = model.predict_proba(X_test)[:, 1]\n",
    "    \n",
    "    accuracy = accuracy_score(y_test, y_pred)\n",
    "    precision = precision_score(y_test, y_pred)\n",
    "    recall = recall_score(y_test, y_pred)\n",
    "    \n",
    "    fpr, tpr, _ = roc_curve(y_test, y_prob)\n",
    "    roc_auc = auc(fpr, tpr)\n",
    "    \n",
    "    print(f\"{name} - Accuracy: {accuracy:.4f}, Precision: {precision:.4f}, Recall: {recall:.4f}\")\n",
    "    print(classification_report(y_test, y_pred))\n",
    "    \n",
    "    cm = confusion_matrix(y_test, y_pred)\n",
    "    plt.figure(figsize=(6,4))\n",
    "    sns.heatmap(cm, annot=True, fmt=\"d\", cmap=\"Blues\", xticklabels=['Benigno', 'Malware'], yticklabels=['Benigno', 'Malware'])\n",
    "    plt.title(f'Matriz de Confusión - {name}')\n",
    "    plt.xlabel('Predicción')\n",
    "    plt.ylabel('Real')\n",
    "    plt.show()\n",
    "    \n",
    "    plt.figure()\n",
    "    plt.plot(fpr, tpr, lw=2, label=f'AUC = {roc_auc:.2f}')\n",
    "    plt.plot([0,1], [0,1], linestyle=\"--\", color=\"gray\")\n",
    "    plt.xlabel('Tasa de Falsos Positivos')\n",
    "    plt.ylabel('Tasa de Verdaderos Positivos')\n",
    "    plt.title(f'Curva ROC - {name}')\n",
    "    plt.legend(loc='lower right')\n",
    "    plt.show()"
   ]
  },
  {
   "cell_type": "markdown",
   "metadata": {},
   "source": [
    "### Modelos"
   ]
  },
  {
   "cell_type": "code",
   "execution_count": 84,
   "metadata": {},
   "outputs": [],
   "source": [
    "logistic_regression = LogisticRegression()\n",
    "gb_classifier = GradientBoostingClassifier()"
   ]
  },
  {
   "cell_type": "markdown",
   "metadata": {},
   "source": [
    "### Para Bag of Words (BoW)"
   ]
  },
  {
   "cell_type": "code",
   "execution_count": 86,
   "metadata": {},
   "outputs": [
    {
     "name": "stderr",
     "output_type": "stream",
     "text": [
      "c:\\Users\\ealva\\AppData\\Local\\Programs\\Python\\Python310\\lib\\site-packages\\sklearn\\linear_model\\_logistic.py:469: ConvergenceWarning: lbfgs failed to converge (status=1):\n",
      "STOP: TOTAL NO. of ITERATIONS REACHED LIMIT.\n",
      "\n",
      "Increase the number of iterations (max_iter) or scale the data as shown in:\n",
      "    https://scikit-learn.org/stable/modules/preprocessing.html\n",
      "Please also refer to the documentation for alternative solver options:\n",
      "    https://scikit-learn.org/stable/modules/linear_model.html#logistic-regression\n",
      "  n_iter_i = _check_optimize_result(\n",
      "c:\\Users\\ealva\\AppData\\Local\\Programs\\Python\\Python310\\lib\\site-packages\\sklearn\\linear_model\\_logistic.py:469: ConvergenceWarning: lbfgs failed to converge (status=1):\n",
      "STOP: TOTAL NO. of ITERATIONS REACHED LIMIT.\n",
      "\n",
      "Increase the number of iterations (max_iter) or scale the data as shown in:\n",
      "    https://scikit-learn.org/stable/modules/preprocessing.html\n",
      "Please also refer to the documentation for alternative solver options:\n",
      "    https://scikit-learn.org/stable/modules/linear_model.html#logistic-regression\n",
      "  n_iter_i = _check_optimize_result(\n",
      "c:\\Users\\ealva\\AppData\\Local\\Programs\\Python\\Python310\\lib\\site-packages\\sklearn\\linear_model\\_logistic.py:469: ConvergenceWarning: lbfgs failed to converge (status=1):\n",
      "STOP: TOTAL NO. of ITERATIONS REACHED LIMIT.\n",
      "\n",
      "Increase the number of iterations (max_iter) or scale the data as shown in:\n",
      "    https://scikit-learn.org/stable/modules/preprocessing.html\n",
      "Please also refer to the documentation for alternative solver options:\n",
      "    https://scikit-learn.org/stable/modules/linear_model.html#logistic-regression\n",
      "  n_iter_i = _check_optimize_result(\n",
      "c:\\Users\\ealva\\AppData\\Local\\Programs\\Python\\Python310\\lib\\site-packages\\sklearn\\linear_model\\_logistic.py:469: ConvergenceWarning: lbfgs failed to converge (status=1):\n",
      "STOP: TOTAL NO. of ITERATIONS REACHED LIMIT.\n",
      "\n",
      "Increase the number of iterations (max_iter) or scale the data as shown in:\n",
      "    https://scikit-learn.org/stable/modules/preprocessing.html\n",
      "Please also refer to the documentation for alternative solver options:\n",
      "    https://scikit-learn.org/stable/modules/linear_model.html#logistic-regression\n",
      "  n_iter_i = _check_optimize_result(\n",
      "c:\\Users\\ealva\\AppData\\Local\\Programs\\Python\\Python310\\lib\\site-packages\\sklearn\\linear_model\\_logistic.py:469: ConvergenceWarning: lbfgs failed to converge (status=1):\n",
      "STOP: TOTAL NO. of ITERATIONS REACHED LIMIT.\n",
      "\n",
      "Increase the number of iterations (max_iter) or scale the data as shown in:\n",
      "    https://scikit-learn.org/stable/modules/preprocessing.html\n",
      "Please also refer to the documentation for alternative solver options:\n",
      "    https://scikit-learn.org/stable/modules/linear_model.html#logistic-regression\n",
      "  n_iter_i = _check_optimize_result(\n",
      "c:\\Users\\ealva\\AppData\\Local\\Programs\\Python\\Python310\\lib\\site-packages\\sklearn\\linear_model\\_logistic.py:469: ConvergenceWarning: lbfgs failed to converge (status=1):\n",
      "STOP: TOTAL NO. of ITERATIONS REACHED LIMIT.\n",
      "\n",
      "Increase the number of iterations (max_iter) or scale the data as shown in:\n",
      "    https://scikit-learn.org/stable/modules/preprocessing.html\n",
      "Please also refer to the documentation for alternative solver options:\n",
      "    https://scikit-learn.org/stable/modules/linear_model.html#logistic-regression\n",
      "  n_iter_i = _check_optimize_result(\n",
      "c:\\Users\\ealva\\AppData\\Local\\Programs\\Python\\Python310\\lib\\site-packages\\sklearn\\linear_model\\_logistic.py:469: ConvergenceWarning: lbfgs failed to converge (status=1):\n",
      "STOP: TOTAL NO. of ITERATIONS REACHED LIMIT.\n",
      "\n",
      "Increase the number of iterations (max_iter) or scale the data as shown in:\n",
      "    https://scikit-learn.org/stable/modules/preprocessing.html\n",
      "Please also refer to the documentation for alternative solver options:\n",
      "    https://scikit-learn.org/stable/modules/linear_model.html#logistic-regression\n",
      "  n_iter_i = _check_optimize_result(\n",
      "c:\\Users\\ealva\\AppData\\Local\\Programs\\Python\\Python310\\lib\\site-packages\\sklearn\\linear_model\\_logistic.py:469: ConvergenceWarning: lbfgs failed to converge (status=1):\n",
      "STOP: TOTAL NO. of ITERATIONS REACHED LIMIT.\n",
      "\n",
      "Increase the number of iterations (max_iter) or scale the data as shown in:\n",
      "    https://scikit-learn.org/stable/modules/preprocessing.html\n",
      "Please also refer to the documentation for alternative solver options:\n",
      "    https://scikit-learn.org/stable/modules/linear_model.html#logistic-regression\n",
      "  n_iter_i = _check_optimize_result(\n",
      "c:\\Users\\ealva\\AppData\\Local\\Programs\\Python\\Python310\\lib\\site-packages\\sklearn\\linear_model\\_logistic.py:469: ConvergenceWarning: lbfgs failed to converge (status=1):\n",
      "STOP: TOTAL NO. of ITERATIONS REACHED LIMIT.\n",
      "\n",
      "Increase the number of iterations (max_iter) or scale the data as shown in:\n",
      "    https://scikit-learn.org/stable/modules/preprocessing.html\n",
      "Please also refer to the documentation for alternative solver options:\n",
      "    https://scikit-learn.org/stable/modules/linear_model.html#logistic-regression\n",
      "  n_iter_i = _check_optimize_result(\n",
      "c:\\Users\\ealva\\AppData\\Local\\Programs\\Python\\Python310\\lib\\site-packages\\sklearn\\linear_model\\_logistic.py:469: ConvergenceWarning: lbfgs failed to converge (status=1):\n",
      "STOP: TOTAL NO. of ITERATIONS REACHED LIMIT.\n",
      "\n",
      "Increase the number of iterations (max_iter) or scale the data as shown in:\n",
      "    https://scikit-learn.org/stable/modules/preprocessing.html\n",
      "Please also refer to the documentation for alternative solver options:\n",
      "    https://scikit-learn.org/stable/modules/linear_model.html#logistic-regression\n",
      "  n_iter_i = _check_optimize_result(\n",
      "c:\\Users\\ealva\\AppData\\Local\\Programs\\Python\\Python310\\lib\\site-packages\\sklearn\\linear_model\\_logistic.py:469: ConvergenceWarning: lbfgs failed to converge (status=1):\n",
      "STOP: TOTAL NO. of ITERATIONS REACHED LIMIT.\n",
      "\n",
      "Increase the number of iterations (max_iter) or scale the data as shown in:\n",
      "    https://scikit-learn.org/stable/modules/preprocessing.html\n",
      "Please also refer to the documentation for alternative solver options:\n",
      "    https://scikit-learn.org/stable/modules/linear_model.html#logistic-regression\n",
      "  n_iter_i = _check_optimize_result(\n"
     ]
    },
    {
     "name": "stdout",
     "output_type": "stream",
     "text": [
      "Logistic Regression - Accuracy: 0.9546, Precision: 0.9512, Recall: 0.9585\n",
      "              precision    recall  f1-score   support\n",
      "\n",
      "           0       0.96      0.95      0.95       385\n",
      "           1       0.95      0.96      0.95       386\n",
      "\n",
      "    accuracy                           0.95       771\n",
      "   macro avg       0.95      0.95      0.95       771\n",
      "weighted avg       0.95      0.95      0.95       771\n",
      "\n"
     ]
    },
    {
     "data": {
      "image/png": "[encoded data removed]",
      "text/plain": [
       "<Figure size 600x400 with 2 Axes>"
      ]
     },
     "metadata": {},
     "output_type": "display_data"
    },
    {
     "data": {
      "image/png": "[encoded data removed]",
      "text/plain": [
       "<Figure size 640x480 with 1 Axes>"
      ]
     },
     "metadata": {},
     "output_type": "display_data"
    }
   ],
   "source": [
    "testModel(logistic_regression, X_train_bow, X_test_bow, y_train_bow, y_test_bow, \"Logistic Regression\")"
   ]
  },
  {
   "cell_type": "code",
   "execution_count": 87,
   "metadata": {},
   "outputs": [
    {
     "name": "stdout",
     "output_type": "stream",
     "text": [
      "Gradient Boosting - Accuracy: 0.9624, Precision: 0.9786, Recall: 0.9456\n",
      "              precision    recall  f1-score   support\n",
      "\n",
      "           0       0.95      0.98      0.96       385\n",
      "           1       0.98      0.95      0.96       386\n",
      "\n",
      "    accuracy                           0.96       771\n",
      "   macro avg       0.96      0.96      0.96       771\n",
      "weighted avg       0.96      0.96      0.96       771\n",
      "\n"
     ]
    },
    {
     "data": {
      "image/png": "[encoded data removed]",
      "text/plain": [
       "<Figure size 600x400 with 2 Axes>"
      ]
     },
     "metadata": {},
     "output_type": "display_data"
    },
    {
     "data": {
      "image/png": "[encoded data removed]",
      "text/plain": [
       "<Figure size 640x480 with 1 Axes>"
      ]
     },
     "metadata": {},
     "output_type": "display_data"
    }
   ],
   "source": [
    "testModel(gb_classifier, X_train_bow, X_test_bow, y_train_bow, y_test_bow, \"Gradient Boosting\")"
   ]
  },
  {
   "cell_type": "markdown",
   "metadata": {},
   "source": [
    "#### Explicación de méticas"
   ]
  },
  {
   "cell_type": "markdown",
   "metadata": {},
   "source": [
    "Ambos presentaron resultados muy buenos y parecidos.\n",
    "\n",
    "**Acurracy:** LR entregó un 95.46%, mientras que GB un 96.24% de accuracy, indicando que ambos lograron una exactitud muy alta a la hora de clasificar un conjunto de llamadas a la API.\n",
    "\n",
    "**Precision:** LR 95.12% y GB 97.86%, aunque ambos son altos, GB tiene una precisión significativamente mayor. Y esto se puede comprobar también con la matriz de confusión, en la que GB muestra 377 TP (True Positive) y LR solamente cuenta con 366 TP. Aunque no GB no tenga menos FP (Fasle Positive) que LR, lo indicado anteriormente prueba porqué GB tuvo mayor precisión que LR.\n",
    "\n",
    "**Recall:** LR 95.85% y GB 94.56%. Indicando que LR identificó más malwares correctamente. Se puede confirmar en la matriz de confusión, donde GB tiene 365 TP, mientras que LR tiene 370 TP.\n",
    "\n",
    "**AUC:** LR 0.98 y GB 0.99. Ambos fueron muy altos, haciendo que ambos fueran altamente capaces de clasificar correctamente.\n",
    "\n",
    "Generalmente, Gradient Boosting demostró ser mejor que Logistic Regression utilizando Bag of Words."
   ]
  },
  {
   "cell_type": "markdown",
   "metadata": {},
   "source": [
    "### Para TF-IDF"
   ]
  },
  {
   "cell_type": "code",
   "execution_count": 88,
   "metadata": {},
   "outputs": [
    {
     "name": "stdout",
     "output_type": "stream",
     "text": [
      "Logistic Regression - Accuracy: 0.9507, Precision: 0.9677, Recall: 0.9326\n",
      "              precision    recall  f1-score   support\n",
      "\n",
      "           0       0.93      0.97      0.95       385\n",
      "           1       0.97      0.93      0.95       386\n",
      "\n",
      "    accuracy                           0.95       771\n",
      "   macro avg       0.95      0.95      0.95       771\n",
      "weighted avg       0.95      0.95      0.95       771\n",
      "\n"
     ]
    },
    {
     "data": {
      "image/png": "[encoded data removed]",
      "text/plain": [
       "<Figure size 600x400 with 2 Axes>"
      ]
     },
     "metadata": {},
     "output_type": "display_data"
    },
    {
     "data": {
      "image/png": "[encoded data removed]",
      "text/plain": [
       "<Figure size 640x480 with 1 Axes>"
      ]
     },
     "metadata": {},
     "output_type": "display_data"
    }
   ],
   "source": [
    "testModel(logistic_regression, X_train_tfidf, X_test_tfidf, y_train_tfidf, y_test_tfidf, \"Logistic Regression\")"
   ]
  },
  {
   "cell_type": "code",
   "execution_count": 89,
   "metadata": {},
   "outputs": [
    {
     "name": "stdout",
     "output_type": "stream",
     "text": [
      "Gradient Boosting - Accuracy: 0.9559, Precision: 0.9681, Recall: 0.9430\n",
      "              precision    recall  f1-score   support\n",
      "\n",
      "           0       0.94      0.97      0.96       385\n",
      "           1       0.97      0.94      0.96       386\n",
      "\n",
      "    accuracy                           0.96       771\n",
      "   macro avg       0.96      0.96      0.96       771\n",
      "weighted avg       0.96      0.96      0.96       771\n",
      "\n"
     ]
    },
    {
     "data": {
      "image/png": "[encoded data removed]",
      "text/plain": [
       "<Figure size 600x400 with 2 Axes>"
      ]
     },
     "metadata": {},
     "output_type": "display_data"
    },
    {
     "data": {
      "image/png": "[encoded data removed]",
      "text/plain": [
       "<Figure size 640x480 with 1 Axes>"
      ]
     },
     "metadata": {},
     "output_type": "display_data"
    }
   ],
   "source": [
    "testModel(gb_classifier, X_train_tfidf, X_test_tfidf, y_train_tfidf, y_test_tfidf, \"Gradient Boosting\")"
   ]
  },
  {
   "cell_type": "markdown",
   "metadata": {},
   "source": [
    "#### Explicación de métricas"
   ]
  },
  {
   "cell_type": "markdown",
   "metadata": {},
   "source": [
    "Ambos presentaron resultados muy buenos y parecidos.\n",
    "\n",
    "**Acurracy:** LR 95.07% y GB un 95.59%. Básicamente iguales.\n",
    "\n",
    "**Precision:** LR 96.77% y GB 96.81%. Realmente sin diferencia signficativa, también se puede confirmar en la matriz de confusión. Donde solamente se diferencian por 4 en los FP.\n",
    "\n",
    "**Recall:** LR 93.26% y GB 94.30%. Ya con una diferencia significativa, GB fue mejor que LR al detectar más TP, lo cual se puede confirmar en la matriz de confusión.\n",
    "\n",
    "**AUC:** LR 0.99 y GB 0.99. Idénticos.\n",
    "\n",
    "Muy pero muy ligeramente, Gradient Boosting demostró ser mejor que Logistic Regression utilizando TF-IDF."
   ]
  }
 ],
 "metadata": {
  "kernelspec": {
   "display_name": "Python 3",
   "language": "python",
   "name": "python3"
  },
  "language_info": {
   "codemirror_mode": {
    "name": "ipython",
    "version": 3
   },
   "file_extension": ".py",
   "mimetype": "text/x-python",
   "name": "python",
   "nbconvert_exporter": "python",
   "pygments_lexer": "ipython3",
   "version": "3.10.2"
  }
 },
 "nbformat": 4,
 "nbformat_minor": 2
}
