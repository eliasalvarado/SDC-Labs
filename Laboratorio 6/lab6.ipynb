{
 "cells": [
  {
   "cell_type": "markdown",
   "metadata": {},
   "source": [
    "# Laboratorio #6 – Análisis de tráfico de red"
   ]
  },
  {
   "cell_type": "markdown",
   "metadata": {},
   "source": [
    "# Librerías"
   ]
  },
  {
   "cell_type": "code",
   "execution_count": null,
   "metadata": {},
   "outputs": [],
   "source": [
    "import pandas as pd\n",
    "import binascii\n",
    "import numpy as np\n",
    "import matplotlib.pyplot as plt\n",
    "from scapy.all import *"
   ]
  },
  {
   "cell_type": "markdown",
   "metadata": {},
   "source": [
    "# Análisis estadístico"
   ]
  },
  {
   "cell_type": "markdown",
   "metadata": {},
   "source": [
    "## 1. Descargue e archivo analisis_paquetes.pcap y asignelo a una variable."
   ]
  },
  {
   "cell_type": "code",
   "execution_count": 2,
   "metadata": {},
   "outputs": [],
   "source": [
    "pcap_p = rdpcap(\"analisis_paquetes.pcap\")"
   ]
  },
  {
   "cell_type": "code",
   "execution_count": 3,
   "metadata": {},
   "outputs": [
    {
     "name": "stdout",
     "output_type": "stream",
     "text": [
      "###[ Ethernet ]###\n",
      "  dst       = 80:37:73:96:9b:db\n",
      "  src       = 88:e9:fe:6a:92:52\n",
      "  type      = IPv4\n",
      "###[ IP ]###\n",
      "     version   = 4\n",
      "     ihl       = 5\n",
      "     tos       = 0x0\n",
      "     len       = 961\n",
      "     id        = 1\n",
      "     flags     = \n",
      "     frag      = 0\n",
      "     ttl       = 64\n",
      "     proto     = udp\n",
      "     chksum    = 0x52e6\n",
      "     src       = 10.1.10.53\n",
      "     dst       = 84.54.22.33\n",
      "     \\options   \\\n",
      "###[ UDP ]###\n",
      "        sport     = domain\n",
      "        dport     = domain\n",
      "        len       = 941\n",
      "        chksum    = 0xf60e\n",
      "###[ DNS ]###\n",
      "           id        = 12\n",
      "           qr        = 0\n",
      "           opcode    = QUERY\n",
      "           aa        = 0\n",
      "           tc        = 0\n",
      "           rd        = 1\n",
      "           ra        = 0\n",
      "           z         = 0\n",
      "           ad        = 0\n",
      "           cd        = 0\n",
      "           rcode     = ok\n",
      "           qdcount   = 1\n",
      "           ancount   = 0\n",
      "           nscount   = 0\n",
      "           arcount   = 0\n",
      "           \\qd        \\\n",
      "            |###[ DNS Question Record ]###\n",
      "            |  qname     = b'google.com.'\n",
      "            |  qtype     = AAAA\n",
      "            |  unicastresponse= 0\n",
      "            |  qclass    = IN\n",
      "           \\an        \\\n",
      "           \\ns        \\\n",
      "           \\ar        \\\n",
      "###[ Raw ]###\n",
      "              load      = b'\\xef\\xbf\\xbdPNG\\r\\n\\x1a\\n\\x00\\x00\\x00\\rIHDR\\x00\\x00\\x01b\\x00\\x00\\x00\\xef\\xbf\\xbd\\x08\\x06\\x00\\x00\\x00(\\xef\\xbf\\xbdTR\\x00\\x00:\\xef\\xbf\\xbdIDATx\\xef\\xbf\\xbd\\xef\\xbf\\xbd\\t|T\\xef\\xbf\\xbd\\xef\\xbf\\xbd\\xef\\xbf\\xbd\\xef\\xbf\\xbd\\xef\\xbf\\xbd;K\\x12\\x08;\\x08\\xef\\xbf\\xbd\\nE\\xef\\xbf\\xbd\\xef\\xbf\\xbd$\\x19\\xef\\xbf\\xbd\\xef\\xbf\\xbdZi\\xdf\\xaa-\\xef\\xbf\\xbd;N2\\xef\\xbf\\xbd\\xef\\xbf\\xbdV\\xef\\xbf\\xbdV\\xef\\xbf\\xbda\\xef\\xbf\\xbdZ\\x11!\\xef\\xbf\\xbd\\xef\\xbf\\xbd\\x01\\xdc\\xbbik[\\xef\\xbf\\xbd.ok\\xef\\xbf\\xbde\\xef\\xbf\\xbd\\x01\\\\\\xef\\xbf\\xbd\\xef\\xbf\\xbd]\\xef\\xbf\\xbd-\\xef\\xbf\\xbd\\xef\\xbf\\xbd\\xef\\xbf\\xbdd\\xef\\xbf\\xbd\\x08\\xef\\xbf\\xbd\\x08\\xef\\xbf\\xbd\\xef\\xbf\\xbdg\\xef\\xbf\\xbd\\xef\\xbf\\xbd\\xef\\xbf\\xbd<\\xef\\xbf\\xbd\\xef\\xbf\\xbdL\\x12\\xef\\xbf\\xbd$3wf\\xef\\xbf\\xbd\\xef\\xbf\\xbd\\x02<_\\r\\xef\\xbf\\xbdY\\xef\\xbf\\xbdr\\xef\\xbf\\xbd\\xef\\xbf\\xbdy\\xef\\xbf\\xbd\\xef\\xbf\\xbd\\xef\\xbf\\xbd\\x1c\\r\\x18\\xef\\xbf\\xbd8c\\xef\\xbf\\xbdew\\r\\x1e\\xef\\xbf\\xbd\\xef\\xbf\\xbd\\xef\\xbf\\xbd\\xef\\xbf\\xbd\\x13\\xef\\xbf\\xbdiaK\\xef\\xbf\\xbd\\xef\\xbf\\xbd\\xef\\xbf\\xbd\\xef\\xbf\\xbdu}\\xc5\\xb2w\\xef\\xbf\\xbdd\\xef\\xbf\\xbd\\xef\\xbf\\xbd\\x15\\xef\\xbf\\xbd\"`\\x06:\\x13\\xef\\xbf\\xbd\\x0b\\xef\\xbf\\xbd\\x0c\\x16\\xef\\xbf\\xbd\\x12\\xef\\xbf\\xbd&\\xef\\xbf\\xbd9\\xc6\\x90\\xef\\xbf\\xbd\\x00\\xef\\xbf\\xbd\\xef\\xbf\\xbd\\xef\\xbf\\xbd\\x08\\x111\\xd2\\x8cQHP*\\xef\\xbf\\xbd@\\x04O4\\xef\\xbf\\xbd\\xef\\xbf\\xbd\\xef\\xbf\\xbd7<y\\xef\\xbf\\xbd\\x0e.9\\xef\\xbf\\xbd\\xef\\xbf\\xbd\\xef\\xbf\\xbda2@a\\xef\\xbf\\xbd\\xef\\xbf\\xbd&\"\\xef\\xbf\\xbd\\x13\\x11\\xef\\xbf\\xbdc\\xef\\xbf\\xbdkO\\xef\\xbf\\xbds@\\xef\\xbf\\xbd9\\xef\\xbf\\xbdi\\xef\\xbf\\xbd4X\\xef\\xbf\\xbdx\\xef\\xbf\\xbdK\\xef\\xbf\\xbda!f\\xef\\xbf\\xbd\\xef\\xbf\\xbd0w\\xef\\xbf\\xbd\\xef\\xbf\\xbd3dx\\x1d\"\\xef\\xbf\\xbd\\xef\\xbf\\xbd\\xef\\xbf\\xbdC(\\xef\\xbf\\xbd}\\xef\\xbf\\xbd0|q\\xef\\xbf\\xbd*\\xef\\xbf\\xbd\\xef\\xbf\\xbd\\x0b\\xef\\xbf\\xbda!f\\xef\\xbf\\xbd4\\xef\\xbf\\xbd\\xef\\xbf\\xbd.\\xef\\xbf\\xbdsKg\\x10\\x11]=9N\\xd4\\x82\\x06\\xef\\xbf\\xbd\\xef\\xbf\\xbdu\\xef\\xbf\\xbd\\xef\\xbf\\xbd\\xef\\xbf\\xbdK_\\xef\\xbf\\xbde\\x06*\\xef\\xbf\\xbd\\xef\\xbf\\xbd\\xef\\xbf\\xbd\\x19Px\\xef\\xbf\\xbd\\xef\\xbf\\xbd%\\xef\\xbf\\xbd\\xef\\xbf\\xbd\\x03\\xef\\xbf\\xbd3\\xef\\xbf\\xbd\\xef\\xbf\\xbd\\x1e\"E?\\x0f\\xef\\xbf\\xbd\\xef\\xbf\\xbd\\xef\\xbf\\xbd+H\\xef\\xbf\\xbd]Q\\xef\\xbf\\xbdk\\xef\\xbf\\xbd\\xef\\xbf\\xbd\\xef\\xbf\\xbd\\xef\\xbf\\xbd8\\xef\\xbf\\xbd\"\\xef\\xbf\\xbd\\x1d\\x114v\\xef\\xbf\\xbd2\\x10\\xef\\xbf\\xbd\\xef\\xbf\\xbd\\xef\\xbf\\xbd\\xe5\\x92\\xaf\\xcc\\xb8|\\xef\\xbf\\xbdx.\\\\\\xef\\xbf\\xbd-b\\xef\\xbf\\xbdI\\xef\\xbf\\xbdB\\xef\\xbf\\xbd\\xef\\xbf\\xbd\\xef\\xbf\\xbd@\\xef\\xbf\\xbdL\\xef\\xbf\\xbd\\xef\\xbf\\xbdCJ]XWQ\\xef\\xbf\\xbd\\xef\\xbf\\xbd\\xef\\xbf\\xbd\\xef\\xbf\\xbduQ\\xef\\xbf\\xbdkQ\\x13\\x7f\\xef\\xbf\\xbdN\\xef\\xbf\\xbd1\\x00\\xef\\xbf\\xbd\\xef\\xbf\\xbd\\xef\\xbf\\xbd2\\x17\\xef\\xbf\\xbd03\\x10\\xef\\xbf\\xbd\\\\\\x04\\xef\\xbf\\xbd@!\\xef\\xbf\\xbdH\\xef\\xbf\\xbdBJqG\\'+\\xef\\xbf\\xbdR\\xef\\xbf\\xbdU\\\\[\\xef\\xbf\\xbd\\xef\\xbf\\xbd\\xef\\xbf\\xbd\\xef\\xbf\\xbdGXC;\\xef\\xbf\\xbd\\xef\\xbf\\xbd\\xd4\\x8e\\xef\\xbf\\xbdq\\xef\\xbf\\xbd!\\x04\\xef\\xbf\\xbdr\\xef\\xbf\\xbds=\\xef\\xbf\\xbd\\x02r\\xd4\\xb4\\x0b\\xef\\xbf\\xbd\\xef\\xbf\\xbd\\xef\\xbf\\xbd_S\\xef\\xbf\\xbd%\\xef\\xbf\\xbdph\\xef\\xbf\\xbda\\x12Y\\x05\\x02\\xef\\xbf\\xbd\\xef\\xbf\\xbd\\xef\\xbf\\xbd\\xef\\xbf\\xbdc\\xef\\xbf\\xbd\\xef\\xbf\\xbd\\xef\\xbf\\xbdP\\xef\\xbf\\xbd9\\xef\\xbf\\xbd'\n",
      "\n"
     ]
    }
   ],
   "source": [
    "pcap_p[0].show()"
   ]
  },
  {
   "cell_type": "markdown",
   "metadata": {},
   "source": [
    "## 2. Convierta la variable a un DataFrame."
   ]
  },
  {
   "cell_type": "code",
   "execution_count": 4,
   "metadata": {},
   "outputs": [],
   "source": [
    "# Codigo extraido de https://github.com/AnthonyCamper/pcap_scraping/blob/master/data_extract.py\n",
    "def extract(ourpcap):\n",
    "    ip_fields = [field.name for field in IP().fields_desc]\n",
    "    tcp_fields = [field.name for field in TCP().fields_desc]\n",
    "    udp_fields = [field.name for field in UDP().fields_desc]\n",
    "\n",
    "    dataframe_fields = ip_fields + ['time'] + tcp_fields + ['payload','payload_raw','payload_hex']\n",
    "\n",
    "    df = pd.DataFrame(columns=dataframe_fields)\n",
    "    for packet in ourpcap[IP]:\n",
    "        # Field array for each row of DataFrame\n",
    "        field_values = []\n",
    "        # Add all IP fields to dataframe\n",
    "        for field in ip_fields:\n",
    "            if field == 'options':\n",
    "                # Retrieving number of options defined in IP Header\n",
    "                field_values.append(len(packet[IP].fields[field]))\n",
    "            else:\n",
    "                field_values.append(packet[IP].fields[field])\n",
    "        \n",
    "        field_values.append(packet.time)\n",
    "        \n",
    "        layer_type = type(packet[IP].payload)\n",
    "        for field in tcp_fields:\n",
    "            try:\n",
    "                if field == 'options':\n",
    "                    field_values.append(len(packet[layer_type].fields[field]))\n",
    "                else:\n",
    "                    field_values.append(packet[layer_type].fields[field])\n",
    "            except:\n",
    "                field_values.append(None)\n",
    "        \n",
    "        # Append payload\n",
    "        field_values.append(len(packet[layer_type].payload))\n",
    "        field_values.append(packet[layer_type].payload.original)\n",
    "        field_values.append(binascii.hexlify(packet[layer_type].payload.original))\n",
    "        # Add row to DF\n",
    "        df_append = pd.DataFrame([field_values], columns=dataframe_fields)\n",
    "        df = pd.concat([df, df_append], axis=0)\n",
    "        df = df.reset_index()\n",
    "        # Drop old index column\n",
    "        df = df.drop(columns=\"index\")\n",
    "\n",
    "    return df"
   ]
  },
  {
   "cell_type": "code",
   "execution_count": 5,
   "metadata": {},
   "outputs": [],
   "source": [
    "dataframe = extract(pcap_p)"
   ]
  },
  {
   "cell_type": "markdown",
   "metadata": {},
   "source": [
    "## 3. Muestre el contenido de las primeras 5 filas del dataset."
   ]
  },
  {
   "cell_type": "code",
   "execution_count": 6,
   "metadata": {},
   "outputs": [
    {
     "data": {
      "application/vnd.microsoft.datawrangler.viewer.v0+json": {
       "columns": [
        {
         "name": "index",
         "rawType": "int64",
         "type": "integer"
        },
        {
         "name": "version",
         "rawType": "object",
         "type": "unknown"
        },
        {
         "name": "ihl",
         "rawType": "object",
         "type": "unknown"
        },
        {
         "name": "tos",
         "rawType": "object",
         "type": "unknown"
        },
        {
         "name": "len",
         "rawType": "object",
         "type": "unknown"
        },
        {
         "name": "id",
         "rawType": "object",
         "type": "unknown"
        },
        {
         "name": "flags",
         "rawType": "object",
         "type": "unknown"
        },
        {
         "name": "frag",
         "rawType": "object",
         "type": "unknown"
        },
        {
         "name": "ttl",
         "rawType": "object",
         "type": "unknown"
        },
        {
         "name": "proto",
         "rawType": "object",
         "type": "unknown"
        },
        {
         "name": "chksum",
         "rawType": "object",
         "type": "unknown"
        },
        {
         "name": "src",
         "rawType": "object",
         "type": "string"
        },
        {
         "name": "dst",
         "rawType": "object",
         "type": "string"
        },
        {
         "name": "options",
         "rawType": "object",
         "type": "unknown"
        },
        {
         "name": "time",
         "rawType": "object",
         "type": "unknown"
        },
        {
         "name": "sport",
         "rawType": "object",
         "type": "unknown"
        },
        {
         "name": "dport",
         "rawType": "object",
         "type": "unknown"
        },
        {
         "name": "seq",
         "rawType": "object",
         "type": "unknown"
        },
        {
         "name": "ack",
         "rawType": "object",
         "type": "unknown"
        },
        {
         "name": "dataofs",
         "rawType": "object",
         "type": "unknown"
        },
        {
         "name": "reserved",
         "rawType": "object",
         "type": "unknown"
        },
        {
         "name": "flags",
         "rawType": "object",
         "type": "unknown"
        },
        {
         "name": "window",
         "rawType": "object",
         "type": "unknown"
        },
        {
         "name": "chksum",
         "rawType": "object",
         "type": "unknown"
        },
        {
         "name": "urgptr",
         "rawType": "object",
         "type": "unknown"
        },
        {
         "name": "options",
         "rawType": "object",
         "type": "unknown"
        },
        {
         "name": "payload",
         "rawType": "object",
         "type": "unknown"
        },
        {
         "name": "payload_raw",
         "rawType": "object",
         "type": "unknown"
        },
        {
         "name": "payload_hex",
         "rawType": "object",
         "type": "unknown"
        }
       ],
       "conversionMethod": "pd.DataFrame",
       "ref": "0f4331c4-7010-4d58-acf0-8f321f6fad46",
       "rows": [
        [
         "0",
         "4",
         "5",
         "0",
         "961",
         "1",
         "",
         "0",
         "64",
         "17",
         "21222",
         "10.1.10.53",
         "84.54.22.33",
         "0",
         "1532199330.917674",
         "53",
         "53",
         null,
         null,
         null,
         null,
         null,
         null,
         "62990",
         null,
         null,
         "933",
         "b'\\x00\\x0c\\x01\\x00\\x00\\x01\\x00\\x00\\x00\\x00\\x00\\x00\\x06google\\x03com\\x00\\x00\\x1c\\x00\\x01\\xef\\xbf\\xbdPNG\\r\\n\\x1a\\n\\x00\\x00\\x00\\rIHDR\\x00\\x00\\x01b\\x00\\x00\\x00\\xef\\xbf\\xbd\\x08\\x06\\x00\\x00\\x00(\\xef\\xbf\\xbdTR\\x00\\x00:\\xef\\xbf\\xbdIDATx\\xef\\xbf\\xbd\\xef\\xbf\\xbd\\t|T\\xef\\xbf\\xbd\\xef\\xbf\\xbd\\xef\\xbf\\xbd\\xef\\xbf\\xbd\\xef\\xbf\\xbd;K\\x12\\x08;\\x08\\xef\\xbf\\xbd\\nE\\xef\\xbf\\xbd\\xef\\xbf\\xbd$\\x19\\xef\\xbf\\xbd\\xef\\xbf\\xbdZi\\xdf\\xaa-\\xef\\xbf\\xbd;N2\\xef\\xbf\\xbd\\xef\\xbf\\xbdV\\xef\\xbf\\xbdV\\xef\\xbf\\xbda\\xef\\xbf\\xbdZ\\x11!\\xef\\xbf\\xbd\\xef\\xbf\\xbd\\x01\\xdc\\xbbik[\\xef\\xbf\\xbd.ok\\xef\\xbf\\xbde\\xef\\xbf\\xbd\\x01\\\\\\xef\\xbf\\xbd\\xef\\xbf\\xbd]\\xef\\xbf\\xbd-\\xef\\xbf\\xbd\\xef\\xbf\\xbd\\xef\\xbf\\xbdd\\xef\\xbf\\xbd\\x08\\xef\\xbf\\xbd\\x08\\xef\\xbf\\xbd\\xef\\xbf\\xbdg\\xef\\xbf\\xbd\\xef\\xbf\\xbd\\xef\\xbf\\xbd<\\xef\\xbf\\xbd\\xef\\xbf\\xbdL\\x12\\xef\\xbf\\xbd$3wf\\xef\\xbf\\xbd\\xef\\xbf\\xbd\\x02<_\\r\\xef\\xbf\\xbdY\\xef\\xbf\\xbdr\\xef\\xbf\\xbd\\xef\\xbf\\xbdy\\xef\\xbf\\xbd\\xef\\xbf\\xbd\\xef\\xbf\\xbd\\x1c\\r\\x18\\xef\\xbf\\xbd8c\\xef\\xbf\\xbdew\\r\\x1e\\xef\\xbf\\xbd\\xef\\xbf\\xbd\\xef\\xbf\\xbd\\xef\\xbf\\xbd\\x13\\xef\\xbf\\xbdiaK\\xef\\xbf\\xbd\\xef\\xbf\\xbd\\xef\\xbf\\xbd\\xef\\xbf\\xbdu}\\xc5\\xb2w\\xef\\xbf\\xbdd\\xef\\xbf\\xbd\\xef\\xbf\\xbd\\x15\\xef\\xbf\\xbd\"`\\x06:\\x13\\xef\\xbf\\xbd\\x0b\\xef\\xbf\\xbd\\x0c\\x16\\xef\\xbf\\xbd\\x12\\xef\\xbf\\xbd&\\xef\\xbf\\xbd9\\xc6\\x90\\xef\\xbf\\xbd\\x00\\xef\\xbf\\xbd\\xef\\xbf\\xbd\\xef\\xbf\\xbd\\x08\\x111\\xd2\\x8cQHP*\\xef\\xbf\\xbd@\\x04O4\\xef\\xbf\\xbd\\xef\\xbf\\xbd\\xef\\xbf\\xbd7<y\\xef\\xbf\\xbd\\x0e.9\\xef\\xbf\\xbd\\xef\\xbf\\xbd\\xef\\xbf\\xbda2@a\\xef\\xbf\\xbd\\xef\\xbf\\xbd&\"\\xef\\xbf\\xbd\\x13\\x11\\xef\\xbf\\xbdc\\xef\\xbf\\xbdkO\\xef\\xbf\\xbds@\\xef\\xbf\\xbd9\\xef\\xbf\\xbdi\\xef\\xbf\\xbd4X\\xef\\xbf\\xbdx\\xef\\xbf\\xbdK\\xef\\xbf\\xbda!f\\xef\\xbf\\xbd\\xef\\xbf\\xbd0w\\xef\\xbf\\xbd\\xef\\xbf\\xbd3dx\\x1d\"\\xef\\xbf\\xbd\\xef\\xbf\\xbd\\xef\\xbf\\xbdC(\\xef\\xbf\\xbd}\\xef\\xbf\\xbd0|q\\xef\\xbf\\xbd*\\xef\\xbf\\xbd\\xef\\xbf\\xbd\\x0b\\xef\\xbf\\xbda!f\\xef\\xbf\\xbd4\\xef\\xbf\\xbd\\xef\\xbf\\xbd.\\xef\\xbf\\xbdsKg\\x10\\x11]=9N\\xd4\\x82\\x06\\xef\\xbf\\xbd\\xef\\xbf\\xbdu\\xef\\xbf\\xbd\\xef\\xbf\\xbd\\xef\\xbf\\xbdK_\\xef\\xbf\\xbde\\x06*\\xef\\xbf\\xbd\\xef\\xbf\\xbd\\xef\\xbf\\xbd\\x19Px\\xef\\xbf\\xbd\\xef\\xbf\\xbd%\\xef\\xbf\\xbd\\xef\\xbf\\xbd\\x03\\xef\\xbf\\xbd3\\xef\\xbf\\xbd\\xef\\xbf\\xbd\\x1e\"E?\\x0f\\xef\\xbf\\xbd\\xef\\xbf\\xbd\\xef\\xbf\\xbd+H\\xef\\xbf\\xbd]Q\\xef\\xbf\\xbdk\\xef\\xbf\\xbd\\xef\\xbf\\xbd\\xef\\xbf\\xbd\\xef\\xbf\\xbd8\\xef\\xbf\\xbd\"\\xef\\xbf\\xbd\\x1d\\x114v\\xef\\xbf\\xbd2\\x10\\xef\\xbf\\xbd\\xef\\xbf\\xbd\\xef\\xbf\\xbd\\xe5\\x92\\xaf\\xcc\\xb8|\\xef\\xbf\\xbdx.\\\\\\xef\\xbf\\xbd-b\\xef\\xbf\\xbdI\\xef\\xbf\\xbdB\\xef\\xbf\\xbd\\xef\\xbf\\xbd\\xef\\xbf\\xbd@\\xef\\xbf\\xbdL\\xef\\xbf\\xbd\\xef\\xbf\\xbdCJ]XWQ\\xef\\xbf\\xbd\\xef\\xbf\\xbd\\xef\\xbf\\xbd\\xef\\xbf\\xbduQ\\xef\\xbf\\xbdkQ\\x13\\x7f\\xef\\xbf\\xbdN\\xef\\xbf\\xbd1\\x00\\xef\\xbf\\xbd\\xef\\xbf\\xbd\\xef\\xbf\\xbd2\\x17\\xef\\xbf\\xbd03\\x10\\xef\\xbf\\xbd\\\\\\x04\\xef\\xbf\\xbd@!\\xef\\xbf\\xbdH\\xef\\xbf\\xbdBJqG\\'+\\xef\\xbf\\xbdR\\xef\\xbf\\xbdU\\\\[\\xef\\xbf\\xbd\\xef\\xbf\\xbd\\xef\\xbf\\xbd\\xef\\xbf\\xbdGXC;\\xef\\xbf\\xbd\\xef\\xbf\\xbd\\xd4\\x8e\\xef\\xbf\\xbdq\\xef\\xbf\\xbd!\\x04\\xef\\xbf\\xbdr\\xef\\xbf\\xbds=\\xef\\xbf\\xbd\\x02r\\xd4\\xb4\\x0b\\xef\\xbf\\xbd\\xef\\xbf\\xbd\\xef\\xbf\\xbd_S\\xef\\xbf\\xbd%\\xef\\xbf\\xbdph\\xef\\xbf\\xbda\\x12Y\\x05\\x02\\xef\\xbf\\xbd\\xef\\xbf\\xbd\\xef\\xbf\\xbd\\xef\\xbf\\xbdc\\xef\\xbf\\xbd\\xef\\xbf\\xbd\\xef\\xbf\\xbdP\\xef\\xbf\\xbd9\\xef\\xbf\\xbd'",
         "b'000c0100000100000000000006676f6f676c6503636f6d00001c0001efbfbd504e470d0a1a0a0000000d4948445200000162000000efbfbd080600000028efbfbd545200003aefbfbd4944415478efbfbdefbfbd097c54efbfbdefbfbdefbfbdefbfbdefbfbd3b4b12083b08efbfbd0a45efbfbdefbfbd2419efbfbdefbfbd5a69dfaa2defbfbd3b4e32efbfbdefbfbd56efbfbd56efbfbd61efbfbd5a1121efbfbdefbfbd01dcbb696b5befbfbd2e6f6befbfbd65efbfbd015cefbfbdefbfbd5defbfbd2defbfbdefbfbdefbfbd64efbfbd08efbfbd08efbfbdefbfbd67efbfbdefbfbdefbfbd3cefbfbdefbfbd4c12efbfbd24337766efbfbdefbfbd023c5f0defbfbd59efbfbd72efbfbdefbfbd79efbfbdefbfbdefbfbd1c0d18efbfbd3863efbfbd65770d1eefbfbdefbfbdefbfbdefbfbd13efbfbd69614befbfbdefbfbdefbfbdefbfbd757dc5b277efbfbd64efbfbdefbfbd15efbfbd2260063a13efbfbd0befbfbd0c16efbfbd12efbfbd26efbfbd39c690efbfbd00efbfbdefbfbdefbfbd081131d28c5148502aefbfbd40044f34efbfbdefbfbdefbfbd373c79efbfbd0e2e39efbfbdefbfbdefbfbd61324061efbfbdefbfbd2622efbfbd1311efbfbd63efbfbd6b4fefbfbd7340efbfbd39efbfbd69efbfbd3458efbfbd78efbfbd4befbfbd612166efbfbdefbfbd3077efbfbdefbfbd3364781d22efbfbdefbfbdefbfbd4328efbfbd7defbfbd307c71efbfbd2aefbfbdefbfbd0befbfbd612166efbfbd34efbfbdefbfbd2eefbfbd734b6710115d3d394ed48206efbfbdefbfbd75efbfbdefbfbdefbfbd4b5fefbfbd65062aefbfbdefbfbdefbfbd195078efbfbdefbfbd25efbfbdefbfbd03efbfbd33efbfbdefbfbd1e22453f0fefbfbdefbfbdefbfbd2b48efbfbd5d51efbfbd6befbfbdefbfbdefbfbdefbfbd38efbfbd22efbfbd1d113476efbfbd3210efbfbdefbfbdefbfbde592afccb87cefbfbd782e5cefbfbd2d62efbfbd49efbfbd42efbfbdefbfbdefbfbd40efbfbd4cefbfbdefbfbd434a5d585751efbfbdefbfbdefbfbdefbfbd7551efbfbd6b51137fefbfbd4eefbfbd3100efbfbdefbfbdefbfbd3217efbfbd303310efbfbd5c04efbfbd4021efbfbd48efbfbd424a7147272befbfbd52efbfbd555c5befbfbdefbfbdefbfbdefbfbd4758433befbfbdefbfbdd48eefbfbd71efbfbd2104efbfbd72efbfbd733defbfbd0272d4b40befbfbdefbfbdefbfbd5f53efbfbd25efbfbd7068efbfbd6112590502efbfbdefbfbdefbfbdefbfbd63efbfbdefbfbdefbfbd50efbfbd39efbfbd'"
        ],
        [
         "1",
         "4",
         "5",
         "32",
         "84",
         "58919",
         "",
         "0",
         "122",
         "17",
         "13836",
         "84.54.22.33",
         "10.1.10.53",
         "0",
         "1532199330.950107",
         "53",
         "53",
         null,
         null,
         null,
         null,
         null,
         null,
         "65061",
         null,
         null,
         "56",
         "b'\\x00\\x0c\\x81\\x80\\x00\\x01\\x00\\x01\\x00\\x00\\x00\\x00\\x06google\\x03com\\x00\\x00\\x1c\\x00\\x01\\xc0\\x0c\\x00\\x1c\\x00\\x01\\x00\\x00\\x01+\\x00\\x10&\\x07\\xf8\\xb0@\\x05\\x08\\x07\\x00\\x00\\x00\\x00\\x00\\x00 \\x0e'",
         "b'000c8180000100010000000006676f6f676c6503636f6d00001c0001c00c001c00010000012b00102607f8b040050807000000000000200e'"
        ],
        [
         "2",
         "4",
         "5",
         "0",
         "975",
         "1",
         "",
         "0",
         "64",
         "17",
         "21208",
         "10.1.10.53",
         "84.54.22.33",
         "0",
         "1532199331.937777",
         "53",
         "53",
         null,
         null,
         null,
         null,
         null,
         null,
         "36378",
         null,
         null,
         "947",
         "b'\\x00\\x0c\\x01\\x00\\x00\\x01\\x00\\x00\\x00\\x00\\x00\\x00\\x06google\\x03com\\x00\\x00\\x1c\\x00\\x01:\\xef\\xbf\\xbdle:\\xc7\\xa9\\xef\\xbf\\xbd\\xef\\xbf\\xbd\\xef\\xbf\\xbd\\x0c\\xef\\xbf\\xbd\\xef\\xbf\\xbd\\xef\\xbf\\xbd:|\\x11\\xef\\xbf\\xbdX\\xef\\xbf\\xbd\\xef\\xbf\\xbdq.e\\xef\\xbf\\xbd\\xef\\xbf\\xbd\\xef\\xbf\\xbda\\x120\\xef\\xbf\\xbdJ}4\\n9$vz\\xef\\xbf\\xbdR\\xef\\xbf\\xbduO/\\xef\\xbf\\xbd\\xef\\xbf\\xbd;\\xc7\\xab]\\xef\\xbf\\xbd\\xef\\xbf\\xbdM\"\\xef\\xbf\\xbdrT\\xd3\\xa3H1i\\xef\\xbf\\xbd\\xef\\xbf\\xbd\\xcb\\xa5\\xcd\\xb0\\x103L<k\\xef\\xbf\\xbd\\x01_\\x07R\\x1d,\\xef\\xbf\\xbd\\xef\\xbf\\xbdF\\xef\\xbf\\xbd\\xef\\xbf\\xbd\\xe4\\x98\\xa10]\\x1e\\xef\\xbf\\xbd\\xef\\xbf\\xbd\\xef\\xbf\\xbd\\x1eSY\\xef\\xbf\\xbd\\xef\\xbf\\xbd\\x0b\\x0fqi3,\\xef\\xbf\\xbd\\x0c\\x13\\x07D\\xef\\xbf\\xbd\\xef\\xbf\\xbd\\xef\\xbf\\xbd\\x0b\\xef\\xbf\\xbd\\xef\\xbf\\xbd\\x19c{O\\xef\\xbf\\xbd\\xef\\xbf\\xbdn\\xef\\xbf\\xbdQK\\xef\\xbf\\xbd\\n\\xef\\xbf\\xbdZ\\xef\\xbf\\xbd\\x00p)\\xef\\xbf\\xbd63\\xef\\xbf\\xbd\\xef\\xbf\\xbd\\\\\\x13\\'-\\xef\\xbf\\xbd\\xef\\xbf\\xbdU\\x0cy\\x12\\xef\\xbf\\xbdc\\x115\\xef\\xbf\\xbdV\\xef\\xbf\\xbd\\x00\\xef\\xbf\\xbd\\xea\\xaf\\xab!\\xef\\xbf\\xbd)\\x1d\\xef\\xbf\\xbd\\xef\\xbf\\xbd\\x10}\\xef\\xbf\\xbd\\xef\\xbf\\xbd\\xef\\xbf\\xbd*\\x05\\x15R\\xef\\xbf\\xbd\\xef\\xbf\\xbdG\\xef\\xbf\\xbdX\\xef\\xbf\\xbd\\xef\\xbf\\xbd\\xef\\xbf\\xbdY\\xef\\xbf\\xbdS.\\xef\\xbf\\xbdkpv\\xef\\xbf\\xbd\\xef\\xbf\\xbd\\x08H\\x1e8\\xef\\xbf\\xbd\\x10z\\xef\\xbf\\xbd\\xef\\xbf\\xbd\\x7f\\xef\\xbf\\xbdm\\xef\\xbf\\xbda!>\\t\\xef\\xbf\\xbd/\\xef\\xbf\\xbd/\\xef\\xbf\\xbd\\x02\\xef\\xbf\\xbdF\\x14\\x02\\xef\\xbf\\xbd@\\x00B\\xef\\xbf\\xbd\\xef\\xbf\\xbd^\\xef\\xbf\\xbd\\xef\\xbf\\xbd\\xef\\xbf\\xbdy\\xef\\xbf\\xbd\\xef\\xbf\\xbd\\x10\\x1d.\\xef\\xbf\\xbd\\xef\\xbf\\xbd\\xef\\xbf\\xbd1\\x1d\\x06\\xd8\\x95\\x11K\\x1b\\xef\\xbf\\xbd\\xef\\xbf\\xbd\\xef\\xbf\\xbd\\xef\\xbf\\xbdb\\xef\\xbf\\xbd\\xef\\xbf\\xbd\\xef\\xbf\\xbd;\\xef\\xbf\\xbd\\xef\\xbf\\xbd\\x08\\xef\\xbf\\xbd\\xef\\xbf\\xbd=N\\xef\\xbf\\xbd\\xef\\xbf\\xbd 7\\'\\'k\\x1f\\x02\\xef\\xbf\\xbd\\xef\\xbf\\xbdu\\x0c\\x19\\xef\\xbf\\xbd\\x02\\xef\\xbf\\xbdO\\xef\\xbf\\xbd\\xef\\xbf\\xbd\\xef\\xbf\\xbda\\xef\\xbf\\xbd\\\\\\x16d\\x16b\\xef\\xbf\\xbd$a\\xef\\xbf\\xbd\\x15\\xef\\xbf\\xbdFd\\xef\\xbf\\xbd\\xef\\xbf\\xbd\\xef\\xbf\\xbd\\x16\\xef\\xbf\\xbd3Z\\xef\\xbf\\xbd\\xef\\xbf\\xbd\\x1e\\x13(!\\xc4\\xb9\\xef\\xbf\\xbd\\xef\\xbf\\xbd\\xef\\xbf\\xbdWj\\x03\\xef\\xbf\\xbd_S=^\\xef\\xbf\\xbdW?\\xef\\xbf\\xbd%\\xef\\xbf\\xbd\\xef\\xbf\\xbd\\x00\\xef\\xbf\\xbdR\\xef\\xbf\\xbd\\xef\\xbf\\xbdK \\x10\\xef\\xbf\\xbd\\xef\\xbf\\xbd{mV8\\x14B<\\xef\\xbf\\xbd\\xef\\xbf\\xbd\\xef\\xbf\\xbd,x=#\\x16\\xef\\xbf\\xbdi\\xef\\xbf\\xbd%dL\\xef\\xbf\\xbd\\xef\\xbf\\xbd\\xef\\xbf\\xbd\\xef\\xbf\\xbd\\x08\\xef\\xbf\\xbd\\xef\\xbf\\xbd=k\\xef\\xbf\\xbd\\xef\\xbf\\xbd]\\xef\\xbf\\xbd\\xef\\xbf\\xbd\\xef\\xbf\\xbd\\xc6\\x96\\xef\\xbf\\xbd\\xef\\xbf\\xbd\\rO\\xef\\xbf\\xbd\\xef\\xbf\\xbdI\\xef\\xbf\\xbd\\xef\\xbf\\xbd\\xef\\xbf\\xbd\\x1d2\\xef\\xbf\\xbd5h\\x1d\\xef\\xbf\\xbd\\xda\\xae%\\xea\\x80\\x8c\\xef\\xbf\\xbd\\x1d\\xef\\xbf\\xbd\\xef\\xbf\\xbd\\xef\\xbf\\xbd)\\xef\\xbf\\xbd_\\x0fV\\x18\\xef\\xbf\\xbdr+=9\\xef\\xbf\\xbd\\x18\\xef\\xbf\\xbdID\\xef\\xbf\\xbd\\xef\\xbf\\xbd\\xef\\xbf\\xbd:\\x02L\\xef\\xbf\\xbdc\\xef\\xbf\\xbd\\xef\\xbf\\xbd\\x0e\\xef\\xbf\\xbd\\xef\\xbf\\xbdR\\xef\\xbf\\xbd7\\x1dc\\xef\\xbf\\xbd-\\xef\\xbf\\xbd]D\\xef\\xbf\\xbd]\\x08qw\\xef\\xbf\\xbd\\xef\\xbf\\xbd\\xef\\xbf\\xbdp\\xef\\xbf\\xbdd}\\xef\\xbf\\xbdM(##\\xef\\xbf\\xbd\\xda\\xbf{\\xcb\\xa2L\\xef\\xbf\\xbds\\xef\\xbf\\xbd\\'\\xef\\xbf\\xbd2\\x01\\x1c\\x15^K\\xef\\xbf\\xbd;{r\\xef\\xbf\\xbdQ2w\\xef\\xbf\\xbd\\x10p;\\n\\xef\\xbf\\xbd^\\xef\\xbf\\xbd\\xef\\xbf\\xbd\\xef\\xbf\\xbd~z\\xef\\xbf\\xbd\\xef\\xbf\\xbdPv.\\xef\\xbf\\xbd\\xef\\xbf\\xbd\\xef\\xbf\\xbd\\x00\\x05~\\xef\\xbf\\xbd\\xef\\xbf\\xbd'",
         "b'000c0100000100000000000006676f6f676c6503636f6d00001c00013aefbfbd6c653ac7a9efbfbdefbfbdefbfbd0cefbfbdefbfbdefbfbd3a7c11efbfbd58efbfbdefbfbd712e65efbfbdefbfbdefbfbd611230efbfbd4a7d340a3924767aefbfbd52efbfbd754f2fefbfbdefbfbd3bc7ab5defbfbdefbfbd4d22efbfbd7254d3a3483169efbfbdefbfbdcba5cdb010334c3c6befbfbd015f07521d2cefbfbdefbfbd46efbfbdefbfbde498a1305d1eefbfbdefbfbdefbfbd1e5359efbfbdefbfbd0b0f7169332cefbfbd0c130744efbfbdefbfbdefbfbd0befbfbdefbfbd19637b4fefbfbdefbfbd6eefbfbd514befbfbd0aefbfbd5aefbfbd007029efbfbd3633efbfbdefbfbd5c13272defbfbdefbfbd550c7912efbfbd631135efbfbd56efbfbd00efbfbdeaafab21efbfbd291defbfbdefbfbd107defbfbdefbfbdefbfbd2a051552efbfbdefbfbd47efbfbd58efbfbdefbfbdefbfbd59efbfbd532eefbfbd6b7076efbfbdefbfbd08481e38efbfbd107aefbfbdefbfbd7fefbfbd6defbfbd61213e09efbfbd2fefbfbd2fefbfbd02efbfbd461402efbfbd400042efbfbdefbfbd5eefbfbdefbfbdefbfbd79efbfbdefbfbd101d2eefbfbdefbfbdefbfbd311d06d895114b1befbfbdefbfbdefbfbdefbfbd62efbfbdefbfbdefbfbd3befbfbdefbfbd08efbfbdefbfbd3d4eefbfbdefbfbd203727276b1f02efbfbdefbfbd750c19efbfbd02efbfbd4fefbfbdefbfbdefbfbd61efbfbd5c16641662efbfbd2461efbfbd15efbfbd4664efbfbdefbfbdefbfbd16efbfbd335aefbfbdefbfbd1e132821c4b9efbfbdefbfbdefbfbd576a03efbfbd5f533d5eefbfbd573fefbfbd25efbfbdefbfbd00efbfbd52efbfbdefbfbd4b2010efbfbdefbfbd7b6d563814423cefbfbdefbfbdefbfbd2c783d2316efbfbd69efbfbd25644cefbfbdefbfbdefbfbdefbfbd08efbfbdefbfbd3d6befbfbdefbfbd5defbfbdefbfbdefbfbdc696efbfbdefbfbd0d4fefbfbdefbfbd49efbfbdefbfbdefbfbd1d32efbfbd35681defbfbddaae25ea808cefbfbd1defbfbdefbfbdefbfbd29efbfbd5f0f5618efbfbd722b3d39efbfbd18efbfbd4944efbfbdefbfbdefbfbd3a024cefbfbd63efbfbdefbfbd0eefbfbdefbfbd52efbfbd371d63efbfbd2defbfbd5d44efbfbd5d087177efbfbdefbfbdefbfbd70efbfbd647defbfbd4d282323efbfbddabf7bcba24cefbfbd73efbfbd27efbfbd32011c155e4befbfbd3b7b72efbfbd513277efbfbd10703b0aefbfbd5eefbfbdefbfbdefbfbd7e7aefbfbdefbfbd50762eefbfbdefbfbdefbfbd00057eefbfbdefbfbd'"
        ],
        [
         "3",
         "4",
         "5",
         "32",
         "84",
         "59493",
         "",
         "0",
         "122",
         "17",
         "13262",
         "84.54.22.33",
         "10.1.10.53",
         "0",
         "1532199331.956635",
         "53",
         "53",
         null,
         null,
         null,
         null,
         null,
         null,
         "65063",
         null,
         null,
         "56",
         "b'\\x00\\x0c\\x81\\x80\\x00\\x01\\x00\\x01\\x00\\x00\\x00\\x00\\x06google\\x03com\\x00\\x00\\x1c\\x00\\x01\\xc0\\x0c\\x00\\x1c\\x00\\x01\\x00\\x00\\x01)\\x00\\x10&\\x07\\xf8\\xb0@\\x05\\x08\\x07\\x00\\x00\\x00\\x00\\x00\\x00 \\x0e'",
         "b'000c8180000100010000000006676f6f676c6503636f6d00001c0001c00c001c00010000012900102607f8b040050807000000000000200e'"
        ],
        [
         "4",
         "4",
         "5",
         "0",
         "1012",
         "1",
         "",
         "0",
         "64",
         "17",
         "21171",
         "10.1.10.53",
         "84.54.22.33",
         "0",
         "1532199332.960504",
         "53",
         "53",
         null,
         null,
         null,
         null,
         null,
         null,
         "63846",
         null,
         null,
         "984",
         "b'\\x00\\x0c\\x01\\x00\\x00\\x01\\x00\\x00\\x00\\x00\\x00\\x00\\x06google\\x03com\\x00\\x00\\x1c\\x00\\x01\\xef\\xbf\\xbd\\xef\\xbf\\xbd^n\\xef\\xbf\\xbd\\'\\'\\xef\\xbf\\xbd\\xef\\xbf\\xbd\\xef\\xbf\\xbd$\\xef\\xbf\\xbd\\xef\\xbf\\xbd\\xef\\xbf\\xbd\\xef\\xbf\\xbd\\xef\\xbf\\xbdR\\xef\\xbf\\xbd\\xef\\xbf\\xbd\\xef\\xbf\\xbd\\x17\\xef\\xbf\\xbd>Epou\\xef\\xbf\\xbd\\xef\\xbf\\xbd$\\xef\\xbf\\xbd\\xef\\xbf\\xbdM\\xef\\xbf\\xbd\\xef\\xbf\\xbd\\x1c\\xef\\xbf\\xbd\\xef\\xbf\\xbd\\x0e\\xef\\xbf\\xbdtB\\r\\xef\\xbf\\xbd\\xd4\\xbag\\xef\\xbf\\xbdm\\xef\\xbf\\xbd\\xef\\xbf\\xbd>8w\\xe8\\x84\\xaa\\xef\\xbf\\xbd\\xef\\xbf\\xbd5\\xef\\xbf\\xbd\\xef\\xbf\\xbd\\xef\\xbf\\xbd<\\xef\\xbf\\xbd>\\xef\\xbf\\xbd\\x19\\xef\\xbf\\xbd\\xef\\xbf\\xbdl\\x0e<p\\xef\\xbf\\xbd\\xef\\xbf\\xbd\\xc7\\x98\\xef\\xbf\\xbd\\xef\\xbf\\xbd\\xef\\xbf\\xbdw8\\xef\\xbf\\xbd\\xef\\xbf\\xbd@\\xd4\\xae\\xef\\xbf\\xbd`Y\\xef\\xbf\\xbd\\xef\\xbf\\xbd\\x15\\xef\\xbf\\xbdoR\\xef\\xbf\\xbdH\\xef\\xbf\\xbd\\xef\\xbf\\xbdhD\\xef\\xbf\\xbd(\\xef\\xbf\\xbd;\\xef\\xbf\\xbd8*~o\\x14`Y\\xef\\xbf\\xbdm\\xef\\xbf\\xbd\\x15\\xef\\xbf\\xbd?\\xef\\xbf\\xbd\\x16\\xcb\\xa1\\t\\xef\\xbf\\xbd\\x04DJ\\xef\\xbf\\xbd1PD\\xef\\xbf\\xbd\\x143O\\xef\\xbf\\xbd\\x16UU\\x18\\xef\\xbf\\xbdw\\xef\\xbf\\xbdx.\\x05C\\xef\\xbf\\xbd\\xef\\xbf\\xbdH\\xef\\xbf\\xbdt\\xef\\xbf\\xbd\\xef\\xbf\\xbd\\x1a7=\\xef\\xbf\\xbd\\xe8\\xa1\\x88\\x11\\xef\\xbf\\xbd\\x1b\\xef\\xbf\\xbd_\\x1f06e\\xef\\xbf\\xbd0\\x1d\\xef\\xbf\\xbd_P4\\x13r\\xef\\xbf\\xbd9,6\\xef\\xbf\\xbd\\x18\\rc\\xef\\xbf\\xbd\\x06\\xef\\xbf\\xbdE\\xef\\xbf\\xbd<\\xef\\xbf\\xbdS\\xc2\\xa1\\xef\\xbf\\xbd\\xef\\xbf\\xbd\\x08\\xc3\\x8f\\x1eNY$\\x04\\xef\\xbf\\xbd\\x08\\x00X\\xef\\xbf\\xbd94\\xef\\xbf\\xbd\\xef\\xbf\\xbdp\\xd6\\xb0\\xef\\xbf\\xbd\\xef\\xbf\\xbd\\xef\\xbf\\xbd\\xef\\xbf\\xbd\\x15\\x17+\\xc2\\xa6\\xef\\xbf\\xbd\\xef\\xbf\\xbd\\xef\\xbf\\xbd0\\xef\\xbf\\xbdS\\x0cU\\xef\\xbf\\xbdj\\xef\\xbf\\xbd{A\\x7f\\xef\\xbf\\xbd\\x08\"z\\xef\\xbf\\xbdC\\xef\\xbf\\xbd\\x02P\\xef\\xbf\\xbd{\\x17\\xef\\xbf\\xbd\\xef\\xbf\\xbde\\xef\\xbf\\xbd\\x161s\\xef\\xbf\\xbd\\xef\\xbf\\xbd\\x02\\xef\\xbf\\xbd\\xef\\xbf\\xbd\\xef\\xbf\\xbd\\xef\\xbf\\xbd\\xef\\xbf\\xbd\\xef\\xbf\\xbd`\\xef\\xbf\\xbd\\xef\\xbf\\xbd\\xef\\xbf\\xbd\\x07\\xc2\\xb5M\\xef\\xbf\\xbdp\\xef\\xbf\\xbd\\xef\\xbf\\xbda\\xef\\xbf\\xbdS\\xef\\xbf\\xbd\\xef\\xbf\\xbd;\\xef\\xbf\\xbd \\x04\\x10\\xda\\xb0i\\xef\\xbf\\xbd\\x07\\x03!i|S\\xc8\\xbc(\\xef\\xbf\\xbd\\xef\\xbf\\xbd\\xef\\xbf\\xbd\\xef\\xbf\\xbd\\x1e\\xef\\xbf\\xbd\\xef\\xbf\\xbdh\\x02\\x18y>\\x00Tp\\xef\\xbf\\xbde!fN(%\\xef\\xbf\\xbd\\xef\\xbf\\xbd\\x1d\\x7f\\xef\\xbf\\xbdtw\\xef\\xbf\\xbd\\xef\\xbf\\xbd\\xef\\xbf\\xbdr\\xce\\x98\\xef\\xbf\\xbd\\xef\\xbf\\xbdG\\xef\\xbf\\xbd\\xef\\xbf\\xbd\\xef\\xbf\\xbdI\\xef\\xbf\\xbd\\xef\\xbf\\xbd5\\xef\\xbf\\xbd\\xef\\xbf\\xbd%\\xef\\xbf\\xbd\\xef\\xbf\\xbd\\xef\\xbf\\xbd\\xef\\xbf\\xbdN\\x008g\\xef\\xbf\\xbd\\x19`M\\xd6\\xb7\\xef\\xbf\\xbd&|+\\xef\\xbf\\xbd\\xef\\xbf\\xbd\"\\xef\\xbf\\xbd\\xef\\xbf\\xbd\\xef\\xbf\\xbd\\xef\\xbf\\xbd\\xef\\xbf\\xbd\\xef\\xbf\\xbd9\\xef\\xbf\\xbdr\\x03\\xd1\\xb1\\t\\'(\\xef\\xbf\\xbd\\xef\\xbf\\xbdq\\xef\\xbf\\xbd\\x103\\'\\xef\\xbf\\xbd\\x0e\\x13\\xef\\xbf\\xbd@y,\\xef\\xbf\\xbd\\xef\\xbf\\xbd{R\\xef\\xbf\\xbd\\x06\\xef\\xbf\\xbd\\x00\\xef\\xbf\\xbd\\x01D\\xef\\xbf\\xbd\\xef\\xbf\\xbd\\xef\\xbf\\xbd1J\\t\\xef\\xbf\\xbd\\xef\\xbf\\xbd\\x1f\\xef\\xbf\\xbd;4|\\xef\\xbf\\xbd\\xef\\xbf\\xbd\\xef\\xbf\\xbd\\x0f~\\xef\\xbf\\xbd\\x03N\\xd9\\xba\\xef\\xbf\\xbdh\\xef\\xbf\\xbd\\xef\\xbf\\xbd\\xeb\\x90\\xae\\\\\\xef\\xbf\\xbd\\x16\\xef\\xbf\\xbdp\\xef\\xbf\\xbd\\xef\\xbf\\xbd\\xef\\xbf\\xbd;\\xef\\xbf\\xbdI\\xef\\xbf\\xbd]\\xef\\xbf\\xbd\\x00\\xe8\\x80\\xb8S\\xef\\xbf\\xbd\\xef\\xbf\\xbdx\\xef\\xbf\\xbdj;?\"\\x0e\\x19~\\n\\xef\\xbf\\xbd\\xc5\\xb3\\xef\\xbf\\xbd\\x18\\x16b\\xe6\\x84\\xa7PL\\xef\\xbf\\xbd\\xef\\xbf\\xbd@\\xef\\xbf\\xbd\\x1a\\xef\\xbf\\xbd\\x1dA\\xef\\xbf\\xbd\\xef\\xbf\\xbdB\\xef\\xbf\\xbd\\xef\\xbf\\xbd6\\xef\\xbf\\xbd\\x12\\xef\\xbf\\xbd\\x1fph\\xef\\xbf\\xbd\\xef\\xbf\\xbd\\x16\\xef\\xbf\\xbd\\xef\\xbf\\xbd\\xef\\xbf\\xbd\\xef\\xbf\\xbds\\xef\\xbf\\xbdPAv\\xef\\xbf\\xbd\\xef\\xbf\\xbdO\\xef\\xbf\\xbd'",
         "b'000c0100000100000000000006676f6f676c6503636f6d00001c0001efbfbdefbfbd5e6eefbfbd2727efbfbdefbfbdefbfbd24efbfbdefbfbdefbfbdefbfbdefbfbd52efbfbdefbfbdefbfbd17efbfbd3e45706f75efbfbdefbfbd24efbfbdefbfbd4defbfbdefbfbd1cefbfbdefbfbd0eefbfbd74420defbfbdd4ba67efbfbd6defbfbdefbfbd3e3877e884aaefbfbdefbfbd35efbfbdefbfbdefbfbd3cefbfbd3eefbfbd19efbfbdefbfbd6c0e3c70efbfbdefbfbdc798efbfbdefbfbdefbfbd7738efbfbdefbfbd40d4aeefbfbd6059efbfbdefbfbd15efbfbd6f52efbfbd48efbfbdefbfbd6844efbfbd28efbfbd3befbfbd382a7e6f146059efbfbd6defbfbd15efbfbd3fefbfbd16cba109efbfbd04444aefbfbd315044efbfbd14334fefbfbd16555518efbfbd77efbfbd782e0543efbfbdefbfbd48efbfbd74efbfbdefbfbd1a373defbfbde8a18811efbfbd1befbfbd5f1f303665efbfbd301defbfbd5f50341372efbfbd392c36efbfbd180d63efbfbd06efbfbd45efbfbd3cefbfbd53c2a1efbfbdefbfbd08c38f1e4e592404efbfbd080058efbfbd3934efbfbdefbfbd70d6b0efbfbdefbfbdefbfbdefbfbd15172bc2a6efbfbdefbfbdefbfbd30efbfbd530c55efbfbd6aefbfbd7b417fefbfbd08227aefbfbd43efbfbd0250efbfbd7b17efbfbdefbfbd65efbfbd163173efbfbdefbfbd02efbfbdefbfbdefbfbdefbfbdefbfbdefbfbd60efbfbdefbfbdefbfbd07c2b54defbfbd70efbfbdefbfbd61efbfbd53efbfbdefbfbd3befbfbd200410dab069efbfbd070321697c53c8bc28efbfbdefbfbdefbfbdefbfbd1eefbfbdefbfbd680218793e005470efbfbd6521664e2825efbfbdefbfbd1d7fefbfbd7477efbfbdefbfbdefbfbd72ce98efbfbdefbfbd47efbfbdefbfbdefbfbd49efbfbdefbfbd35efbfbdefbfbd25efbfbdefbfbdefbfbdefbfbd4e003867efbfbd19604dd6b7efbfbd267c2befbfbdefbfbd22efbfbdefbfbdefbfbdefbfbdefbfbdefbfbd39efbfbd7203d1b1092728efbfbdefbfbd71efbfbd103327efbfbd0e13efbfbd40792cefbfbdefbfbd7b52efbfbd06efbfbd00efbfbd0144efbfbdefbfbdefbfbd314a09efbfbdefbfbd1fefbfbd3b347cefbfbdefbfbdefbfbd0f7eefbfbd034ed9baefbfbd68efbfbdefbfbdeb90ae5cefbfbd16efbfbd70efbfbdefbfbdefbfbd3befbfbd49efbfbd5defbfbd00e880b853efbfbdefbfbd78efbfbd6a3b3f220e197e0aefbfbdc5b3efbfbd181662e684a7504cefbfbdefbfbd40efbfbd1aefbfbd1d41efbfbdefbfbd42efbfbdefbfbd36efbfbd12efbfbd1f7068efbfbdefbfbd16efbfbdefbfbdefbfbdefbfbd73efbfbd504176efbfbdefbfbd4fefbfbd'"
        ]
       ],
       "shape": {
        "columns": 28,
        "rows": 5
       }
      },
      "text/html": [
       "<div>\n",
       "<style scoped>\n",
       "    .dataframe tbody tr th:only-of-type {\n",
       "        vertical-align: middle;\n",
       "    }\n",
       "\n",
       "    .dataframe tbody tr th {\n",
       "        vertical-align: top;\n",
       "    }\n",
       "\n",
       "    .dataframe thead th {\n",
       "        text-align: right;\n",
       "    }\n",
       "</style>\n",
       "<table border=\"1\" class=\"dataframe\">\n",
       "  <thead>\n",
       "    <tr style=\"text-align: right;\">\n",
       "      <th></th>\n",
       "      <th>version</th>\n",
       "      <th>ihl</th>\n",
       "      <th>tos</th>\n",
       "      <th>len</th>\n",
       "      <th>id</th>\n",
       "      <th>flags</th>\n",
       "      <th>frag</th>\n",
       "      <th>ttl</th>\n",
       "      <th>proto</th>\n",
       "      <th>chksum</th>\n",
       "      <th>...</th>\n",
       "      <th>dataofs</th>\n",
       "      <th>reserved</th>\n",
       "      <th>flags</th>\n",
       "      <th>window</th>\n",
       "      <th>chksum</th>\n",
       "      <th>urgptr</th>\n",
       "      <th>options</th>\n",
       "      <th>payload</th>\n",
       "      <th>payload_raw</th>\n",
       "      <th>payload_hex</th>\n",
       "    </tr>\n",
       "  </thead>\n",
       "  <tbody>\n",
       "    <tr>\n",
       "      <th>0</th>\n",
       "      <td>4</td>\n",
       "      <td>5</td>\n",
       "      <td>0</td>\n",
       "      <td>961</td>\n",
       "      <td>1</td>\n",
       "      <td></td>\n",
       "      <td>0</td>\n",
       "      <td>64</td>\n",
       "      <td>17</td>\n",
       "      <td>21222</td>\n",
       "      <td>...</td>\n",
       "      <td>None</td>\n",
       "      <td>None</td>\n",
       "      <td>None</td>\n",
       "      <td>None</td>\n",
       "      <td>62990</td>\n",
       "      <td>None</td>\n",
       "      <td>None</td>\n",
       "      <td>933</td>\n",
       "      <td>b'\\x00\\x0c\\x01\\x00\\x00\\x01\\x00\\x00\\x00\\x00\\x00...</td>\n",
       "      <td>b'000c0100000100000000000006676f6f676c6503636f...</td>\n",
       "    </tr>\n",
       "    <tr>\n",
       "      <th>1</th>\n",
       "      <td>4</td>\n",
       "      <td>5</td>\n",
       "      <td>32</td>\n",
       "      <td>84</td>\n",
       "      <td>58919</td>\n",
       "      <td></td>\n",
       "      <td>0</td>\n",
       "      <td>122</td>\n",
       "      <td>17</td>\n",
       "      <td>13836</td>\n",
       "      <td>...</td>\n",
       "      <td>None</td>\n",
       "      <td>None</td>\n",
       "      <td>None</td>\n",
       "      <td>None</td>\n",
       "      <td>65061</td>\n",
       "      <td>None</td>\n",
       "      <td>None</td>\n",
       "      <td>56</td>\n",
       "      <td>b'\\x00\\x0c\\x81\\x80\\x00\\x01\\x00\\x01\\x00\\x00\\x00...</td>\n",
       "      <td>b'000c8180000100010000000006676f6f676c6503636f...</td>\n",
       "    </tr>\n",
       "    <tr>\n",
       "      <th>2</th>\n",
       "      <td>4</td>\n",
       "      <td>5</td>\n",
       "      <td>0</td>\n",
       "      <td>975</td>\n",
       "      <td>1</td>\n",
       "      <td></td>\n",
       "      <td>0</td>\n",
       "      <td>64</td>\n",
       "      <td>17</td>\n",
       "      <td>21208</td>\n",
       "      <td>...</td>\n",
       "      <td>None</td>\n",
       "      <td>None</td>\n",
       "      <td>None</td>\n",
       "      <td>None</td>\n",
       "      <td>36378</td>\n",
       "      <td>None</td>\n",
       "      <td>None</td>\n",
       "      <td>947</td>\n",
       "      <td>b'\\x00\\x0c\\x01\\x00\\x00\\x01\\x00\\x00\\x00\\x00\\x00...</td>\n",
       "      <td>b'000c0100000100000000000006676f6f676c6503636f...</td>\n",
       "    </tr>\n",
       "    <tr>\n",
       "      <th>3</th>\n",
       "      <td>4</td>\n",
       "      <td>5</td>\n",
       "      <td>32</td>\n",
       "      <td>84</td>\n",
       "      <td>59493</td>\n",
       "      <td></td>\n",
       "      <td>0</td>\n",
       "      <td>122</td>\n",
       "      <td>17</td>\n",
       "      <td>13262</td>\n",
       "      <td>...</td>\n",
       "      <td>None</td>\n",
       "      <td>None</td>\n",
       "      <td>None</td>\n",
       "      <td>None</td>\n",
       "      <td>65063</td>\n",
       "      <td>None</td>\n",
       "      <td>None</td>\n",
       "      <td>56</td>\n",
       "      <td>b'\\x00\\x0c\\x81\\x80\\x00\\x01\\x00\\x01\\x00\\x00\\x00...</td>\n",
       "      <td>b'000c8180000100010000000006676f6f676c6503636f...</td>\n",
       "    </tr>\n",
       "    <tr>\n",
       "      <th>4</th>\n",
       "      <td>4</td>\n",
       "      <td>5</td>\n",
       "      <td>0</td>\n",
       "      <td>1012</td>\n",
       "      <td>1</td>\n",
       "      <td></td>\n",
       "      <td>0</td>\n",
       "      <td>64</td>\n",
       "      <td>17</td>\n",
       "      <td>21171</td>\n",
       "      <td>...</td>\n",
       "      <td>None</td>\n",
       "      <td>None</td>\n",
       "      <td>None</td>\n",
       "      <td>None</td>\n",
       "      <td>63846</td>\n",
       "      <td>None</td>\n",
       "      <td>None</td>\n",
       "      <td>984</td>\n",
       "      <td>b'\\x00\\x0c\\x01\\x00\\x00\\x01\\x00\\x00\\x00\\x00\\x00...</td>\n",
       "      <td>b'000c0100000100000000000006676f6f676c6503636f...</td>\n",
       "    </tr>\n",
       "  </tbody>\n",
       "</table>\n",
       "<p>5 rows × 28 columns</p>\n",
       "</div>"
      ],
      "text/plain": [
       "  version ihl tos   len     id flags frag  ttl proto chksum  ... dataofs  \\\n",
       "0       4   5   0   961      1          0   64    17  21222  ...    None   \n",
       "1       4   5  32    84  58919          0  122    17  13836  ...    None   \n",
       "2       4   5   0   975      1          0   64    17  21208  ...    None   \n",
       "3       4   5  32    84  59493          0  122    17  13262  ...    None   \n",
       "4       4   5   0  1012      1          0   64    17  21171  ...    None   \n",
       "\n",
       "  reserved flags window chksum urgptr options payload  \\\n",
       "0     None  None   None  62990   None    None     933   \n",
       "1     None  None   None  65061   None    None      56   \n",
       "2     None  None   None  36378   None    None     947   \n",
       "3     None  None   None  65063   None    None      56   \n",
       "4     None  None   None  63846   None    None     984   \n",
       "\n",
       "                                         payload_raw  \\\n",
       "0  b'\\x00\\x0c\\x01\\x00\\x00\\x01\\x00\\x00\\x00\\x00\\x00...   \n",
       "1  b'\\x00\\x0c\\x81\\x80\\x00\\x01\\x00\\x01\\x00\\x00\\x00...   \n",
       "2  b'\\x00\\x0c\\x01\\x00\\x00\\x01\\x00\\x00\\x00\\x00\\x00...   \n",
       "3  b'\\x00\\x0c\\x81\\x80\\x00\\x01\\x00\\x01\\x00\\x00\\x00...   \n",
       "4  b'\\x00\\x0c\\x01\\x00\\x00\\x01\\x00\\x00\\x00\\x00\\x00...   \n",
       "\n",
       "                                         payload_hex  \n",
       "0  b'000c0100000100000000000006676f6f676c6503636f...  \n",
       "1  b'000c8180000100010000000006676f6f676c6503636f...  \n",
       "2  b'000c0100000100000000000006676f6f676c6503636f...  \n",
       "3  b'000c8180000100010000000006676f6f676c6503636f...  \n",
       "4  b'000c0100000100000000000006676f6f676c6503636f...  \n",
       "\n",
       "[5 rows x 28 columns]"
      ]
     },
     "execution_count": 6,
     "metadata": {},
     "output_type": "execute_result"
    }
   ],
   "source": [
    "dataframe.head()"
   ]
  },
  {
   "cell_type": "code",
   "execution_count": 7,
   "metadata": {},
   "outputs": [
    {
     "data": {
      "text/plain": [
       "(62, 28)"
      ]
     },
     "execution_count": 7,
     "metadata": {},
     "output_type": "execute_result"
    }
   ],
   "source": [
    "dataframe.shape"
   ]
  },
  {
   "cell_type": "markdown",
   "metadata": {},
   "source": [
    "## 4. Muestre los valores de las columnas: Src Addres, Dst Address, Src Port y Dst Port."
   ]
  },
  {
   "cell_type": "code",
   "execution_count": 9,
   "metadata": {},
   "outputs": [
    {
     "data": {
      "application/vnd.microsoft.datawrangler.viewer.v0+json": {
       "columns": [
        {
         "name": "index",
         "rawType": "int64",
         "type": "integer"
        },
        {
         "name": "src",
         "rawType": "object",
         "type": "string"
        },
        {
         "name": "dst",
         "rawType": "object",
         "type": "string"
        },
        {
         "name": "sport",
         "rawType": "object",
         "type": "unknown"
        },
        {
         "name": "dport",
         "rawType": "object",
         "type": "unknown"
        }
       ],
       "conversionMethod": "pd.DataFrame",
       "ref": "1fa26e2c-5f32-48e9-947e-6280d8e4a98c",
       "rows": [
        [
         "0",
         "10.1.10.53",
         "84.54.22.33",
         "53",
         "53"
        ],
        [
         "1",
         "84.54.22.33",
         "10.1.10.53",
         "53",
         "53"
        ],
        [
         "2",
         "10.1.10.53",
         "84.54.22.33",
         "53",
         "53"
        ],
        [
         "3",
         "84.54.22.33",
         "10.1.10.53",
         "53",
         "53"
        ],
        [
         "4",
         "10.1.10.53",
         "84.54.22.33",
         "53",
         "53"
        ],
        [
         "5",
         "84.54.22.33",
         "10.1.10.53",
         "53",
         "53"
        ],
        [
         "6",
         "10.1.10.53",
         "84.54.22.33",
         "53",
         "53"
        ],
        [
         "7",
         "84.54.22.33",
         "10.1.10.53",
         "53",
         "53"
        ],
        [
         "8",
         "10.1.10.53",
         "84.54.22.33",
         "53",
         "53"
        ],
        [
         "9",
         "84.54.22.33",
         "10.1.10.53",
         "53",
         "53"
        ],
        [
         "10",
         "10.1.10.53",
         "84.54.22.33",
         "53",
         "53"
        ],
        [
         "11",
         "84.54.22.33",
         "10.1.10.53",
         "53",
         "53"
        ],
        [
         "12",
         "10.1.10.53",
         "84.54.22.33",
         "53",
         "53"
        ],
        [
         "13",
         "84.54.22.33",
         "10.1.10.53",
         "53",
         "53"
        ],
        [
         "14",
         "10.1.10.53",
         "84.54.22.33",
         "53",
         "53"
        ],
        [
         "15",
         "84.54.22.33",
         "10.1.10.53",
         "53",
         "53"
        ],
        [
         "16",
         "10.1.10.53",
         "84.54.22.33",
         "53",
         "53"
        ],
        [
         "17",
         "84.54.22.33",
         "10.1.10.53",
         "53",
         "53"
        ],
        [
         "18",
         "10.1.10.53",
         "84.54.22.33",
         "53",
         "53"
        ],
        [
         "19",
         "84.54.22.33",
         "10.1.10.53",
         "53",
         "53"
        ],
        [
         "20",
         "10.1.10.53",
         "84.54.22.33",
         "53",
         "53"
        ],
        [
         "21",
         "84.54.22.33",
         "10.1.10.53",
         "53",
         "53"
        ],
        [
         "22",
         "10.1.10.53",
         "75.75.75.75",
         "15812",
         "53"
        ],
        [
         "23",
         "10.1.10.53",
         "75.75.75.75",
         "23903",
         "53"
        ],
        [
         "24",
         "75.75.75.75",
         "10.1.10.53",
         "53",
         "15812"
        ],
        [
         "25",
         "75.75.75.75",
         "10.1.10.53",
         "53",
         "23903"
        ],
        [
         "26",
         "10.1.10.53",
         "84.54.22.33",
         "53",
         "53"
        ],
        [
         "27",
         "84.54.22.33",
         "10.1.10.53",
         "53",
         "53"
        ],
        [
         "28",
         "10.1.10.53",
         "84.54.22.33",
         "53",
         "53"
        ],
        [
         "29",
         "84.54.22.33",
         "10.1.10.53",
         "53",
         "53"
        ],
        [
         "30",
         "10.1.10.53",
         "84.54.22.33",
         "53",
         "53"
        ],
        [
         "31",
         "84.54.22.33",
         "10.1.10.53",
         "53",
         "53"
        ],
        [
         "32",
         "10.1.10.53",
         "84.54.22.33",
         "53",
         "53"
        ],
        [
         "33",
         "84.54.22.33",
         "10.1.10.53",
         "53",
         "53"
        ],
        [
         "34",
         "10.1.10.53",
         "84.54.22.33",
         "53",
         "53"
        ],
        [
         "35",
         "84.54.22.33",
         "10.1.10.53",
         "53",
         "53"
        ],
        [
         "36",
         "10.1.10.53",
         "84.54.22.33",
         "53",
         "53"
        ],
        [
         "37",
         "84.54.22.33",
         "10.1.10.53",
         "53",
         "53"
        ],
        [
         "38",
         "10.1.10.53",
         "84.54.22.33",
         "53",
         "53"
        ],
        [
         "39",
         "84.54.22.33",
         "10.1.10.53",
         "53",
         "53"
        ],
        [
         "40",
         "10.1.10.53",
         "84.54.22.33",
         "53",
         "53"
        ],
        [
         "41",
         "84.54.22.33",
         "10.1.10.53",
         "53",
         "53"
        ],
        [
         "42",
         "10.1.10.53",
         "84.54.22.33",
         "53",
         "53"
        ],
        [
         "43",
         "84.54.22.33",
         "10.1.10.53",
         "53",
         "53"
        ],
        [
         "44",
         "10.1.10.53",
         "84.54.22.33",
         "53",
         "53"
        ],
        [
         "45",
         "84.54.22.33",
         "10.1.10.53",
         "53",
         "53"
        ],
        [
         "46",
         "10.1.10.53",
         "84.54.22.33",
         "53",
         "53"
        ],
        [
         "47",
         "84.54.22.33",
         "10.1.10.53",
         "53",
         "53"
        ],
        [
         "48",
         "10.1.10.53",
         "84.54.22.33",
         "53",
         "53"
        ],
        [
         "49",
         "84.54.22.33",
         "10.1.10.53",
         "53",
         "53"
        ]
       ],
       "shape": {
        "columns": 4,
        "rows": 62
       }
      },
      "text/html": [
       "<div>\n",
       "<style scoped>\n",
       "    .dataframe tbody tr th:only-of-type {\n",
       "        vertical-align: middle;\n",
       "    }\n",
       "\n",
       "    .dataframe tbody tr th {\n",
       "        vertical-align: top;\n",
       "    }\n",
       "\n",
       "    .dataframe thead th {\n",
       "        text-align: right;\n",
       "    }\n",
       "</style>\n",
       "<table border=\"1\" class=\"dataframe\">\n",
       "  <thead>\n",
       "    <tr style=\"text-align: right;\">\n",
       "      <th></th>\n",
       "      <th>src</th>\n",
       "      <th>dst</th>\n",
       "      <th>sport</th>\n",
       "      <th>dport</th>\n",
       "    </tr>\n",
       "  </thead>\n",
       "  <tbody>\n",
       "    <tr>\n",
       "      <th>0</th>\n",
       "      <td>10.1.10.53</td>\n",
       "      <td>84.54.22.33</td>\n",
       "      <td>53</td>\n",
       "      <td>53</td>\n",
       "    </tr>\n",
       "    <tr>\n",
       "      <th>1</th>\n",
       "      <td>84.54.22.33</td>\n",
       "      <td>10.1.10.53</td>\n",
       "      <td>53</td>\n",
       "      <td>53</td>\n",
       "    </tr>\n",
       "    <tr>\n",
       "      <th>2</th>\n",
       "      <td>10.1.10.53</td>\n",
       "      <td>84.54.22.33</td>\n",
       "      <td>53</td>\n",
       "      <td>53</td>\n",
       "    </tr>\n",
       "    <tr>\n",
       "      <th>3</th>\n",
       "      <td>84.54.22.33</td>\n",
       "      <td>10.1.10.53</td>\n",
       "      <td>53</td>\n",
       "      <td>53</td>\n",
       "    </tr>\n",
       "    <tr>\n",
       "      <th>4</th>\n",
       "      <td>10.1.10.53</td>\n",
       "      <td>84.54.22.33</td>\n",
       "      <td>53</td>\n",
       "      <td>53</td>\n",
       "    </tr>\n",
       "    <tr>\n",
       "      <th>...</th>\n",
       "      <td>...</td>\n",
       "      <td>...</td>\n",
       "      <td>...</td>\n",
       "      <td>...</td>\n",
       "    </tr>\n",
       "    <tr>\n",
       "      <th>57</th>\n",
       "      <td>84.54.22.33</td>\n",
       "      <td>10.1.10.53</td>\n",
       "      <td>53</td>\n",
       "      <td>53</td>\n",
       "    </tr>\n",
       "    <tr>\n",
       "      <th>58</th>\n",
       "      <td>10.1.10.53</td>\n",
       "      <td>84.54.22.33</td>\n",
       "      <td>53</td>\n",
       "      <td>53</td>\n",
       "    </tr>\n",
       "    <tr>\n",
       "      <th>59</th>\n",
       "      <td>84.54.22.33</td>\n",
       "      <td>10.1.10.53</td>\n",
       "      <td>53</td>\n",
       "      <td>53</td>\n",
       "    </tr>\n",
       "    <tr>\n",
       "      <th>60</th>\n",
       "      <td>10.1.10.53</td>\n",
       "      <td>84.54.22.33</td>\n",
       "      <td>53</td>\n",
       "      <td>53</td>\n",
       "    </tr>\n",
       "    <tr>\n",
       "      <th>61</th>\n",
       "      <td>84.54.22.33</td>\n",
       "      <td>10.1.10.53</td>\n",
       "      <td>53</td>\n",
       "      <td>53</td>\n",
       "    </tr>\n",
       "  </tbody>\n",
       "</table>\n",
       "<p>62 rows × 4 columns</p>\n",
       "</div>"
      ],
      "text/plain": [
       "            src          dst sport dport\n",
       "0    10.1.10.53  84.54.22.33    53    53\n",
       "1   84.54.22.33   10.1.10.53    53    53\n",
       "2    10.1.10.53  84.54.22.33    53    53\n",
       "3   84.54.22.33   10.1.10.53    53    53\n",
       "4    10.1.10.53  84.54.22.33    53    53\n",
       "..          ...          ...   ...   ...\n",
       "57  84.54.22.33   10.1.10.53    53    53\n",
       "58   10.1.10.53  84.54.22.33    53    53\n",
       "59  84.54.22.33   10.1.10.53    53    53\n",
       "60   10.1.10.53  84.54.22.33    53    53\n",
       "61  84.54.22.33   10.1.10.53    53    53\n",
       "\n",
       "[62 rows x 4 columns]"
      ]
     },
     "execution_count": 9,
     "metadata": {},
     "output_type": "execute_result"
    }
   ],
   "source": [
    "dataframe[[\"src\", \"dst\", \"sport\", \"dport\"]]"
   ]
  },
  {
   "cell_type": "markdown",
   "metadata": {},
   "source": [
    "## 5. Estadísticas"
   ]
  },
  {
   "cell_type": "markdown",
   "metadata": {},
   "source": [
    "### a. Muestre todas las IP origen"
   ]
  },
  {
   "cell_type": "code",
   "execution_count": 11,
   "metadata": {},
   "outputs": [
    {
     "data": {
      "text/plain": [
       "array(['10.1.10.53', '84.54.22.33', '75.75.75.75'], dtype=object)"
      ]
     },
     "execution_count": 11,
     "metadata": {},
     "output_type": "execute_result"
    }
   ],
   "source": [
    "dataframe.src.unique()"
   ]
  },
  {
   "cell_type": "markdown",
   "metadata": {},
   "source": [
    "### b. Muestre todas las IP destino"
   ]
  },
  {
   "cell_type": "code",
   "execution_count": 12,
   "metadata": {},
   "outputs": [
    {
     "data": {
      "text/plain": [
       "array(['84.54.22.33', '10.1.10.53', '75.75.75.75'], dtype=object)"
      ]
     },
     "execution_count": 12,
     "metadata": {},
     "output_type": "execute_result"
    }
   ],
   "source": [
    "dataframe.dst.unique()"
   ]
  },
  {
   "cell_type": "markdown",
   "metadata": {},
   "source": [
    "### c. ¿Cuál es la IP origen más frecuente?"
   ]
  },
  {
   "cell_type": "code",
   "execution_count": 13,
   "metadata": {},
   "outputs": [
    {
     "data": {
      "text/plain": [
       "src\n",
       "10.1.10.53     31\n",
       "84.54.22.33    29\n",
       "75.75.75.75     2\n",
       "Name: count, dtype: int64"
      ]
     },
     "execution_count": 13,
     "metadata": {},
     "output_type": "execute_result"
    }
   ],
   "source": [
    "dataframe.src.value_counts()"
   ]
  },
  {
   "cell_type": "markdown",
   "metadata": {},
   "source": [
    "La IP origen más frecuente es la IP `10.1.10.53`"
   ]
  },
  {
   "cell_type": "code",
   "execution_count": 14,
   "metadata": {},
   "outputs": [],
   "source": [
    "ipSrc = dataframe.src.value_counts().index[0]"
   ]
  },
  {
   "cell_type": "markdown",
   "metadata": {},
   "source": [
    "#### i. ¿A qué IP destino se comunica con más frecuencia?"
   ]
  },
  {
   "cell_type": "code",
   "execution_count": 17,
   "metadata": {},
   "outputs": [
    {
     "data": {
      "text/plain": [
       "dst\n",
       "84.54.22.33    29\n",
       "75.75.75.75     2\n",
       "Name: count, dtype: int64"
      ]
     },
     "execution_count": 17,
     "metadata": {},
     "output_type": "execute_result"
    }
   ],
   "source": [
    "dataframe[dataframe[\"src\"] == ipSrc].dst.value_counts()"
   ]
  },
  {
   "cell_type": "code",
   "execution_count": 18,
   "metadata": {},
   "outputs": [],
   "source": [
    "ipDst = dataframe[dataframe[\"src\"] == ipSrc].dst.value_counts().index[0]"
   ]
  },
  {
   "cell_type": "markdown",
   "metadata": {},
   "source": [
    "La IP origen `10.1.10.53` se ha comunicado con más frecuencia con la IP `84.54.22.33`"
   ]
  },
  {
   "cell_type": "markdown",
   "metadata": {},
   "source": [
    "#### ii. ¿A que puerto destino se comunica? ¿Cuál es el propósito de este puerto?"
   ]
  },
  {
   "cell_type": "code",
   "execution_count": 20,
   "metadata": {},
   "outputs": [
    {
     "data": {
      "text/plain": [
       "dport\n",
       "53    29\n",
       "Name: count, dtype: int64"
      ]
     },
     "execution_count": 20,
     "metadata": {},
     "output_type": "execute_result"
    }
   ],
   "source": [
    "dataframe[(dataframe[\"src\"] == ipSrc) & (dataframe[\"dst\"] == ipDst)].dport.value_counts()"
   ]
  },
  {
   "cell_type": "markdown",
   "metadata": {},
   "source": [
    "El puerto 53 es utilizado por el servicio Domain Name System (DNS). Dicho servicio es para la traducción de nombres de nominio (por ejemplo google.com) a direcciones IP numéricas (8.8.8.8), servicio necesario para localizar y acceder al sitio en cuestión. Este puerto utiliza dos protocolos, UDP para la mayoría de consultas (consultas rápidas) pero también puede llegar a utilizar TCP para consultas que requieren una mayor transferencia de datos que UPD no soporta.\n",
    "\n",
    "[Referencia](https://books.spartan-cybersec.com/cppj/networking-for-juniors/puertos-y-servicios/puerto-53-dns)"
   ]
  },
  {
   "cell_type": "markdown",
   "metadata": {},
   "source": [
    "#### iii. ¿Desde que puertos origen se comunica?"
   ]
  },
  {
   "cell_type": "code",
   "execution_count": 21,
   "metadata": {},
   "outputs": [
    {
     "data": {
      "text/plain": [
       "sport\n",
       "53    29\n",
       "Name: count, dtype: int64"
      ]
     },
     "execution_count": 21,
     "metadata": {},
     "output_type": "execute_result"
    }
   ],
   "source": [
    "dataframe[(dataframe[\"src\"] == ipSrc) & (dataframe[\"dst\"] == ipDst)].sport.value_counts()"
   ]
  },
  {
   "cell_type": "markdown",
   "metadata": {},
   "source": [
    "Se comunica siempre del mismo puerto, el puerto 53."
   ]
  },
  {
   "cell_type": "markdown",
   "metadata": {},
   "source": [
    "## 6. Gráficas"
   ]
  },
  {
   "cell_type": "markdown",
   "metadata": {},
   "source": [
    "### a. Genere una gráfica de barras 2D horizontales, en el eje Y las IPs origen, y en el eje X la suma de los payloads (bytes) enviados desde dichas direcciones"
   ]
  },
  {
   "cell_type": "code",
   "execution_count": 35,
   "metadata": {},
   "outputs": [
    {
     "data": {
      "image/png": "[encoded data removed]",
      "text/plain": [
       "<Figure size 1000x600 with 1 Axes>"
      ]
     },
     "metadata": {},
     "output_type": "display_data"
    }
   ],
   "source": [
    "graph1 = dataframe.groupby(\"src\").payload.sum().sort_values(ascending=False)\n",
    "plt.figure(figsize=(10, 6))\n",
    "graph1.plot(kind=\"barh\", color=\"skyblue\")\n",
    "plt.xlabel(\"Payload (bytes)\")\n",
    "plt.ylabel(\"IP Origen\")\n",
    "plt.title(\"Payload enviado por IP de Origen\")\n",
    "plt.gca().invert_yaxis()\n",
    "plt.show()"
   ]
  },
  {
   "cell_type": "markdown",
   "metadata": {},
   "source": [
    "### b. Genere una gráfica de barras 2D horizontales, en el eje Y las IP destino, y en el eje X la suma de los payloads (bytes) recibidos en dichas direcciones"
   ]
  },
  {
   "cell_type": "code",
   "execution_count": 38,
   "metadata": {},
   "outputs": [
    {
     "data": {
      "image/png": "[encoded data removed]",
      "text/plain": [
       "<Figure size 1000x600 with 1 Axes>"
      ]
     },
     "metadata": {},
     "output_type": "display_data"
    }
   ],
   "source": [
    "graph2 = dataframe.groupby(\"dst\").payload.sum().sort_values(ascending=False)\n",
    "plt.figure(figsize=(10, 6))\n",
    "graph2.plot(kind=\"barh\", color=\"skyblue\")\n",
    "plt.xlabel(\"Payload (bytes)\")\n",
    "plt.ylabel(\"IP destino\")\n",
    "plt.title(\"Payload recibido por IP de Destino\")\n",
    "plt.gca().invert_yaxis()\n",
    "plt.show()"
   ]
  },
  {
   "cell_type": "markdown",
   "metadata": {},
   "source": [
    "### c. Genere una gráfica de barras 2D horizontales, en el eje Y los puertos origen, y en el eje X la suma de los payloads (bytes) enviados de dichos puertos"
   ]
  },
  {
   "cell_type": "code",
   "execution_count": 36,
   "metadata": {},
   "outputs": [
    {
     "data": {
      "image/png": "[encoded data removed]",
      "text/plain": [
       "<Figure size 1000x600 with 1 Axes>"
      ]
     },
     "metadata": {},
     "output_type": "display_data"
    }
   ],
   "source": [
    "graph3 = dataframe.groupby(\"sport\").payload.sum().sort_values(ascending=False)\n",
    "plt.figure(figsize=(10, 6))\n",
    "graph3.plot(kind=\"barh\", color=\"skyblue\")\n",
    "plt.xlabel(\"Payload (bytes)\")\n",
    "plt.ylabel(\"Puerto Origen\")\n",
    "plt.title(\"Payload enviado por puerto de Origen\")\n",
    "plt.gca().invert_yaxis()\n",
    "plt.show()"
   ]
  },
  {
   "cell_type": "markdown",
   "metadata": {},
   "source": [
    "### d. Genere una gráfica 2D de barras horizontales, en el eje Y los puertos destino, y en el eje X la suma de los payloads (bytes) recibidos en dichos puertos."
   ]
  },
  {
   "cell_type": "code",
   "execution_count": 37,
   "metadata": {},
   "outputs": [
    {
     "data": {
      "image/png": "[encoded data removed]",
      "text/plain": [
       "<Figure size 1000x600 with 1 Axes>"
      ]
     },
     "metadata": {},
     "output_type": "display_data"
    }
   ],
   "source": [
    "graph4 = dataframe.groupby(\"dport\").payload.sum().sort_values(ascending=False)\n",
    "plt.figure(figsize=(10, 6))\n",
    "graph4.plot(kind=\"barh\", color=\"skyblue\")\n",
    "plt.xlabel(\"Payload (bytes)\")\n",
    "plt.ylabel(\"Puerto Origen\")\n",
    "plt.title(\"Payload recibido por puerto de Destino\")\n",
    "plt.gca().invert_yaxis()\n",
    "plt.show()"
   ]
  },
  {
   "cell_type": "markdown",
   "metadata": {},
   "source": [
    "### e. Genere una gráfica de barras 2D verticales, en el eje Y la suma de los payload, en el eje X el tiempo, para la IP origen más frecuente."
   ]
  },
  {
   "cell_type": "code",
   "execution_count": null,
   "metadata": {},
   "outputs": [],
   "source": [
    "dataframe[\"time\"] = pd.to_numeric(dataframe[\"time\"], errors=\"coerce\")\n",
    "dataframe.time = pd.to_datetime(dataframe.time, unit='s')\n",
    "dataframe[\"time\"] = dataframe[\"time\"].dt.strftime('%Y-%m-%d %H:%M:%S')"
   ]
  },
  {
   "cell_type": "code",
   "execution_count": 53,
   "metadata": {},
   "outputs": [
    {
     "data": {
      "image/png": "[encoded data removed]",
      "text/plain": [
       "<Figure size 1200x600 with 1 Axes>"
      ]
     },
     "metadata": {},
     "output_type": "display_data"
    }
   ],
   "source": [
    "graph5 = dataframe[dataframe[\"src\"] == ipSrc].groupby(\"time\").payload.sum()\n",
    "plt.figure(figsize=(12, 6))\n",
    "graph5.plot(kind=\"bar\", color=\"skyblue\")\n",
    "plt.xlabel(\"Tiempo\")\n",
    "plt.ylabel(\"Payload (bytes)\")\n",
    "plt.title(f\"Payload por Tiempo para la IP Origen {ipSrc}\")\n",
    "plt.xticks(rotation=45)\n",
    "plt.tight_layout()\n",
    "plt.show()"
   ]
  },
  {
   "cell_type": "markdown",
   "metadata": {},
   "source": [
    "### f. Utilizando la información de las estadísticas y la información del comportamiento del tráfico que las gráficas muestran, describa que es lo que está sucediendo. ¿Es común el comportamiento?"
   ]
  },
  {
   "cell_type": "markdown",
   "metadata": {},
   "source": [
    "No, no es común este comportamiento. Inicialmente, con los gráficos (a-d) que muestran los payload enviados/recibidos por las IPs/puertos no se observa algun comportamiento \"raro\", pero analizandolo bajo el tiempo sí se logra ver algo raro. Y es que se la IP origen `10.1.10.53` está enviando peticiones por segundo (más, ya que se aproximó la hora a HH:MM:SS antes tenían más cifras los segundos) y eso es un comportamiento curioso. No es normal que un usuario esté realizando peticiones en esa magnitud"
   ]
  },
  {
   "cell_type": "markdown",
   "metadata": {},
   "source": [
    "## 7. Investigación del payload"
   ]
  },
  {
   "cell_type": "markdown",
   "metadata": {},
   "source": [
    "### a. Cree un nuevo DF que incluya únicamente las conexiones con la dirección IP origen más frecuente."
   ]
  },
  {
   "cell_type": "code",
   "execution_count": 88,
   "metadata": {},
   "outputs": [],
   "source": [
    "payloadDataframeDemo = dataframe[(dataframe.src == ipSrc) | (dataframe.dst == ipDst)]"
   ]
  },
  {
   "cell_type": "code",
   "execution_count": 77,
   "metadata": {},
   "outputs": [
    {
     "data": {
      "text/plain": [
       "(31, 28)"
      ]
     },
     "execution_count": 77,
     "metadata": {},
     "output_type": "execute_result"
    }
   ],
   "source": [
    "payloadDataframeDemo.shape"
   ]
  },
  {
   "cell_type": "markdown",
   "metadata": {},
   "source": [
    "### b. Cree un nuevo DF que utilice el DF anterior con las columnas src, dst y payload y agrúpelas por dst y la suma del payload"
   ]
  },
  {
   "cell_type": "code",
   "execution_count": 89,
   "metadata": {},
   "outputs": [],
   "source": [
    "payloadDataframe = payloadDataframeDemo[[\"src\", \"dst\", \"payload\"]]\n",
    "payloadDataframe = payloadDataframe.groupby(\"dst\").payload.sum().reset_index()"
   ]
  },
  {
   "cell_type": "code",
   "execution_count": 86,
   "metadata": {},
   "outputs": [
    {
     "data": {
      "application/vnd.microsoft.datawrangler.viewer.v0+json": {
       "columns": [
        {
         "name": "index",
         "rawType": "int64",
         "type": "integer"
        },
        {
         "name": "dst",
         "rawType": "object",
         "type": "string"
        },
        {
         "name": "payload",
         "rawType": "object",
         "type": "unknown"
        }
       ],
       "conversionMethod": "pd.DataFrame",
       "ref": "0a3d9314-d0e9-47ef-8fb1-4e9aa704118b",
       "rows": [
        [
         "0",
         "75.75.75.75",
         "74"
        ],
        [
         "1",
         "84.54.22.33",
         "27979"
        ]
       ],
       "shape": {
        "columns": 2,
        "rows": 2
       }
      },
      "text/html": [
       "<div>\n",
       "<style scoped>\n",
       "    .dataframe tbody tr th:only-of-type {\n",
       "        vertical-align: middle;\n",
       "    }\n",
       "\n",
       "    .dataframe tbody tr th {\n",
       "        vertical-align: top;\n",
       "    }\n",
       "\n",
       "    .dataframe thead th {\n",
       "        text-align: right;\n",
       "    }\n",
       "</style>\n",
       "<table border=\"1\" class=\"dataframe\">\n",
       "  <thead>\n",
       "    <tr style=\"text-align: right;\">\n",
       "      <th></th>\n",
       "      <th>dst</th>\n",
       "      <th>payload</th>\n",
       "    </tr>\n",
       "  </thead>\n",
       "  <tbody>\n",
       "    <tr>\n",
       "      <th>0</th>\n",
       "      <td>75.75.75.75</td>\n",
       "      <td>74</td>\n",
       "    </tr>\n",
       "    <tr>\n",
       "      <th>1</th>\n",
       "      <td>84.54.22.33</td>\n",
       "      <td>27979</td>\n",
       "    </tr>\n",
       "  </tbody>\n",
       "</table>\n",
       "</div>"
      ],
      "text/plain": [
       "           dst payload\n",
       "0  75.75.75.75      74\n",
       "1  84.54.22.33   27979"
      ]
     },
     "execution_count": 86,
     "metadata": {},
     "output_type": "execute_result"
    }
   ],
   "source": [
    "payloadDataframe"
   ]
  },
  {
   "cell_type": "markdown",
   "metadata": {},
   "source": [
    "### c. Obtenga la IP destino que más ha intercambiado bytes con la IP origen más frecuente. Esta IP es sospechosa por la cantidad de bytes intercambiados, entre todas las direcciones."
   ]
  },
  {
   "cell_type": "code",
   "execution_count": 94,
   "metadata": {},
   "outputs": [
    {
     "data": {
      "text/plain": [
       "1    84.54.22.33\n",
       "Name: dst, dtype: object"
      ]
     },
     "execution_count": 94,
     "metadata": {},
     "output_type": "execute_result"
    }
   ],
   "source": [
    "payloadDataframe.sort_values(by=\"payload\", ascending=False).head(1).dst"
   ]
  },
  {
   "cell_type": "markdown",
   "metadata": {},
   "source": [
    "### d. Cree un nuevo DF con la conversación entre la IP más frecuente y la IP sospechosa."
   ]
  },
  {
   "cell_type": "code",
   "execution_count": 106,
   "metadata": {},
   "outputs": [],
   "source": [
    "finalDataframe = payloadDataframeDemo[(payloadDataframeDemo[\"src\"] == ipSrc) & (payloadDataframeDemo[\"dst\"] == ipDst)]\n",
    "finalDataframe = finalDataframe[[\"src\", \"dst\", \"sport\", \"dport\", \"payload_raw\", \"payload_hex\"]]\n",
    "finalDataframe = finalDataframe.reset_index(drop=True)"
   ]
  },
  {
   "cell_type": "code",
   "execution_count": 107,
   "metadata": {},
   "outputs": [
    {
     "data": {
      "application/vnd.microsoft.datawrangler.viewer.v0+json": {
       "columns": [
        {
         "name": "index",
         "rawType": "int64",
         "type": "integer"
        },
        {
         "name": "src",
         "rawType": "object",
         "type": "string"
        },
        {
         "name": "dst",
         "rawType": "object",
         "type": "string"
        },
        {
         "name": "sport",
         "rawType": "object",
         "type": "unknown"
        },
        {
         "name": "dport",
         "rawType": "object",
         "type": "unknown"
        },
        {
         "name": "payload_raw",
         "rawType": "object",
         "type": "unknown"
        },
        {
         "name": "payload_hex",
         "rawType": "object",
         "type": "unknown"
        }
       ],
       "conversionMethod": "pd.DataFrame",
       "ref": "cb6626c9-2d92-47e9-a4be-7d6d71559373",
       "rows": [
        [
         "0",
         "10.1.10.53",
         "84.54.22.33",
         "53",
         "53",
         "b'\\x00\\x0c\\x01\\x00\\x00\\x01\\x00\\x00\\x00\\x00\\x00\\x00\\x06google\\x03com\\x00\\x00\\x1c\\x00\\x01\\xef\\xbf\\xbdPNG\\r\\n\\x1a\\n\\x00\\x00\\x00\\rIHDR\\x00\\x00\\x01b\\x00\\x00\\x00\\xef\\xbf\\xbd\\x08\\x06\\x00\\x00\\x00(\\xef\\xbf\\xbdTR\\x00\\x00:\\xef\\xbf\\xbdIDATx\\xef\\xbf\\xbd\\xef\\xbf\\xbd\\t|T\\xef\\xbf\\xbd\\xef\\xbf\\xbd\\xef\\xbf\\xbd\\xef\\xbf\\xbd\\xef\\xbf\\xbd;K\\x12\\x08;\\x08\\xef\\xbf\\xbd\\nE\\xef\\xbf\\xbd\\xef\\xbf\\xbd$\\x19\\xef\\xbf\\xbd\\xef\\xbf\\xbdZi\\xdf\\xaa-\\xef\\xbf\\xbd;N2\\xef\\xbf\\xbd\\xef\\xbf\\xbdV\\xef\\xbf\\xbdV\\xef\\xbf\\xbda\\xef\\xbf\\xbdZ\\x11!\\xef\\xbf\\xbd\\xef\\xbf\\xbd\\x01\\xdc\\xbbik[\\xef\\xbf\\xbd.ok\\xef\\xbf\\xbde\\xef\\xbf\\xbd\\x01\\\\\\xef\\xbf\\xbd\\xef\\xbf\\xbd]\\xef\\xbf\\xbd-\\xef\\xbf\\xbd\\xef\\xbf\\xbd\\xef\\xbf\\xbdd\\xef\\xbf\\xbd\\x08\\xef\\xbf\\xbd\\x08\\xef\\xbf\\xbd\\xef\\xbf\\xbdg\\xef\\xbf\\xbd\\xef\\xbf\\xbd\\xef\\xbf\\xbd<\\xef\\xbf\\xbd\\xef\\xbf\\xbdL\\x12\\xef\\xbf\\xbd$3wf\\xef\\xbf\\xbd\\xef\\xbf\\xbd\\x02<_\\r\\xef\\xbf\\xbdY\\xef\\xbf\\xbdr\\xef\\xbf\\xbd\\xef\\xbf\\xbdy\\xef\\xbf\\xbd\\xef\\xbf\\xbd\\xef\\xbf\\xbd\\x1c\\r\\x18\\xef\\xbf\\xbd8c\\xef\\xbf\\xbdew\\r\\x1e\\xef\\xbf\\xbd\\xef\\xbf\\xbd\\xef\\xbf\\xbd\\xef\\xbf\\xbd\\x13\\xef\\xbf\\xbdiaK\\xef\\xbf\\xbd\\xef\\xbf\\xbd\\xef\\xbf\\xbd\\xef\\xbf\\xbdu}\\xc5\\xb2w\\xef\\xbf\\xbdd\\xef\\xbf\\xbd\\xef\\xbf\\xbd\\x15\\xef\\xbf\\xbd\"`\\x06:\\x13\\xef\\xbf\\xbd\\x0b\\xef\\xbf\\xbd\\x0c\\x16\\xef\\xbf\\xbd\\x12\\xef\\xbf\\xbd&\\xef\\xbf\\xbd9\\xc6\\x90\\xef\\xbf\\xbd\\x00\\xef\\xbf\\xbd\\xef\\xbf\\xbd\\xef\\xbf\\xbd\\x08\\x111\\xd2\\x8cQHP*\\xef\\xbf\\xbd@\\x04O4\\xef\\xbf\\xbd\\xef\\xbf\\xbd\\xef\\xbf\\xbd7<y\\xef\\xbf\\xbd\\x0e.9\\xef\\xbf\\xbd\\xef\\xbf\\xbd\\xef\\xbf\\xbda2@a\\xef\\xbf\\xbd\\xef\\xbf\\xbd&\"\\xef\\xbf\\xbd\\x13\\x11\\xef\\xbf\\xbdc\\xef\\xbf\\xbdkO\\xef\\xbf\\xbds@\\xef\\xbf\\xbd9\\xef\\xbf\\xbdi\\xef\\xbf\\xbd4X\\xef\\xbf\\xbdx\\xef\\xbf\\xbdK\\xef\\xbf\\xbda!f\\xef\\xbf\\xbd\\xef\\xbf\\xbd0w\\xef\\xbf\\xbd\\xef\\xbf\\xbd3dx\\x1d\"\\xef\\xbf\\xbd\\xef\\xbf\\xbd\\xef\\xbf\\xbdC(\\xef\\xbf\\xbd}\\xef\\xbf\\xbd0|q\\xef\\xbf\\xbd*\\xef\\xbf\\xbd\\xef\\xbf\\xbd\\x0b\\xef\\xbf\\xbda!f\\xef\\xbf\\xbd4\\xef\\xbf\\xbd\\xef\\xbf\\xbd.\\xef\\xbf\\xbdsKg\\x10\\x11]=9N\\xd4\\x82\\x06\\xef\\xbf\\xbd\\xef\\xbf\\xbdu\\xef\\xbf\\xbd\\xef\\xbf\\xbd\\xef\\xbf\\xbdK_\\xef\\xbf\\xbde\\x06*\\xef\\xbf\\xbd\\xef\\xbf\\xbd\\xef\\xbf\\xbd\\x19Px\\xef\\xbf\\xbd\\xef\\xbf\\xbd%\\xef\\xbf\\xbd\\xef\\xbf\\xbd\\x03\\xef\\xbf\\xbd3\\xef\\xbf\\xbd\\xef\\xbf\\xbd\\x1e\"E?\\x0f\\xef\\xbf\\xbd\\xef\\xbf\\xbd\\xef\\xbf\\xbd+H\\xef\\xbf\\xbd]Q\\xef\\xbf\\xbdk\\xef\\xbf\\xbd\\xef\\xbf\\xbd\\xef\\xbf\\xbd\\xef\\xbf\\xbd8\\xef\\xbf\\xbd\"\\xef\\xbf\\xbd\\x1d\\x114v\\xef\\xbf\\xbd2\\x10\\xef\\xbf\\xbd\\xef\\xbf\\xbd\\xef\\xbf\\xbd\\xe5\\x92\\xaf\\xcc\\xb8|\\xef\\xbf\\xbdx.\\\\\\xef\\xbf\\xbd-b\\xef\\xbf\\xbdI\\xef\\xbf\\xbdB\\xef\\xbf\\xbd\\xef\\xbf\\xbd\\xef\\xbf\\xbd@\\xef\\xbf\\xbdL\\xef\\xbf\\xbd\\xef\\xbf\\xbdCJ]XWQ\\xef\\xbf\\xbd\\xef\\xbf\\xbd\\xef\\xbf\\xbd\\xef\\xbf\\xbduQ\\xef\\xbf\\xbdkQ\\x13\\x7f\\xef\\xbf\\xbdN\\xef\\xbf\\xbd1\\x00\\xef\\xbf\\xbd\\xef\\xbf\\xbd\\xef\\xbf\\xbd2\\x17\\xef\\xbf\\xbd03\\x10\\xef\\xbf\\xbd\\\\\\x04\\xef\\xbf\\xbd@!\\xef\\xbf\\xbdH\\xef\\xbf\\xbdBJqG\\'+\\xef\\xbf\\xbdR\\xef\\xbf\\xbdU\\\\[\\xef\\xbf\\xbd\\xef\\xbf\\xbd\\xef\\xbf\\xbd\\xef\\xbf\\xbdGXC;\\xef\\xbf\\xbd\\xef\\xbf\\xbd\\xd4\\x8e\\xef\\xbf\\xbdq\\xef\\xbf\\xbd!\\x04\\xef\\xbf\\xbdr\\xef\\xbf\\xbds=\\xef\\xbf\\xbd\\x02r\\xd4\\xb4\\x0b\\xef\\xbf\\xbd\\xef\\xbf\\xbd\\xef\\xbf\\xbd_S\\xef\\xbf\\xbd%\\xef\\xbf\\xbdph\\xef\\xbf\\xbda\\x12Y\\x05\\x02\\xef\\xbf\\xbd\\xef\\xbf\\xbd\\xef\\xbf\\xbd\\xef\\xbf\\xbdc\\xef\\xbf\\xbd\\xef\\xbf\\xbd\\xef\\xbf\\xbdP\\xef\\xbf\\xbd9\\xef\\xbf\\xbd'",
         "b'000c0100000100000000000006676f6f676c6503636f6d00001c0001efbfbd504e470d0a1a0a0000000d4948445200000162000000efbfbd080600000028efbfbd545200003aefbfbd4944415478efbfbdefbfbd097c54efbfbdefbfbdefbfbdefbfbdefbfbd3b4b12083b08efbfbd0a45efbfbdefbfbd2419efbfbdefbfbd5a69dfaa2defbfbd3b4e32efbfbdefbfbd56efbfbd56efbfbd61efbfbd5a1121efbfbdefbfbd01dcbb696b5befbfbd2e6f6befbfbd65efbfbd015cefbfbdefbfbd5defbfbd2defbfbdefbfbdefbfbd64efbfbd08efbfbd08efbfbdefbfbd67efbfbdefbfbdefbfbd3cefbfbdefbfbd4c12efbfbd24337766efbfbdefbfbd023c5f0defbfbd59efbfbd72efbfbdefbfbd79efbfbdefbfbdefbfbd1c0d18efbfbd3863efbfbd65770d1eefbfbdefbfbdefbfbdefbfbd13efbfbd69614befbfbdefbfbdefbfbdefbfbd757dc5b277efbfbd64efbfbdefbfbd15efbfbd2260063a13efbfbd0befbfbd0c16efbfbd12efbfbd26efbfbd39c690efbfbd00efbfbdefbfbdefbfbd081131d28c5148502aefbfbd40044f34efbfbdefbfbdefbfbd373c79efbfbd0e2e39efbfbdefbfbdefbfbd61324061efbfbdefbfbd2622efbfbd1311efbfbd63efbfbd6b4fefbfbd7340efbfbd39efbfbd69efbfbd3458efbfbd78efbfbd4befbfbd612166efbfbdefbfbd3077efbfbdefbfbd3364781d22efbfbdefbfbdefbfbd4328efbfbd7defbfbd307c71efbfbd2aefbfbdefbfbd0befbfbd612166efbfbd34efbfbdefbfbd2eefbfbd734b6710115d3d394ed48206efbfbdefbfbd75efbfbdefbfbdefbfbd4b5fefbfbd65062aefbfbdefbfbdefbfbd195078efbfbdefbfbd25efbfbdefbfbd03efbfbd33efbfbdefbfbd1e22453f0fefbfbdefbfbdefbfbd2b48efbfbd5d51efbfbd6befbfbdefbfbdefbfbdefbfbd38efbfbd22efbfbd1d113476efbfbd3210efbfbdefbfbdefbfbde592afccb87cefbfbd782e5cefbfbd2d62efbfbd49efbfbd42efbfbdefbfbdefbfbd40efbfbd4cefbfbdefbfbd434a5d585751efbfbdefbfbdefbfbdefbfbd7551efbfbd6b51137fefbfbd4eefbfbd3100efbfbdefbfbdefbfbd3217efbfbd303310efbfbd5c04efbfbd4021efbfbd48efbfbd424a7147272befbfbd52efbfbd555c5befbfbdefbfbdefbfbdefbfbd4758433befbfbdefbfbdd48eefbfbd71efbfbd2104efbfbd72efbfbd733defbfbd0272d4b40befbfbdefbfbdefbfbd5f53efbfbd25efbfbd7068efbfbd6112590502efbfbdefbfbdefbfbdefbfbd63efbfbdefbfbdefbfbd50efbfbd39efbfbd'"
        ],
        [
         "1",
         "10.1.10.53",
         "84.54.22.33",
         "53",
         "53",
         "b'\\x00\\x0c\\x01\\x00\\x00\\x01\\x00\\x00\\x00\\x00\\x00\\x00\\x06google\\x03com\\x00\\x00\\x1c\\x00\\x01:\\xef\\xbf\\xbdle:\\xc7\\xa9\\xef\\xbf\\xbd\\xef\\xbf\\xbd\\xef\\xbf\\xbd\\x0c\\xef\\xbf\\xbd\\xef\\xbf\\xbd\\xef\\xbf\\xbd:|\\x11\\xef\\xbf\\xbdX\\xef\\xbf\\xbd\\xef\\xbf\\xbdq.e\\xef\\xbf\\xbd\\xef\\xbf\\xbd\\xef\\xbf\\xbda\\x120\\xef\\xbf\\xbdJ}4\\n9$vz\\xef\\xbf\\xbdR\\xef\\xbf\\xbduO/\\xef\\xbf\\xbd\\xef\\xbf\\xbd;\\xc7\\xab]\\xef\\xbf\\xbd\\xef\\xbf\\xbdM\"\\xef\\xbf\\xbdrT\\xd3\\xa3H1i\\xef\\xbf\\xbd\\xef\\xbf\\xbd\\xcb\\xa5\\xcd\\xb0\\x103L<k\\xef\\xbf\\xbd\\x01_\\x07R\\x1d,\\xef\\xbf\\xbd\\xef\\xbf\\xbdF\\xef\\xbf\\xbd\\xef\\xbf\\xbd\\xe4\\x98\\xa10]\\x1e\\xef\\xbf\\xbd\\xef\\xbf\\xbd\\xef\\xbf\\xbd\\x1eSY\\xef\\xbf\\xbd\\xef\\xbf\\xbd\\x0b\\x0fqi3,\\xef\\xbf\\xbd\\x0c\\x13\\x07D\\xef\\xbf\\xbd\\xef\\xbf\\xbd\\xef\\xbf\\xbd\\x0b\\xef\\xbf\\xbd\\xef\\xbf\\xbd\\x19c{O\\xef\\xbf\\xbd\\xef\\xbf\\xbdn\\xef\\xbf\\xbdQK\\xef\\xbf\\xbd\\n\\xef\\xbf\\xbdZ\\xef\\xbf\\xbd\\x00p)\\xef\\xbf\\xbd63\\xef\\xbf\\xbd\\xef\\xbf\\xbd\\\\\\x13\\'-\\xef\\xbf\\xbd\\xef\\xbf\\xbdU\\x0cy\\x12\\xef\\xbf\\xbdc\\x115\\xef\\xbf\\xbdV\\xef\\xbf\\xbd\\x00\\xef\\xbf\\xbd\\xea\\xaf\\xab!\\xef\\xbf\\xbd)\\x1d\\xef\\xbf\\xbd\\xef\\xbf\\xbd\\x10}\\xef\\xbf\\xbd\\xef\\xbf\\xbd\\xef\\xbf\\xbd*\\x05\\x15R\\xef\\xbf\\xbd\\xef\\xbf\\xbdG\\xef\\xbf\\xbdX\\xef\\xbf\\xbd\\xef\\xbf\\xbd\\xef\\xbf\\xbdY\\xef\\xbf\\xbdS.\\xef\\xbf\\xbdkpv\\xef\\xbf\\xbd\\xef\\xbf\\xbd\\x08H\\x1e8\\xef\\xbf\\xbd\\x10z\\xef\\xbf\\xbd\\xef\\xbf\\xbd\\x7f\\xef\\xbf\\xbdm\\xef\\xbf\\xbda!>\\t\\xef\\xbf\\xbd/\\xef\\xbf\\xbd/\\xef\\xbf\\xbd\\x02\\xef\\xbf\\xbdF\\x14\\x02\\xef\\xbf\\xbd@\\x00B\\xef\\xbf\\xbd\\xef\\xbf\\xbd^\\xef\\xbf\\xbd\\xef\\xbf\\xbd\\xef\\xbf\\xbdy\\xef\\xbf\\xbd\\xef\\xbf\\xbd\\x10\\x1d.\\xef\\xbf\\xbd\\xef\\xbf\\xbd\\xef\\xbf\\xbd1\\x1d\\x06\\xd8\\x95\\x11K\\x1b\\xef\\xbf\\xbd\\xef\\xbf\\xbd\\xef\\xbf\\xbd\\xef\\xbf\\xbdb\\xef\\xbf\\xbd\\xef\\xbf\\xbd\\xef\\xbf\\xbd;\\xef\\xbf\\xbd\\xef\\xbf\\xbd\\x08\\xef\\xbf\\xbd\\xef\\xbf\\xbd=N\\xef\\xbf\\xbd\\xef\\xbf\\xbd 7\\'\\'k\\x1f\\x02\\xef\\xbf\\xbd\\xef\\xbf\\xbdu\\x0c\\x19\\xef\\xbf\\xbd\\x02\\xef\\xbf\\xbdO\\xef\\xbf\\xbd\\xef\\xbf\\xbd\\xef\\xbf\\xbda\\xef\\xbf\\xbd\\\\\\x16d\\x16b\\xef\\xbf\\xbd$a\\xef\\xbf\\xbd\\x15\\xef\\xbf\\xbdFd\\xef\\xbf\\xbd\\xef\\xbf\\xbd\\xef\\xbf\\xbd\\x16\\xef\\xbf\\xbd3Z\\xef\\xbf\\xbd\\xef\\xbf\\xbd\\x1e\\x13(!\\xc4\\xb9\\xef\\xbf\\xbd\\xef\\xbf\\xbd\\xef\\xbf\\xbdWj\\x03\\xef\\xbf\\xbd_S=^\\xef\\xbf\\xbdW?\\xef\\xbf\\xbd%\\xef\\xbf\\xbd\\xef\\xbf\\xbd\\x00\\xef\\xbf\\xbdR\\xef\\xbf\\xbd\\xef\\xbf\\xbdK \\x10\\xef\\xbf\\xbd\\xef\\xbf\\xbd{mV8\\x14B<\\xef\\xbf\\xbd\\xef\\xbf\\xbd\\xef\\xbf\\xbd,x=#\\x16\\xef\\xbf\\xbdi\\xef\\xbf\\xbd%dL\\xef\\xbf\\xbd\\xef\\xbf\\xbd\\xef\\xbf\\xbd\\xef\\xbf\\xbd\\x08\\xef\\xbf\\xbd\\xef\\xbf\\xbd=k\\xef\\xbf\\xbd\\xef\\xbf\\xbd]\\xef\\xbf\\xbd\\xef\\xbf\\xbd\\xef\\xbf\\xbd\\xc6\\x96\\xef\\xbf\\xbd\\xef\\xbf\\xbd\\rO\\xef\\xbf\\xbd\\xef\\xbf\\xbdI\\xef\\xbf\\xbd\\xef\\xbf\\xbd\\xef\\xbf\\xbd\\x1d2\\xef\\xbf\\xbd5h\\x1d\\xef\\xbf\\xbd\\xda\\xae%\\xea\\x80\\x8c\\xef\\xbf\\xbd\\x1d\\xef\\xbf\\xbd\\xef\\xbf\\xbd\\xef\\xbf\\xbd)\\xef\\xbf\\xbd_\\x0fV\\x18\\xef\\xbf\\xbdr+=9\\xef\\xbf\\xbd\\x18\\xef\\xbf\\xbdID\\xef\\xbf\\xbd\\xef\\xbf\\xbd\\xef\\xbf\\xbd:\\x02L\\xef\\xbf\\xbdc\\xef\\xbf\\xbd\\xef\\xbf\\xbd\\x0e\\xef\\xbf\\xbd\\xef\\xbf\\xbdR\\xef\\xbf\\xbd7\\x1dc\\xef\\xbf\\xbd-\\xef\\xbf\\xbd]D\\xef\\xbf\\xbd]\\x08qw\\xef\\xbf\\xbd\\xef\\xbf\\xbd\\xef\\xbf\\xbdp\\xef\\xbf\\xbdd}\\xef\\xbf\\xbdM(##\\xef\\xbf\\xbd\\xda\\xbf{\\xcb\\xa2L\\xef\\xbf\\xbds\\xef\\xbf\\xbd\\'\\xef\\xbf\\xbd2\\x01\\x1c\\x15^K\\xef\\xbf\\xbd;{r\\xef\\xbf\\xbdQ2w\\xef\\xbf\\xbd\\x10p;\\n\\xef\\xbf\\xbd^\\xef\\xbf\\xbd\\xef\\xbf\\xbd\\xef\\xbf\\xbd~z\\xef\\xbf\\xbd\\xef\\xbf\\xbdPv.\\xef\\xbf\\xbd\\xef\\xbf\\xbd\\xef\\xbf\\xbd\\x00\\x05~\\xef\\xbf\\xbd\\xef\\xbf\\xbd'",
         "b'000c0100000100000000000006676f6f676c6503636f6d00001c00013aefbfbd6c653ac7a9efbfbdefbfbdefbfbd0cefbfbdefbfbdefbfbd3a7c11efbfbd58efbfbdefbfbd712e65efbfbdefbfbdefbfbd611230efbfbd4a7d340a3924767aefbfbd52efbfbd754f2fefbfbdefbfbd3bc7ab5defbfbdefbfbd4d22efbfbd7254d3a3483169efbfbdefbfbdcba5cdb010334c3c6befbfbd015f07521d2cefbfbdefbfbd46efbfbdefbfbde498a1305d1eefbfbdefbfbdefbfbd1e5359efbfbdefbfbd0b0f7169332cefbfbd0c130744efbfbdefbfbdefbfbd0befbfbdefbfbd19637b4fefbfbdefbfbd6eefbfbd514befbfbd0aefbfbd5aefbfbd007029efbfbd3633efbfbdefbfbd5c13272defbfbdefbfbd550c7912efbfbd631135efbfbd56efbfbd00efbfbdeaafab21efbfbd291defbfbdefbfbd107defbfbdefbfbdefbfbd2a051552efbfbdefbfbd47efbfbd58efbfbdefbfbdefbfbd59efbfbd532eefbfbd6b7076efbfbdefbfbd08481e38efbfbd107aefbfbdefbfbd7fefbfbd6defbfbd61213e09efbfbd2fefbfbd2fefbfbd02efbfbd461402efbfbd400042efbfbdefbfbd5eefbfbdefbfbdefbfbd79efbfbdefbfbd101d2eefbfbdefbfbdefbfbd311d06d895114b1befbfbdefbfbdefbfbdefbfbd62efbfbdefbfbdefbfbd3befbfbdefbfbd08efbfbdefbfbd3d4eefbfbdefbfbd203727276b1f02efbfbdefbfbd750c19efbfbd02efbfbd4fefbfbdefbfbdefbfbd61efbfbd5c16641662efbfbd2461efbfbd15efbfbd4664efbfbdefbfbdefbfbd16efbfbd335aefbfbdefbfbd1e132821c4b9efbfbdefbfbdefbfbd576a03efbfbd5f533d5eefbfbd573fefbfbd25efbfbdefbfbd00efbfbd52efbfbdefbfbd4b2010efbfbdefbfbd7b6d563814423cefbfbdefbfbdefbfbd2c783d2316efbfbd69efbfbd25644cefbfbdefbfbdefbfbdefbfbd08efbfbdefbfbd3d6befbfbdefbfbd5defbfbdefbfbdefbfbdc696efbfbdefbfbd0d4fefbfbdefbfbd49efbfbdefbfbdefbfbd1d32efbfbd35681defbfbddaae25ea808cefbfbd1defbfbdefbfbdefbfbd29efbfbd5f0f5618efbfbd722b3d39efbfbd18efbfbd4944efbfbdefbfbdefbfbd3a024cefbfbd63efbfbdefbfbd0eefbfbdefbfbd52efbfbd371d63efbfbd2defbfbd5d44efbfbd5d087177efbfbdefbfbdefbfbd70efbfbd647defbfbd4d282323efbfbddabf7bcba24cefbfbd73efbfbd27efbfbd32011c155e4befbfbd3b7b72efbfbd513277efbfbd10703b0aefbfbd5eefbfbdefbfbdefbfbd7e7aefbfbdefbfbd50762eefbfbdefbfbdefbfbd00057eefbfbdefbfbd'"
        ],
        [
         "2",
         "10.1.10.53",
         "84.54.22.33",
         "53",
         "53",
         "b'\\x00\\x0c\\x01\\x00\\x00\\x01\\x00\\x00\\x00\\x00\\x00\\x00\\x06google\\x03com\\x00\\x00\\x1c\\x00\\x01\\xef\\xbf\\xbd\\xef\\xbf\\xbd^n\\xef\\xbf\\xbd\\'\\'\\xef\\xbf\\xbd\\xef\\xbf\\xbd\\xef\\xbf\\xbd$\\xef\\xbf\\xbd\\xef\\xbf\\xbd\\xef\\xbf\\xbd\\xef\\xbf\\xbd\\xef\\xbf\\xbdR\\xef\\xbf\\xbd\\xef\\xbf\\xbd\\xef\\xbf\\xbd\\x17\\xef\\xbf\\xbd>Epou\\xef\\xbf\\xbd\\xef\\xbf\\xbd$\\xef\\xbf\\xbd\\xef\\xbf\\xbdM\\xef\\xbf\\xbd\\xef\\xbf\\xbd\\x1c\\xef\\xbf\\xbd\\xef\\xbf\\xbd\\x0e\\xef\\xbf\\xbdtB\\r\\xef\\xbf\\xbd\\xd4\\xbag\\xef\\xbf\\xbdm\\xef\\xbf\\xbd\\xef\\xbf\\xbd>8w\\xe8\\x84\\xaa\\xef\\xbf\\xbd\\xef\\xbf\\xbd5\\xef\\xbf\\xbd\\xef\\xbf\\xbd\\xef\\xbf\\xbd<\\xef\\xbf\\xbd>\\xef\\xbf\\xbd\\x19\\xef\\xbf\\xbd\\xef\\xbf\\xbdl\\x0e<p\\xef\\xbf\\xbd\\xef\\xbf\\xbd\\xc7\\x98\\xef\\xbf\\xbd\\xef\\xbf\\xbd\\xef\\xbf\\xbdw8\\xef\\xbf\\xbd\\xef\\xbf\\xbd@\\xd4\\xae\\xef\\xbf\\xbd`Y\\xef\\xbf\\xbd\\xef\\xbf\\xbd\\x15\\xef\\xbf\\xbdoR\\xef\\xbf\\xbdH\\xef\\xbf\\xbd\\xef\\xbf\\xbdhD\\xef\\xbf\\xbd(\\xef\\xbf\\xbd;\\xef\\xbf\\xbd8*~o\\x14`Y\\xef\\xbf\\xbdm\\xef\\xbf\\xbd\\x15\\xef\\xbf\\xbd?\\xef\\xbf\\xbd\\x16\\xcb\\xa1\\t\\xef\\xbf\\xbd\\x04DJ\\xef\\xbf\\xbd1PD\\xef\\xbf\\xbd\\x143O\\xef\\xbf\\xbd\\x16UU\\x18\\xef\\xbf\\xbdw\\xef\\xbf\\xbdx.\\x05C\\xef\\xbf\\xbd\\xef\\xbf\\xbdH\\xef\\xbf\\xbdt\\xef\\xbf\\xbd\\xef\\xbf\\xbd\\x1a7=\\xef\\xbf\\xbd\\xe8\\xa1\\x88\\x11\\xef\\xbf\\xbd\\x1b\\xef\\xbf\\xbd_\\x1f06e\\xef\\xbf\\xbd0\\x1d\\xef\\xbf\\xbd_P4\\x13r\\xef\\xbf\\xbd9,6\\xef\\xbf\\xbd\\x18\\rc\\xef\\xbf\\xbd\\x06\\xef\\xbf\\xbdE\\xef\\xbf\\xbd<\\xef\\xbf\\xbdS\\xc2\\xa1\\xef\\xbf\\xbd\\xef\\xbf\\xbd\\x08\\xc3\\x8f\\x1eNY$\\x04\\xef\\xbf\\xbd\\x08\\x00X\\xef\\xbf\\xbd94\\xef\\xbf\\xbd\\xef\\xbf\\xbdp\\xd6\\xb0\\xef\\xbf\\xbd\\xef\\xbf\\xbd\\xef\\xbf\\xbd\\xef\\xbf\\xbd\\x15\\x17+\\xc2\\xa6\\xef\\xbf\\xbd\\xef\\xbf\\xbd\\xef\\xbf\\xbd0\\xef\\xbf\\xbdS\\x0cU\\xef\\xbf\\xbdj\\xef\\xbf\\xbd{A\\x7f\\xef\\xbf\\xbd\\x08\"z\\xef\\xbf\\xbdC\\xef\\xbf\\xbd\\x02P\\xef\\xbf\\xbd{\\x17\\xef\\xbf\\xbd\\xef\\xbf\\xbde\\xef\\xbf\\xbd\\x161s\\xef\\xbf\\xbd\\xef\\xbf\\xbd\\x02\\xef\\xbf\\xbd\\xef\\xbf\\xbd\\xef\\xbf\\xbd\\xef\\xbf\\xbd\\xef\\xbf\\xbd\\xef\\xbf\\xbd`\\xef\\xbf\\xbd\\xef\\xbf\\xbd\\xef\\xbf\\xbd\\x07\\xc2\\xb5M\\xef\\xbf\\xbdp\\xef\\xbf\\xbd\\xef\\xbf\\xbda\\xef\\xbf\\xbdS\\xef\\xbf\\xbd\\xef\\xbf\\xbd;\\xef\\xbf\\xbd \\x04\\x10\\xda\\xb0i\\xef\\xbf\\xbd\\x07\\x03!i|S\\xc8\\xbc(\\xef\\xbf\\xbd\\xef\\xbf\\xbd\\xef\\xbf\\xbd\\xef\\xbf\\xbd\\x1e\\xef\\xbf\\xbd\\xef\\xbf\\xbdh\\x02\\x18y>\\x00Tp\\xef\\xbf\\xbde!fN(%\\xef\\xbf\\xbd\\xef\\xbf\\xbd\\x1d\\x7f\\xef\\xbf\\xbdtw\\xef\\xbf\\xbd\\xef\\xbf\\xbd\\xef\\xbf\\xbdr\\xce\\x98\\xef\\xbf\\xbd\\xef\\xbf\\xbdG\\xef\\xbf\\xbd\\xef\\xbf\\xbd\\xef\\xbf\\xbdI\\xef\\xbf\\xbd\\xef\\xbf\\xbd5\\xef\\xbf\\xbd\\xef\\xbf\\xbd%\\xef\\xbf\\xbd\\xef\\xbf\\xbd\\xef\\xbf\\xbd\\xef\\xbf\\xbdN\\x008g\\xef\\xbf\\xbd\\x19`M\\xd6\\xb7\\xef\\xbf\\xbd&|+\\xef\\xbf\\xbd\\xef\\xbf\\xbd\"\\xef\\xbf\\xbd\\xef\\xbf\\xbd\\xef\\xbf\\xbd\\xef\\xbf\\xbd\\xef\\xbf\\xbd\\xef\\xbf\\xbd9\\xef\\xbf\\xbdr\\x03\\xd1\\xb1\\t\\'(\\xef\\xbf\\xbd\\xef\\xbf\\xbdq\\xef\\xbf\\xbd\\x103\\'\\xef\\xbf\\xbd\\x0e\\x13\\xef\\xbf\\xbd@y,\\xef\\xbf\\xbd\\xef\\xbf\\xbd{R\\xef\\xbf\\xbd\\x06\\xef\\xbf\\xbd\\x00\\xef\\xbf\\xbd\\x01D\\xef\\xbf\\xbd\\xef\\xbf\\xbd\\xef\\xbf\\xbd1J\\t\\xef\\xbf\\xbd\\xef\\xbf\\xbd\\x1f\\xef\\xbf\\xbd;4|\\xef\\xbf\\xbd\\xef\\xbf\\xbd\\xef\\xbf\\xbd\\x0f~\\xef\\xbf\\xbd\\x03N\\xd9\\xba\\xef\\xbf\\xbdh\\xef\\xbf\\xbd\\xef\\xbf\\xbd\\xeb\\x90\\xae\\\\\\xef\\xbf\\xbd\\x16\\xef\\xbf\\xbdp\\xef\\xbf\\xbd\\xef\\xbf\\xbd\\xef\\xbf\\xbd;\\xef\\xbf\\xbdI\\xef\\xbf\\xbd]\\xef\\xbf\\xbd\\x00\\xe8\\x80\\xb8S\\xef\\xbf\\xbd\\xef\\xbf\\xbdx\\xef\\xbf\\xbdj;?\"\\x0e\\x19~\\n\\xef\\xbf\\xbd\\xc5\\xb3\\xef\\xbf\\xbd\\x18\\x16b\\xe6\\x84\\xa7PL\\xef\\xbf\\xbd\\xef\\xbf\\xbd@\\xef\\xbf\\xbd\\x1a\\xef\\xbf\\xbd\\x1dA\\xef\\xbf\\xbd\\xef\\xbf\\xbdB\\xef\\xbf\\xbd\\xef\\xbf\\xbd6\\xef\\xbf\\xbd\\x12\\xef\\xbf\\xbd\\x1fph\\xef\\xbf\\xbd\\xef\\xbf\\xbd\\x16\\xef\\xbf\\xbd\\xef\\xbf\\xbd\\xef\\xbf\\xbd\\xef\\xbf\\xbds\\xef\\xbf\\xbdPAv\\xef\\xbf\\xbd\\xef\\xbf\\xbdO\\xef\\xbf\\xbd'",
         "b'000c0100000100000000000006676f6f676c6503636f6d00001c0001efbfbdefbfbd5e6eefbfbd2727efbfbdefbfbdefbfbd24efbfbdefbfbdefbfbdefbfbdefbfbd52efbfbdefbfbdefbfbd17efbfbd3e45706f75efbfbdefbfbd24efbfbdefbfbd4defbfbdefbfbd1cefbfbdefbfbd0eefbfbd74420defbfbdd4ba67efbfbd6defbfbdefbfbd3e3877e884aaefbfbdefbfbd35efbfbdefbfbdefbfbd3cefbfbd3eefbfbd19efbfbdefbfbd6c0e3c70efbfbdefbfbdc798efbfbdefbfbdefbfbd7738efbfbdefbfbd40d4aeefbfbd6059efbfbdefbfbd15efbfbd6f52efbfbd48efbfbdefbfbd6844efbfbd28efbfbd3befbfbd382a7e6f146059efbfbd6defbfbd15efbfbd3fefbfbd16cba109efbfbd04444aefbfbd315044efbfbd14334fefbfbd16555518efbfbd77efbfbd782e0543efbfbdefbfbd48efbfbd74efbfbdefbfbd1a373defbfbde8a18811efbfbd1befbfbd5f1f303665efbfbd301defbfbd5f50341372efbfbd392c36efbfbd180d63efbfbd06efbfbd45efbfbd3cefbfbd53c2a1efbfbdefbfbd08c38f1e4e592404efbfbd080058efbfbd3934efbfbdefbfbd70d6b0efbfbdefbfbdefbfbdefbfbd15172bc2a6efbfbdefbfbdefbfbd30efbfbd530c55efbfbd6aefbfbd7b417fefbfbd08227aefbfbd43efbfbd0250efbfbd7b17efbfbdefbfbd65efbfbd163173efbfbdefbfbd02efbfbdefbfbdefbfbdefbfbdefbfbdefbfbd60efbfbdefbfbdefbfbd07c2b54defbfbd70efbfbdefbfbd61efbfbd53efbfbdefbfbd3befbfbd200410dab069efbfbd070321697c53c8bc28efbfbdefbfbdefbfbdefbfbd1eefbfbdefbfbd680218793e005470efbfbd6521664e2825efbfbdefbfbd1d7fefbfbd7477efbfbdefbfbdefbfbd72ce98efbfbdefbfbd47efbfbdefbfbdefbfbd49efbfbdefbfbd35efbfbdefbfbd25efbfbdefbfbdefbfbdefbfbd4e003867efbfbd19604dd6b7efbfbd267c2befbfbdefbfbd22efbfbdefbfbdefbfbdefbfbdefbfbdefbfbd39efbfbd7203d1b1092728efbfbdefbfbd71efbfbd103327efbfbd0e13efbfbd40792cefbfbdefbfbd7b52efbfbd06efbfbd00efbfbd0144efbfbdefbfbdefbfbd314a09efbfbdefbfbd1fefbfbd3b347cefbfbdefbfbdefbfbd0f7eefbfbd034ed9baefbfbd68efbfbdefbfbdeb90ae5cefbfbd16efbfbd70efbfbdefbfbdefbfbd3befbfbd49efbfbd5defbfbd00e880b853efbfbdefbfbd78efbfbd6a3b3f220e197e0aefbfbdc5b3efbfbd181662e684a7504cefbfbdefbfbd40efbfbd1aefbfbd1d41efbfbdefbfbd42efbfbdefbfbd36efbfbd12efbfbd1f7068efbfbdefbfbd16efbfbdefbfbdefbfbdefbfbd73efbfbd504176efbfbdefbfbd4fefbfbd'"
        ],
        [
         "3",
         "10.1.10.53",
         "84.54.22.33",
         "53",
         "53",
         "b'\\x00\\x0c\\x01\\x00\\x00\\x01\\x00\\x00\\x00\\x00\\x00\\x00\\x06google\\x03com\\x00\\x00\\x1c\\x00\\x01\\xe4\\x8e\\x91Bj_\\xef\\xbf\\xbda\\r\\xef\\xbf\\xbd\\xef\\xbf\\xbd\\xef\\xbf\\xbd\\x04\\xef\\xbf\\xbd\\xef\\xbf\\xbd\\x10DJ\\xef\\xbf\\xbd\\xef\\xbf\\xbd\\x14\\xef\\xbf\\xbd\\x12\\xef\\xbf\\xbd\\xef\\xbf\\xbdB\\xef\\xbf\\xbd\\x05\\x1dB\\r&\\xef\\xbf\\xbd@\\xef\\xbf\\xbd\\xd6\\x9e\\t\\xef\\xbf\\xbdD\\xef\\xbf\\xbdo\\x01\\xef\\xbf\\xbdgc\\xef\\xbf\\xbdr\\xef\\xbf\\xbd\\xef\\xbf\\xbd1\\xef\\xbf\\xbd\\x12 \\xef\\xbf\\xbd\\nA\\x04\\x1a\\xef\\xbf\\xbda\\xef\\xbf\\xbd4F\\xef\\xbf\\xbdG\\xef\\xbf\\xbd\\xef\\xbf\\xbd\\xef\\xbf\\xbd\\xef\\xbf\\xbd\\xef\\xbf\\xbd\\x103\\xef\\xbf\\xbd\\xef\\xbf\\xbd\\xef\\xbf\\xbdK\\xef\\xbf\\xbd\\xef\\xbf\\xbd\\xef\\xbf\\xbd&\\x1c]\\xef\\xbf\\xbd\\x10\\xef\\xbf\\xbd\\xef\\xbf\\xbd\\x0c7\\x03D]\\xef\\xbf\\xbd.\\xef\\xbf\\xbd\\xef\\xbf\\xbd\\x0c\\xef\\xbf\\xbd\\x01tx(\\xef\\xbf\\xbd`\\xef\\xbf\\xbd\\xef\\xbf\\xbd\\xef\\xbf\\xbd\\xef\\xbf\\xbdY]\\xef\\xbf\\xbd\\xef\\xbf\\xbd\\xef\\xbf\\xbd-k\\xef\\xbf\\xbdq-\\x02u\\x10\\xef\\xbf\\xbd`@Ow\\xef\\xbf\\xbd\\xef\\xbf\\xbd\\x1f\\x0b\\xef\\xbf\\xbd->W:\\x1d\\xef\\xbf\\xbd\\xef\\xbf\\xbd\\xe8\\xaa\\x98y\\xef\\xbf\\xbd\\xef\\xbf\\xbd\\xef\\xbf\\xbd\\xef\\xbf\\xbdV\\xef\\xbf\\xbd\\xef\\xbf\\xbdq\\xef\\xbf\\xbdf\\t\\xef\\xbf\\xbd\\xef\\xbf\\xbd\\xef\\xbf\\xbd>\\xef\\xbf\\xbd\\xef\\xbf\\xbd\\x0e|\\xef\\xbf\\xbd[\\x03\\xc3\\xa1\\t\\xef\\xbf\\xbd_h>\\xef\\xbf\\xbd\\xef\\xbf\\xbd@\\xef\\xbf\\xbd*\\n\\xef\\xbf\\xbdW\\xef\\xbf\\xbduZ\\xef\\xbf\\xbd\\xef\\xbf\\xbd\\xef\\xbf\\xbd\\xef\\xbf\\xbd\\xc9\\xbc\\xef\\xbf\\xbd\\xef\\xbf\\xbd\\xd5\\xb8\\xef\\xbf\\xbd?\\xef\\xbf\\xbdz\\xef\\xbf\\xbd\\xef\\xbf\\xbd\\xef\\xbf\\xbd\\x08\\xef\\xbf\\xbd!\\xef\\xbf\\xbd5)hz\\xef\\xbf\\xbd\\xef\\xbf\\xbdN-\\xef\\xbf\\xbdg\\xef\\xbf\\xbd@\\xef\\xbf\\xbd\\xef\\xbf\\xbd6\\xef\\xbf\\xbd-;j\\xef\\xbf\\xbd50l\\x113\\xef\\xbf\\xbd\\xc2\\xa6\\xef\\xbf\\xbd\\x1fm\\xef\\xbf\\xbd\\xef\\xbf\\xbd\\xef\\xbf\\xbd\\xef\\xbf\\xbd\\x10\\xef\\xbf\\xbd.\\xef\\xbf\\xbdR\\xef\\xbf\\xbdt\\xef\\xbf\\xbd|\\xef\\xbf\\xbd_\\xef\\xbf\\xbd\\xef\\xbf\\xbd\\x08v\\xef\\xbf\\xbdX\\xef\\xbf\\xbd\\x04D\\x13:\\xef\\xbf\\xbd\\x18\\xef\\xbf\\xbdj\\xef\\xbf\\xbd\\xcf\\xb4\\xef\\xbf\\xbd\\xef\\xbf\\xbd\\xef\\xbf\\xbd\\x14x\\x10\\x10r\\xef\\xbf\\xbdZ&B\\xef\\xbf\\xbd^\\xef\\xbf\\xbd+\\xef\\xbf\\xbd\\xef\\xbf\\xbd)$1\\x1e\\xef\\xbf\\xbd\\x18\\x15\\xef\\xbf\\xbd\\xef\\xbf\\xbd\\xef\\xbf\\xbdP\\xef\\xbf\\xbde\\xef\\xbf\\xbd\\x7f9\\x10\\xef\\xbf\\xbd\"3,\\xef\\xbf\\xbd\\xef\\xbf\\xbdI\\xef\\xbf\\xbd\\xef\\xbf\\xbd\\x10\\xef\\xbf\\xbd8\\xef\\xbf\\xbdE\\xef\\xbf\\xbd#\\x1c\\xdb\\xa4\\x13(:Sn\\x1c\"\\xef\\xbf\\xbd\\xef\\xbf\\xbdQ\\xef\\xbf\\xbd\\xef\\xbf\\xbdf>B\\xef\\xbf\\xbd#\\xef\\xbf\\xbd\\xef\\xbf\\xbd\\xef\\xbf\\xbd\\xef\\xbf\\xbd\\xef\\xbf\\xbdW\\xef\\xbf\\xbd\\x08\\x13\\xef\\xbf\\xbdjQ\\xef\\xbf\\xbd\\xef\\xbf\\xbd[\\x01\\xc3\\xa1\\t\\xef\\xbf\\xbd_yo\\xef\\xbf\\xbd\\xef\\xbf\\xbd9\\xef\\xbf\\xbd\\xef\\xbf\\xbd\\xef\\xbf\\xbdm\"lD\\xef\\xbf\\xbd)\\xef\\xbf\\xbd.\\xef\\xbf\\xbd\\x0f\\x18\\xef\\xbf\\xbd\\xef\\xbf\\xbd\\x150,\\xef\\xbf\\xbdL\\xef\\xbf\\xbdS\\xef\\xbf\\xbd\\xef\\xbf\\xbd\\xef\\xbf\\xbd\\xcd\\xa6Is\\xef\\xbf\\xbd\\xef\\xbf\\xbd<9D\\xef\\xbf\\xbd\\xef\\xbf\\xbd!\\x08\\x15V\\xef\\xbf\\xbd,\\x7f\\xef\\xbf\\xbdk\\xef\\xbf\\xbd\\xef\\xbf\\xbd\\x14\\x1c\\xef\\xbf\\xbd`zL\\xef\\xbf\\xbd\\x12a\\xef\\xbf\\xbd,\\xef\\x92\\xafH!oA\\xef\\xbf\\xbdS\\x01hP\\'\\xef\\xbf\\xbd~L\\xef\\xbf\\xbdB\\xef\\xbf\\xbd\\x01\\xef\\xbf\\xbd\\xef\\xbf\\xbd\\xef\\xbf\\xbd\\xef\\xbf\\xbd\\xef\\xbf\\xbd\\xef\\xbf\\xbd\\xef\\xbf\\xbdk\\xef\\xbf\\xbd#\\xef\\xbf\\xbd\\x19V\\xef\\xbf\\xbdX]\\xef\\xbf\\xbd\\xef\\xbf\\xbd\\x12\\xef\\xbf\\xbd8\\xef\\xbf\\xbdB\\xef\\xbf\\xbd\\x0c`A^\\x16\\x11\\xef\\xbf\\xbdy\\x1b<\\xef\\xbf\\xbd\\xef\\xbf\\xbdw\\x10a\\xef\\xbf\\xbd@\\xef\\xbf\\xbd\\x07\\x05\\xef\\xbf\\xbdT\\xef\\xbf\\xbd\\n\\xef\\xbf\\xbdZ\\xef\\xbf\\xbdM\\xef\\xbf\\xbd/\\xef\\xbf\\xbd\\xef\\xbf\\xbd\\x04\\xef\\xbf\\xbd0\\x0c\\x0b1\\xef\\xbf\\xbd0\\x0c\\x0b1\\xef\\xbf\\xbd0\\x0c\\xd3\\x8fp'",
         "b'000c0100000100000000000006676f6f676c6503636f6d00001c0001e48e91426a5fefbfbd610defbfbdefbfbdefbfbd04efbfbdefbfbd10444aefbfbdefbfbd14efbfbd12efbfbdefbfbd42efbfbd051d420d26efbfbd40efbfbdd69e09efbfbd44efbfbd6f01efbfbd6763efbfbd72efbfbdefbfbd31efbfbd1220efbfbd0a41041aefbfbd61efbfbd3446efbfbd47efbfbdefbfbdefbfbdefbfbdefbfbd1033efbfbdefbfbdefbfbd4befbfbdefbfbdefbfbd261c5defbfbd10efbfbdefbfbd0c3703445defbfbd2eefbfbdefbfbd0cefbfbd01747828efbfbd60efbfbdefbfbdefbfbdefbfbd595defbfbdefbfbdefbfbd2d6befbfbd712d027510efbfbd60404f77efbfbdefbfbd1f0befbfbd2d3e573a1defbfbdefbfbde8aa9879efbfbdefbfbdefbfbdefbfbd56efbfbdefbfbd71efbfbd6609efbfbdefbfbdefbfbd3eefbfbdefbfbd0e7cefbfbd5b03c3a109efbfbd5f683eefbfbdefbfbd40efbfbd2a0aefbfbd57efbfbd755aefbfbdefbfbdefbfbdefbfbdc9bcefbfbdefbfbdd5b8efbfbd3fefbfbd7aefbfbdefbfbdefbfbd08efbfbd21efbfbd3529687aefbfbdefbfbd4e2defbfbd67efbfbd40efbfbdefbfbd36efbfbd2d3b6aefbfbd35306c1133efbfbdc2a6efbfbd1f6defbfbdefbfbdefbfbdefbfbd10efbfbd2eefbfbd52efbfbd74efbfbd7cefbfbd5fefbfbdefbfbd0876efbfbd58efbfbd0444133aefbfbd18efbfbd6aefbfbdcfb4efbfbdefbfbdefbfbd1478101072efbfbd5a2642efbfbd5eefbfbd2befbfbdefbfbd2924311eefbfbd1815efbfbdefbfbdefbfbd50efbfbd65efbfbd7f3910efbfbd22332cefbfbdefbfbd49efbfbdefbfbd10efbfbd38efbfbd45efbfbd231cdba413283a536e1c22efbfbdefbfbd51efbfbdefbfbd663e42efbfbd23efbfbdefbfbdefbfbdefbfbdefbfbd57efbfbd0813efbfbd6a51efbfbdefbfbd5b01c3a109efbfbd5f796fefbfbdefbfbd39efbfbdefbfbdefbfbd6d226c44efbfbd29efbfbd2eefbfbd0f18efbfbdefbfbd15302cefbfbd4cefbfbd53efbfbdefbfbdefbfbdcda64973efbfbdefbfbd3c3944efbfbdefbfbd21081556efbfbd2c7fefbfbd6befbfbdefbfbd141cefbfbd607a4cefbfbd1261efbfbd2cef92af48216f41efbfbd5301685027efbfbd7e4cefbfbd42efbfbd01efbfbdefbfbdefbfbdefbfbdefbfbdefbfbdefbfbd6befbfbd23efbfbd1956efbfbd585defbfbdefbfbd12efbfbd38efbfbd42efbfbd0c60415e1611efbfbd791b3cefbfbdefbfbd771061efbfbd40efbfbd0705efbfbd54efbfbd0aefbfbd5aefbfbd4defbfbd2fefbfbdefbfbd04efbfbd300c0b31efbfbd300c0b31efbfbd300cd38f70'"
        ],
        [
         "4",
         "10.1.10.53",
         "84.54.22.33",
         "53",
         "53",
         "b'\\x00\\x0c\\x01\\x00\\x00\\x01\\x00\\x00\\x00\\x00\\x00\\x00\\x06google\\x03com\\x00\\x00\\x1c\\x00\\x01\\xef\\xbf\\xbd\\xef\\xbf\\xbd\\xef\\xbf\\xbd\\xcb\\xb4\\xef\\xbf\\xbd\\x16\\xef\\xbf\\xbd\\xef\\xbf\\xbdrj\\xef\\xbf\\xbdGBWO\\xef\\xbf\\xbd\\xef\\xbf\\xbd\\x18\\xdd\\xa2i\\xef\\xbf\\xbd\\xef\\xbf\\xbd0\\xef\\xbf\\xbd\\x18\\x01\\xef\\xbf\\xbd\\xef\\xbf\\xbd\\xef\\xbf\\xbd\\xef\\xbf\\xbd\\xef\\xbf\\xbd\\x13e\"3\\x1cY\\r\\rP\\xef\\xbf\\xbd\\xef\\xbf\\xbd\\xef\\xbf\\xbd^nQ\\x0c\\x0b1\\xef\\xbf\\xbd\\x16\\x13/\\\\8$\\'\\xcb\\xbd\\xef\\xbf\\xbd\\xef\\xbf\\xbd\\xef\\xbf\\xbd!\\xef\\xbf\\xbd<~\\xef\\xbf\\xbdK\"\\xef\\xbf\\xbdd\\x00\\xef\\xbf\\xbd\\xef\\xbf\\xbd\\x19\\xef\\xbf\\xbd\\xef\\xbf\\xbd\\xef\\xbf\\xbd\\xef\\xbf\\xbdb\\xef\\xbf\\xbd\\xef\\xbf\\xbd\\xef\\xbf\\xbd\\xef\\xbf\\xbd\\t\\x1b\\xef\\xbf\\xbd6\\xef\\xbf\\xbdp\\xef\\xbf\\xbdb\\x12\\xef\\xbf\\xbd\\xef\\xbf\\xbd\\t\\xef\\xbf\\xbd\\x0bC\\xef\\xbf\\xbd\\xef\\xbf\\xbd\\x17EE\\xef\\xbf\\xbd\\xc9\\x80Q\\xef\\xbf\\xbd \\xef\\xbf\\xbd\\rOrA0,\\xef\\xbf\\xbdLZ(\\x12[\\xef\\xbf\\xbd\\x142\\xef\\xbf\\xbdv.\\x02\\xef\\xbf\\xbd\\xef\\xbf\\xbd\\xef\\xbf\\xbdI\\xef\\xbf\\xbd\\xef\\xbf\\xbd\\xef\\xbf\\xbd+\"z\\xef\\xbf\\xbdK\"\\x03\\xef\\xbf\\xbd\\xef\\xbf\\xbd\\xef\\xbf\\xbd\\xef\\xbf\\xbd\\xef\\xbf\\xbd\\x15\\xef\\xbf\\xbd\\xef\\xbf\\xbdqI0vp\\xef\\xbf\\xbd\\xef\\xbf\\xbd\\xef\\xbf\\xbd\\xef\\xbf\\xbdP\\x07\\xef\\xbf\\xbd\\xc6\\xa4\\x19\\xef\\xbf\\xbd\\xef\\xbf\\xbd3\\xef\\xbf\\xbd\\xef\\xbf\\xbd\\xef\\xbf\\xbd\\x06\\x01\\xef\\xbf\\xbd\\xef\\xbf\\xbd\\xef\\xbf\\xbd;\\xef\\xbf\\xbd\\xe8\\x96\\xb0\\x11\\x11\\xef\\xbf\\xbd\\xef\\xbf\\xbd\\xef\\xbf\\xbd$\\xef\\xbf\\xbd_\\xef\\xbf\\xbd\\x12nS\\xef\\xbf\\xbd\\xef\\xbf\\xbd\\xef\\xbf\\xbd(\\xef\\xbf\\xbd\\x0b4\\xef\\xbf\\xbd\\xef\\xbf\\xbd\\\\\\x13X\\xef\\xbf\\xbd17\\'\\xef\\xbf\\xbd\\xef\\xbf\\xbd\\xef\\xbf\\xbd\\xef\\xbf\\xbd6\\xef\\xbf\\xbd\\xef\\xbf\\xbdr\\xef\\xbf\\xbd.\\x00\\xd8\\x95\\xef\\xbf\\xbdC\\xef\\xbf\\xbdg\\xef\\xbf\\xbd~\\\\\\xef\\xbf\\xbd\\x06\"\\xef\\xbf\\xbd\\xef\\xbf\\xbdu\\x7f.\\xef\\xbf\\xbd\\xcc\\xb5\\xef\\xbf\\xbd\\xef\\xbf\\xbd%\\x1c\\xef\\xbf\\xbd`\\x18\\xef\\xbf\\xbda!f\\x18\\xef\\xbf\\xbd9\\xef\\xbf\\xbd\\xef\\xbf\\xbd\\xef\\xbf\\xbd\\x04\\xef\\xbf\\xbdY\\xef\\xbf\\xbd^\\xef\\xbf\\xbd\\x07y2\\xef\\xbf\\xbd\\xef\\xbf\\xbd\\xef\\xbf\\xbd\\xef\\xbf\\xbd\\xef\\xbf\\xbd\\xcf\\x80\\xef\\xbf\\xbd\\x00\"\\xcf\\xab;c_\\xef\\xbf\\xbd\\xda\\xbc\\xef\\xbf\\xbd\\xd6\\xae}\\xef\\xbf\\xbd\\x04\\x00\\xef\\xbf\\xbd\\nfX\\xef\\xbf\\xbd\\xef\\xbf\\xbd\\x01Ka\\xef\\xbf\\xbd~\\x13J\\xef\\xbf\\xbd\\x0e\\x00\\x14\\x08\\xe1\\x90\\xb1k8\\xef\\xbf\\xbd\\xef\\xbf\\xbd\\x03\\xef\\xbf\\xbdu|\\xef\\xbf\\xbd+F\\xef\\xbf\\xbd\\xef\\xbf\\xbdlM\\xef\\xbf\\xbd\\xc5\\xbeFSN\\x03\\xef\\xbf\\xbdYe\\xef\\xbf\\xbdD\\xef\\xbf\\xbd,\\xef\\xbf\\xbd\\xef\\xbf\\xbd\\xef\\xbf\\xbd\\xef\\xbf\\xbd\\'\\xef\\xbf\\xbd\\xef\\xbf\\xbd\\xef\\xbf\\xbd5\\xef\\xbf\\xbdd\\x12\\x0eM0\\xef\\xbf\\xbd\\x10\\xef\\xbf\\xbd\\xef\\xbf\\xbd\\x0b\\xef\\xbf\\xbd\\xef\\xbf\\xbd\\x05\\x02\\x0f\\x02JRfTxc\\x7f\\xef\\xbf\\xbdY\\xef\\xbf\\xbd\\x03\\xef\\xbf\\xbd\\x04\\xef\\xbf\\xbd\\x00Q\\xef\\xbf\\xbdk\\'\\x05\\xef\\xbf\\xbd\\xef\\xbf\\xbd\\xef\\xbf\\xbd\\x08^\\xef\\xbf\\xbdv\\xef\\xbf\\xbd\\xef\\xbf\\xbd\\xef\\xbf\\xbd|\\xef\\xbf\\xbdk\\xef\\xbf\\xbda!f\\x06\\xef\\xbf\\xbd\\x08\\xef\\xbf\\xbd\\xef\\xbf\\xbdW\\xef\\xbf\\xbd\\xc4\\xafC\\xef\\xbf\\xbd\\xef\\xbf\\xbdu)\\xef\\xbf\\xbd\\x1f\\xef\\xbf\\xbd\\x00\\xef\\xbf\\xbd\\xef\\xbf\\xbdo\\x7f\\x04\\xef\\xbf\\xbd)_3\"\\x12)r9\\x1c\\xef\\xbf\\xbd\\x15\\xef\\xbf\\xbd\\xef\\xbf\\xbd\\xef\\xbf\\xbd\\xc7\\xb5\\xcf\\xb0\\x103\\xef\\xbf\\xbd\\xef\\xbf\\xbd\\xef\\xbf\\xbd\\xef\\xbf\\xbd\\xef\\xbf\\xbd~\\xef\\xbf\\xbdxn\\xef\\xbf\\xbd\\x0cQM\\xef\\xbf\\xbd<o\\xef\\xbf\\xbd\\xef\\xbf\\xbd\\xef\\xbf\\xbd\\x10)\\'\\xef\\xbf\\xbd\\xef\\xbf\\xbd#\\xef\\xbf\\xbdZ\\xef\\xbf\\xbdx\\xef\\xbf\\xbd\\xef\\xbf\\xbd+\\xef\\xbf\\xbd\\x19\\xcb\\xad\\xef\\xbf\\xbd\\xef\\xbf\\xbd\\x04\\x1c#f\\xef\\xbf\\xbdE^\\xef\\xbf\\xbd\\xd7\\x89R,\\xef\\xbf\\xbd\\xef\\xbf\\xbd\\xef\\xbf\\xbd\"Z\\x07\\xef\\xbf\\xbd\\xef\\xbf\\xbd\\xef\\xbf\\xbd\\xef\\xbf\\xbd\\x1d\\x162\\x10\\xef\\xbf\\xbdW\\xef\\xbf\\xbd\\x10G'",
         "b'000c0100000100000000000006676f6f676c6503636f6d00001c0001efbfbdefbfbdefbfbdcbb4efbfbd16efbfbdefbfbd726aefbfbd4742574fefbfbdefbfbd18dda269efbfbdefbfbd30efbfbd1801efbfbdefbfbdefbfbdefbfbdefbfbd136522331c590d0d50efbfbdefbfbdefbfbd5e6e510c0b31efbfbd16132f5c382427cbbdefbfbdefbfbdefbfbd21efbfbd3c7eefbfbd4b22efbfbd6400efbfbdefbfbd19efbfbdefbfbdefbfbdefbfbd62efbfbdefbfbdefbfbdefbfbd091befbfbd36efbfbd70efbfbd6212efbfbdefbfbd09efbfbd0b43efbfbdefbfbd174545efbfbdc98051efbfbd20efbfbd0d4f7241302cefbfbd4c5a28125befbfbd1432efbfbd762e02efbfbdefbfbdefbfbd49efbfbdefbfbdefbfbd2b227aefbfbd4b2203efbfbdefbfbdefbfbdefbfbdefbfbd15efbfbdefbfbd7149307670efbfbdefbfbdefbfbdefbfbd5007efbfbdc6a419efbfbdefbfbd33efbfbdefbfbdefbfbd0601efbfbdefbfbdefbfbd3befbfbde896b01111efbfbdefbfbdefbfbd24efbfbd5fefbfbd126e53efbfbdefbfbdefbfbd28efbfbd0b34efbfbdefbfbd5c1358efbfbd313727efbfbdefbfbdefbfbdefbfbd36efbfbdefbfbd72efbfbd2e00d895efbfbd43efbfbd67efbfbd7e5cefbfbd0622efbfbdefbfbd757f2eefbfbdccb5efbfbdefbfbd251cefbfbd6018efbfbd61216618efbfbd39efbfbdefbfbdefbfbd04efbfbd59efbfbd5eefbfbd077932efbfbdefbfbdefbfbdefbfbdefbfbdcf80efbfbd0022cfab3b635fefbfbddabcefbfbdd6ae7defbfbd0400efbfbd0a6658efbfbdefbfbd014b61efbfbd7e134aefbfbd0e001408e190b16b38efbfbdefbfbd03efbfbd757cefbfbd2b46efbfbdefbfbd6c4defbfbdc5be46534e03efbfbd5965efbfbd44efbfbd2cefbfbdefbfbdefbfbdefbfbd27efbfbdefbfbdefbfbd35efbfbd64120e4d30efbfbd10efbfbdefbfbd0befbfbdefbfbd05020f024a52665478637fefbfbd59efbfbd03efbfbd04efbfbd0051efbfbd6b2705efbfbdefbfbdefbfbd085eefbfbd76efbfbdefbfbdefbfbd7cefbfbd6befbfbd61216606efbfbd08efbfbdefbfbd57efbfbdc4af43efbfbdefbfbd7529efbfbd1fefbfbd00efbfbdefbfbd6f7f04efbfbd295f3322122972391cefbfbd15efbfbdefbfbdefbfbdc7b5cfb01033efbfbdefbfbdefbfbdefbfbdefbfbd7eefbfbd786eefbfbd0c514defbfbd3c6fefbfbdefbfbdefbfbd102927efbfbdefbfbd23efbfbd5aefbfbd78efbfbdefbfbd2befbfbd19cbadefbfbdefbfbd041c2366efbfbd455eefbfbdd789522cefbfbdefbfbdefbfbd225a07efbfbdefbfbdefbfbdefbfbd1d163210efbfbd57efbfbd1047'"
        ],
        [
         "5",
         "10.1.10.53",
         "84.54.22.33",
         "53",
         "53",
         "b'\\x00\\x0c\\x01\\x00\\x00\\x01\\x00\\x00\\x00\\x00\\x00\\x00\\x06google\\x03com\\x00\\x00\\x1c\\x00\\x01w\\xef\\xbf\\xbd \\xef\\xbf\\xbd\\x02R\\xef\\xbf\\xbd\\x19\\x00\\xef\\xbf\\xbd^\\x7f\\xef\\xbf\\xbd\\xc3\\xb4\\xef\\xbf\\xbd\\x16\\xef\\xbf\\xbd\\x01 \\x1c\\xef\\xbf\\xbd\\xef\\xbf\\xbd\\xef\\xbf\\xbd\\x14\\xef\\xbf\\xbd7PA\\xef\\xbf\\xbd\\xef\\xbf\\xbdu\\xef\\xbf\\xbd\\x00\\x01\\xef\\xbf\\xbdA\\xef\\xbf\\xbd\\x1b\\x100\\'&\\xef\\xbf\\xbdA\\xef\\xbf\\xbdN\\xef\\xbf\\xbd_\\x00\\xef\\xbf\\xbdln\\r\\x0c\\x0b1\\xef\\xbf\\xbd/8\\xef\\xbf\\xbd\\xef\\xbf\\xbd\\x1dG\\xef\\xbf\\xbd\\xef\\xbf\\xbd\\xef\\xbf\\xbd\\xef\\xbf\\xbd\\x1b_\\xef\\xbf\\xbd\\xef\\xbf\\xbd\\xef\\xbf\\xbd)\\xef\\xbf\\xbd\\xef\\xbf\\xbd\\xef\\xbf\\xbd\\xef\\xbf\\xbdA9\\xef\\xbf\\xbd\\xef\\xbf\\xbd\\xef\\xbf\\xbd\\xef\\xbf\\xbd\\x04\\xef\\xbf\\xbd4\\xef\\xbf\\xbdc\\x00\\xef\\xbf\\xbd\\xef\\xbf\\xbd\\xef\\xbf\\xbd\\xef\\xbf\\xbd\\xef\\xbf\\xbd\\xef\\xbf\\xbd\\xd0\\xbe\\x15+\\xef\\xbf\\xbd\\x04\\xef\\xbf\\xbd\\\\\\xef\\xbf\\xbd7~\\x17\\xef\\xbf\\xbd\\x7f\\x04\\xef\\xbf\\xbd\\xef\\xbf\\xbdV\\xef\\xbf\\xbd\\xef\\xbf\\xbdk@lM\\x0b\\x1a\\xef\\xbf\\xbd\\xef\\xbf\\xbd\\xef\\xbf\\xbd\\xef\\xbf\\xbd\\xcd\\x9e4w\\xd1\\xa8M\\xef\\xbf\\xbd\\xdf\\xb7\\xef\\xbf\\xbd[\\x04\\xc3\\xa1\\t\\xef\\xbf\\xbd\\xef\\xbf\\xbd]zI_\"\\xef\\xbf\\xbd\\x0e\\xd3\\xb9\\xef\\xbf\\xbdM\\xef\\xbf\\xbd-\\xef\\xbf\\xbd>\\xef\\xbf\\xbd\\xef\\xbf\\xbd\\x07\\xef\\xbf\\xbd\\x13\\xd1\\x81\\xef\\xbf\\xbd\\xc7\\x90\\xef\\xbf\\xbdL\\xef\\xbf\\xbd\\xef\\xbf\\xbd\\xef\\xbf\\xbd\\xef\\xbf\\xbds\\x07\\xef\\xbf\\xbd@\\x01wu\\xef\\xbf\\xbd\\xda\\x89\\xef\\xbf\\xbd\\x12~<\\x10\\xef\\xbf\\xbd\\x08\\xef\\xbf\\xbdO\\x1d\\x06\\x1e\\xef\\xbf\\xbd +\\xef\\xbf\\xbd\\xef\\xbf\\xbd\\x161\\xef\\xbf\\xbdB\\xef\\xbf\\xbd\\xef\\xbf\\xbd\\xef\\xbf\\xbd\\x12\\xef\\xbf\\xbd\\xef\\xbf\\xbd;?\\xef\\xbf\\xbd[\\xef\\xbf\\xbd\\xef\\xbf\\xbd\\xef\\xbf\\xbd\\xef\\xbf\\xbdb\\x11\\\\\\xef\\xbf\\xbd\\xef\\xbf\\xbd\\x05R\\xef\\xbf\\xbd\\xef\\xbf\\xbd\\xef\\xbf\\xbd\\xef\\xbf\\xbd/\\xef\\xbf\\xbd\\xef\\xbf\\xbd\\x17\\xef\\xbf\\xbd\\xef\\xbf\\xbd5\\xef\\xbf\\xbdc\\xef\\xbf\\xbd/Ph\\xef\\xbf\\xbd\\xef\\xbf\\xbd\\x04Ev\\xef\\xbf\\xbdQ&TB\\xef\\xbf\\xbd-\\x13\\xef\\xbf\\xbd\\xef\\xbf\\xbd\\xef\\xbf\\xbd\\xef\\xbf\\xbd\\xef\\xbf\\xbd\\xef\\xbf\\xbd\\xef\\xbf\\xbd\\x103\\xef\\xbf\\xbd\\r5\\x15\\xef\\xbf\\xbds\\xef\\xbf\\xbd)\\xef\\xbf\\xbd\\x10\\xe2\\x9c\\x99W\\xef\\xbf\\xbd\\x13\\xef\\xbf\\xbd\\xef\\xbf\\xbd:\"\\xef\\xbf\\xbd\\x13(>\\xef\\xbf\\xbda\\xef\\xbf\\xbd0C5\\xc9\\x92\\xef\\xbf\\xbd\\x13B\\xef\\xbf\\xbdyxB8\\xef\\xbf\\xbdf\\x19\\x16b\\xef\\xbf\\xbdx\\xef\\xbf\\xbd,\\xef\\xbf\\xbdz\\xef\\xbf\\xbd\\xef\\xbf\\xbdQ\\xef\\xbf\\xbd\\xef\\xbf\\xbd\\xef\\xbf\\xbd\\xef\\xbf\\xbd\\xef\\xbf\\xbdf\\xef\\xbf\\xbd\\xef\\xbf\\xbd\\xef\\xbf\\xbdd\\xef\\xbf\\xbd\\xef\\xbf\\xbdY\\xef\\xbf\\xbd.\\xef\\xbf\\xbd\\x109_\\xef\\xbf\\xbd\\n4\\xef\\xbf\\xbdW\\xef\\xbf\\xbdz\\x18\\x16b\\xe6\\xa4\\xa0\\xef\\xbf\\xbd\\xc2\\xb8\\xef\\xbf\\xbd\\xef\\xbf\\xbd\\xef\\xbf\\xbdn\\xef\\xbf\\xbd\\xef\\xbf\\xbd:\\x1d\\xef\\xbf\\xbd\\xef\\xbf\\xbd\\xef\\xbf\\xbd\\xef\\xbf\\xbdW,\\x1a\\xd1\\x9b\\xef\\xbf\\xbd\\x1c\\xdf\\x91\\xef\\xbf\\xbdm\\xef\\xbf\\xbd\\xef\\xbf\\xbd/6\\xef\\xbf\\xbd\\xef\\xbf\\xbd\\xef\\xbf\\xbd\\xde\\xacz\\xef\\xbf\\xbd\\xef\\xbf\\xbd\\xef\\xbf\\xbd\\xef\\xbf\\xbd\\x0c\\x0b1s\\xef\\xbf\\xbdX\\xef\\xbf\\xbd&\\xef\\xbf\\xbd\\xef\\xbf\\xbdbc\\xef\\xbf\\xbd\\xef\\xbf\\xbd*\\xef\\xbf\\xbd\\xef\\xbf\\xbdl\\xef\\xbf\\xbds\\xef\\xbf\\xbd\\xef\\xbf\\xbdW\\xef\\xbf\\xbd\\xef\\xbf\\xbd\\xef\\xbf\\xbd8i~Q\\xef\\xbf\\xbdu\\xef\\xbf\\xbd\\xef\\xbf\\xbd\\x03v\\\\x\\xef\\xbf\\xbd\\xef\\xbf\\xbd\\xef\\xbf\\xbdW\\xef\\xbf\\xbd\\xef\\xbf\\xbd\\xef\\xbf\\xbdr\\xef\\xbf\\xbd0\\xef\\xbf\\xbd\\tO_c\\xef\\xbf\\xbd\\xef\\xbf\\xbdZ\\xef\\xbf\\xbd\\xef\\xbf\\xbd7\\xef\\xbf\\xbd}K\\xef\\xbf\\xbd\\xef\\xbf\\xbdP\\xef\\xbf\\xbd\\x1fb\\xef\\xbf\\xbd\\x18\\xef\\xbf\\xbd\\xef\\xbf\\xbd\\xef\\xbf\\xbd\\xef\\xbf\\xbd\\xef\\xbf\\xbdg~\\xef\\xbf\\xbdy\\xef\\xbf\\xbd\\n}\\xef\\xbf\\xbdV\\xef\\xbf\\xbdW\\x03\\xef\\xbf\\xbd@\\xef\\xbf\\xbd7\\xef\\xbf\\xbd\\xef\\xbf\\xbdz\\xef\\xbf\\xbd\\xef\\xbf\\xbd\\xef\\xbf\\xbd3\\xef\\xbf\\xbdn\\xef\\xbf\\xbd\\x10r:)\\xef\\xbf\\xbd!\\x1c\\xef\\xbf\\xbd\\xef\\xbf\\xbd\\xef\\xbf\\xbd\\xef\\xbf\\xbd\\x07\\xef\\xbf\\xbd\\\\\\xef\\xbf\\xbd\\x11\\xef\\xbf\\xbd\\xef\\xbf\\xbd\\xef\\xbf\\xbd9)\\xef\\xbf\\xbd\\xef\\xbf\\xbd/{`'",
         "b'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'"
        ],
        [
         "6",
         "10.1.10.53",
         "84.54.22.33",
         "53",
         "53",
         "b'\\x00\\x0c\\x01\\x00\\x00\\x01\\x00\\x00\\x00\\x00\\x00\\x00\\x06google\\x03com\\x00\\x00\\x1c\\x00\\x01VQ\\xef\\xbf\\xbd\\xef\\xbf\\xbd\\xef\\xbf\\xbd\\xef\\xbf\\xbd\\xef\\xbf\\xbd\\xef\\xbf\\xbd\\xef\\xbf\\xbdG-U\\xef\\xbf\\xbd|\\xef\\xbf\\xbdp\\xef\\xbf\\xbd\\xef\\xbf\\xbd`^\\x0b\\xef\\xbf\\xbd\\xef\\xbf\\xbd\\xef\\xbf\\xbd)\\xef\\xbf\\xbd\\x1aA\\xef\\xbf\\xbd\":\\xef\\xbf\\xbd\\xef\\xbf\\xbd\\xef\\xbf\\xbd\\x01\\xef\\xbf\\xbd\\xef\\xbf\\xbd\\xef\\xbf\\xbdI\"\\xef\\xbf\\xbd\\xef\\xbf\\xbd/\\x06\\x01C\\x05\\xef\\xbf\\xbdp\\x12p\\xef\\xbf\\xbd\\x00\\xef\\xbf\\xbd\\x05\\x00\\xef\\xbf\\xbd\\xd0\\x81N\\xef\\xbf\\xbd\\x080QgKx\\xd7\\x81\\xef\\xbf\\xbdp\\xef\\xbf\\xbd\\x07\\xef\\xbf\\xbd\\xef\\xbf\\xbd{\\xef\\xbf\\xbdk\\xef\\xbf\\xbda!fN^\\xcb\\xb8\\xef\\xbf\\xbd\\xef\\xbf\\xbdG3\\xef\\xbf\\xbd%;\\x1c\\xef\\xbf\\xbd|\"6\\tP\\xef\\xbf\\xbd`\\xef\\xbf\\xbd-\\xef\\xbf\\xbd\\xef\\xbf\\xbd-\\x11f\\x03\\xef\\xbf\\xbdM2\\xef\\xbf\\xbd\\x11l\\xef\\xbf\\xbd6\\xd6\\xa5!;\\xef\\xbf\\xbd\\xef\\xbf\\xbdZ\\xef\\xbf\\xbd\\xef\\xbf\\xbd\\xef\\xbf\\xbd{\\xef\\xbf\\xbd\\xef\\xbf\\xbdv\\xef\\xbf\\xbdfG@\\xef\\xbf\\xbd\\xef\\xbf\\xbd\\xef\\xbf\\xbd\\xef\\xbf\\xbd\\xef\\xbf\\xbd\\xef\\xbf\\xbd/\\xef\\xbf\\xbdP\\x06\"-\\xef\\xbf\\xbd\\x1a\\xef\\xbf\\xbd\\xef\\xbf\\xbd1\\x1c#f\\xef\\xbf\\xbd)?jC\\xef\\xbf\\xbd\\xef\\xbf\\xbd;.\\xef\\xbf\\xbdH\\xef\\xbf\\xbd\\xef\\xbf\\xbd\\xef\\xbf\\xbd\\xef\\xbf\\xbd?\\xef\\xbf\\xbd\\xef\\xbf\\xbd\\xef\\xbf\\xbd\\xef\\xbf\\xbd)\\xef\\xbf\\xbd\\xef\\xbf\\xbdI\\xe1\\xac\\x89u/\\xef\\xbf\\xbd:%\\xef\\xbf\\xbd\\xef\\xbf\\xbd\\xef\\xbf\\xbd,uMp\\xef\\xbf\\xbd1\\x1c\\x02\\xe9\\x8b\\xb0\\x19\\n\\xef\\xbf\\xbdD\\xef\\xbf\\xbd\\x10\\xef\\xbf\\xbd\\x06\\xd3\\xa2\\xef\\xbf\\xbd\\xef\\xbf\\xbd50,\\xef\\xbf\\xbdL\\xef\\xbf\\xbdph_\\xef\\xbf\\xbdo\\xda\\xa7\\xef\\xbf\\xbdE\\xef\\xbf\\xbd\\xef\\xbf\\xbd,\\xef\\xbf\\xbd\\xef\\xbf\\xbd\\x1ek\\xef\\xbf\\xbd_\\xef\\xbf\\xbd\\xef\\xbf\\xbdU\\xef\\xbf\\xbd_z\\xef\\xbf\\xbdiZ\\xef\\xbf\\xbd\\x10\\xef\\xbf\\xbd\\xef\\xbf\\xbd]\\xef\\xbf\\xbd\\xef\\xbf\\xbd\\xef\\xbf\\xbdt\\xef\\xbf\\xbd\\x00\\xef\\xbf\\xbd\\xef\\xbf\\xbd\\xef\\xbf\\xbdC\\xef\\xbf\\xbd\\xef\\xbf\\xbd\\xef\\xbf\\xbdVW\\xef\\xbf\\xbd\\xef\\xbf\\xbd\\xef\\xbf\\xbd\\xef\\xbf\\xbdq\\xea\\x9f\\xbe\\xef\\xbf\\xbd\\xef\\xbf\\xbdRfM\\xef\\xbf\\xbd=+\\xef\\xbf\\xbd\\xef\\xbf\\xbdV\\xef\\xbf\\xbd\\xef\\xbf\\xbd\\xef\\xbf\\xbdEn\\r\\x0c\\x0b1\\xef\\xbf\\xbd/l~\\xe1\\x81\\x83\\xef\\xbf\\xbd\\x1d\\xef\\xbf\\xbd\\x0c\\xef\\xbf\\xbd\\xef\\xbf\\xbd\\xd9\\x8d\\xcd\\xa1Q5\\xef\\xbf\\xbd\\xef\\xbf\\xbdO\\xef\\xbf\\xbd\\xef\\xbf\\xbd\\xef\\xbf\\xbd5\\xef\\xbf\\xbd\\xef\\xbf\\xbd\\xef\\xbf\\xbd\\x07\\xef\\xbf\\xbd\\xef\\xbf\\xbd\\xef\\xbf\\xbd\\xef\\xbf\\xbd!8\\xef\\xbf\\xbdTt\\xef\\xbf\\xbd\"z\\xef\\xbf\\xbd\\x08\\x1a\\xef\\xbf\\xbd\\x17^PD\\xef\\xbf\\xbd\\xef\\xbf\\xbd\\x08\\xef\\xbf\\xbd\\xef\\xbf\\xbdRE\\xef\\xbf\\xbd\\xef\\xbf\\xbd\\xef\\xbf\\xbd\\x0e\\xef\\xbf\\xbd\\xef\\xbf\\xbd3j\\xef\\xbf\\xbd4v\\xef\\xbf\\xbd\\xef\\xbf\\xbd\\x1a\\xef\\xbf\\xbd\\xef\\xbf\\xbd\\xef\\xbf\\xbd\\x05\\xef\\xbf\\xbd\\xef\\xbf\\xbd\\xef\\xbf\\xbd\\x0b\\xef\\xbf\\xbd\\xef\\xbf\\xbd Xa\\xef\\xbf\\xbd\\xef\\xbf\\xbd\\xef\\xbf\\xbdd\\x02\\xef\\xbf\\xbd\\x113\\xef\\xbf\\xbdg\\xef\\xbf\\xbda\\xef\\xbf\\xbd\\x01\\xef\\xbf\\xbd\\xef\\xbf\\xbd\\xef\\xbf\\xbda\\xef\\xbf\\xbdV\\x1b\\xef\\xbf\\xbd\\x00\\xef\\xbf\\xbd\\xef\\xbf\\xbd\\x1f\\x18s\\xd1\\x9d9c\\xef\\xbf\\xbd\\xef\\xbf\\xbdG\\x0b-y{\\xef\\xbf\\xbd\\x0e\\xef\\xbf\\xbd\\xef\\xbf\\xbd\\xef\\xbf\\xbd\\x7fp[o\\xef\\xbf\\xbd\\xef\\xbf\\xbd\\xef\\xbf\\xbd\\n\\xde\\xa1\\xef\\xbf\\xbda!fN2v\\xef\\xbf\\xbd\\xef\\xbf\\xbd\\xef\\xbf\\xbd]\\x00\\x1fpI0\\x1c\\xef\\xbf\\xbd`\\x18\\xef\\xbf\\xbdaX\\xef\\xbf\\xbd\\x19\\xef\\xbf\\xbdaX\\xef\\xbf\\xbd\\x19\\xef\\xbf\\xbda\\x18\\x16b\\xef\\xbf\\xbda\\x18\\x16b\\xef\\xbf\\xbda\\x18\\xef\\xbf\\xbd\\xef\\xbf\\xbd\\xef\\xbf\\xbda\\x18\\xef\\xbf\\xbd\\xef\\xbf\\xbd\\xef\\xbf\\xbda\\x18\\xef\\xbf\\xbda!f\\x18\\xef\\xbf\\xbda!f\\x18\\xef\\xbf\\xbdaX\\xef\\xbf\\xbd\\x19\\xef\\xbf\\xbdaX\\xef\\xbf\\xbd\\x19\\xef\\xbf\\xbda\\x18\\x16b\\xef\\xbf\\xbda\\x18\\x16b\\xef\\xbf\\xbda'",
         "b'000c0100000100000000000006676f6f676c6503636f6d00001c00015651efbfbdefbfbdefbfbdefbfbdefbfbdefbfbdefbfbd472d55efbfbd7cefbfbd70efbfbdefbfbd605e0befbfbdefbfbdefbfbd29efbfbd1a41efbfbd223aefbfbdefbfbdefbfbd01efbfbdefbfbdefbfbd4922efbfbdefbfbd2f06014305efbfbd701270efbfbd00efbfbd0500efbfbdd0814eefbfbd083051674b78d781efbfbd70efbfbd07efbfbdefbfbd7befbfbd6befbfbd6121664e5ecbb8efbfbdefbfbd4733efbfbd253b1cefbfbd7c22360950efbfbd60efbfbd2defbfbdefbfbd2d116603efbfbd4d32efbfbd116cefbfbd36d6a5213befbfbdefbfbd5aefbfbdefbfbdefbfbd7befbfbdefbfbd76efbfbd664740efbfbdefbfbdefbfbdefbfbdefbfbdefbfbd2fefbfbd5006222defbfbd1aefbfbdefbfbd311c2366efbfbd293f6a43efbfbdefbfbd3b2eefbfbd48efbfbdefbfbdefbfbdefbfbd3fefbfbdefbfbdefbfbdefbfbd29efbfbdefbfbd49e1ac89752fefbfbd3a25efbfbdefbfbdefbfbd2c754d70efbfbd311c02e98bb0190aefbfbd44efbfbd10efbfbd06d3a2efbfbdefbfbd35302cefbfbd4cefbfbd70685fefbfbd6fdaa7efbfbd45efbfbdefbfbd2cefbfbdefbfbd1e6befbfbd5fefbfbdefbfbd55efbfbd5f7aefbfbd695aefbfbd10efbfbdefbfbd5defbfbdefbfbdefbfbd74efbfbd00efbfbdefbfbdefbfbd43efbfbdefbfbdefbfbd5657efbfbdefbfbdefbfbdefbfbd71ea9fbeefbfbdefbfbd52664defbfbd3d2befbfbdefbfbd56efbfbdefbfbdefbfbd456e0d0c0b31efbfbd2f6c7ee18183efbfbd1defbfbd0cefbfbdefbfbdd98dcda15135efbfbdefbfbd4fefbfbdefbfbdefbfbd35efbfbdefbfbdefbfbd07efbfbdefbfbdefbfbdefbfbd2138efbfbd5474efbfbd227aefbfbd081aefbfbd175e5044efbfbdefbfbd08efbfbdefbfbd5245efbfbdefbfbdefbfbd0eefbfbdefbfbd336aefbfbd3476efbfbdefbfbd1aefbfbdefbfbdefbfbd05efbfbdefbfbdefbfbd0befbfbdefbfbd205861efbfbdefbfbdefbfbd6402efbfbd1133efbfbd67efbfbd61efbfbd01efbfbdefbfbdefbfbd61efbfbd561befbfbd00efbfbdefbfbd1f1873d19d3963efbfbdefbfbd470b2d797befbfbd0eefbfbdefbfbdefbfbd7f705b6fefbfbdefbfbdefbfbd0adea1efbfbd6121664e3276efbfbdefbfbdefbfbd5d001f7049301cefbfbd6018efbfbd6158efbfbd19efbfbd6158efbfbd19efbfbd61181662efbfbd61181662efbfbd6118efbfbdefbfbdefbfbd6118efbfbdefbfbdefbfbd6118efbfbd61216618efbfbd61216618efbfbd6158efbfbd19efbfbd6158efbfbd19efbfbd61181662efbfbd61181662efbfbd61'"
        ],
        [
         "7",
         "10.1.10.53",
         "84.54.22.33",
         "53",
         "53",
         "b'\\x00\\x0c\\x01\\x00\\x00\\x01\\x00\\x00\\x00\\x00\\x00\\x00\\x06google\\x03com\\x00\\x00\\x1c\\x00\\x01\\x18\\xef\\xbf\\xbdGp\\xef\\xbf\\xbd\\xef\\xbf\\xbd\\x13\\xef\\xbf\\xbd\\x19W\\xef\\xbf\\xbd\\xef\\xbf\\xbdq8\\xef\\xbf\\xbdr@\\xef\\xbf\\xbdJ\\xef\\xbf\\xbd\\xef\\xbf\\xbdS=\\xef\\xbf\\xbd$\\xef\\xbf\\xbdQ\\xef\\xbf\\xbd\\xef\\xbf\\xbd3\\xef\\xbf\\xbd\\xef\\xbf\\xbd3\\xef\\xbf\\xbd~\\x1b D\\x02z\\xef\\xbf\\xbd\\xc5\\x82\\x0b\\xef\\xbf\\xbd\\x03\\xc6\\x91L\\x1du\\xef\\xbf\\xbdU\\xef\\xbf\\xbdD\\xef\\xbf\\xbdJ\\xef\\xbf\\xbd8\\xef\\xbf\\xbd?\\xef\\xbf\\xbd\\t\\xef\\xbf\\xbd>ihl\\xef\\xbf\\xbd\\xef\\xbf\\xbd\\xef\\xbf\\xbdg\\x1eLi\\xef\\xbf\\xbd~\\x02\\\\^\\xef\\xbf\\xbd+\\xef\\xbf\\xbd#\\xef\\xbf\\xbd\\xdb\\x87,\\xef\\xbf\\xbd\\x1e\\xef\\xbf\\xbd\\xef\\xbf\\xbdA\\xef\\xbf\\xbd{\\xef\\xbf\\xbd\\xef\\xbf\\xbd\\xef\\xbf\\xbd\\xef\\xbf\\xbd0\\xef\\xbf\\xbd\\xef\\xbf\\xbd\\xef\\xbf\\xbd\\n!\\xd0\\x97\\xef\\xbf\\xbd\\xef\\xbf\\xbdy\\xef\\xbf\\xbd2Ws\\xef\\xbf\\xbdn\\xef\\xbf\\xbd\\x1c\\xef\\xbf\\xbd\\x13\\x08\\xef\\xbf\\xbd\\xef\\xbf\\xbd~\\xef\\xbf\\xbd\\xef\\xbf\\xbd\\xef\\xbf\\xbdY\\x1a\\x1e\\xef\\xbf\\xbd<\\xef\\xbf\\xbd\\x05\\xef\\xbf\\xbdF\\xef\\xbf\\xbd\\xef\\xbf\\xbd\\xef\\xbf\\xbd\\xef\\xbf\\xbd4w\\xef\\xbf\\xbd\\xef\\xbf\\xbd\\xef\\xbf\\xbd\\xef\\x93\\xb2\\xef\\xbf\\xbd\\xef\\xbf\\xbd\\xef\\xbf\\xbd\\x08\\xef\\xbf\\xbd\\r\\x1a<\\xef\\xbf\\xbdcH\\xef\\xbf\\xbd\\xef\\xbf\\xbdp&\\x02\\xef\\xbf\\xbd\\xef\\xbf\\xbd\\xd0\\x8d\\xef\\xbf\\xbd\\xef\\xbf\\xbd\\x0b\\xef\\xbf\\xbd\\xc5\\xa5\\x13k*\\xca\\x97s\\x0f\\xef\\xbf\\xbd\\xef\\xbf\\xbd\\x043\\x00@\\xef\\xbf\\xbd9\\xef\\xbf\\xbd:\\xef\\xbf\\xbdl\\xef\\xbf\\xbd8H\\xef\\xbf\\xbd\\x10\\xef\\xbf\\xbdi\\xef\\xbf\\xbd\\xef\\xbf\\xbd>6 \\x11Q\\xef\\xbf\\xbd\\xef\\xbf\\xbd\\x0253#\\r\\\\\\x0e\\x1f\\x1c\\xef\\xbf\\xbd1\\xef\\xbf\\xbd\\xf1\\x9e\\xa2\\xb7\\xef\\xbf\\xbdj\\xef\\xbf\\xbdc\\xef\\xbf\\xbd:.^\\xcd\\xad\\xef\\xbf\\xbd-bf\\xef\\xbf\\xbd(1\\xef\\xbf\\xbd\\xef\\xbf\\xbd\\x15+\\x1c>\\x10o\\xef\\xbf\\xbd\\xcd\\xb5\\xef\\xbf\\xbd\\x07\\x0ez|\\xef\\xbf\\xbdAD\\x1c\\xd2\\x9f\\xef\\xbf\\xbdD\\xef\\xbf\\xbd@*\\xef\\xbf\\xbd\\xef\\xbf\\xbd\\xd3\\xbc\\xef\\xbf\\xbd\\x7f\\x17>\\xef\\xbf\\xbd\\xef\\xbf\\xbd\\xef\\xbf\\xbd\\xef\\xbf\\xbd\\x03d\\x03y\\x07\\xef\\xbf\\xbdF\\xef\\xbf\\xbdJY\\xef\\xbf\\xbdxe\\xef\\xbf\\xbdu\\xef\\xbf\\xbd\\xef\\xbf\\xbd<b\\xef\\xbf\\xbd\\xde\\x8c\\xef\\xbf\\xbd\\xef\\xbf\\xbd4\\x03\\x1e\\xc8\\x8d\\xef\\xbf\\xbd\\xef\\xbf\\xbd\\xef\\xbf\\xbd\\x19\\xef\\xbf\\xbd\\xef\\xbf\\xbd\\xef\\xbf\\xbd\\xef\\xbf\\xbdEp}\\xef\\xbf\\xbd\\xef\\xbf\\xbd\\x1a)|~\\x168_D\\xef\\xbf\\xbdQ\\xef\\xbf\\xbd`8\\x1e\\xef\\xbf\\xbdE\\n\\xef\\xbf\\xbdq\\xef\\xbf\\xbd\\x18r#L\\xef\\xbf\\xbd\\xef\\xbf\\xbd\\xef\\xbf\\xbd\\xef\\xbf\\xbd\\x05B-\\xef\\xbf\\xbd\\xef\\xbf\\xbd\\xef\\xbf\\xbd\\tE\\xef\\xbf\\xbdR\\x0b\\xef\\xbf\\xbd\\xef\\xbf\\xbd?Kvm\\xef\\xbf\\xbd\\xef\\xbf\\xbd0\\xef\\xbf\\xbd\\xef\\xbf\\xbd\\xef\\xbf\\xbd2\\xef\\xbf\\xbd3\\x1e_\\xef\\xbf\\xbdAD\\xef\\xbf\\xbd=fy\\xef\\xbf\\xbd+U;\\xef\\xbf\\xbdpdG\\xd7\\xba]\\xef\\xbf\\xbd_\\x01\\x04\\xef\\xbf\\xbd\\xef\\xbf\\xbdy\\x1f\\xef\\xbf\\xbdjD\\xef\\xbf\\xbd\\xef\\xbf\\xbd\\xef\\xbf\\xbd\\xef\\xbf\\xbd\\x13\\x0e\\xef\\xbf\\xbd\\xef\\xbf\\xbdjW.[= +s\\xef\\xbf\\xbd\\xef\\xbf\\xbd\\xc5\\xaf\\xef\\xbf\\xbd\\xef\\xbf\\xbd\\xef\\xbf\\xbdg>nE\\xef\\xbf\\xbd\\xef\\xbf\\xbdb\\x06\\xef\\xbf\\xbd\\xef\\xbf\\xbd\\xef\\xbf\\xbd\\xef\\xbf\\xbd(\\xef\\xbf\\xbd\\x1e\\xef\\xbf\\xbd\\x1613 #\\x15H\\xef\\xbf\\xbd\\xef\\xbf\\xbd\\xef\\xbf\\xbd<\\xde\\xae;\\xef\\xbf\\xbd\\x03\\xef\\xbf\\xbd<c\\xef\\xbf\\xbd\\x08\"\\xef\\xbf\\xbdz-<@\\xef\\xbf\\xbd\\xef\\xbf\\xbd\\xef\\xbf\\xbd\\x15ah\\xdd\\x8c5\\xef\\xbf\\xbde\\xdc\\xb8O`\\xef\\xbf\\xbda\\x1d3`D\\xef\\xbf\\xbd\\xef\\xbf\\xbd\\ny\\xef\\xbf\\xbdhS/\\xef\\xbf\\xbd\\xef\\xbf\\xbd*\\xef\\xbf\\xbd\\xef\\xbf\\xbd\\x19.h\\xef\\xbf\\xbd-b\\xef\\xbf\\xbd\\x17\\xef\\xbf\\xbd\\xef\\xbf\\xbd\\x13%\\xef\\xbf\\xbdT\\x1f'",
         "b'000c0100000100000000000006676f6f676c6503636f6d00001c000118efbfbd4770efbfbdefbfbd13efbfbd1957efbfbdefbfbd7138efbfbd7240efbfbd4aefbfbdefbfbd533defbfbd24efbfbd51efbfbdefbfbd33efbfbdefbfbd33efbfbd7e1b2044027aefbfbdc5820befbfbd03c6914c1d75efbfbd55efbfbd44efbfbd4aefbfbd38efbfbd3fefbfbd09efbfbd3e69686cefbfbdefbfbdefbfbd671e4c69efbfbd7e025c5eefbfbd2befbfbd23efbfbddb872cefbfbd1eefbfbdefbfbd41efbfbd7befbfbdefbfbdefbfbdefbfbd30efbfbdefbfbdefbfbd0a21d097efbfbdefbfbd79efbfbd325773efbfbd6eefbfbd1cefbfbd1308efbfbdefbfbd7eefbfbdefbfbdefbfbd591a1eefbfbd3cefbfbd05efbfbd46efbfbdefbfbdefbfbdefbfbd3477efbfbdefbfbdefbfbdef93b2efbfbdefbfbdefbfbd08efbfbd0d1a3cefbfbd6348efbfbdefbfbd702602efbfbdefbfbdd08defbfbdefbfbd0befbfbdc5a5136b2aca97730fefbfbdefbfbd04330040efbfbd39efbfbd3aefbfbd6cefbfbd3848efbfbd10efbfbd69efbfbdefbfbd3e36201151efbfbdefbfbd023533230d5c0e1f1cefbfbd31efbfbdf19ea2b7efbfbd6aefbfbd63efbfbd3a2e5ecdadefbfbd2d6266efbfbd2831efbfbdefbfbd152b1c3e106fefbfbdcdb5efbfbd070e7a7cefbfbd41441cd29fefbfbd44efbfbd402aefbfbdefbfbdd3bcefbfbd7f173eefbfbdefbfbdefbfbdefbfbd0364037907efbfbd46efbfbd4a59efbfbd7865efbfbd75efbfbdefbfbd3c62efbfbdde8cefbfbdefbfbd34031ec88defbfbdefbfbdefbfbd19efbfbdefbfbdefbfbdefbfbd45707defbfbdefbfbd1a297c7e16385f44efbfbd51efbfbd60381eefbfbd450aefbfbd71efbfbd1872234cefbfbdefbfbdefbfbdefbfbd05422defbfbdefbfbdefbfbd0945efbfbd520befbfbdefbfbd3f4b766defbfbdefbfbd30efbfbdefbfbdefbfbd32efbfbd331e5fefbfbd4144efbfbd3d6679efbfbd2b553befbfbd706447d7ba5defbfbd5f0104efbfbdefbfbd791fefbfbd6a44efbfbdefbfbdefbfbdefbfbd130eefbfbdefbfbd6a572e5b3d202b73efbfbdefbfbdc5afefbfbdefbfbdefbfbd673e6e45efbfbdefbfbd6206efbfbdefbfbdefbfbdefbfbd28efbfbd1eefbfbd16313320231548efbfbdefbfbdefbfbd3cdeae3befbfbd03efbfbd3c63efbfbd0822efbfbd7a2d3c40efbfbdefbfbdefbfbd156168dd8c35efbfbd65dcb84f60efbfbd611d336044efbfbdefbfbd0a79efbfbd68532fefbfbdefbfbd2aefbfbdefbfbd192e68efbfbd2d62efbfbd17efbfbdefbfbd1325efbfbd541f'"
        ],
        [
         "8",
         "10.1.10.53",
         "84.54.22.33",
         "53",
         "53",
         "b'\\x00\\x0c\\x01\\x00\\x00\\x01\\x00\\x00\\x00\\x00\\x00\\x00\\x06google\\x03com\\x00\\x00\\x1c\\x00\\x01\\xef\\xbf\\xbd\\xef\\xbf\\xbd\\x1e\\x00\\xce\\x9ar\\xef\\xbf\\xbd>\\xce\\x99m\\xef\\xbf\\xbd\\xef\\xbf\\xbd\\xef\\xbf\\xbd\\xef\\xbf\\xbd\\r\\x00\\xef\\xbf\\xbdn\\xef\\xbf\\xbd\\x0c\\xef\\xbf\\xbd!E\\xef\\xbf\\xbd\\xef\\xbf\\xbd$\\xef\\xbf\\xbd[&\\xef\\xbf\\xbd%3\\x0c\\x0b1\\xef\\xbf\\xbd\\tl\\xef\\xbf\\xbdd\\xef\\xbf\\xbd\\xef\\xbf\\xbd\\x1e\\xef\\xbf\\xbdw\\xef\\xbf\\xbd\\xef\\xbf\\xbd\\x19c;\\x00\\xef\\xbf\\xbdl\\xef\\xbf\\xbda\\xef\\xbf\\xbd\\xef\\xbf\\xbd\\n\\xef\\xbf\\xbd \\xef\\xbf\\xbdY\\x1d\\x014s\\xef\\xbf\\xbd\\xef\\xbf\\xbd8ph\\xef\\xbf\\xbd\\xef\\xbf\\xbd\\xef\\xbf\\xbdNV\\xef\\xbf\\xbdd.\\xef\\xbf\\xbd\\x13r\\xef\\xbf\\xbd\\x1d\\xef\\xbf\\xbd\\xef\\xbf\\xbd7\\xef\\xbf\\xbd\\xef\\xbf\\xbd\\xef\\xbf\\xbdLX\\xef\\xbf\\xbd\\xef\\xbf\\xbd\\x01\\xef\\xbf\\xbd\\x02x%\\xef\\xbf\\xbdw)\\xef\\xbf\\xbd\\xef\\xbf\\xbdIs\\xef\\xbf\\xbd\\\\.\\xef\\xbf\\xbd\\x13\\xef\\xbf\\xbd\\xef\\xbf\\xbd+\\x16MF\\xef\\xbf\\xbd\\x0e\\xde\\xab\\xef\\xbf\\xbd\\xef\\xbf\\xbdK\\\\2,\\xef\\xbf\\xbd\\xef\\xbf\\xbd\\x00\\xef\\xbf\\xbd\\xef\\xbf\\xbd{\\xef\\xbf\\xbd\\xef\\xbf\\xbd\\xef\\xbf\\xbd*\\x0b\\x06\\x0f\\xef\\xbf\\xbd\\x7fq\\xc9\\x9c8H\\xef\\xbf\\xbd\\xef\\xbf\\xbd\\xef\\xbf\\xbd\\x14\\xef\\xbf\\xbd\\x18\\xef\\xbf\\xbd\\x00T\\xef\\xbf\\xbd\\xef\\xbf\\xbd\\xef\\xbf\\xbd\\xef\\xbf\\xbd\\xef\\xbf\\xbda!f\\x06\\x08{\\xef\\xbf\\xbd<v\\xef\\xbf\\xbd\\x14\\xef\\xbf\\xbd\\xd0\\xa1R\\x11=\\xef\\xbf\\xbdE\\xef\\xbf\\xbd\\x12.\\xef\\xbf\\xbd\\xef\\xbf\\xbd\\xc2\\xa2\\xef\\xbf\\xbd\\xdf\\xa0\\xef\\xbf\\xbd3\\x10(f\\xef\\xbf\\xbd\\xef\\xbf\\xbd\\xef\\xbf\\xbda\\xef\\xbf\\xbd\\xef\\xbf\\xbda.\\xef\\xbf\\xbd\\x13\\x07^\\xef\\xbf\\xbdq\\x020\\xef\\xbf\\xbd\\xef\\xbf\\xbd\\x1dp\\xef\\xbf\\xbd\\xef\\xbf\\xbdP\\xe7\\xa5\\xbcD\\xef\\xbf\\xbd\\xef\\xbf\\xbdG\\xd6\\x9e\\xef\\xbf\\xbd\\xef\\xbf\\xbd\\x13x\\xef\\xbf\\xbdg\\x0c\\x1cgL\\xef\\xbf\\xbdD\\x1f9h\\x10\\xef\\xbf\\xbdB\\xef\\xbf\\xbd\\x0b:w\\xd9\\xbd\\xef\\xbf\\xbd\\xd5\\xb0\\xef\\xbf\\xbdk\\xef\\xbf\\xbd\\x03\\\\J,\\xef\\xbf\\xbd\\xef\\xbf\\xbd\\x00#\\xdf\\xa7?$\\x01\\xee\\x88\\xb7\\x0c\\xef\\xbf\\xbd\"\\xef\\xbf\\xbd\\xef\\xbf\\xbd\\x16z.\\x1c\\xef\\xbf\\xbd{\\xef\\xbf\\xbd\\xef\\xbf\\xbd\\x066\\xef\\xbf\\xbd,k\\xef\\xbf\\xbd\\xef\\xbf\\xbd\\xef\\xbf\\xbdF!d\\tD\\xef\\xbf\\xbd<S\\xef\\xbf\\xbd\\xef\\xbf\\xbd4\\xef\\xbf\\xbduKM\\xef\\xbf\\xbd\\xef\\xbf\\xbd\\xc7\\xb9\\xef\\xbf\\xbdX\\xef\\xbf\\xbd\\xef\\xbf\\xbd\\x01\\xef\\xbf\\xbd\\xef\\xbf\\xbd\\xef\\xbf\\xbdt5Jqe\\xc2\\xaa\\xef\\xbf\\xbd\\xef\\xbf\\xbd\\x1e\\xef\\xbf\\xbd\\x10\\xef\\xbf\\xbd\\xef\\xbf\\xbd\\r\\x14E)z\\xef\\xbf\\xbd\\xef\\xbf\\xbd\\xc2\\xb8\\xef\\xbf\\xbd\\x0b\\xef\\xbf\\xbd\\xef\\xbf\\xbdCr\\x11\\xef\\xbf\\xbd8\\xef\\xbf\\xbdX\\xef\\xbf\\xbd\\xef\\xbf\\xbd\\xef\\xbf\\xbd\\xef\\xbf\\xbds&D\\x0cdN\\x10s\\x02i3\\x11)\\xef\\xbf\\xbd\\xef\\xbf\\xbd\\xef\\xbf\\xbd\\x15\\xef\\xbf\\xbd]\\\\\\x1al\\x113\\xef\\xbf\\xbd\\t\\xef\\xbf\\xbd\\xef\\xbf\\xbdJ\\n\\xef\\xbf\\xbd\\x03\\x1fE\\x14\\xef\\xbf\\xbdq\\x05\\x1f\\xef\\xbf\\xbdXD\\xcf\\x86\\xef\\xbf\\xbd\\xef\\xbf\\xbd\\xef\\xbf\\xbd\\xef\\xbf\\xbd?\\xef\\xbf\\xbd\\xef\\xbf\\xbd}.\\r\\x16b\\xef\\xbf\\xbd8d\\xef\\xbf\\xbdU%\\xef\\xbf\\xbd9\\x1d\\xef\\xbf\\xbd!\\x14pv\\xef\\xbf\\xbd\\x0c\\x19\\xef\\xbf\\xbd\\xef\\xbf\\xbd\\xef\\xbf\\xbd\\x07\\xef\\xbf\\xbd7\\xef\\xbf\\xbd\\x1aC\\xef\\xbf\\xbd+\\xef\\xbf\\xbdj\\xef\\xbf\\xbd~]\\xef\\xbf\\xbd\\xef\\xbf\\xbd:.\\x13\\xef\\xbf\\xbda\\x18\\xef\\xbf\\xbd\\xef\\xbf\\xbdex\\x1e1\\xef\\xbf\\xbd0\\x0c\\x0b1\\xef\\xbf\\xbd0\\x0c\\x0b1\\xef\\xbf\\xbd0\\x0c\\xef\\xbf\\xbdB\\xef\\xbf\\xbd0\\x0c\\xef\\xbf\\xbdB\\xef\\xbf\\xbd0\\x0c\\xc3\\xb0\\x103\\x0c\\xc3\\xb0\\x103\\x0c\\xef\\xbf\\xbd0,\\xef\\xbf\\xbd\\x0c\\xef\\xbf\\xbd0,\\xef\\xbf\\xbd\\x0c\\xef\\xbf\\xbd0\\x0c\\x0b1\\xef\\xbf\\xbd0\\x0c\\x0b1\\xef\\xbf\\xbd0\\x0c\\xef\\xbf\\xbd'",
         "b'000c0100000100000000000006676f6f676c6503636f6d00001c0001efbfbdefbfbd1e00ce9a72efbfbd3ece996defbfbdefbfbdefbfbdefbfbd0d00efbfbd6eefbfbd0cefbfbd2145efbfbdefbfbd24efbfbd5b26efbfbd25330c0b31efbfbd096cefbfbd64efbfbdefbfbd1eefbfbd77efbfbdefbfbd19633b00efbfbd6cefbfbd61efbfbdefbfbd0aefbfbd20efbfbd591d013473efbfbdefbfbd387068efbfbdefbfbdefbfbd4e56efbfbd642eefbfbd1372efbfbd1defbfbdefbfbd37efbfbdefbfbdefbfbd4c58efbfbdefbfbd01efbfbd027825efbfbd7729efbfbdefbfbd4973efbfbd5c2eefbfbd13efbfbdefbfbd2b164d46efbfbd0edeabefbfbdefbfbd4b5c322cefbfbdefbfbd00efbfbdefbfbd7befbfbdefbfbdefbfbd2a0b060fefbfbd7f71c99c3848efbfbdefbfbdefbfbd14efbfbd18efbfbd0054efbfbdefbfbdefbfbdefbfbdefbfbd61216606087befbfbd3c76efbfbd14efbfbdd0a152113defbfbd45efbfbd122eefbfbdefbfbdc2a2efbfbddfa0efbfbd33102866efbfbdefbfbdefbfbd61efbfbdefbfbd612eefbfbd13075eefbfbd710230efbfbdefbfbd1d70efbfbdefbfbd50e7a5bc44efbfbdefbfbd47d69eefbfbdefbfbd1378efbfbd670c1c674cefbfbd441f396810efbfbd42efbfbd0b3a77d9bdefbfbdd5b0efbfbd6befbfbd035c4a2cefbfbdefbfbd0023dfa73f2401ee88b70cefbfbd22efbfbdefbfbd167a2e1cefbfbd7befbfbdefbfbd0636efbfbd2c6befbfbdefbfbdefbfbd4621640944efbfbd3c53efbfbdefbfbd34efbfbd754b4defbfbdefbfbdc7b9efbfbd58efbfbdefbfbd01efbfbdefbfbdefbfbd74354a7165c2aaefbfbdefbfbd1eefbfbd10efbfbdefbfbd0d1445297aefbfbdefbfbdc2b8efbfbd0befbfbdefbfbd437211efbfbd38efbfbd58efbfbdefbfbdefbfbdefbfbd7326440c644e10730269331129efbfbdefbfbdefbfbd15efbfbd5d5c1a6c1133efbfbd09efbfbdefbfbd4a0aefbfbd031f4514efbfbd71051fefbfbd5844cf86efbfbdefbfbdefbfbdefbfbd3fefbfbdefbfbd7d2e0d1662efbfbd3864efbfbd5525efbfbd391defbfbd21147076efbfbd0c19efbfbdefbfbdefbfbd07efbfbd37efbfbd1a43efbfbd2befbfbd6aefbfbd7e5defbfbdefbfbd3a2e13efbfbd6118efbfbdefbfbd65781e31efbfbd300c0b31efbfbd300c0b31efbfbd300cefbfbd42efbfbd300cefbfbd42efbfbd300cc3b010330cc3b010330cefbfbd302cefbfbd0cefbfbd302cefbfbd0cefbfbd300c0b31efbfbd300c0b31efbfbd300cefbfbd'"
        ],
        [
         "9",
         "10.1.10.53",
         "84.54.22.33",
         "53",
         "53",
         "b'\\x00\\x0c\\x01\\x00\\x00\\x01\\x00\\x00\\x00\\x00\\x00\\x00\\x06google\\x03com\\x00\\x00\\x1c\\x00\\x01B\\xef\\xbf\\xbd0\\x0c\\xef\\xbf\\xbdB\\xef\\xbf\\xbd0\\x0c\\xc3\\xb0\\x103\\x0c\\xc3\\xb0\\x103\\x0c\\xef\\xbf\\xbd0,\\xef\\xbf\\xbd\\x0c\\xef\\xbf\\xbd0,\\xef\\xbf\\xbd\\x0c\\xef\\xbf\\xbd0\\x0c\\x0b1\\xef\\xbf\\xbd0\\x0c\\x0b1\\xef\\xbf\\xbd0\\x0c\\xef\\xbf\\xbdB\\xef\\xbf\\xbd0\\x0c\\xef\\xbf\\xbdB\\xef\\xbf\\xbd0\\x0c\\xc3\\xb0\\x103\\x0c\\xc3\\xb0\\x103\\x0c\\xef\\xbf\\xbd0\\xef\\xbf\\xbd\\xef\\xbf\\xbd\\xef\\xbf\\xbd\\xef\\xbf\\xbdGu1\\xcb\\xa7\\xef\\xbf\\xbd\\x11$\\xef\\xbf\\xbd,\\xef\\xbf\\xbd\\xef\\xbf\\xbd\\x06\\x14#\\x00h\\x10\\x10\\x1c\\x06\\xef\\xbf\\xbd\\x16 h\\x04\\x01\\xef\\xbf\\xbdX&\\xd4\\x83&\\xef\\xbf\\xbd\\xef\\xbf\\xbd\\xc6\\xac\\xef\\xbf\\xbd\\x00\\xef\\xbf\\xbd\\xef\\xbf\\xbdu\\xef\\xbf\\xbd\\x17p\\xef\\xbf\\xbd\\xef\\xbf\\xbd\\xef\\xbf\\xbd\"\\x14x\\x1b\"\\xef\\xbf\\xbdd\\xef\\xbf\\xbd%\\x00\\xef\\xbf\\xbd\\x00\\x07\\xef\\xbf\\xbd@ \\xef\\xbf\\xbd\\x16\"\\xef\\xbf\\xbdfYj}K\\xef\\xbf\\xbd\\xef\\xbf\\xbd\\xef\\xbf\\xbd\\xef\\xbf\\xbd\\xef\\xbf\\xbd<\\xef\\xbf\\xbd\\xef\\xbf\\xbd\\xef\\xbf\\xbdk\\xef\\xbf\\xbd\\xef\\xbf\\xbd3\\xef\\xbf\\xbd\\xef\\xbf\\xbd3S\\xef\\xbf\\xbd\\x1c^D\\xef\\xbf\\xbd\\xef\\xbf\\xbd\\xef\\xbf\\xbd\\xef\\xbf\\xbd\\x08\\xef\\xbf\\xbd\\xef\\xbf\\xbd\\xef\\xbf\\xbd\\x08H! \\xef\\xbf\\xbd\\xef\\xbf\\xbd\\x14\\xef\\xbf\\xbdm\\xef\\xbf\\xbd\\n\\xef\\xbf\\xbd\\x05\\xef\\xbf\\xbd\\xef\\xbf\\xbdqq\\r,\\n\\xef\\xbf\\xbd\\xef\\xbf\\xbd\\x1f!\\xef\\xbf\\xbd\\xef\\xbf\\xbd\\x04}\\xef\\xbf\\xbdy\\xef\\xbf\\xbd\\xef\\xbf\\xbd>\\xef\\xbf\\xbd\\xef\\xbf\\xbd\\x1f=\\xd4\\xb3\\xef\\xbf\\xbdx\\xef\\xbf\\xbd\\xef\\xbf\\xbd7\\xef\\xbf\\xbdo\\x00\\xef\\xbf\\xbd\\xd4\\x9do\\x13\\x00666\\xef\\xbf\\xbd\\xef\\xbf\\xbdd\\x1f\\xef\\xbf\\xbd\\xef\\xbf\\xbd-\\xef\\xbf\\xbd\\xef\\xbf\\xbd\\xef\\xbf\\xbd\\x16D\\xef\\xbf\\xbd]D\\x04\"\\x05DD\\x18\\xef\\xbf\\xbd%\\xef\\xbf\\xbd\\xef\\xbf\\xbd\\xef\\xbf\\xbd\\xef\\xbf\\xbdE\\xef\\xbf\\xbd\\x17\\x00(@\\xef\\xbf\\xbd\\xef\\xbf\\xbd\\xef\\xbf\\xbd\\n\\xef\\xbf\\xbd\\x19P\\xef\\xbf\\xbd\\n(\\xef\\xbf\\xbd\\x7f\\xd5\\xb0i\\xef\\xbf\\xbd\\xef\\xbf\\xbd&\\xce\\x85\\xef\\xbf\\xbd\\xef\\xbf\\xbd7\\xef\\xbf\\xbd\\xef\\xbf\\xbd\\xef\\xbf\\xbdD\\xef\\xbf\\xbd<\\xef\\xbf\\xbd\\xef\\xbf\\xbd9Z\\xef\\xbf\\xbd\\xef\\xbf\\xbd\\xef\\xbf\\xbd\\x11P\\x08P\\xef\\xbf\\xbd\\xef\\xbf\\xbd\\xef\\xbf\\xbd\\xef\\xbf\\xbd]\\xef\\xbf\\xbd\\xef\\xbf\\xbd\\x11K\\xef\\xbf\\xbd\\xef\\xbf\\xbdX 6\\xef\\xbf\\xbd\\x07\\xef\\xbf\\xbd\\x10w\\xef\\xbf\\xbd\\xcc\\x93\\xef\\xbf\\xbd]|\\xef\\xbf\\xbd\\x10\\xef\\xbf\\xbdB!\\xc5\\x82H[&e\\xd9\\xb6y\\x142R?-\\x00\\xef\\xbf\\xbdp\\x08\\xef\\xbf\\xbd[ml\\xef\\xbf\\xbdR\\xef\\xbf\\xbd\\xef\\xbf\\xbdA\\xef\\xbf\\xbd\\xef\\xbf\\xbd\\xef\\xbf\\xbdC\\xef\\xbf\\xbd\\xef\\xbf\\xbd\\xef\\xbf\\xbd\\xd8\\xb4\\xef\\xbf\\xbd\\xef\\xbf\\xbdWW,-\\xef\\xbf\\xbd\\xef\\xbf\\xbdYf\\xef\\xbf\\xbd\\xef\\xbf\\xbd8\\'\\xef\\x8c\\x902\\xef\\xbf\\xbd\\xef\\xbf\\xbd>\\x04\\xef\\xbf\\xbd\\xef\\xbf\\xbd\\xef\\xbf\\xbd\\t\\xef\\xbf\\xbd8\\xef\\xbf\\xbdX\\xef\\xbf\\xbd\\xef\\xbf\\xbdDx\\x10Q\\xef\\xbf\\xbdJGD\\x12\\xef\\xbf\\xbdJ\\xef\\xbf\\xbd$T\\xef\\xbf\\xbd\\xef\\xbf\\xbdU~\\xef\\xbf\\xbd\\xef\\xbf\\xbd,\\xef\\xbf\\xbd=\\xef\\xbf\\xbd\\xef\\xbf\\xbd,\"\\xef\\xbf\\xbdD\\n~P]i\\xef\\xbf\\xbd/\\xef\\xbf\\xbd\\xef\\xbf\\xbd\\x0c\\x08\\xef\\xbf\\xbd\\xef\\xbf\\xbd\\xef\\xbf\\xbd!\\xef\\xbf\\xbd\\xef\\xbf\\xbd\\x02\\xef\\xbf\\xbd\\x01u\\xef\\xbf\\xbd\\xef\\xbf\\xbd\"\\xc6\\x8aR\\xef\\xbf\\xbd\\xc3\\x96\\xef\\xbf\\xbd\\n[\\xef\\xbf\\xbd\\xef\\xbf\\xbd\\xc7\\x8c\\xef\\xbf\\xbd\\x7f0\\xde\\x953\\xef\\xbf\\xbd\\xef\\xbf\\xbdD\\xef\\xbf\\xbd\\x18\\xef\\xbf\\xbd%\\x00\\xef\\xbf\\xbd\\x17\\xef\\xbf\\xbd\\x1b#\\xef\\xbf\\xbd[\\xef\\xbf\\xbd-\\xef\\xbf\\xbd\\xef\\xbf\\xbdn\\xef\\xbf\\xbd\\x181\\x16\\xef\\xbf\\xbd/\\xef\\xbf\\xbdC\\xef\\xbf\\xbd\\xef\\xbf\\xbd\\xef\\xbf\\xbd\\x000\\xef\\xbf\\xbd\\xef\\xbf\\xbd\\x02r\\xd4\\x8a\\xef\\xbf\\xbd\\xef\\xbf\\xbd7\\xef\\xbf\\xbd\\xef\\xbf\\xbd&\\xef\\xbf\\xbd\\xef\\xbf\\xbd\\xef\\xbf\\xbd\\x1eP\"\\xef\\xbf\\xbdd'",
         "b'000c0100000100000000000006676f6f676c6503636f6d00001c000142efbfbd300cefbfbd42efbfbd300cc3b010330cc3b010330cefbfbd302cefbfbd0cefbfbd302cefbfbd0cefbfbd300c0b31efbfbd300c0b31efbfbd300cefbfbd42efbfbd300cefbfbd42efbfbd300cc3b010330cc3b010330cefbfbd30efbfbdefbfbdefbfbdefbfbd477531cba7efbfbd1124efbfbd2cefbfbdefbfbd061423006810101c06efbfbd1620680401efbfbd5826d48326efbfbdefbfbdc6acefbfbd00efbfbdefbfbd75efbfbd1770efbfbdefbfbdefbfbd2214781b22efbfbd64efbfbd2500efbfbd0007efbfbd4020efbfbd1622efbfbd66596a7d4befbfbdefbfbdefbfbdefbfbdefbfbd3cefbfbdefbfbdefbfbd6befbfbdefbfbd33efbfbdefbfbd3353efbfbd1c5e44efbfbdefbfbdefbfbdefbfbd08efbfbdefbfbdefbfbd08482120efbfbdefbfbd14efbfbd6defbfbd0aefbfbd05efbfbdefbfbd71710d2c0aefbfbdefbfbd1f21efbfbdefbfbd047defbfbd79efbfbdefbfbd3eefbfbdefbfbd1f3dd4b3efbfbd78efbfbdefbfbd37efbfbd6f00efbfbdd49d6f1300363636efbfbdefbfbd641fefbfbdefbfbd2defbfbdefbfbdefbfbd1644efbfbd5d44042205444418efbfbd25efbfbdefbfbdefbfbdefbfbd45efbfbd17002840efbfbdefbfbdefbfbd0aefbfbd1950efbfbd0a28efbfbd7fd5b069efbfbdefbfbd26ce85efbfbdefbfbd37efbfbdefbfbdefbfbd44efbfbd3cefbfbdefbfbd395aefbfbdefbfbdefbfbd11500850efbfbdefbfbdefbfbdefbfbd5defbfbdefbfbd114befbfbdefbfbd582036efbfbd07efbfbd1077efbfbdcc93efbfbd5d7cefbfbd10efbfbd4221c582485b2665d9b6791432523f2d00efbfbd7008efbfbd5b6d6cefbfbd52efbfbdefbfbd41efbfbdefbfbdefbfbd43efbfbdefbfbdefbfbdd8b4efbfbdefbfbd57572c2defbfbdefbfbd5966efbfbdefbfbd3827ef8c9032efbfbdefbfbd3e04efbfbdefbfbdefbfbd09efbfbd38efbfbd58efbfbdefbfbd44781051efbfbd4a474412efbfbd4aefbfbd2454efbfbdefbfbd557eefbfbdefbfbd2cefbfbd3defbfbdefbfbd2c22efbfbd440a7e505d69efbfbd2fefbfbdefbfbd0c08efbfbdefbfbdefbfbd21efbfbdefbfbd02efbfbd0175efbfbdefbfbd22c68a52efbfbdc396efbfbd0a5befbfbdefbfbdc78cefbfbd7f30de9533efbfbdefbfbd44efbfbd18efbfbd2500efbfbd17efbfbd1b23efbfbd5befbfbd2defbfbdefbfbd6eefbfbd183116efbfbd2fefbfbd43efbfbdefbfbdefbfbd0030efbfbdefbfbd0272d48aefbfbdefbfbd37efbfbdefbfbd26efbfbdefbfbdefbfbd1e5022efbfbd64'"
        ],
        [
         "10",
         "10.1.10.53",
         "84.54.22.33",
         "53",
         "53",
         "b'\\x00\\x0c\\x01\\x00\\x00\\x01\\x00\\x00\\x00\\x00\\x00\\x00\\x06google\\x03com\\x00\\x00\\x1c\\x00\\x01\\xef\\xbf\\xbd\\xef\\xbf\\xbd\\xef\\xbf\\xbd<>}\\xef\\xbf\\xbd\\xef\\xbf\\xbd\\xef\\xbf\\xbd%\\xef\\xbf\\xbd\\xef\\xbf\\xbdR\\xef\\xbf\\xbdA\\x08\\xef\\xbf\\xbd\\xef\\xbf\\xbdt\\xef\\xbf\\xbd\\xef\\xbf\\xbd\\xef\\xbf\\xbd\\\\\\x07@c\\xef\\xbf\\xbd-\\xef\\xbf\\xbdG\\xef\\xbf\\xbd9\\xef\\xbf\\xbdu9\\xef\\xbf\\xbd\\xef\\xbf\\xbd\\xef\\xbf\\xbdE%wq\\xef\\xbf\\xbd\\xef\\xbf\\xbd\\x0f\\x0e\\xef\\xbf\\xbd\\xef\\xbf\\xbdo\\xef\\xbf\\xbd\\xef\\xbf\\xbdc\\xef\\xbf\\xbd.\\xef\\xbf\\xbd8\\xef\\xbf\\xbd\\xef\\xbf\\xbd\\xef\\xbf\\xbdg\\xef\\xbf\\xbd\\xef\\xbf\\xbd\\xef\\xbf\\xbd\\n!\\xef\\xbf\\xbd\\xef\\xbf\\xbd.\\xef\\xbf\\xbd|\\xef\\xbf\\xbd\\xef\\xbf\\xbd\\xef\\xbf\\xbd\\x04\\xef\\xbf\\xbdp\\xef\\xbf\\xbd&:\\xef\\xbf\\xbdb=\\x16\\x0f\\x14c\\xef\\xbf\\xbd\\xef\\xbf\\xbdd\\xef\\xbf\\xbd<\\xef\\xbf\\xbd\\xef\\xbf\\xbdW\\xef\\xbf\\xbd\\x08\\x1b\\xe5\\x96\\x8eM\\x1e\\xef\\xbf\\xbd\\xef\\xbf\\xbdR\\xde\\x97\\xef\\xbf\\xbd\\xef\\xbf\\xbd\\\\2\\xe9\\xa0\\x8bB\\xef\\xbf\\xbd\\xef\\xbf\\xbd\\xef\\xbf\\xbd\\xef\\xbf\\xbd\\xef\\xbf\\xbd^\"+#m>r\\x0cR\\x16\\x08)\\x1f(,\\xef\\xbf\\xbd\\xef\\xbf\\xbd\\x1d9\\x07\\xef\\xbf\\xbds\\x1f\\xef\\xbf\\xbd\\r\\xef\\xbf\\xbd\\xef\\xbf\\xbdR\\xef\\xbf\\xbd\\'\\x18~\\xef\\xbf\\xbd\\xef\\xbf\\xbd\\x07\\xef\\xbf\\xbd\\xef\\xbf\\xbd^(:\\xef\\xbf\\xbd\\xd1\\xa5\\xef\\xbf\\xbdQ\\xef\\xbf\\xbd\\x19\\xef\\xbf\\xbdv:\"\\xef\\xbf\\xbd\\xef\\xbf\\xbdg\\xef\\xbf\\xbd\\xef\\xbf\\xbd\\xef\\xbf\\xbdtX\"\\xef\\xbf\\xbdYZG\\xef\\xbf\\xbd\\xef\\xbf\\xbd\\xef\\xbf\\xbd\\xef\\xbf\\xbdp\\xc7\\xa4\\xef\\xbf\\xbd\\x0br\\xef\\xbf\\xbd+\\xef\\xbf\\xbdF\\xef\\xbf\\xbd\\xef\\xbf\\xbdj\\x05\\xe2\\xb9\\xbdg\\xef\\xbf\\xbd\\xef\\xbf\\xbd\\x1cO1\\xef\\xbf\\xbd\\xef\\xbf\\xbd%\\xdd\\x87\\xde\\x8d\\xef\\xbf\\xbd\\xef\\xbf\\xbd\"LI\\xef\\xbf\\xbd\\xef\\xbf\\xbd$\\xef\\xbf\\xbd\\x07\\xef\\xbf\\xbd%\\xef\\xbf\\xbd.b]3!\\xef\\xbf\\xbdE\\xef\\xbf\\xbdk*\\x1d\\x06\\xef\\xbf\\xbd=\\x04\\xef\\xbf\\xbd@@\\xef\\xbf\\xbd\\x14\\xef\\xbf\\xbd\\xef\\xbf\\xbd}\\xef\\xbf\\xbd5\\xef\\xbf\\xbd`\\xef\\xbf\\xbd\\xef\\xbf\\xbd\\xef\\xbf\\xbd\\xef\\xbf\\xbd\\xef\\xbf\\xbd)\\xef\\xbf\\xbd\\xef\\xbf\\xbd\\xc9\\x9cd\\x11\\xef\\xbf\\xbd\\xef\\xbf\\xbd\\x14=\\xd5\\xab\\x162\\xef\\xbf\\xbdc\\xc8\\xb0\\xef\\xbf\\xbd\\x07g\\x15\\xef\\xbf\\xbd\\xef\\xbf\\xbd\\xef\\xbf\\xbdK&\\x11\\xef\\xbf\\xbdb\\xef\\xbf\\xbd\\xef\\xbf\\xbd\\x02\\xef\\xbf\\xbd\\xef\\xbf\\xbd\\xef\\xbf\\xbd\\xef\\xbf\\xbd<@3\\x11\\xef\\xbf\\xbdTD;\\xef\\xbf\\xbd\\xef\\xbf\\xbd%u\\xef\\xbf\\xbdL\\xef\\xbf\\xbd.,.}\\xef\\xbf\\xbdK\\xef\\xbf\\xbd\\xef\\xbf\\xbd\\\\}\\xef\\xbf\\xbd\\xef\\xbf\\xbdm1\\xef\\xbf\\xbd\\xef\\xbf\\xbdEj\\xef\\xbf\\xbd\\xef\\xbf\\xbd\\x15\\xef\\xbf\\xbd]\\xef\\xbf\\xbd\\xef\\xbf\\xbd\\xef\\xbf\\xbd\\xef\\xbf\\xbd\\xef\\xbf\\xbd\\xef\\xbf\\xbd\\xef\\xbf\\xbd\\r\\xcd\\xa1\\xef\\xbf\\xbdL\\xef\\xbf\\xbd:\\xdf\\xb4\\xef\\xbf\\xbdb\\xef\\xbf\\xbd\\xef\\xbf\\xbd;\\xef\\xbf\\xbd\\xef\\xbf\\xbd1\\xef\\xbf\\xbdv\\xef\\xbf\\xbd\\x10\\xef\\xbf\\xbdVR\\xef\\xbf\\xbd\\xef\\xbf\\xbd\"kq\\xef\\xbf\\xbd\\xef\\xbf\\xbd\\xef\\xbf\\xbd\\x03\\xef\\xbf\\xbd\\xc7\\xa77\\x03\\xef\\xbf\\xbd\\xef\\xbf\\xbd\\xef\\xbf\\xbd5\\xef\\xbf\\xbd0)\\xef\\xbf\\xbd\\xef\\xbf\\xbd\\xef\\xbf\\xbd\\xef\\xbf\\xbd\\x1a~\\xef\\xbf\\xbd\\xef\\xbf\\xbd\\x1f\\x0f7\\xc4\\xbe3v\\xef\\xbf\\xbd\\xef\\xbf\\xbd\\xef\\xbf\\xbdC\\xef\\xbf\\xbd\\x1c}j\\xef\\xbf\\xbd&\\xef\\xbf\\xbdB\\xef\\xbf\\xbdy\\xef\\xbf\\xbd/\\x00BA\\x7f\\xef\\xbf\\xbd\\xef\\xbf\\xbd$\\xef\\xbf\\xbd\\xef\\xbf\\xbd\\xef\\xbf\\xbd\\x10XjSI\\xef\\xbf\\xbd\\xef\\xbf\\xbd\\xef\\xbf\\xbd\\xef\\xbf\\xbdS\\xef\\xbf\\xbd\\\\t\\xef\\xbf\\xbd{\\xef\\xbf\\xbdP\\xef\\xbf\\xbdi\\x02\\xef\\xbf\\xbd\\xe7\\x84\\x80\\xef\\xbf\\xbdB\\xef\\xbf\\xbd\\xef\\xbf\\xbd\\xef\\xbf\\xbd\\xef\\xbf\\xbd\\xcf\\xb1\\xef\\xbf\\xbd\\x1eQ\\xef\\xbf\\xbd~\\xef\\xbf\\xbdq\\xef\\xbf\\xbd\\xef\\xbf\\xbd\\xef\\xbf\\xbd\\x03\\x07\\xef\\xbf\\xbdk\\xc6\\xb1\\xef\\xbf\\xbd\\xef\\xbf\\xbdK/\\xef\\xbf\\xbd4\\xef\\xbf\\xbd)R*\\x15\\xef\\xbf\\xbdc\\xef\\xbf\\xbd\\xef\\xbf\\xbd\\xef\\xbf\\xbd\\xef\\xbf\\xbd\\xef\\xbf\\xbd\\xef\\xbf\\xbd\\xef\\xbf\\xbdU\\xef\\xbf\\xbd\\xef\\xbf\\xbd\\xd2\\x87\\x08\\xef\\xbf\\xbd\"\\xef\\xbf\\xbd\\xef\\xbf\\xbd\\x14\\xef\\xbf\\xbd\\x18\\xef\\xbf\\xbd\\xef\\xbf\\xbd\\xef\\xbf\\xbd~\\x16\\xef\\xbf\\xbd\\xef\\xbf\\xbdC3\\xef\\xbf\\xbd'",
         "b'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'"
        ],
        [
         "11",
         "10.1.10.53",
         "84.54.22.33",
         "53",
         "53",
         "b'\\x00\\x0c\\x01\\x00\\x00\\x01\\x00\\x00\\x00\\x00\\x00\\x00\\x06google\\x03com\\x00\\x00\\x1c\\x00\\x01~\\xef\\xbf\\xbd\\xef\\xbf\\xbd\\xef\\xbf\\xbd \\xef\\xbf\\xbd3\\xef\\xbf\\xbd\\xef\\xbf\\xbd+\\xef\\xbf\\xbd\\x1e\\xef\\xbf\\xbd\\xef\\xbf\\xbd(\\xef\\xbf\\xbd5s\\xef\\xbf\\xbd\\xef\\xbf\\xbd\\xef\\xbf\\xbd\"\\xef\\xbf\\xbdD\\xef\\xbf\\xbdMsbm`\\xef\\xbf\\xbd\\x07\\xef\\xbf\\xbd\\xef\\xbf\\xbdE\\xef\\xbf\\xbdv\\xcc\\x98\\xef\\xbf\\xbd\\xef\\xbf\\xbd\\\\D\\xef\\xbf\\xbd\\x15HE\\xef\\xbf\\xbd\\xef\\xbf\\xbd\\xef\\xbf\\xbdoLM\\xef\\xbf\\xbd\\xef\\xbf\\xbd\\xef\\xbf\\xbd\\xef\\xbf\\xbd\\xef\\xbf\\xbd7\\xef\\xbf\\xbdX\\x0b\\xef\\xbf\\xbdM\\xef\\xbf\\xbd\\xef\\xbf\\xbd\\xef\\xbf\\xbdsC\\xef\\xbf\\xbd\\xef\\xbf\\xbd:H\\xef\\xbf\\xbd\\xef\\xbf\\xbdY\\xef\\xbf\\xbd\\x1a\\xef\\xbf\\xbdW\\x02\\xef\\xbf\\xbd\\xef\\xbf\\xbdb\\xef\\xbf\\xbd(C\\xef\\xbf\\xbd|v\\xef\\xbf\\xbd\\x03\\x1av\\x01l\\xef\\xbf\\xbd\\xd6\\x9f\\xef\\xbf\\xbd\\xef\\xbf\\xbd\\xef\\xbf\\xbd:\\xef\\xbf\\xbd\\x12}dN\\x0e\\x19\\xef\\xbf\\xbdx\\xef\\xbf\\xbd\\xef\\xbf\\xbd\\xef\\xbf\\xbds\\xef\\xbf\\xbd\\xef\\xbf\\xbd1JR4D\\xef\\xbf\\xbd\\xef\\xbf\\xbdN\\xef\\xbf\\xbdp\\xef\\xbf\\xbd\\xef\\xbf\\xbd\\xef\\xbf\\xbd/\\xef\\xbf\\xbd\\x18\\xc7\\x92\\xef\\xbf\\xbd\\xd5\\x9dB\\xef\\xbf\\xbdjeYd7\\xef\\xbf\\xbd\\x11\\xef\\xbf\\xbdIJ\\xef\\xbf\\xbd\\xef\\xbf\\xbd:\\tp;U\\x15\\xef\\xbf\\xbd\\x1f\\x00\\xef\\xbf\\xbd\\xef\\xbf\\xbd\\xef\\xbf\\xbd\\xef\\xbf\\xbd\\x1b\\x01\\xef\\xbf\\xbdv\\xc7\\x8a\\xef\\xbf\\xbd\\xef\\xbf\\xbd3\\xef\\xbf\\xbd\\xef\\xbf\\xbd\\xef\\xbf\\xbdA\\xef\\xbf\\xbdq\\\\\\x03\\xef\\xbf\\xbdG\\xef\\xbf\\xbd\\x15\\xef\\xbf\\xbd&\\xef\\xbf\\xbd@g:\\x0f\\\\Q\\xef\\xbf\\xbdo\\x02\\xef\\xbf\\xbd\\xef\\xbf\\xbd}u\\xef\\xbf\\xbd\\x04]\\x07\\xef\\xbf\\xbdhhBsh_KfaY\\xef\\xbf\\xbd57\\xef\\xbf\\xbd\\xef\\xbf\\xbdlz\\xef\\xbf\\xbd\\xef\\xbf\\xbdC\\xef\\xbf\\xbd\\xef\\xbf\\xbd\\xef\\xbf\\xbd%\\xef\\xbf\\xbd\\x181i\\xef\\xbf\\xbd)\\x1a7\\xef\\xbf\\xbd\\xef\\xbf\\xbd\\xef\\xbf\\xbd\\xef\\xbf\\xbd\\xef\\xbf\\xbd\\xde\\xaa\\n\\xef\\xbf\\xbd-\\xef\\xbf\\xbd\\x0f\\xef\\xbf\\xbd!\\xef\\xbf\\xbd\\xef\\xbf\\xbddn\\xef\\xbf\\xbd@\\xd4\\x86\\xef\\xbf\\xbdt\\xef\\xbf\\xbd\\xef\\xbf\\xbdK\\xef\\xbf\\xbd#\\x1a\\xef\\xbf\\xbd[#m\\xef\\xbf\\xbd\\xd6\\xbb@\\x04\\xef\\xbf\\xbd%T\\xef\\xbf\\xbdH\\xef\\xbf\\xbd;\\xef\\xbf\\xbd\\xef\\xbf\\xbd\\xef\\xbf\\xbd\\x7fO\\x04\\xef\\xbf\\xbdMV\\x1f\\x088\\xef\\xbf\\xbd\\xef\\xbf\\xbd[\\xef\\xbf\\xbdm\\xef\\xbf\\xbd\\xef\\xbf\\xbd^\\x0cK\\xef\\xbf\\xbd\\xef\\xbf\\xbd7\\xef\\xbf\\xbd\\x13a\":b#p\\xef\\xbf\\xbd\\xef\\xbf\\xbd\\xef\\xbf\\xbd\\xdc\\x9c\\xdd\\xaf\\xef\\xbf\\xbd\\x1d\\xef\\xbf\\xbd\\xef\\xbf\\xbd\\xef\\xbf\\xbd\\xef\\xbf\\xbdI\\xef\\xbf\\xbd\\xef\\xbf\\xbd\\xef\\xbf\\xbd\\xce\\xa6t\\x12\\xef\\xbf\\xbd)\\xd1\\x81\\xef\\xbf\\xbd\\xef\\xbf\\xbd\\xc3\\x87ps\\xef\\xbf\\xbd\\x19\\xef\\xbf\\xbd\\x7f\\xef\\xbf\\xbd\\xc9\\xbe\\xef\\xbf\\xbd\\nc\\x10)\\xef\\xbf\\xbdi\\xef\\xbf\\xbd\\nFyN\\xef\\xbf\\xbd\\xef\\xbf\\xbd\\xef\\xbf\\xbd\\x02.\\xef\\xbf\\xbdVf_rs\\xef\\xbf\\xbdC\\xef\\xbf\\xbd\\x1eJb\\xef\\xbf\\xbd\\xef\\xbf\\xbd2\\xef\\xbf\\xbd\\xef\\xbf\\xbdk\\xef\\xbf\\xbd\\xef\\xbf\\xbdw]\\xef\\xbf\\xbd\\xc7\\xad\\xef\\xbf\\xbd0\\xef\\xbf\\xbd\\xef\\xbf\\xbd\\xef\\xbf\\xbd\\xef\\xbf\\xbd/i}H|\\xef\\xbf\\xbdk\\xef\\xbf\\xbd\\x17\\x1dJ!\\xef\\xbf\\xbdW\\xef\\xbf\\xbd\\x16\\xef\\xbf\\xbd\\xef\\xbf\\xbd\\xef\\xbf\\xbd\\xef\\xbf\\xbd\\xcd\\xb8\\xef\\xbf\\xbd\\xef\\xbf\\xbd\\xef\\xbf\\xbdS\\xef\\xbf\\xbd\\xef\\xbf\\xbd\\xef\\xbf\\xbdB\\x0c\\x08\\xef\\xbf\\xbd%\\xef\\xbf\\xbd\\\\Z\\xef\\xbf\\xbdmuE\\xef\\xbf\\xbd\\xef\\xbf\\xbd\\x11\\xef\\xbf\\xbd.^\\x13\\x17Bc!\\xef\\xbf\\xbd\\x10\\xef\\xbf\\xbd\\n\\xef\\xbf\\xbdvE\\xef\\xbf\\xbdL2GHJ\\xc7\\xb3\\\\Zm\\xef\\xbf\\xbd1\\xef\\xbf\\xbd?%u[\\xef\\xbf\\xbd\\xef\\xbf\\xbd\\xef\\xbf\\xbd*\\xef\\xbf\\xbd\\x1fH\\xef\\xbf\\xbd\\xef\\xbf\\xbdU\\x15\\xef\\xbf\\xbd\\xef\\xbf\\xbd\\x10Q\\xef\\xbf\\xbd\\xef\\xbf\\xbde,\\xef\\xbf\\xbd\\xef\\xbf\\xbd^\\xef\\xbf\\xbdh2\\xef\\xbf\\xbdD\\xef\\xbf\\xbd\\xef\\xbf\\xbd-\\xef\\xbf\\xbd6\\xc6\\x99\\xef\\xbf\\xbd\\xef\\xbf\\xbd'",
         "b'000c0100000100000000000006676f6f676c6503636f6d00001c00017eefbfbdefbfbdefbfbd20efbfbd33efbfbdefbfbd2befbfbd1eefbfbdefbfbd28efbfbd3573efbfbdefbfbdefbfbd22efbfbd44efbfbd4d73626d60efbfbd07efbfbdefbfbd45efbfbd76cc98efbfbdefbfbd5c44efbfbd154845efbfbdefbfbdefbfbd6f4c4defbfbdefbfbdefbfbdefbfbdefbfbd37efbfbd580befbfbd4defbfbdefbfbdefbfbd7343efbfbdefbfbd3a48efbfbdefbfbd59efbfbd1aefbfbd5702efbfbdefbfbd62efbfbd2843efbfbd7c76efbfbd031a76016cefbfbdd69fefbfbdefbfbdefbfbd3aefbfbd127d644e0e19efbfbd78efbfbdefbfbdefbfbd73efbfbdefbfbd314a523444efbfbdefbfbd4eefbfbd70efbfbdefbfbdefbfbd2fefbfbd18c792efbfbdd59d42efbfbd6a65596437efbfbd11efbfbd494aefbfbdefbfbd3a09703b5515efbfbd1f00efbfbdefbfbdefbfbdefbfbd1b01efbfbd76c78aefbfbdefbfbd33efbfbdefbfbdefbfbd41efbfbd715c03efbfbd47efbfbd15efbfbd26efbfbd40673a0f5c51efbfbd6f02efbfbdefbfbd7d75efbfbd045d07efbfbd68684273685f4b666159efbfbd3537efbfbdefbfbd6c7aefbfbdefbfbd43efbfbdefbfbdefbfbd25efbfbd183169efbfbd291a37efbfbdefbfbdefbfbdefbfbdefbfbddeaa0aefbfbd2defbfbd0fefbfbd21efbfbdefbfbd646eefbfbd40d486efbfbd74efbfbdefbfbd4befbfbd231aefbfbd5b236defbfbdd6bb4004efbfbd2554efbfbd48efbfbd3befbfbdefbfbdefbfbd7f4f04efbfbd4d561f0838efbfbdefbfbd5befbfbd6defbfbdefbfbd5e0c4befbfbdefbfbd37efbfbd1361223a622370efbfbdefbfbdefbfbddc9cddafefbfbd1defbfbdefbfbdefbfbdefbfbd49efbfbdefbfbdefbfbdcea67412efbfbd29d181efbfbdefbfbdc3877073efbfbd19efbfbd7fefbfbdc9beefbfbd0a631029efbfbd69efbfbd0a46794eefbfbdefbfbdefbfbd022eefbfbd56665f7273efbfbd43efbfbd1e4a62efbfbdefbfbd32efbfbdefbfbd6befbfbdefbfbd775defbfbdc7adefbfbd30efbfbdefbfbdefbfbdefbfbd2f697d487cefbfbd6befbfbd171d4a21efbfbd57efbfbd16efbfbdefbfbdefbfbdefbfbdcdb8efbfbdefbfbdefbfbd53efbfbdefbfbdefbfbd420c08efbfbd25efbfbd5c5aefbfbd6d7545efbfbdefbfbd11efbfbd2e5e1317426321efbfbd10efbfbd0aefbfbd7645efbfbd4c3247484ac7b35c5a6defbfbd31efbfbd3f25755befbfbdefbfbdefbfbd2aefbfbd1f48efbfbdefbfbd5515efbfbdefbfbd1051efbfbdefbfbd652cefbfbdefbfbd5eefbfbd6832efbfbd44efbfbdefbfbd2defbfbd36c699efbfbdefbfbd'"
        ],
        [
         "12",
         "10.1.10.53",
         "84.54.22.33",
         "53",
         "53",
         "b'\\x00\\x0c\\x01\\x00\\x00\\x01\\x00\\x00\\x00\\x00\\x00\\x00\\x06google\\x03com\\x00\\x00\\x1c\\x00\\x01\\xef\\xbf\\xbd\\xef\\xbf\\xbd\\xef\\xbf\\xbd\\xef\\xbf\\xbdp\\xef\\xbf\\xbdQ!e\\xef\\xbf\\xbd\\x1e\\x12\\xef\\xbf\\xbd%\\\\\\xd8\\xaf^Z\\xdb\\x95 \\xef\\xbf\\xbd=\\x02\"L{\\xef\\xbf\\xbd\\t\\x11\\xef\\xbf\\xbd\\x12\\x11\\x17ti\\xef\\xbf\\xbd\\x0e\\xef\\xbf\\xbdGB|\\xef\\xbf\\xbd\\xef\\xbf\\xbd\\xef\\xbf\\xbd,7\\xef\\xbf\\xbd\\x07\\xef\\xbf\\xbdp6K\\xef\\xbf\\xbd\\xef\\xbf\\xbd\\xef\\xbf\\xbd[\\xef\\xbf\\xbd\\xea\\x8e\\xb8\\x0e\\xef\\xbf\\xbd\\x1a\\xef\\xbf\\xbd\\xef\\xbf\\xbd\\x02\\x1as\\xd1\\x9d9\\xef\\xbf\\xbdr\\xef\\xbf\\xbd@6\\xef\\xbf\\xbd\\xef\\xbf\\xbdLT\\xef\\xbf\\xbdVc\\xef\\xbf\\xbds\\xef\\xbf\\xbd\\xef\\xbf\\xbd\\x1f(\\xef\\xbf\\xbd\\xef\\xbf\\xbd\\xef\\xbf\\xbd\\x0fW\\x16\\xef\\xbf\\xbd`\\xef\\xbf\\xbd@\\xef\\xbf\\xbdMl\\xef\\xbf\\xbdi\\xef\\xbf\\xbd\\xef\\xbf\\xbd,Z\\xef\\xbf\\xbd\\xd9\\xba\\xef\\xbf\\xbd\\xef\\xbf\\xbdo\\xef\\xbf\\xbd\\xef\\xbf\\xbd\\\\\\xef\\xbf\\xbd\\xef\\xbf\\xbd\\xef\\xbf\\xbdCE\\x16dG\\xef\\xbf\\xbd\\x01A\\xef\\xbf\\xbd\\xd4\\x81pcm\\xef\\xbf\\xbd\\xef\\xbf\\xbd\\xef\\xbf\\xbd\\xef\\xbf\\xbda\\xef\\xbf\\xbd\\xef\\xbf\\xbd\\x05.5(\\xef\\xbf\\xbd\\xef\\xbf\\xbd4e\\xef\\xbf\\xbd\\xef\\xbf\\xbd}\\xef\\xbf\\xbd==\\xef\\xbf\\xbdK\\xef\\xbf\\xbdr\\xef\\xbf\\xbd]\\xef\\xbf\\xbd\\xef\\xbf\\xbd\\\\\\xd2\\xbd\\x7f\\xef\\xbf\\xbd\\xef\\xbf\\xbd\\xef\\xbf\\xbd\\xef\\xbf\\xbd5Fs\\xc7\\xa6\\xef\\xbf\\xbd\\xef\\xbf\\xbdA\\xef\\xbf\\xbd\\xef\\xbf\\xbd\\xef\\xbf\\xbd1&\\x15\\xef\\xbf\\xbd\\xef\\xbf\\xbd\\xef\\xbf\\xbdM\\xef\\xbf\\xbd=\\xef\\xbf\\xbdR\\xef\\xbf\\xbd\\xef\\xbf\\xbd\\xef\\xbf\\xbdX\\xef\\xbf\\xbd\\xef\\xbf\\xbd_(r\\xef\\xbf\\xbd\\xef\\xbf\\xbdK\\x01\\xef\\xbf\\xbd8-\\xef\\xbf\\xbd\\xef\\xbf\\xbd\\xef\\xbf\\xbd\\xef\\xbf\\xbd\\x1c\\x18\\xef\\xbf\\xbd\\xef\\xbf\\xbdS\\xef\\xbf\\xbd\\xef\\xbf\\xbd\\xef\\xbf\\xbd\\xef\\xbf\\xbd\\xef\\xbf\\xbd\\x1bstm\\xef\\xbf\\xbd8\\x18\\xef\\xbf\\xbde\\xef\\xbf\\xbd.!52#\\xef\\xbf\\xbd\\xef\\xbf\\xbd\\xef\\xbf\\xbd\\x0f@/\\xcd\\x99\\xef\\xbf\\xbd\\xef\\xbf\\xbda\\xef\\xbf\\xbd\\xef\\xbf\\xbd\\xef\\xbf\\xbdY.\\x07\\xef\\xbf\\xbd\\xef\\xbf\\xbd05i\\x07\\x0e\\xef\\xbf\\xbd\\x07\\x1e;2 BNR|+\\xef\\xbf\\xbdRt\\xef\\xbf\\xbd\\x02\\xef\\xbf\\xbd>\\xef\\xbf\\xbd\\xef\\xbf\\xbd\\xef\\xbf\\xbdmK\\xef\\xbf\\xbd\\xef\\xbf\\xbd]\\xef\\xbf\\xbdt\\x04\\xef\\xbf\\xbd\\xda\\xa8\\xef\\xbf\\xbd\\'4\\xef\\xbf\\xbd\\x7fB\\xef\\xbf\\xbd\\xef\\xbf\\xbd\\x03\\x00F\\xdb\\x84&\\xef\\xbf\\xbd3\\xef\\xbf\\xbd\\xef\\xbf\\xbd\\x0b\\xef\\xbf\\xbd*\\xef\\xbf\\xbd\\xef\\xbf\\xbd\\xef\\xbf\\xbdp\\xef\\xbf\\xbdn\\xef\\xbf\\xbd\\xef\\xbf\\xbd\\xef\\xbf\\xbdK:$\\x16\"D\\xd3\\xa2!\\xef\\xbf\\xbdtK&h\\xef\\xbf\\xbdV\\t\\x003\\x00\\xef\\xbf\\xbd\\tmK\\xef\\xbf\\xbd\\x07E\\x0e9\\xef\\xbf\\xbdE\\xef\\xbf\\xbd\\\\P0_o&\\x05\\x7fi\\xef\\xbf\\xbd\\t\\xdf\\xac_c\\xef\\xbf\\xbd\\xef\\xbf\\xbda\\xef\\xbf\\xbd\\x17\\xef\\xbf\\xbd~Q\\n\\xef\\xbf\\xbdo\\x00\\x1c\\x0f\\x08\\x1a\\xef\\xbf\\xbd\\xef\\xbf\\xbdp4\\x07\\xef\\xbf\\xbd`\\xef\\xbf\\xbd<\\xef\\xbf\\xbd2\\x0bZ\\xef\\xbf\\xbd\\xef\\xbf\\xbd\\xef\\xbf\\xbd\\'\\xef\\xbf\\xbd\\xef\\xbf\\xbd\\xef\\xbf\\xbd\\xef\\xbf\\xbdk\\x1f\\x0f\\xef\\xbf\\xbd_\\xef\\xbf\\xbd3Tc\\xef\\xbf\\xbd\\xef\\xbf\\xbd\\xef\\xbf\\xbdA9\\xef\\xbf\\xbd\\x1f$\\\\\\xce\\xa9,\\xd0\\x84\\xef\\xbf\\xbd\\xef\\xbf\\xbd\\xef\\xbf\\xbd\\xef\\xbf\\xbdK\\xef\\xbf\\xbd,\\xef\\xbf\\xbd\\xdb\\xa4@\\x1d\\xef\\xbf\\xbdr\\xef\\xbf\\xbd@\\xef\\xbf\\xbd\\xc6\\x9e#\\xef\\xbf\\xbd@Db\\xef\\xbf\\xbd\\xef\\xbf\\xbd<\\xef\\xbf\\xbdu\\x0b\\x00\\xef\\xbf\\xbd\\x0f\\xef\\xbf\\xbd\\xef\\xbf\\xbdx\\xef\\xbf\\xbd*\\xef\\xbf\\xbd6\\xef\\xbf\\xbd\\xef\\xbf\\xbd9J\\xef\\xbf\\xbd>\\xef\\xbf\\xbd\\xef\\xbf\\xbdC\\x08i\\x14b\\xef\\xbf\\xbd\\xef\\xbf\\xbd\\xef\\xbf\\xbd\\xef\\xbf\\xbdzd\\x04\\x020\\xef\\xbf\\xbd7!j\\xef\\xbf\\xbd\\x05\\xef\\xbf\\xbd\\xef\\xbf\\xbdO\\xef\\xbf\\xbd\\x01nOv]\\xef\\xbf\\xbdE\\xef\\xbf\\xbd\\xef\\xbf\\xbdA\\xef\\xbf\\xbd\\xef\\xbf\\xbd\"'",
         "b'000c0100000100000000000006676f6f676c6503636f6d00001c0001efbfbdefbfbdefbfbdefbfbd70efbfbd512165efbfbd1e12efbfbd255cd8af5e5adb9520efbfbd3d02224c7befbfbd0911efbfbd1211177469efbfbd0eefbfbd47427cefbfbdefbfbdefbfbd2c37efbfbd07efbfbd70364befbfbdefbfbdefbfbd5befbfbdea8eb80eefbfbd1aefbfbdefbfbd021a73d19d39efbfbd72efbfbd4036efbfbdefbfbd4c54efbfbd5663efbfbd73efbfbdefbfbd1f28efbfbdefbfbdefbfbd0f5716efbfbd60efbfbd40efbfbd4d6cefbfbd69efbfbdefbfbd2c5aefbfbdd9baefbfbdefbfbd6fefbfbdefbfbd5cefbfbdefbfbdefbfbd4345166447efbfbd0141efbfbdd48170636defbfbdefbfbdefbfbdefbfbd61efbfbdefbfbd052e3528efbfbdefbfbd3465efbfbdefbfbd7defbfbd3d3defbfbd4befbfbd72efbfbd5defbfbdefbfbd5cd2bd7fefbfbdefbfbdefbfbdefbfbd354673c7a6efbfbdefbfbd41efbfbdefbfbdefbfbd312615efbfbdefbfbdefbfbd4defbfbd3defbfbd52efbfbdefbfbdefbfbd58efbfbdefbfbd5f2872efbfbdefbfbd4b01efbfbd382defbfbdefbfbdefbfbdefbfbd1c18efbfbdefbfbd53efbfbdefbfbdefbfbdefbfbdefbfbd1b73746defbfbd3818efbfbd65efbfbd2e21353223efbfbdefbfbdefbfbd0f402fcd99efbfbdefbfbd61efbfbdefbfbdefbfbd592e07efbfbdefbfbd303569070eefbfbd071e3b3220424e527c2befbfbd5274efbfbd02efbfbd3eefbfbdefbfbdefbfbd6d4befbfbdefbfbd5defbfbd7404efbfbddaa8efbfbd2734efbfbd7f42efbfbdefbfbd030046db8426efbfbd33efbfbdefbfbd0befbfbd2aefbfbdefbfbdefbfbd70efbfbd6eefbfbdefbfbdefbfbd4b3a24162244d3a221efbfbd744b2668efbfbd5609003300efbfbd096d4befbfbd07450e39efbfbd45efbfbd5c50305f6f26057f69efbfbd09dfac5f63efbfbdefbfbd61efbfbd17efbfbd7e510aefbfbd6f001c0f081aefbfbdefbfbd703407efbfbd60efbfbd3cefbfbd320b5aefbfbdefbfbdefbfbd27efbfbdefbfbdefbfbdefbfbd6b1f0fefbfbd5fefbfbd335463efbfbdefbfbdefbfbd4139efbfbd1f245ccea92cd084efbfbdefbfbdefbfbdefbfbd4befbfbd2cefbfbddba4401defbfbd72efbfbd40efbfbdc69e23efbfbd404462efbfbdefbfbd3cefbfbd750b00efbfbd0fefbfbdefbfbd78efbfbd2aefbfbd36efbfbdefbfbd394aefbfbd3eefbfbdefbfbd4308691462efbfbdefbfbdefbfbdefbfbd7a64040230efbfbd37216aefbfbd05efbfbdefbfbd4fefbfbd016e4f765defbfbd45efbfbdefbfbd41efbfbdefbfbd22'"
        ],
        [
         "13",
         "10.1.10.53",
         "84.54.22.33",
         "53",
         "53",
         "b'\\x00\\x0c\\x01\\x00\\x00\\x01\\x00\\x00\\x00\\x00\\x00\\x00\\x06google\\x03com\\x00\\x00\\x1c\\x00\\x01\\xef\\xbf\\xbd@\\x08\\xef\\xbf\\xbd\\x10\"\\x1d\\xef\\xbf\\xbdZ\\xef\\xbf\\xbd\\x19]gL8\\xef\\xbf\\xbd\\x14|g+\\xef\\xbf\\xbd\\xef\\xbf\\xbd\\xd8\\x81\\x04\\xef\\xbf\\xbd>6LJm\\xef\\xbf\\xbd]\\xef\\xbf\\xbd\\xef\\xbf\\xbd\\xef\\xbf\\xbd\\xef\\xbf\\xbd\\xda\\xa8\\xef\\xbf\\xbd,7<\\xef\\xbf\\xbdew\\xef\\xbf\\xbd\\xef\\xbf\\xbd\\xef\\xbf\\xbdDn\\xef\\xbf\\xbd&eQB!\\xef\\xbf\\xbdz\\xef\\xbf\\xbdts\\xef\\xbf\\xbd\\x0c\\xef\\xbf\\xbd#\\xef\\xbf\\xbd\\nBu!\"\\xef\\xbf\\xbd\\x04\\xef\\xbf\\xbd\\xef\\xbf\\xbd\\xef\\xbf\\xbdv8\\xef\\xbf\\xbdh\\xef\\xbf\\xbdEu\\xef\\xbf\\xbd\\xef\\xbf\\xbd\\xef\\xbf\\xbd\\xef\\xbf\\xbd_\\\\\\xef\\xbf\\xbds\\xef\\xbf\\xbdb> \\r\\xef\\xbf\\xbd\\xef\\xbf\\xbd!j\\xef\\xbf\\xbd\\xef\\xbf\\xbd=9\"\\xef\\xbf\\xbd\\xef\\xbf\\xbd\\xef\\xbf\\xbd}*\"\\xef\\xbf\\xbdZ\\xef\\xbf\\xbd\\xef\\xbf\\xbd\\xef\\xbf\\xbd\\xef\\xbf\\xbdw)\\xef\\xbf\\xbd\\xef\\xbf\\xbd$\\x1f\\xef\\xbf\\xbd\\xef\\xbf\\xbd\\x17(\\xef\\xbf\\xbdh\\xef\\xbf\\xbd\\xef\\xbf\\xbd\\xdd\\x93v;\\xef\\xbf\\xbd\\r\\xef\\xbf\\xbd\\xef\\xbf\\xbd\\xef\\xbf\\xbd\\xef\\xbf\\xbd\\xef\\xbf\\xbdE\\xef\\xbf\\xbd\\xef\\xbf\\xbd+R\\xef\\xbf\\xbd\\xef\\xbf\\xbd\\x15\\xef\\xbf\\xbd~\\xef\\xbf\\xbd\\x06^\\xef\\xbf\\xbd\\x04\\xef\\xbf\\xbd\\x19\\xef\\xbf\\xbd\\\\\\n\\x1d\\rB\\xef\\xbf\\xbdy\\x7f\\xef\\xbf\\xbd\\x13\\xef\\xbf\\xbd\\xef\\xbf\\xbd\\x16\\x01D\\xef\\xbf\\xbd6~\\xef\\xbf\\xbd\\xef\\xbf\\xbd\\xef\\xbf\\xbd\\xef\\xbf\\xbd-\\xef\\xbf\\xbd\\xef\\xbf\\xbd&P\\xef\\xbf\\xbdd\\xef\\xbf\\xbd\\t1\\x11\\xef\\xbf\\xbdC\\xef\\xbf\\xbd|;\\xef\\xbf\\xbd\\xef\\xbf\\xbd!\\xef\\xbf\\xbd\\xef\\xbf\\xbdS.\\xef\\xbf\\xbd\\xef\\xbf\\xbd\\xef\\xbf\\xbdt\\xef\\xbf\\xbd\\xef\\xbf\\xbd\\x05\\xef\\xbf\\xbd\\xef\\xbf\\xbd\\xc4\\x9e\\\\\\xdc\\x8c\\xef\\xbf\\xbd\\xef\\xbf\\xbd\\xef\\xbf\\xbdq(\\xef\\xbf\\xbd2\\xef\\xbf\\xbd9\\xef\\xbf\\xbd+RP1\\xef\\xbf\\xbd\\xef\\xbf\\xbdC\\xef\\xbf\\xbd\\x06\\x00ID\\xef\\xbf\\xbdB\\xef\\xbf\\xbd/\\xef\\xbf\\xbd4\\xef\\xbf\\xbd\\xef\\xbf\\xbd/.\\xef\\xbf\\xbdI\\xdb\\xb4\\xef\\xbf\\xbdO\\xef\\xbf\\xbd\\ndaqI>\\xef\\xbf\\xbd\\xef\\xbf\\xbd\\xef\\xbf\\xbd\\xef\\xbf\\xbd\\xef\\xbf\\xbdh\\xef\\xbf\\xbd\\x14\\x01\\x12\\xef\\xbf\\xbd\\xef\\xbf\\xbdH\\xef\\xbf\\xbdr#\\xef\\xbf\\xbd\\\\\\xef\\xbf\\xbd\\xef\\xbf\\xbd~\\xef\\xbf\\xbd|\\xef\\xbf\\xbd\\xef\\xbf\\xbd\\xef\\xbf\\xbd\\x13K\\xef\\xbf\\xbd\\xef\\xbf\\xbd\\n\\xef\\xbf\\xbd\\xef\\xbf\\xbd\\xef\\xbf\\xbd\\xef\\xbf\\xbd\\x07\\xef\\xbf\\xbdx|\\xef\\xbf\\xbdi\\xef\\xbf\\xbd\\xef\\xbf\\xbd\\x04\\x11\\xef\\xbf\\xbdJ\\xef\\xbf\\xbd\\x05W\\xef\\xbf\\xbdz\\xef\\xbf\\xbd\\xef\\xbf\\xbd\\xef\\xbf\\xbd\\xef\\xbf\\xbd\\x10CI)\\xef\\xbf\\xbdNk\\xef\\xbf\\xbd\\xef\\xbf\\xbd~\\xc3\\xa8\\tI8\\xef\\xbf\\xbd\\xef\\xbf\\xbd\\x165\\x1e_\\xef\\xbf\\xbd;\\xef\\xbf\\xbd\\x16~\\xef\\xbf\\xbd>`|\\x18{\\xef\\xbf\\xbd\\xef\\xbf\\xbd\\x07\\xef\\xbf\\xbd\\xef\\xbf\\xbd\\xef\\xbf\\xbd\\xef\\xbf\\xbd\\xef\\xbf\\xbd\"\\x03B\\x17\\xef\\xbf\\xbd\\x0b\\xef\\xbf\\xbd\\xef\\xbf\\xbdiT\\xef\\xbf\\xbdET\\xef\\xbf\\xbdnO\\x1e\\x0b\\xef\\xbf\\xbd\\xef\\xbf\\xbd\\x10qj\\xef\\xbf\\xbd!:\\xef\\xbf\\xbd\\x00\\x11AH\\xef\\xbf\\xbd7\\xef\\xbf\\xbd\\xef\\xbf\\xbd\\xef\\xbf\\xbd/\\xd5\\xad,\\x7f1\\xda\\x8c]\\xef\\xbf\\xbd%Da;\\xef\\xbf\\xbdOY\\xef\\xbf\\xbd\\xef\\xbf\\xbd\\xef\\xbf\\xbd}-E\\x0fi\\x02u\\x1b\\xef\\xbf\\xbd\\xef\\xbf\\xbd\\x19W\\xef\\xbf\\xbd|n\\xef\\xbf\\xbdSK_?\\xef\\xbf\\xbd\\xef\\xbf\\xbd\\xef\\xbf\\xbd\\xef\\xbf\\xbd\\n\\xef\\xbf\\xbdo\\n\\xcd\\x99MN\\x15\\xef\\xbf\\xbdL\\xe7\\xb2\\x8a\\xef\\xbf\\xbd\\xef\\xbf\\xbdSh\\xef\\xbf\\xbd\\xef\\xbf\\xbd\\xef\\xbf\\xbd7\\xef\\xbf\\xbd\\x08\\xef\\xbf\\xbd8z\\xef\\xbf\\xbd\\x18\\xef\\xbf\\xbd}J)\\x7f:[L\\xef\\xbf\\xbd\\xef\\xbf\\xbdU4\\xef\\xbf\\xbdk\\xd5\\x95\\xef\\xbf\\xbd\\xef\\xbf\\xbd\\xef\\xbf\\xbdG\\xef\\xbf\\xbd\\xef\\xbf\\xbd\\xd5\\x87\\xef\\xbf\\xbd\\x04\\xef\\xbf\\xbdXj\\xef\\xbf\\xbd\\r\\xef\\xbf\\xbd\\xef\\xbf\\xbd\\xef\\xbf\\xbdo\\xef\\xbf\\xbdAk\\xef\\xbf\\xbd/\\xef\\xbf\\xbd)\\xef\\xbf\\xbd\\xef\\xbf\\xbd'",
         "b'000c0100000100000000000006676f6f676c6503636f6d00001c0001efbfbd4008efbfbd10221defbfbd5aefbfbd195d674c38efbfbd147c672befbfbdefbfbdd88104efbfbd3e364c4a6defbfbd5defbfbdefbfbdefbfbdefbfbddaa8efbfbd2c373cefbfbd6577efbfbdefbfbdefbfbd446eefbfbd2665514221efbfbd7aefbfbd7473efbfbd0cefbfbd23efbfbd0a42752122efbfbd04efbfbdefbfbdefbfbd7638efbfbd68efbfbd4575efbfbdefbfbdefbfbdefbfbd5f5cefbfbd73efbfbd623e200defbfbdefbfbd216aefbfbdefbfbd3d3922efbfbdefbfbdefbfbd7d2a22efbfbd5aefbfbdefbfbdefbfbdefbfbd7729efbfbdefbfbd241fefbfbdefbfbd1728efbfbd68efbfbdefbfbddd93763befbfbd0defbfbdefbfbdefbfbdefbfbdefbfbd45efbfbdefbfbd2b52efbfbdefbfbd15efbfbd7eefbfbd065eefbfbd04efbfbd19efbfbd5c0a1d0d42efbfbd797fefbfbd13efbfbdefbfbd160144efbfbd367eefbfbdefbfbdefbfbdefbfbd2defbfbdefbfbd2650efbfbd64efbfbd093111efbfbd43efbfbd7c3befbfbdefbfbd21efbfbdefbfbd532eefbfbdefbfbdefbfbd74efbfbdefbfbd05efbfbdefbfbdc49e5cdc8cefbfbdefbfbdefbfbd7128efbfbd32efbfbd39efbfbd2b525031efbfbdefbfbd43efbfbd06004944efbfbd42efbfbd2fefbfbd34efbfbdefbfbd2f2eefbfbd49dbb4efbfbd4fefbfbd0a646171493eefbfbdefbfbdefbfbdefbfbdefbfbd68efbfbd140112efbfbdefbfbd48efbfbd7223efbfbd5cefbfbdefbfbd7eefbfbd7cefbfbdefbfbdefbfbd134befbfbdefbfbd0aefbfbdefbfbdefbfbdefbfbd07efbfbd787cefbfbd69efbfbdefbfbd0411efbfbd4aefbfbd0557efbfbd7aefbfbdefbfbdefbfbdefbfbd10434929efbfbd4e6befbfbdefbfbd7ec3a8094938efbfbdefbfbd16351e5fefbfbd3befbfbd167eefbfbd3e607c187befbfbdefbfbd07efbfbdefbfbdefbfbdefbfbdefbfbd22034217efbfbd0befbfbdefbfbd6954efbfbd4554efbfbd6e4f1e0befbfbdefbfbd10716aefbfbd213aefbfbd00114148efbfbd37efbfbdefbfbdefbfbd2fd5ad2c7f31da8c5defbfbd2544613befbfbd4f59efbfbdefbfbdefbfbd7d2d450f6902751befbfbdefbfbd1957efbfbd7c6eefbfbd534b5f3fefbfbdefbfbdefbfbdefbfbd0aefbfbd6f0acd994d4e15efbfbd4ce7b28aefbfbdefbfbd5368efbfbdefbfbdefbfbd37efbfbd08efbfbd387aefbfbd18efbfbd7d4a297f3a5b4cefbfbdefbfbd5534efbfbd6bd595efbfbdefbfbdefbfbd47efbfbdefbfbdd587efbfbd04efbfbd586aefbfbd0defbfbdefbfbdefbfbd6fefbfbd416befbfbd2fefbfbd29efbfbdefbfbd'"
        ],
        [
         "14",
         "10.1.10.53",
         "84.54.22.33",
         "53",
         "53",
         "b'\\x00\\x0c\\x01\\x00\\x00\\x01\\x00\\x00\\x00\\x00\\x00\\x00\\x06google\\x03com\\x00\\x00\\x1c\\x00\\x01*\\x0b\\xef\\xbf\\xbd\\xcb\\xaa\\xef\\xbf\\xbdf\\xef\\xbf\\xbdu\\xef\\xbf\\xbd\\xef\\xbf\\xbd\\xef\\xbf\\xbd\\xef\\xbf\\xbd>\\xef\\xbf\\xbd\\x07g\\xef\\xbf\\xbd\\xef\\xbf\\xbd\\xef\\xbf\\xbd\\xef\\xbf\\xbd\\xef\\xbf\\xbd\\xef\\xbf\\xbd\\xef\\xbf\\xbd\\xef\\xbf\\xbd\\xef\\xbf\\xbd6\\x1dP`=/@\\\\\\xef\\xbf\\xbd\\xef\\xbf\\xbds\\xef\\xbf\\xbd\\xef\\xbf\\xbd\\xef\\xbf\\xbd\\xef\\xbf\\xbd\\x18\\xef\\xbf\\xbd\"Xi\\x1f\\xd7\\x8aV\\xef\\xbf\\xbd\\xef\\xbf\\xbd\\xef\\xbf\\xbd\\xef\\xbf\\xbd\\xef\\xbf\\xbd\\xef\\xbf\\xbdS\\xef\\xbf\\xbd?\\x03\\x00\\xef\\xbf\\xbd\\xef\\xbf\\xbd\\xef\\xbf\\xbd\\xef\\xbf\\xbd\\x12\\xef\\xbf\\xbd\\x0b\\xef\\xbf\\xbd;\\xef\\xbf\\xbd\\xef\\xbf\\xbd\\xef\\xbf\\xbd\"l\\x7f\\xef\\xbf\\xbd\\xef\\xbf\\xbd,\\xef\\xbf\\xbd4!~\\x07g\\xef\\xbf\\xbd;\\x10\\xef\\xbf\\xbd\\xef\\xbf\\xbdR=\\xef\\xbf\\xbd\\xef\\xbf\\xbdWV#\\xef\\xbf\\xbd\\xef\\xbf\\xbdF\\xef\\xbf\\xbdQ\\xef\\xbf\\xbdF\\x17G\\xef\\xbf\\xbd\\xef\\xbf\\xbd\\xef\\xbf\\xbd\\xef\\xbf\\xbd\\xef\\xbf\\xbd\\xef\\xbf\\xbd\\xef\\xbf\\xbd\\xef\\xbf\\xbd\\xef\\xbf\\xbd\\xd5\\x85>}g\\xef\\xbf\\xbd\\x06?\\xef\\xbf\\xbd\\t\\xef\\xbf\\xbd\\xef\\xbf\\xbd\\x05pN\\xef\\xbf\\xbd&\\xef\\xbf\\xbd\\xef\\xbf\\xbd>i\\xef\\xbf\\xbd\\xef\\xbf\\xbd\\xef\\xbf\\xbd)\\xef\\xbf\\xbd7K\\xef\\xbf\\xbd\\xef\\xbf\\xbdx CRZ\\xea\\x8e\\x84\\xef\\xbf\\xbd\\x1d\\x15\\xef\\xbf\\xbdfi\\xef\\xbf\\xbd\\xef\\xbf\\xbd\\xef\\xbf\\xbdX\\xef\\xbf\\xbdC\\xef\\xbf\\xbd\\xdb\\xb5C\\xef\\xbf\\xbd6\\xef\\xbf\\xbd0\\xef\\xbf\\xbd\\xef\\xbf\\xbd\\xef\\xbf\\xbd<8&\\xef\\xbf\\xbd\\xef\\xbf\\xbdE\\xef\\xbf\\xbd\\x1b\\xef\\xbf\\xbd~F)\\xef\\xbf\\xbd\\x04\\xcc\\x8a\\xef\\xbf\\xbd:.O\\xef\\xbf\\xbd\\xef\\xbf\\xbdF\\r\\xef\\xbf\\xbd_\\xef\\xbf\\xbd\\xef\\xbf\\xbd8d\\xef\\xbf\\xbd\\x16l\\xef\\xbf\\xbd\\xef\\xbf\\xbd\\xef\\xbf\\xbd\\xef\\xbf\\xbd\\x16_\\xef\\xbf\\xbdl\\xef\\xbf\\xbd\\x00b\\xef\\xbf\\xbd\\xef\\xbf\\xbd\\xef\\xbf\\xbd\\xef\\xbf\\xbdZ\\xef\\xbf\\xbd\\x14\\xef\\xbf\\xbd|\\xef\\xbf\\xbd\\xef\\xbf\\xbd\\xef\\xbf\\xbd.\\xef\\xbf\\xbdI\\xca\\x92\\xef\\xbf\\xbdu\\xef\\xbf\\xbd\\xef\\xbf\\xbd\\xd4\\x9e+\\xef\\xbf\\xbd\\xef\\xbf\\xbdi\\xcd\\x9e\\xef\\xbf\\xbd>o\\xef\\xbf\\xbd\\x17\\xef\\xbf\\xbd\\x1a\\xef\\xbf\\xbd\\x11\\x02\\x13\\xef\\xbf\\xbdp\\xef\\xbf\\xbd\\xef\\xbf\\xbd\\x11)\\x10H\\xef\\xbf\\xbd.\\xef\\xbf\\xbd\\xef\\xbf\\xbd\\xef\\xbf\\xbd\\xef\\xbf\\xbd\\xef\\xbf\\xbd\\xef\\xbf\\xbd}\\xef\\xbf\\xbd\\xef\\xbf\\xbd]\\xc2\\xa9\\xef\\xbf\\xbd+3\\xcb\\x82\\xef\\xbf\\xbd\\x16zK\\xef\\xbf\\xbd\\xef\\xbf\\xbd\\xef\\xbf\\xbd\\xef\\xbf\\xbd\\x18\"N\\xef\\xbf\\xbd6o\\xef\\xbf\\xbdY\\xef\\xbf\\xbd&\\xc4\\x9f\\xd0\\xa1\\xef\\xbf\\xbd%[\\xef\\xbf\\xbd\\xef\\xbf\\xbd6\\xef\\xbf\\xbd&b\\xef\\xbf\\xbd\\\\\\xef\\xbf\\xbd\\xef\\xbf\\xbd\\xef\\xbf\\xbd1o\\xef\\xbf\\xbdW{K\\xef\\xbf\\xbd#\\xef\\xbf\\xbd\\xef\\xbf\\xbd\\xd4\\x9c+RY\\x1d\\xef\\xbf\\xbdH\\xef\\xbf\\xbd\\x01(k\\xef\\xbf\\xbd\\x18\\xef\\xbf\\xbd>\\xef\\xbf\\xbdk,,\\xef\\xbf\\xbd\\xef\\xbf\\xbd\\x1b\\xef\\xbf\\xbd\\xef\\xbf\\xbd\\xc3\\xa6\\xef\\xbf\\xbdk\\xef\\xbf\\xbd\\xef\\xbf\\xbd|\\x02qL\\xef\\xbf\\xbd\\xef\\xbf\\xbd=\\xef\\xbf\\xbd\\xef\\xbf\\xbd\\xef\\xbf\\xbd|$\\xef\\xbf\\xbd\\x12\\xef\\xbf\\xbdY\\xef\\xbf\\xbdb\\xef\\xbf\\xbd\\xef\\xbf\\xbdCa\\x0b\\n8\\xef\\xbf\\xbdcY\\xef\\xbf\\xbdY\\x16R\\xef\\xbf\\xbd\\xef\\xbf\\xbdy%\\xef\\xbf\\xbd?\\xef\\xbf\\xbdF `\\x11Y)y\\'\\x11\\x0b+\\x7f^IAr\\xef\\xbf\\xbd\\xef\\xbf\\xbd-\\xc9\\xadf\\x01U\\xef\\xbf\\xbd\\xef\\xbf\\xbd<\\x12\\xef\\xbf\\xbd\\xef\\xbf\\xbd\\xef\\xbf\\xbd$G\\r\\xef\\xbf\\xbd\\xef\\xbf\\xbd\\xef\\xbf\\xbd\\xef\\xbf\\xbd\\xef\\xbf\\xbd\\xd3\\xbaXw@\\xdb\\x91\\xef\\xbf\\xbd\\xef\\xbf\\xbdRL\\xc8\\xa4U\\xef\\xbf\\xbd!\\xef\\xbf\\xbd\\x1b\\xef\\xbf\\xbd\"\\xef\\xbf\\xbd}^X\\xef\\xbf\\xbd\\xef\\xbf\\xbdSzh;\\xef\\xbf\\xbdH\\xef\\xbf\\xbdl\\xef\\xbf\\xbd\\xef\\xbf\\xbd\\xef\\xbf\\xbd/ \\xef\\xbf\\xbd\\xef\\xbf\\xbd0\\xef\\xbf\\xbdo5\\xef\\xbf\\xbd\\xef\\xbf\\xbd`AQ\\xef\\xbf\\xbdw\\xef\\xbf\\xbd\\xef\\xbf\\xbd\\xef\\xbf\\xbd\\xef\\xbf\\xbd\\xef\\xbf\\xbd+\\xef\\xbf\\xbd\\xef\\xbf\\xbd&\\xef\\xbf\\xbdl\\x0c-m\\xef\\xbf\\xbd}\\xc3\\x93\\xef\\xbf\\xbd\\xef\\xbf\\xbd?\\xef\\xbf\\xbd\\xef\\xbf\\xbdX\\xef\\xbf\\xbd\\xef\\xbf\\xbd5'",
         "b'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'"
        ],
        [
         "15",
         "10.1.10.53",
         "84.54.22.33",
         "53",
         "53",
         "b'\\x00\\x0c\\x01\\x00\\x00\\x01\\x00\\x00\\x00\\x00\\x00\\x00\\x06google\\x03com\\x00\\x00\\x1c\\x00\\x01yS\\xef\\xbf\\xbd\\t\\xef\\xbf\\xbd\\xef\\xbf\\xbdO\\xef\\xbf\\xbd\\x08!\\xef\\xbf\\xbd\\xef\\xbf\\xbd\\xef\\xbf\\xbd4\\xef\\xbf\\xbd\\xe5\\x8c\\x8c\\xef\\xbf\\xbde\\x07\\n\\xef\\xbf\\xbd\\xef\\xbf\\xbd\\xef\\xbf\\xbd2)\\xc8\\xb3\\xef\\xbf\\xbdK\\xef\\xbf\\xbdS\\n\\xef\\xbf\\xbd`\\xd4\\x8d\\xef\\xbf\\xbdI\\x02\\x16D\\x14BL\\xef\\xbf\\xbd\\xef\\xbf\\xbd\\xef\\xbf\\xbd5\\xef\\xbf\\xbd\"\\xef\\xbf\\xbd\\xef\\xbf\\xbd\\xef\\xbf\\xbd\"VwF\\n3\\xef\\xbf\\xbd\\xd8\\x8bK\\xef\\xbf\\xbd~\\x11\\xef\\xbf\\xbd]{\\xef\\xbf\\xbd\\xef\\xbf\\xbdl\\xef\\xbf\\xbd\\xef\\xbf\\xbdD\\xef\\xbf\\xbd6~\\xef\\xbf\\xbds\\xc8\\x90\\xef\\xbf\\xbd\\x10p\\x18@\\xef\\xbf\\xbd\\x12\\xdf\\x90\\xef\\xbf\\xbd\\xef\\xbf\\xbd\\xef\\xbf\\xbdr\\xef\\xbf\\xbd\\xef\\xbf\\xbd\\xef\\xbf\\xbd\\xef\\xbf\\xbd\\x1f\\xef\\xbf\\xbdr\\xef\\xbf\\xbd`\\xef\\xbf\\xbdOR.GG\\xef\\xbf\\xbd\\xef\\xbf\\xbd\\xef\\xbf\\xbdB\\xef\\xbf\\xbd\\xef\\xbf\\xbd\\x0f\\x1e-\\xef\\xbf\\xbd|,v\\xef\\xbf\\xbd\\x10!M\\xef\\xbf\\xbdw*\\xef\\xbf\\xbd!#\\xef\\xbf\\xbd\\xef\\xbf\\xbd\\xef\\xbf\\xbd0\\xef\\xbf\\xbd \\xef\\xbf\\xbd\\xef\\xbf\\xbdc\\xef\\xbf\\xbdlyG\\x1a>\\xef\\xbf\\xbd\\x08G\\xef\\xbf\\xbdvv\\xc4\\xaf\\x15\\xef\\xbf\\xbd\\xef\\xbf\\xbd{l?4w\\xef\\xbf\\xbd\\xef\\xbf\\xbd!\\xe0\\xb5\\x88g\\xef\\xbf\\xbd\\xef\\xbf\\xbd\\xef\\xbf\\xbd\\x17\\xef\\xbf\\xbd^\\xef\\xbf\\xbd\\xef\\xbf\\xbdR\\xef\\xbf\\xbd_D\\xef\\xbf\\xbd\\xcb\\xbd\\xef\\xbf\\xbd=\\x17\\xef\\xbf\\xbdb\\xef\\xbf\\xbd0\\xef\\xbf\\xbd\\xef\\xbf\\xbd{\\xdd\\xb3\\xef\\xbf\\xbdm\\xef\\xbf\\xbdT\\xef\\xbf\\xbd{\\xef\\xbf\\xbd\\x00@\\xef\\xbf\\xbd\\xef\\xbf\\xbd\\xdf\\x848\\xef\\xbf\\xbd\\xef\\xbf\\xbd=\\xef\\xbf\\xbd_N\\xef\\xbf\\xbd\\x02m\\xef\\xbf\\xbd \\x04\\x1a,\\x04\\xef\\xbf\\xbd]X\\xef\\xbf\\xbd\\xef\\xbf\\xbdUT:/\\x1a0\\xef\\xbf\\xbdI\\xef\\xbf\\xbd\\xc7\\xab\\xef\\xbf\\xbd\\xef\\xbf\\xbd\\xd4\\x9c\\x7fH~\\x1d\\x14&\\xef\\xbf\\xbd\\x1d\\x04\\xef\\xbf\\xbd\\xef\\xbf\\xbd\\xef\\xbf\\xbd,{\\x0b\\x0b?\\x0fs\\xef\\xbf\\xbd\\xef\\xbf\\xbd\\xef\\xbf\\xbd\\xef\\xbf\\xbd\\xef\\xbf\\xbdy%\\xef\\xbf\\xbd\\x02q\\xef\\xbf\\xbd}\\xe7\\x8c\\xb2\\xef\\xbf\\xbd\\x00\\xef\\xbf\\xbdMv]mK\\xef\\xbf\\xbd/\\xee\\x8f\\x8a\\xef\\xbf\\xbd_c\\xef\\xbf\\xbd\\xef\\xbf\\xbd:z\\xef\\xbf\\xbd\\xef\\xbf\\xbdMJ\\x18\\xef\\xbf\\xbd\\xef\\xbf\\xbd9\\xef\\xbf\\xbde\\x02\\xef\\xbf\\xbdM\\xef\\xbf\\xbd,\\x0eF\\xef\\xbf\\xbd\\xef\\xbf\\xbd\\x13\\xef\\xbf\\xbd#[\\xef\\xbf\\xbdX\\xef\\xbf\\xbd{P\\xef\\xbf\\xbd\\xef\\xbf\\xbdy\\xef\\xbf\\xbdU\\xef\\xbf\\xbd\\xef\\xbf\\xbd\\xef\\xbf\\xbdkW\\xef\\xbf\\xbda\\xef\\xbf\\xbdG\\x11\\xef\\xbf\\xbdj_gb^\\xef\\xbf\\xbd\\xef\\xbf\\xbd\\r\\x06\\xef\\xbf\\xbd\\xef\\xbf\\xbd\\xef\\xbf\\xbd\\x11\\xef\\xbf\\xbd\\xef\\xbf\\xbd\\xef\\xbf\\xbd\\x1d\\xef\\xbf\\xbd)\\x14\\xef\\xbf\\xbde\\xef\\xbf\\xbd\\xef\\xbf\\xbd\\xef\\xbf\\xbdJ\\x12\\xef\\xbf\\xbd\\xd9\\x9a\\xef\\xbf\\xbdX\\xef\\xbf\\xbd\\'\\xef\\xbf\\xbd\\xef\\xbf\\xbdH\\x1d\\xca\\xba\\xef\\xbf\\xbd\\x1f9M\\xef\\xbf\\xbdin\\xef\\xbf\\xbd\\xef\\xbf\\xbd\\xef\\xbf\\xbd\"z\\xef\\xbf\\xbd \\xef\\xbf\\xbd\\x1d]\\xef\\xbf\\xbdZ\\x14\\xef\\xbf\\xbdGD\\xef\\xbf\\xbd\\x0e\\x11|hk\\xef\\xbf\\xbd\\xef\\xbf\\xbd\\xef\\xbf\\xbdg\\xef\\xbf\\xbdX>\\xef\\xbf\\xbd\\xef\\xbf\\xbd{\\x12fA\\xef\\xbf\\xbd\\xef\\xbf\\xbd\\x1d~\\x0f\\xef\\xbf\\xbd\\x11\\xef\\xbf\\xbd\\xef\\xbf\\xbd`\\x12\\xef\\xbf\\xbd\\x07D\\xef\\xbf\\xbd\\xef\\xbf\\xbd\\x00G\\xef\\xbf\\xbd\\xef\\xbf\\xbdF\\x08]\\xe2\\x8f\\xbd\\xef\\xbf\\xbd\\xef\\xbf\\xbd\\xef\\xbf\\xbd\\xef\\xbf\\xbd\\x05D\\xef\\xbf\\xbd\\xef\\xbf\\xbd\\\\kE\\xef\\xbf\\xbd\\xef\\xbf\\xbd\\xef\\xbf\\xbd\\xef\\xbf\\xbd\\xef\\xbf\\xbdXR\\x0e?c\\xef\\xbf\\xbd\\xef\\xbf\\xbd\\xef\\xbf\\xbd7!\\xef\\xbf\\xbd\\xef\\xbf\\xbd\\xef\\xbf\\xbd\\x03\\x07\\x1b\\xef\\xbf\\xbdCS\\xef\\xbf\\xbd\\t\\x07\\x1c\\x15d\\xef\\xbf\\xbd\\xef\\xbf\\xbd\\x0e)Vzd\\xef\\xbf\\xbd\\xef\\xbf\\xbd\\xef\\xbf\\xbd\"\\xef\\xbf\\xbd\\xef\\xbf\\xbd\\xdd\\xb5\\xef\\xbf\\xbd\\xef\\xbf\\xbd\\x12\\xef\\xbf\\xbd%\\x1b\\xef\\xbf\\xbdMS]\\xef\\xbf\\xbd\\xef\\xbf\\xbd\\xef\\xbf\\xbd'",
         "b'000c0100000100000000000006676f6f676c6503636f6d00001c00017953efbfbd09efbfbdefbfbd4fefbfbd0821efbfbdefbfbdefbfbd34efbfbde58c8cefbfbd65070aefbfbdefbfbdefbfbd3229c8b3efbfbd4befbfbd530aefbfbd60d48defbfbd4902164414424cefbfbdefbfbdefbfbd35efbfbd22efbfbdefbfbdefbfbd225677460a33efbfbdd88b4befbfbd7e11efbfbd5d7befbfbdefbfbd6cefbfbdefbfbd44efbfbd367eefbfbd73c890efbfbd10701840efbfbd12df90efbfbdefbfbdefbfbd72efbfbdefbfbdefbfbdefbfbd1fefbfbd72efbfbd60efbfbd4f522e4747efbfbdefbfbdefbfbd42efbfbdefbfbd0f1e2defbfbd7c2c76efbfbd10214defbfbd772aefbfbd2123efbfbdefbfbdefbfbd30efbfbd20efbfbdefbfbd63efbfbd6c79471a3eefbfbd0847efbfbd7676c4af15efbfbdefbfbd7b6c3f3477efbfbdefbfbd21e0b58867efbfbdefbfbdefbfbd17efbfbd5eefbfbdefbfbd52efbfbd5f44efbfbdcbbdefbfbd3d17efbfbd62efbfbd30efbfbdefbfbd7bddb3efbfbd6defbfbd54efbfbd7befbfbd0040efbfbdefbfbddf8438efbfbdefbfbd3defbfbd5f4eefbfbd026defbfbd20041a2c04efbfbd5d58efbfbdefbfbd55543a2f1a30efbfbd49efbfbdc7abefbfbdefbfbdd49c7f487e1d1426efbfbd1d04efbfbdefbfbdefbfbd2c7b0b0b3f0f73efbfbdefbfbdefbfbdefbfbdefbfbd7925efbfbd0271efbfbd7de78cb2efbfbd00efbfbd4d765d6d4befbfbd2fee8f8aefbfbd5f63efbfbdefbfbd3a7aefbfbdefbfbd4d4a18efbfbdefbfbd39efbfbd6502efbfbd4defbfbd2c0e46efbfbdefbfbd13efbfbd235befbfbd58efbfbd7b50efbfbdefbfbd79efbfbd55efbfbdefbfbdefbfbd6b57efbfbd61efbfbd4711efbfbd6a5f67625eefbfbdefbfbd0d06efbfbdefbfbdefbfbd11efbfbdefbfbdefbfbd1defbfbd2914efbfbd65efbfbdefbfbdefbfbd4a12efbfbdd99aefbfbd58efbfbd27efbfbdefbfbd481dcabaefbfbd1f394defbfbd696eefbfbdefbfbdefbfbd227aefbfbd20efbfbd1d5defbfbd5a14efbfbd4744efbfbd0e117c686befbfbdefbfbdefbfbd67efbfbd583eefbfbdefbfbd7b126641efbfbdefbfbd1d7e0fefbfbd11efbfbdefbfbd6012efbfbd0744efbfbdefbfbd0047efbfbdefbfbd46085de28fbdefbfbdefbfbdefbfbdefbfbd0544efbfbdefbfbd5c6b45efbfbdefbfbdefbfbdefbfbdefbfbd58520e3f63efbfbdefbfbdefbfbd3721efbfbdefbfbdefbfbd03071befbfbd4353efbfbd09071c1564efbfbdefbfbd0e29567a64efbfbdefbfbdefbfbd22efbfbdefbfbdddb5efbfbdefbfbd12efbfbd251befbfbd4d535defbfbdefbfbdefbfbd'"
        ],
        [
         "16",
         "10.1.10.53",
         "84.54.22.33",
         "53",
         "53",
         "b'\\x00\\x0c\\x01\\x00\\x00\\x01\\x00\\x00\\x00\\x00\\x00\\x00\\x06google\\x03com\\x00\\x00\\x1c\\x00\\x01\\x1d9\\xef\\xbf\\xbd\\x15\\xc6\\xb8\\xef\\xbf\\xbd\\nc\\xef\\xbf\\xbd\\xef\\xbf\\xbd{\\x1b\\xef\\xbf\\xbd(\\xef\\xbf\\xbd\\xef\\xbf\\xbd6\\x17\\t\\x05\\xef\\xbf\\xbd\\xef\\xbf\\xbdo\\xef\\xbf\\xbd\"\\x1d\\xef\\xbf\\xbdv\\xef\\xbf\\xbdKD\\xef\\xbf\\xbd\\xef\\xbf\\xbdP\\xcb\\xa4\\xef\\xbf\\xbd\\xef\\xbf\\xbd\\x18\\x1d\\\\Q6E\\x11\\xef\\xbf\\xbd\"\\xef\\xbf\\xbdWCk\\xef\\xbf\\xbd-\\x18\\x17\\xef\\xbf\\xbd\\x1b\\xef\\xbf\\xbd\\xef\\xbf\\xbd\\xef\\xbf\\xbd\\x04 \\xef\\xbf\\xbd]]\\tTq\\xef\\xbf\\xbdx\\xd6\\xbcE\\xef\\xbf\\xbdG\\x01\\xef\\xbf\\xbd\\xef\\xbf\\xbd]\\xef\\xbf\\xbdK\\xef\\xbf\\xbd\\xef\\xbf\\xbd\\xef\\xbf\\xbd\\x02\\xef\\xbf\\xbd\\x04\\xef\\xbf\\xbd\\xef\\xbf\\xbd\\xef\\xbf\\xbd\\xef\\xbf\\xbd\\n\\xef\\xbf\\xbd\\xcc\\xa0\\xef\\xbf\\xbdl\\xef\\xbf\\xbd\\xef\\xbf\\xbd\\xef\\xbf\\xbd[\\xef\\xbf\\xbd\\xef\\xbf\\xbd`q\\x17\\n\\xef\\xbf\\xbd\\xef\\xbf\\xbd\\xef\\xbf\\xbd\\xef\\xbf\\xbdD\\xef\\xbf\\xbdx\\xef\\xbf\\xbd\\xef\\xbf\\xbd\\xef\\xbf\\xbdr\\xef\\xbf\\xbd\\xef\\xbf\\xbdy\\x0bSJ\\xef\\xbf\\xbdSPTr\\x0e\\xef\\xbf\\xbd8\\xef\\xbf\\xbdk}\\xef\\xbf\\xbd\\xef\\xbf\\xbd\\r\\xef\\xbf\\xbd\\x0b2\\xef\\xbf\\xbd^!e\\xef\\xbf\\xbd\\xef\\xbf\\xbd\\xef\\xbf\\xbd\\xef\\xbf\\xbd\\xef\\xbf\\xbd\\xef\\xbf\\xbda\\xd8\\x92\\xef\\xbf\\xbd\\xef\\xbf\\xbd\\xef\\xbf\\xbd\\x1d\\xef\\xbf\\xbdc\\x1a\\xef\\xbf\\xbd\\xef\\xbf\\xbd\\xef\\xbf\\xbd\\x18_\\xef\\xbf\\xbd7\\xce\\xaf\\xef\\xbf\\xbd\\x1b\\xdf\\x8f\\xdc\\x80M\\xef\\xbf\\xbd4\\xcd\\x90\\xef\\xbf\\xbd\\t\\xef\\xbf\\xbd!\\xef\\xbf\\xbd\\xef\\xbf\\xbdo\\xef\\xbf\\xbd\\x1e\\xef\\xbf\\xbd\\x1byA\\x7f\\xef\\xbf\\xbd\\x19\\xef\\xbf\\xbd\\xef\\xbf\\xbd\\xef\\xbf\\xbdl\\x15V\\xef\\xbf\\xbd\\xef\\xbf\\xbdu`\\xef\\xbf\\xbd\\x149\\x079^L\\\\e\\xef\\xbf\\xbd\\xef\\xbf\\xbdD}\\xef\\xbf\\xbd\\xef\\xbf\\xbd>\\xde\\xbd\\xef\\xbf\\xbd`n\\xef\\xbf\\xbdoL\\x0c\\xef\\xbf\\xbd\\xcb\\xa64\\xd7\\xae\\x1f\\xef\\xbf\\xbd\\xef\\xbf\\xbd\\xef\\xbf\\xbd\\x105*\\xef\\xbf\\xbdG\\x0f\\xef\\xbf\\xbd\\xef\\xbf\\xbdE\\xef\\xbf\\xbd\\xef\\xbf\\xbd\\xef\\xbf\\xbdu\\xef\\xbf\\xbd\\xef\\xbf\\xbd\\x13\\xef\\xbf\\xbd]e\\xef\\xbf\\xbd_wm\\xef\\xbf\\xbd\\xef\\xbf\\xbd\\xef\\xbf\\xbd\\xef\\xbf\\xbd\\x0eB\\xef\\xbf\\xbd\\xef\\xbf\\xbd9\\x18>\\xef\\xbf\\xbdn\\xef\\xbf\\xbd7!\\xef\\xbf\\xbd\\xef\\xbf\\xbdP\\xef\\xbf\\xbd\\xef\\xbf\\xbd\\xef\\xbf\\xbd]\\xef\\xbf\\xbd\\xef\\xbf\\xbd\\xc9\\xac\\xef\\xbf\\xbd\\xc4\\x82\\xef\\xbf\\xbdYB\\xef\\xbf\\xbd\\xef\\xbf\\xbd\\x0b}\\xef\\xbf\\xbd\\'gy\\x17\\xef\\xbf\\xbd\\xef\\xbf\\xbd\\xef\\xbf\\xbd1\\xef\\xbf\\xbdzD\\x08\\x06\\'\\x1e\\xef\\xbf\\xbd\\xef\\xbf\\xbd\\xef\\xbf\\xbd\\xef\\xbf\\xbd\\xef\\xbf\\xbd\\xef\\xbf\\xbd\\xef\\xbf\\xbd\\xec\\x84\\x98\\xef\\xbf\\xbd\\x10\\xef\\xbf\\xbd\\xef\\xbf\\xbdC\\xef\\xbf\\xbdpqbo\\xef\\xbf\\xbd\"\\xef\\xbf\\xbduqI\\xcf\\xb8\\xef\\xbf\\xbd\\xef\\xbf\\xbdCQ\\xc8\\xa1v\\xef\\xbf\\xbd;t\\xef\\xbf\\xbdiJ\\xef\\xbf\\xbd\\xef\\xbf\\xbd\\xef\\xbf\\xbd7\\xef\\xbf\\xbd\\xef\\xbf\\xbdV]a,\\xef\\xbf\\xbd\\xef\\xbf\\xbd\\x1d\\xef\\xbf\\xbd\\xef\\xbf\\xbd2\\xcd\\xb9\\xef\\xbf\\xbd\\x15\\xef\\xbf\\xbd\\xef\\xbf\\xbd\\xef\\xbf\\xbd\\x01\\xef\\xbf\\xbd\\x7f\\x1f\\xef\\xbf\\xbd%\\xef\\xbf\\xbd\\xef\\xbf\\xbd\\xef\\xbf\\xbd[\\xef\\xbf\\xbd\\xef\\xbf\\xbd\\xef\\xbf\\xbd\\xef\\xbf\\xbd\\'\\xef\\xbf\\xbd\\x01I\\x11m\\xef\\xbf\\xbd\\xef\\xbf\\xbd\\x1bS:\\xef\\xbf\\xbda\\xef\\xbf\\xbd\\xef\\xbf\\xbdX\\xef\\xbf\\xbd8)\\xef\\xbf\\xbdf3.\\xef\\xbf\\xbd\\xef\\xbf\\xbd{=R\\xef\\xbf\\xbd\\xef\\xbf\\xbd\\x15>d\\xef\\xbf\\xbd\\x19\\xef\\xbf\\xbd\\x1c\\xef\\xbf\\xbd)\\x06\\x07\\xef\\xbf\\xbd\\x1d_p\\xef\\xbf\\xbd\\xef\\xbf\\xbd\\xef\\xbf\\xbd(\\xef\\xbf\\xbd\\x14Q\\xef\\xbf\\xbdpS\\xef\\xbf\\xbd\\xef\\xbf\\xbd\\x1a\\xef\\xbf\\xbdX\\xef\\xbf\\xbd(`Nw7\\xef\\xbf\\xbd\\xef\\xbf\\xbd\\xef\\xbf\\xbdUK\\xef\\xbf\\xbd\"\\xef\\xbf\\xbd\\x1d\\xef\\xbf\\xbd\\xef\\xbf\\xbd\\xda\\xb5\\xef\\xbf\\xbd\\xef\\xbf\\xbd\\xef\\xbf\\xbdV\\xef\\xbf\\xbd?JD+\\xef\\xbf\\xbd\\xef\\xbf\\xbd*\\xef\\xbf\\xbd\\xef\\xbf\\xbd\\x1e\\xef\\xbf\\xbd\\xef\\xbf\\xbd\\xd3\\x85\\xef\\xbf\\xbd9\\xef\\xbf\\xbd\\x12\\xef\\xbf\\xbd\\t\\x05\\xef\\xbf\\xbd\\xef\\xbf\\xbdmo\\xef\\xbf\\xbd\\xef\\xbf\\xbd\\xef\\xbf\\xbd\\xef\\xbf\\xbdl\\xef\\xbf\\xbd\\xef\\xbf\\xbd\\xef\\xbf\\xbd\\xef\\xbf\\xbd}\\xef\\xbf\\xbd\\xef\\xbf\\xbdGK\\xef\\xbf\\xbd'",
         "b'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'"
        ],
        [
         "17",
         "10.1.10.53",
         "84.54.22.33",
         "53",
         "53",
         "b\"\\x00\\x0c\\x01\\x00\\x00\\x01\\x00\\x00\\x00\\x00\\x00\\x00\\x06google\\x03com\\x00\\x00\\x1c\\x00\\x01O\\xef\\xbf\\xbd\\xef\\xbf\\xbd\\xef\\xbf\\xbd\\xef\\xbf\\xbd\\xc8\\x80\\xef\\xbf\\xbd\\xef\\xbf\\xbd\\xef\\xbf\\xbd\\xef\\xbf\\xbd\\x0c3\\xef\\xbf\\xbd\\x08>\\xef\\xbf\\xbdq6A\\xef\\xbf\\xbdhX\\xcd\\xaa\\xef\\xbf\\xbd]\\x0c\\xef\\xbf\\xbd\\xef\\xbf\\xbd\\xef\\xbf\\xbd\\xef\\xbf\\xbd@\\xef\\xbf\\xbd$M\\nK\\xef\\xbf\\xbdU\\xef\\xbf\\xbd\\xef\\xbf\\xbdu\\x1e\\xef\\xbf\\xbd\\x1a\\x1a\\xef\\xbf\\xbd\\xef\\xbf\\xbd\\x11\\xef\\xbf\\xbd{\\xef\\xbf\\xbd6\\xef\\xbf\\xbd\\x00\\xef\\xbf\\xbd\\xef\\xbf\\xbd:\\xef\\xbf\\xbd\\xef\\xbf\\xbd\\n}\\xef\\xbf\\xbd[\\xef\\xbf\\xbd\\xef\\xbf\\xbd\\xef\\xbf\\xbd\\xef\\xbf\\xbd\\x05IHx\\x02\\x12\\xef\\xbf\\xbd\\x01B\\x0b\\xef\\xbf\\xbd\\x7fT\\xef\\xbf\\xbd\\\\\\xef\\xbf\\xbdX\\xef\\xbf\\xbdw\\xef\\xbf\\xbd\\xef\\xbf\\xbd\\x0e\\xef\\xbf\\xbd\\xef\\xbf\\xbd\\x1b\\xef\\xbf\\xbdPtM\\xef\\xbf\\xbd3\\xef\\xbf\\xbd=\\xef\\xbf\\xbdiRV\\xc2\\x9eiZ\\xef\\xbf\\xbd\\x05\\xef\\xbf\\xbd\\xef\\xbf\\xbd\\x7f\\xef\\xbf\\xbd\\xef\\xbf\\xbd\\xef\\xbf\\xbd|\\xef\\xbf\\xbd\\xef\\xbf\\xbd\\xef\\xbf\\xbd\\xef\\xbf\\xbdf\\xef\\xbf\\xbd\\xef\\xbf\\xbd\\xef\\xbf\\xbdV\\xef\\xbf\\xbd\\xef\\xbf\\xbd\\xef\\xbf\\xbd~chU`\\xef\\xbf\\xbd_\\xef\\xbf\\xbdx N\\x1a\\xef\\xbf\\xbd\\xef\\xbf\\xbd\\xef\\xbf\\xbd\\xef\\xbf\\xbd\\xef\\xbf\\xbdP\\xef\\xbf\\xbd\\xef\\xbf\\xbdm\\\\\\xd1\\xbdU~\\xef\\xbf\\xbdS\\xef\\xbf\\xbd\\r?x9\\xef\\xbf\\xbd{(\\x13%E'E\\xef\\xbf\\xbd'\\xef\\xbf\\xbdV_*\\xd6\\x90@\\xef\\xbf\\xbd\\xef\\xbf\\xbdk}K\\x0854w\\xef\\xbf\\xbd\\xef\\xbf\\xbd\\xef\\xbf\\xbd;\\x0f\\xef\\xbf\\xbd\\xef\\xbf\\xbd\\xef\\xbf\\xbdC\\xef\\xbf\\xbd\\xef\\xbf\\xbd2X\\xef\\xbf\\xbd\\xef\\xbf\\xbd6\\xef\\xbf\\xbd\\xef\\xbf\\xbd\\xef\\xbf\\xbdox\\xef\\xbf\\xbdR\\x01\\x1b\\xef\\xbf\\xbd\\x0f\\xef\\xbf\\xbd\\xef\\xbf\\xbdb}\\xef\\xbf\\xbd\\xef\\xbf\\xbd\\xcb\\xb3g\\xef\\xbf\\xbdq\\xef\\xbf\\xbdu\\xef\\xbf\\xbd\\xef\\xbf\\xbd\\x12\\xef\\xbf\\xbd.\\xef\\xbf\\xbd\\xef\\xbf\\xbd\\x0f\\xef\\xbf\\xbdk\\xef\\xbf\\xbd\\x1d\\x19\\xef\\xbf\\xbd\\xef\\xbf\\xbd\\xef\\xbf\\xbd%\\xef\\xbf\\xbd\\x16\\xef\\xbf\\xbd\\x19\\xef\\xbf\\xbd\\x1e\\xef\\xbf\\xbd+\\xef\\xbf\\xbd\\xef\\xbf\\xbd\\xef\\xbf\\xbd\\xef\\xbf\\xbd^\\x1d\\xef\\xbf\\xbd\\xef\\xbf\\xbd\\x13\\xef\\xbf\\xbd\\xef\\xbf\\xbd\\x0f\\x13}\\xef\\xbf\\xbd2\\xef\\xbf\\xbd5\\xef\\xbf\\xbd\\xef\\xbf\\xbd@\\xef\\xbf\\xbd\\xef\\xbf\\xbd?\\xef\\xbf\\xbd\\xef\\xbf\\xbd\\xef\\xbf\\xbd_\\xef\\xbf\\xbd8\\xef\\xbf\\xbd\\xef\\xbf\\xbdg\\x1e<\\x1c\\xef\\xbf\\xbd\\x1b\\xef\\xbf\\xbd\\x15\\xef\\xbf\\xbd\\xef\\xbf\\xbdt\\xef\\xbf\\xbd\\xef\\xbf\\xbd\\xef\\xbf\\xbd\\x10\\x08\\xef\\xbf\\xbds<r\\xef\\xbf\\xbd\\x070\\xef\\xbf\\xbd\\x06\\xdb\\x98\\xcb\\x98\\xef\\xbf\\xbd\\xef\\xbf\\xbd\\xcc\\x91\\xef\\xbf\\xbdc2$\\x14\\x03ux}\\xef\\xbf\\xbd\\xef\\xbf\\xbd\\xef\\xbf\\xbdD\\xef\\xbf\\xbd\\x1f\\xef\\xbf\\xbd\\xef\\xbf\\xbdr\\xef\\xbf\\xbdETHu\\xef\\xbf\\xbd\\x0f\\xef\\xbf\\xbd\\x02.\\xef\\xbf\\xbd\\xef\\xbf\\xbd\\xef\\xbf\\xbd[j\\x03\\xef\\xbf\\xbd_\\xef\\xbf\\xbd\\xef\\xbf\\xbd\\xef\\xbf\\xbd\\xef\\xbf\\xbd5Fs(Ls\\xef\\xbf\\xbd\\x15\\xc6\\x98\\xef\\xbf\\xbd\\xef\\xbf\\xbdK\\xef\\xbf\\xbd\\x0f\\xef\\xbf\\xbd+\\xef\\xbf\\xbd\\xef\\xbf\\xbd%\\n\\xef\\xbf\\xbd\\xef\\xbf\\xbd\\xef\\xbf\\xbdy\\xef\\xbf\\xbd\\t\\x1a-\\xef\\xbf\\xbd\\x0f\\xef\\xbf\\xbd\\xef\\xbf\\xbd\\x1a\\xce\\xb2q\\xef\\xbf\\xbd\\xef\\xbf\\xbd\\xef\\xbf\\xbdV\\xdb\\xb1\\xef\\xbf\\xbd\\xef\\xbf\\xbdI\\\\\\xef\\xbf\\xbd\\xef\\xbf\\xbdL}\\xef\\xbf\\xbd\\xef\\xbf\\xbd\\xef\\xbf\\xbd\\r\\xef\\xbf\\xbd\\xef\\xbf\\xbd8\\xd6\\x8d\\xef\\xbf\\xbd\\xef\\xbf\\xbd]\\xef\\xbf\\xbd\\xef\\xbf\\xbd>\\xef\\xbf\\xbda\\\\\\x13\\xef\\xbf\\xbd\\xef\\xbf\\xbd&\\xef\\xbf\\xbd\\xc3\\xac\\xef\\xbf\\xbd\\xef\\xbf\\xbd\\xef\\xbf\\xbd\\xef\\xbf\\xbd\\xef\\xbf\\xbdE\\xe1\\xad\\x89\\xef\\xbf\\xbd\\xef\\xbf\\xbd\\xef\\xbf\\xbd6\\xef\\xbf\\xbd\\x16\\xef\\xbf\\xbd{]B\\xef\\xbf\\xbd\\x1f\\x14xK;\\xef\\xbf\\xbd\\x1a6\\xef\\xbf\\xbd\\xef\\xbf\\xbd\\xef\\xbf\\xbd\\xef\\xbf\\xbd\\xef\\xbf\\xbd\\x15\\x06VU\\xef\\xbf\\xbd\\xef\\xbf\\xbd;\\xef\\xbf\\xbd\\x1f\\xef\\xbf\\xbd#\\x05\\xef\\xbf\\xbd$^=+\\x05\\xef\\xbf\\xbdK\\xdc\\xa6\\xef\\xbf\\xbdv\\xef\\xbf\\xbdN\\xef\\xbf\\xbd?\\x08\\rn\\xef\\xbf\\xbdw!\\xef\\xbf\\xbd\\x19YK\\x0f\\x1d\\xd8\\x97C\\xef\\xbf\\xbd\\xef\\xbf\\xbd^\\xef\\xbf\\xbd\\xef\\xbf\\xbd\\xdf\\xbb\"",
         "b'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'"
        ],
        [
         "18",
         "10.1.10.53",
         "84.54.22.33",
         "53",
         "53",
         "b'\\x00\\x0c\\x01\\x00\\x00\\x01\\x00\\x00\\x00\\x00\\x00\\x00\\x06google\\x03com\\x00\\x00\\x1c\\x00\\x01\\xef\\xbf\\xbd\\xef\\xbf\\xbdX\\xef\\xbf\\xbd\\xef\\xbf\\xbd\\t\\xef\\xbf\\xbd\\xf3\\xbc\\x89\\xb7\\xef\\xbf\\xbd9ux\\xef\\xbf\\xbd2\\xef\\xbf\\xbdL\\x1b\\xef\\xbf\\xbd\\xef\\xbf\\xbd\\x16\\xd8\\x8e\\xef\\xbf\\xbd\\xef\\xbf\\xbd\\\\\\x01H4\\xef\\xbf\\xbd#\\xef\\xbf\\xbd\\xef\\xbf\\xbd\\xef\\xbf\\xbd\\xef\\xbf\\xbd\\x08\\xef\\xbf\\xbd\\x7f\\xef\\xbf\\xbd~\\xef\\xbf\\xbd\\xdd\\x9an\\xef\\xbf\\xbd\\xef\\xbf\\xbdV^\\xd4\\xb5n[ p\\xef\\xbf\\xbd\\xef\\xbf\\xbd\\xef\\xbf\\xbd]r\\xef\\xbf\\xbdH\\xef\\xbf\\xbdiv\\xe1\\x99\\x9a\\n\\xef\\xbf\\xbd\\x7f\\x12\\x1doVQ\\xef\\xbf\\xbd\\x11\\xef\\xbf\\xbd\\xef\\xbf\\xbd6&TB\\xef\\xbf\\xbd\\xef\\xbf\\xbd.\\xef\\xbf\\xbdl#\\x014\\xef\\xbf\\xbd\\r\\xe6\\xb3\\xbc\\xd3\\xae\\xef\\xbf\\xbd\\xef\\xbf\\xbd\\xef\\xbf\\xbdA\\xef\\xbf\\xbd\\xef\\xbf\\xbd7\\xef\\xbf\\xbdX\\xef\\xbf\\xbd\\xef\\xbf\\xbdw\\xef\\xbf\\xbd\\xef\\xbf\\xbd\\xef\\xbf\\xbdzJ\\xef\\xbf\\xbd\\xef\\xbf\\xbd\\x023\\xef\\xbf\\xbd\\xef\\xbf\\xbdbrO0rM\\xef\\xbf\\xbdD}\\xef\\xbf\\xbd\\xef\\xbf\\xbdI*~\\xde\\x8b\\xef\\xbf\\xbd\\xef\\xbf\\xbd\\x02\\xef\\xbf\\xbd_\\xef\\xbf\\xbd\\xef\\xbf\\xbd\\xef\\xbf\\xbd\\xda\\xb5c-;I\\xef\\xbf\\xbdx\\xef\\xbf\\xbdR\\x13\\x7f/\\xef\\xbf\\xbd\\xef\\xbf\\xbd\\x1b\\xef\\xbf\\xbd\\xef\\xbf\\xbd\\xef\\xbf\\xbd\\xdd\\x9eg\\x15\\xef\\xbf\\xbd.\\xef\\xbf\\xbd\\xef\\xbf\\xbdt\\t\\xef\\xbf\\xbd\\xef\\xbf\\xbdoy|\\xef\\xbf\\xbd\\xef\\xbf\\xbd\\xef\\xbf\\xbd~4\\xef\\xbf\\xbd\\xdb\\x93\\x19\\xef\\xbf\\xbd\\xef\\xbf\\xbd\\xef\\xbf\\xbd\\x01#\\xef\\xbf\\xbd\\xd0\\x9a\\xd6\\xb2%XY\\xef\\xbf\\xbd\\xef\\xbf\\xbd\\xef\\xbf\\xbd\\x1f\\x1c\\xef\\xbf\\xbd>\\x14K\\xef\\xbf\\xbdin\\x17\\xef\\xbf\\xbd\\x18H\\xef\\xbf\\xbd\\xef\\xbf\\xbd\\xef\\xbf\\xbd\\x0bKs\\xef\\xbf\\xbdb\\xef\\xbf\\xbdf\\xef\\xbf\\xbd\\xef\\xbf\\xbd\\xef\\xbf\\xbd\\xef\\xbf\\xbd\\x17\\xef\\xbf\\xbd\\xef\\xbf\\xbd\\xd2\\xa7P\\xef\\xbf\\xbd\\xef\\xbf\\xbd\\xef\\xbf\\xbdT\\xef\\xbf\\xbd\\xef\\xbf\\xbd\\x13\\xef\\xbf\\xbd\\x10\\xef\\xbf\\xbd\\x15\\xef\\xbf\\xbd\\xef\\xbf\\xbdOx>\\xc4\\x88\\x15\\xef\\xbf\\xbd\\xef\\xbf\\xbd\\xef\\xbf\\xbdQh\\xef\\xbf\\xbd\\xef\\xbf\\xbd\\xef\\xbf\\xbd$\\xef\\xbf\\xbd\\x0e\\xef\\xbf\\xbd\"\\xef\\xbf\\xbd\\xef\\xbf\\xbd\\xef\\xbf\\xbd\\x00\\xef\\xbf\\xbd\\xef\\xbf\\xbd\\tVB!\\xef\\xbf\\xbd\\xef\\xbf\\xbd\\xef\\xbf\\xbdh\\x12\\xef\\xbf\\xbd\\xef\\xbf\\xbd\\xef\\xbf\\xbd\\xef\\xbf\\xbd\\xef\\xbf\\xbd\\xef\\xbf\\xbd\\x00J\\xef\\xbf\\xbd\\xef\\xbf\\xbd\\xef\\xbf\\xbdMH\\xef\\xbf\\xbd\\xef\\xbf\\xbd2\\xef\\xbf\\xbd\\xef\\xbf\\xbdy\\xef\\xbf\\xbd\\xef\\xbf\\xbd,!\\xef\\xbf\\xbd\\xef\\xbf\\xbd\\xef\\xbf\\xbd \\xef\\xbf\\xbd\\x02>\\xef\\xbf\\xbd\\xef\\xbf\\xbd]\\xef\\xbf\\xbd\\xef\\xbf\\xbd\\x05\\xef\\xbf\\xbd\\xef\\xbf\\xbd~\\xef\\xbf\\xbd%B\\xef\\xbf\\xbd\\t\\x19\\x1c\\xef\\xbf\\xbdF$\\xef\\xbf\\xbdw+rM\\xef\\xbf\\xbd\\xef\\xbf\\xbd\\x1e\\xef\\xbf\\xbd$v\\xef\\xbf\\xbde\\xef\\xbf\\xbd\\x13\\xef\\xbf\\xbd\\xef\\xbf\\xbd\\xef\\xbf\\xbd\\xef\\xbf\\xbd\\xef\\xbf\\xbd\\x15\\xef\\xbf\\xbde\\xdf\\x97\\xef\\xbf\\xbd~\\xef\\xbf\\xbdY\\xef\\xbf\\xbd&\\xef\\xbf\\xbd\\xef\\xbf\\xbd\\xef\\xbf\\xbdzU\\xef\\xbf\\xbd\\xef\\xbf\\xbd\\xef\\xbf\\xbd\\xef\\xbf\\xbd\\xef\\xbf\\xbdj\\xef\\xbf\\xbdR`Bo\\x0e\\x11OE\\xef\\xbf\\xbd\\xef\\xbf\\xbd\\xef\\xbf\\xbd\\x7fl\\xef\\xbf\\xbd9\\x1c\\xef\\xbf\\xbd\\x081\\xef\\xbf\\xbd/\\xef\\xbf\\xbd-\\xef\\xbf\\xbd\\xef\\xbf\\xbd\\xef\\xbf\\xbd\\xef\\xbf\\xbd\\xef\\xbf\\xbd\\xef\\xbf\\xbdI\\xd3\\xb67`F\\xef\\xbf\\xbd],\\xef\\xbf\\xbd\\xef\\xbf\\xbd\\xef\\xbf\\xbd\\xef\\xbf\\xbd}\\x04\\xef\\xbf\\xbdM]\\xef\\xbf\\xbd!\\xef\\xbf\\xbd\\xd0\\xa7?[\\xef\\xbf\\xbd7.\\xef\\xbf\\xbd\\xef\\xbf\\xbd\\xef\\xbf\\xbd\\xef\\xbf\\xbd\\t\\xef\\xbf\\xbd2\\x00%\\xef\\xbf\\xbd\\x1dC\\xef\\xbf\\xbd\\x17/\\x1d$T([jx\\n\\xef\\xbf\\xbd\\xef\\xbf\\xbd,@\\xef\\xbf\\xbdC\\xef\\xbf\\xbd/&u6\\x15\\xef\\xbf\\xbd\\xef\\xbf\\xbdD\\x06qv\\xef\\xbf\\xbd\\xef\\xbf\\xbdE\\x1a\\xef\\xbf\\xbd\\x11j|\\xef\\xbf\\xbd\\x13\\xef\\xbf\\xbd9s\\xef\\xbf\\xbd\\xef\\xbf\\xbd\\xef\\xbf\\xbd0uH\\xef\\xbf\\xbd(G\\xef\\xbf\\xbd)\\x00\\xef\\xbf\\xbd\\xef\\xbf\\xbd\\x7f\\x05\\xef\\xbf\\xbd\\xef\\xbf\\xbd\\xef\\xbf\\xbdk\\xef\\xbf\\xbd\\xca\\xb2\\xef\\xbf\\xbdEr\\xef\\xbf\\xbd%\\xef\\xbf\\xbd\\x0c\\x01\\xef\\xbf\\xbdl\\x01'",
         "b'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'"
        ],
        [
         "19",
         "10.1.10.53",
         "84.54.22.33",
         "53",
         "53",
         "b'\\x00\\x0c\\x01\\x00\\x00\\x01\\x00\\x00\\x00\\x00\\x00\\x00\\x06google\\x03com\\x00\\x00\\x1c\\x00\\x01t\\x03\\n9J\\xef\\xbf\\xbd\\xc4\\x89\\xef\\xbf\\xbd\\t\\xef\\xbf\\xbd\\xef\\xbf\\xbdw\\xef\\xbf\\xbd\\xef\\xbf\\xbdE\\xef\\xbf\\xbdb\\xef\\xbf\\xbd-\\xef\\xbf\\xbdN\\xef\\xbf\\xbdf\\xef\\xbf\\xbd]2\\x10\\xef\\xbf\\xbdD\\xef\\xbf\\xbdX\\n\\xef\\xbf\\xbd\\xef\\xbf\\xbd\\xef\\xbf\\xbd\\xef\\xbf\\xbdyA\\xca\\xb2\\xef\\xbf\\xbd\\xef\\xbf\\xbd\\x05\\xef\\xbf\\xbd=P\\xef\\xbf\\xbd\\x11\\x19\\xef\\xbf\\xbd,]\\xef\\xbf\\xbd.\\xef\\xbf\\xbd\\xef\\xbf\\xbd\\xef\\xbf\\xbdF\\xef\\xbf\\xbd(c\\xef\\xbf\\xbd\\xef\\xbf\\xbd\\x10!\\xef\\xbf\\xbd\\xef\\xbf\\xbdc\\x03@\\xef\\xbf\\xbd\\xef\\xbf\\xbd\\xef\\xbf\\xbd\\xef\\xbf\\xbdG\\r\\x02$\\xef\\xbf\\xbd-G\\xef\\xbf\\xbd\\xef\\xbf\\xbd\\xdc\\x9c\\xef\\xbf\\xbd\\x006t\\xef\\xbf\\xbd/\\xef\\xbf\\xbdMB\\xef\\xbf\\xbdg\\xef\\xbf\\xbdf\\xef\\xbf\\xbd\\xef\\xbf\\xbd\\xcc\\x96\\xef\\xbf\\xbd\\xef\\xbf\\xbdr\\xef\\xbf\\xbd~\\xef\\xbf\\xbd\\xef\\xbf\\xbd\\xef\\xbf\\xbdR\\xef\\xbf\\xbd\\xef\\xbf\\xbd\\xef\\xbf\\xbdJU\\xef\\xbf\\xbd(\\x14\\xef\\xbf\\xbd;\\x1e\\x1e\\xef\\xbf\\xbd\\xef\\xbf\\xbd\\xef\\xbf\\xbd\\r\\xef\\xbf\\xbdc\\xef\\xbf\\xbd\\x07\\xef\\xbf\\xbd\\xef\\xbf\\xbd;\\x00p\\xef\\x80\\xb0\\xef\\xbf\\xbd\\xef\\xbf\\xbd\\x12\\xef\\xbf\\xbd\\xef\\xbf\\xbd\\xef\\xbf\\xbdFip\\xef\\xbf\\xbd1\\xef\\xbf\\xbd\\xef\\xbf\\xbd\\xef\\xbf\\xbdM\\xef\\xbf\\xbd5\\xef\\xbf\\xbdr\\xef\\xbf\\xbdF+l\\n[h\\x027\\xef\\xbf\\xbd\\xef\\xbf\\xbd\\xef\\xbf\\xbd\\xc9\\xa9\\xef\\xbf\\xbdZ\\t\\xef\\xbf\\xbd\\xef\\xbf\\xbd\\x1a\\xef\\xbf\\xbd\\xef\\xbf\\xbdE\\n\"\\x1c\\xef\\xbf\\xbdr\\xef\\xbf\\xbd*\\xef\\xbf\\xbd\\xef\\xbf\\xbd\\xef\\xbf\\xbd\\\\\\xef\\xbf\\xbd8\\xef\\xbf\\xbd\\xef\\xbf\\xbd<\\x1e\\xef\\xbf\\xbd\\x17\\xef\\xbf\\xbd6\\xef\\xbf\\xbd\\xef\\xbf\\xbdS\\xef\\xbf\\xbd5J\\x05\\xef\\xbf\\xbdQ\\xef\\xbf\\xbd\\xef\\xbf\\xbd?\\xd5\\xae\\xef\\xbf\\xbd$\\xef\\xbf\\xbd\\xe7\\x9d\\x84\\xef\\xbb\\x85\\xef\\xbf\\xbd\\t%\\xef\\xbf\\xbd\\xef\\xbf\\xbd\\xef\\xbf\\xbd\\xef\\xbf\\xbd#\\xef\\xbf\\xbd\\x1d\\xef\\xbf\\xbd8*\\xef\\xbf\\xbdP\\xef\\xbf\\xbd\\xef\\xbf\\xbd\\xcd\\xaf\\'\\xcb\\xa2V\\x1f0\\xef\\xbf\\xbdR\\xef\\xbf\\xbd\\xef\\xbf\\xbdlb\\xef\\xbf\\xbd8i\\xef\\xbf\\xbd\\x02g\\xef\\xbf\\xbdj\\xef\\xbf\\xbd&p\\xef\\xbf\\xbd~\\xef\\xbf\\xbdX\\xef\\xbf\\xbd0Y2\\xef\\xbf\\xbd\\xef\\xbf\\xbd\\x19T\\xef\\xbf\\xbdd\\xef\\xbf\\xbdi\\x1f\\xef\\xbf\\xbd}\\x07\\xef\\xbf\\xbdv\\xef\\xbf\\xbd]\\xef\\xbf\\xbd\\xef\\xbf\\xbdbl\\xef\\xbf\\xbdW[sR`S\\xef\\xbf\\xbd\\x06V\\xef\\xbf\\xbd.\\xef\\xbf\\xbdC\\xef\\xbf\\xbd\\xef\\xbf\\xbd?\\x17\\xef\\xbf\\xbd`O_m\\\\\\xef\\xbf\\xbd?O\\xef\\xbf\\xbdBo\\xef\\xbf\\xbdp\\xef\\xbf\\xbd\\xef\\xbf\\xbd\\xef\\xbf\\xbd9`B\\x13v\\xef\\xbf\\xbd\\x1c\\xef\\xbf\\xbd\\x1b\\xef\\xbf\\xbd\\xef\\xbf\\xbdN\\xef\\xbf\\xbdW\\xef\\xbf\\xbdMm\\xef\\xbf\\xbd>\\xef\\xbf\\xbdf^]:7N\\x0f\\x11\\xef\\xbf\\xbd\\xef\\xbf\\xbd\\x08\\x0f\\x06\\x0f\\xef\\xbf\\xbd\\xcb\\x82x\\xef\\xbf\\xbd\\x14\\xef\\xbf\\xbd\\xef\\xbf\\xbd.\\xef\\xbf\\xbd\\xef\\xbf\\xbd\\xef\\xbf\\xbd\\xef\\xbf\\xbdx\\xef\\xbf\\xbdJ\\xef\\xbf\\xbd\\x1d\\xef\\xbf\\xbd\\xef\\xbf\\xbd\\xef\\xbf\\xbd\\x1fR\\xd6\\x9b\\x1d\\xef\\xbf\\xbd!\\x1a\\xef\\xbf\\xbd\\xef\\xbf\\xbd\\xef\\xbf\\xbdI\\xef\\xbf\\xbd\\xef\\xbf\\xbdX,E\\xef\\xbf\\xbdU\\xef\\xbf\\xbd\\\\\\xef\\xbf\\xbd\\xef\\xbf\\xbd\\xef\\xbf\\xbd\\xef\\xbf\\xbd\\t\\x1eH\\x1c\\xef\\xbf\\xbdT0h\\xd0\\xb0.KN\\xef\\xbf\\xbd^\\xef\\xbf\\xbdh\\xef\\xbf\\xbd\\x14r|\\xef\\xbf\\xbdc\\xef\\xbf\\xbd\\xd5\\x95\\xef\\xbf\\xbd#6\\'\\xef\\xbf\\xbdI\\xef\\xbf\\xbdBs2Q\\x17y^\\xef\\xbf\\xbdi\\xef\\xbf\\xbdgY\\xef\\xbf\\xbdQ}\\xef\\xbf\\xbdwn\\xef\\xbf\\xbd{\\xef\\xbf\\xbd\\n^\\xef\\xbf\\xbd\\xef\\xbf\\xbd;\\xef\\xbf\\xbd\\x04\\xef\\xbf\\xbde9\\xef\\xbf\\xbd(\\xef\\xbf\\xbd\\r\\xef\\xbf\\xbd\\x1a6t\\xef\\xbf\\xbd\\xef\\xbf\\xbd}\\xef\\xbf\\xbd\\xef\\xbf\\xbdFh\\xef\\xbf\\xbd\\xef\\xbf\\xbd\\xef\\xbf\\xbd\\xef\\xbf\\xbdO\\x0e\\xef\\xbf\\xbd/*9\\xef\\xbf\\xbd\\x0f\\xef\\xbf\\xbd\\xef\\xbf\\xbd+\\xef\\xbf\\xbd\\xef\\xbf\\xbd\\x0b\\xef\\xbf\\xbd\\x0bOO\\xef\\xbf\\xbd\\xef\\xbf\\xbd:\\x1eU\\xef\\xbf\\xbd'",
         "b'000c0100000100000000000006676f6f676c6503636f6d00001c000174030a394aefbfbdc489efbfbd09efbfbdefbfbd77efbfbdefbfbd45efbfbd62efbfbd2defbfbd4eefbfbd66efbfbd5d3210efbfbd44efbfbd580aefbfbdefbfbdefbfbdefbfbd7941cab2efbfbdefbfbd05efbfbd3d50efbfbd1119efbfbd2c5defbfbd2eefbfbdefbfbdefbfbd46efbfbd2863efbfbdefbfbd1021efbfbdefbfbd630340efbfbdefbfbdefbfbdefbfbd470d0224efbfbd2d47efbfbdefbfbddc9cefbfbd003674efbfbd2fefbfbd4d42efbfbd67efbfbd66efbfbdefbfbdcc96efbfbdefbfbd72efbfbd7eefbfbdefbfbdefbfbd52efbfbdefbfbdefbfbd4a55efbfbd2814efbfbd3b1e1eefbfbdefbfbdefbfbd0defbfbd63efbfbd07efbfbdefbfbd3b0070ef80b0efbfbdefbfbd12efbfbdefbfbdefbfbd466970efbfbd31efbfbdefbfbdefbfbd4defbfbd35efbfbd72efbfbd462b6c0a5b680237efbfbdefbfbdefbfbdc9a9efbfbd5a09efbfbdefbfbd1aefbfbdefbfbd450a221cefbfbd72efbfbd2aefbfbdefbfbdefbfbd5cefbfbd38efbfbdefbfbd3c1eefbfbd17efbfbd36efbfbdefbfbd53efbfbd354a05efbfbd51efbfbdefbfbd3fd5aeefbfbd24efbfbde79d84efbb85efbfbd0925efbfbdefbfbdefbfbdefbfbd23efbfbd1defbfbd382aefbfbd50efbfbdefbfbdcdaf27cba2561f30efbfbd52efbfbdefbfbd6c62efbfbd3869efbfbd0267efbfbd6aefbfbd2670efbfbd7eefbfbd58efbfbd305932efbfbdefbfbd1954efbfbd64efbfbd691fefbfbd7d07efbfbd76efbfbd5defbfbdefbfbd626cefbfbd575b73526053efbfbd0656efbfbd2eefbfbd43efbfbdefbfbd3f17efbfbd604f5f6d5cefbfbd3f4fefbfbd426fefbfbd70efbfbdefbfbdefbfbd3960421376efbfbd1cefbfbd1befbfbdefbfbd4eefbfbd57efbfbd4d6defbfbd3eefbfbd665e5d3a374e0f11efbfbdefbfbd080f060fefbfbdcb8278efbfbd14efbfbdefbfbd2eefbfbdefbfbdefbfbdefbfbd78efbfbd4aefbfbd1defbfbdefbfbdefbfbd1f52d69b1defbfbd211aefbfbdefbfbdefbfbd49efbfbdefbfbd582c45efbfbd55efbfbd5cefbfbdefbfbdefbfbdefbfbd091e481cefbfbd543068d0b02e4b4eefbfbd5eefbfbd68efbfbd14727cefbfbd63efbfbdd595efbfbd233627efbfbd49efbfbd4273325117795eefbfbd69efbfbd6759efbfbd517defbfbd776eefbfbd7befbfbd0a5eefbfbdefbfbd3befbfbd04efbfbd6539efbfbd28efbfbd0defbfbd1a3674efbfbdefbfbd7defbfbdefbfbd4668efbfbdefbfbdefbfbdefbfbd4f0eefbfbd2f2a39efbfbd0fefbfbdefbfbd2befbfbdefbfbd0befbfbd0b4f4fefbfbdefbfbd3a1e55efbfbd'"
        ],
        [
         "20",
         "10.1.10.53",
         "84.54.22.33",
         "53",
         "53",
         "b'\\x00\\x0c\\x01\\x00\\x00\\x01\\x00\\x00\\x00\\x00\\x00\\x00\\x06google\\x03com\\x00\\x00\\x1c\\x00\\x01\\xef\\xbf\\xbd\\xef\\xbf\\xbd\\xef\\xbf\\xbd\\xef\\xbf\\xbd\\t\\xef\\xbf\\xbd\\xef\\xbf\\xbd\"\\xef\\xbf\\xbdR\\xef\\xbf\\xbdk\\xef\\xbf\\xbdJt\\x06QJ\\xef\\xbf\\xbd2\\xef\\xbf\\xbd7\\xef\\xbf\\xbd\\xef\\xbf\\xbd\\xef\\xbf\\xbd$h\\xef\\xbf\\xbd\\xef\\xbf\\xbd\\x136&\\xef\\xbf\\xbd\\xef\\xbf\\xbdrsGD\\xef\\xbf\\xbd)IX\\xef\\xbf\\xbd\\xef\\xbf\\xbd\\xcb\\x8a\\xef\\xbf\\xbd\\xef\\xbf\\xbd\\xef\\xbf\\xbd\\x04\\x14n:\\xef\\xbf\\xbd0\\xef\\xbf\\xbd\\xef\\xbf\\xbd\\xef\\xbf\\xbd\\xef\\xbf\\xbdn\\xef\\xbf\\xbd\\xef\\xbf\\xbd\\t\\xef\\xbf\\xbd\\xef\\xbf\\xbdK\\xef\\xbf\\xbd>+$vq\\r\\xef\\xbf\\xbd]\\xce\\x85\\xef\\xbf\\xbdY\\xef\\xbf\\xbde\\xef\\xbf\\xbd>\\xef\\xbf\\xbd\\xef\\xbf\\xbd\\xef\\xbf\\xbd^If(\\x14x\\xef\\xbf\\xbd\\xef\\xbf\\xbd\\x1ew*\\x15\\xef\\xbf\\xbd\\xef\\xbf\\xbdB}\\xef\\xbf\\xbd\\xef\\xbf\\xbd\\x03\\xef\\xbf\\xbd\\xef\\xbf\\xbdv+(K\\xef\\xbf\\xbd\\xef\\xbf\\xbd\\xef\\xbf\\xbd}\\xda\\x98MD\\xef\\xbf\\xbdHGO\\xef\\xbf\\xbd\\xef\\xbf\\xbd\\x1deE\\xef\\xbf\\xbd\\xef\\xbf\\xbd\\x14\\xef\\xbf\\xbd\\xef\\xbf\\xbd\\xef\\xbf\\xbd\\xef\\xbf\\xbd\\xef\\xbf\\xbd\\xdc\\xa5\\xef\\xbf\\xbdz\\x7f\\x05k4\\xef\\xbf\\xbd\\xef\\xbf\\xbd\\xef\\xbf\\xbdq\\xef\\xbf\\xbd\\t\\xef\\xbf\\xbd\\xef\\xbf\\xbd\\xef\\xbf\\xbd\\xef\\xbf\\xbd9P\\xef\\xbf\\xbd\\xef\\xbf\\xbdv\\r\\xef\\xbf\\xbdz\\xef\\xbf\\xbd\\xef\\xbf\\xbd\\xef\\xbf\\xbd\\xef\\xbf\\xbd\\xef\\xbf\\xbd\\xef\\xbf\\xbd\\x06\\x15\\xef\\xbf\\xbd\\xef\\xbf\\xbd\\xef\\xbf\\xbd\\xef\\xbf\\xbd\\xef\\xbf\\xbd\\xef\\xbf\\xbd\\xef\\xbf\\xbdBvf\\xef\\xbf\\xbd\\xef\\xbf\\xbd\\xef\\xbf\\xbd\\x01\\xef\\xbf\\xbd\\xef\\xbf\\xbd\\xef\\xbf\\xbd\\xef\\xbf\\xbdN\\xef\\xbf\\xbd4+^\\xef\\xbf\\xbd\\xef\\xbf\\xbd@<L\\x11\\xd1\\xbba\\xd3\\x9c[UQ\\xef\\xbf\\xbd\\xef\\xbf\\xbd$-\\xe6\\xb0\\x8d\\xef\\xbf\\xbdd\\x1dw*<G\\xd7\\x84\\xef\\xbf\\xbd\\xef\\xbf\\xbdJ\\xef\\xbf\\xbd\\x15\\xef\\xbf\\xbd\\xef\\xbf\\xbd\\xef\\xbf\\xbdV \\xef\\xbf\\xbd\\x03Dtop;d\\xef\\xbf\\xbd\\xef\\xbf\\xbd\\xef\\xbf\\xbdCi-jY\\xef\\xbf\\xbd_\\xef\\xbf\\xbd\\x11\\xef\\xbf\\xbdJ\\xef\\xbf\\xbd5=\\n1t\\xef\\xbf\\xbdew\\xef\\xbf\\xbd\\xef\\xbf\\xbddz\\xef\\xbf\\xbd\\xef\\xbf\\xbd\\xef\\xbf\\xbdV\\x044no\\xef\\xbf\\xbd\\xef\\xbf\\xbdm\\xef\\xbf\\xbd#\\xef\\xbf\\xbdk\\n\\x02\\xef\\xbf\\xbd\\xef\\xbf\\xbd\\xef\\xbf\\xbdN\\xef\\xbf\\xbdqc\\xef\\xbf\\xbd\\xef\\xbf\\xbd445\\xef\\xbf\\xbd\\xef\\xbf\\xbd\\x0f\\xef\\xbf\\xbd\\xef\\xbf\\xbdAI,\\x16\\xdb\\x99PA\\xef\\xbf\\xbd\\xef\\xbf\\xbd=\\xef\\xbf\\xbdl\\xef\\xbf\\xbdNDi/t\\x11\\xef\\xbf\\xbd\\xef\\xbf\\xbd=\\xef\\xbf\\xbde\\xef\\xbf\\xbd\\xef\\xbf\\xbd\\x04+\\xef\\xbf\\xbd?\\x1c\\xef\\xbf\\xbdh\\xef\\xbf\\xbd!\\x11\\xef\\xbf\\xbd\\x10\\xef\\xbf\\xbd\\xdb\\xa9\\xef\\xbf\\xbd\\xef\\xbf\\xbd\\xef\\xbf\\xbd$U\\xef\\xbf\\xbd\\xef\\xbf\\xbd\\x17]8\\xef\\xbf\\xbd\\xef\\xbf\\xbdG\\xef\\xbf\\xbdZN\\'%\\xef\\xbf\\xbd\\x05\\xef\\xbf\\xbd\\xef\\xbf\\xbd,\\xef\\xbf\\xbd0,G\\x03\\xef\\xbf\\xbd\\xef\\xbf\\xbd4,\\xef\\xbf\\xbd\\xef\\xbf\\xbd\\xef\\xbf\\xbd\\xef\\xbf\\xbd: &N\\xef\\xbf\\xbd\\xef\\xbf\\xbdbH\\xef\\xbf\\xbd\\xef\\xbf\\xbd\\xef\\xbf\\xbd\\xef\\xbf\\xbd\\xef\\xbf\\xbdQ\\xef\\xbf\\xbd\\x02?\\x00\\x00;\\xef\\xbf\\xbd\\xef\\xbf\\xbd)TjUp\\xef\\xbf\\xbd\\xef\\xbf\\xbdI}g\\x07jJ4\\xef\\xbf\\xbdK\\xef\\xbf\\xbd\\x0b\\xef\\xbf\\xbd7\\x1d.8\\x05\\xca\\x92\\xef\\xbf\\xbd*T\\n*\\xef\\xbf\\xbd\\xef\\xbf\\xbd\\xef\\xbf\\xbd\\xef\\xbf\\xbd=\\xdd\\xa0Pt\\xd6\\x8c\\xef\\xbf\\xbd\\xed\\x84\\xb0I)\\xef\\xbf\\xbd\\xef\\xbf\\xbd\\xef\\xbf\\xbd\\xef\\xbf\\xbd\\xef\\xbf\\xbd5\\x1f\\xef\\xbf\\xbdp\\xef\\xbf\\xbd\\x12\"z\\r\\x11\\xef\\xbf\\xbd\\xef\\xbf\\xbdH\\xef\\xbf\\xbd\\xef\\xbf\\xbd\\xef\\xbf\\xbd;\\x01\\xef\\xbf\\xbd\\x07\\xd0\\xba\\x02\\xef\\xbf\\xbd{\\x18g\\xef\\xbf\\xbd\\xef\\xbf\\xbdR\\xef\\xbf\\xbd\\xce\\x8d\\xef\\xbf\\xbd>x\\xd8\\xb6}V\\x1a/y|:\\xef\\xbf\\xbdM\\xef\\xbf\\xbdC\\t\\xef\\xbf\\xbd\\x00\\xef\\xbf\\xbd\\xef\\xbf\\xbd\\xef\\xbf\\xbd\\xef\\xbf\\xbd\\xef\\xbf\\xbd\\xc8\\xa0x\\x1b\\xef\\xbf\\xbdL\\xef\\xbf\\xbd\\''",
         "b'000c0100000100000000000006676f6f676c6503636f6d00001c0001efbfbdefbfbdefbfbdefbfbd09efbfbdefbfbd22efbfbd52efbfbd6befbfbd4a7406514aefbfbd32efbfbd37efbfbdefbfbdefbfbd2468efbfbdefbfbd133626efbfbdefbfbd72734744efbfbd294958efbfbdefbfbdcb8aefbfbdefbfbdefbfbd04146e3aefbfbd30efbfbdefbfbdefbfbdefbfbd6eefbfbdefbfbd09efbfbdefbfbd4befbfbd3e2b2476710defbfbd5dce85efbfbd59efbfbd65efbfbd3eefbfbdefbfbdefbfbd5e4966281478efbfbdefbfbd1e772a15efbfbdefbfbd427defbfbdefbfbd03efbfbdefbfbd762b284befbfbdefbfbdefbfbd7dda984d44efbfbd48474fefbfbdefbfbd1d6545efbfbdefbfbd14efbfbdefbfbdefbfbdefbfbdefbfbddca5efbfbd7a7f056b34efbfbdefbfbdefbfbd71efbfbd09efbfbdefbfbdefbfbdefbfbd3950efbfbdefbfbd760defbfbd7aefbfbdefbfbdefbfbdefbfbdefbfbdefbfbd0615efbfbdefbfbdefbfbdefbfbdefbfbdefbfbdefbfbd427666efbfbdefbfbdefbfbd01efbfbdefbfbdefbfbdefbfbd4eefbfbd342b5eefbfbdefbfbd403c4c11d1bb61d39c5b5551efbfbdefbfbd242de6b08defbfbd641d772a3c47d784efbfbdefbfbd4aefbfbd15efbfbdefbfbdefbfbd5620efbfbd0344746f703b64efbfbdefbfbdefbfbd43692d6a59efbfbd5fefbfbd11efbfbd4aefbfbd353d0a3174efbfbd6577efbfbdefbfbd647aefbfbdefbfbdefbfbd5604346e6fefbfbdefbfbd6defbfbd23efbfbd6b0a02efbfbdefbfbdefbfbd4eefbfbd7163efbfbdefbfbd343435efbfbdefbfbd0fefbfbdefbfbd41492c16db995041efbfbdefbfbd3defbfbd6cefbfbd4e44692f7411efbfbdefbfbd3defbfbd65efbfbdefbfbd042befbfbd3f1cefbfbd68efbfbd2111efbfbd10efbfbddba9efbfbdefbfbdefbfbd2455efbfbdefbfbd175d38efbfbdefbfbd47efbfbd5a4e2725efbfbd05efbfbdefbfbd2cefbfbd302c4703efbfbdefbfbd342cefbfbdefbfbdefbfbdefbfbd3a20264eefbfbdefbfbd6248efbfbdefbfbdefbfbdefbfbdefbfbd51efbfbd023f00003befbfbdefbfbd29546a5570efbfbdefbfbd497d67076a4a34efbfbd4befbfbd0befbfbd371d2e3805ca92efbfbd2a540a2aefbfbdefbfbdefbfbdefbfbd3ddda05074d68cefbfbded84b04929efbfbdefbfbdefbfbdefbfbdefbfbd351fefbfbd70efbfbd12227a0d11efbfbdefbfbd48efbfbdefbfbdefbfbd3b01efbfbd07d0ba02efbfbd7b1867efbfbdefbfbd52efbfbdce8defbfbd3e78d8b67d561a2f797c3aefbfbd4defbfbd4309efbfbd00efbfbdefbfbdefbfbdefbfbdefbfbdc8a0781befbfbd4cefbfbd27'"
        ],
        [
         "21",
         "10.1.10.53",
         "84.54.22.33",
         "53",
         "53",
         "b'\\x00\\x0c\\x01\\x00\\x00\\x01\\x00\\x00\\x00\\x00\\x00\\x00\\x06google\\x03com\\x00\\x00\\x1c\\x00\\x01e5l|\\xef\\xbf\\xbd\\xef\\xbf\\xbd-\\xef\\xbf\\xbd\\xef\\xbf\\xbd2\\xef\\xbf\\xbd\\xef\\xbf\\xbd\\xef\\xbf\\xbd\\xef\\xbf\\xbd\\th\\x14f\\xef\\xbf\\xbdT\\xef\\xbf\\xbd\\xd5\\x81\\xef\\xbf\\xbd\\xef\\xbf\\xbd\\x01\\xef\\xbf\\xbdY\\xef\\xbf\\xbd\\xdf\\x99\\xef\\xbf\\xbd\\xef\\xbf\\xbds\\xef\\xbf\\xbd@\\xef\\xbf\\xbd+S\\x1e\\x06\\x04\\\\\\xef\\xbf\\xbd\\x7f\\xef\\xbf\\xbd>\\xef\\xbf\\xbd\\xef\\xbf\\xbd)\\xef\\xbf\\xbd\\xdd\\x8c\\xef\\xbf\\xbd\\xef\\xbf\\xbdr\\xef\\xbf\\xbd\\xef\\xbf\\xbd;\\xef\\xbf\\xbd\\xef\\xbf\\xbd\\x1c\\x05hU\\xef\\xbf\\xbd\\xef\\xbf\\xbd\\xef\\xbf\\xbd\\xda\\x9f\\xef\\xbf\\xbd\\xef\\xbf\\xbd\\xef\\xbf\\xbdt\\x01J|$\\xef\\xbf\\xbd\\x10\\x0bW\\xef\\xbf\\xbdwQ^}k9\\xef\\xbf\\xbd\\xef\\xbf\\xbd\\x10\\xef\\xbf\\xbd\\x12\\xef\\xbf\\xbd\\xef\\xbf\\xbd \\xef\\xbf\\xbd\\x045\\x05\\x00\\xef\\xbf\\xbd\\xef\\xbf\\xbd\\n\\x0b\\x10l\\x14\\x08\\xef\\xbf\\xbd\\xef\\xbf\\xbd\\xef\\xbf\\xbdu{\\xef\\xbf\\xbd\\xef\\xbf\\xbdn\\x130\\xef\\xbf\\xbd\\xef\\xbf\\xbd\\xcb\\x88K\\x1d\\\\adx\\xef\\xbf\\xbdg\\xef\\xbf\\xbd\\xef\\xbf\\xbdM\\xef\\xbf\\xbd\\x12t\\x12\\xef\\xbf\\xbdu\\xef\\xbf\\xbd\\t\\xef\\xbf\\xbd\\x7fI}\\xef\\xbf\\xbd\\xef\\xbf\\xbd\\xef\\xbf\\xbd$\\xef\\xbf\\xbdk\\xef\\xbf\\xbd\\xef\\xbf\\xbd*\\xef\\xbf\\xbdXl7\\x11\\x1f\\xef\\xbf\\xbd\\xef\\xbf\\xbdC{\\xef\\xbf\\xbd,\\xef\\xbf\\xbd\\x1a\\x16\\xef\\xbf\\xbdm\\xef\\xbf\\xbd\\xef\\xbf\\xbdgF\\x7f\\nV\\x18\\xef\\xbf\\xbd\\xef\\xbf\\xbd\\xef\\xbf\\xbd=(\\xef\\xbf\\xbdGDD\\xef\\xbf\\xbd\\x138FB\\xef\\xbf\\xbd\\xef\\xbf\\xbd\\xef\\xbf\\xbdB,%,\\xef\\xbf\\xbd\\xef\\xbf\\xbd\\x1d\\x0eA\\xef\\xbf\\xbdy\\xef\\xbf\\xbd#\\x16\\xef\\xbf\\xbd\\xef\\xbf\\xbdD\\xef\\xbf\\xbd5 :\\xef\\xbf\\xbdJn\\xef\\xbf\\xbd\\xef\\xbf\\xbd\\\\\\xef\\xbf\\xbd\\xef\\xbf\\xbd\\xef\\xbf\\xbd\\xef\\xbf\\xbdK\\xef\\xbf\\xbd)_x\\xef\\xbf\\xbd\\xef\\xbf\\xbd\\xef\\xbf\\xbd\\xef\\xbf\\xbd2-z\\xef\\xbf\\xbdo\\xef\\xbf\\xbdU\\xef\\xbf\\xbd,;SoS\\xe0\\xbe\\x943\\xef\\xbf\\xbd\\xef\\xbf\\xbd>\\x11\\xef\\xbf\\xbd\\x12\\xef\\xbf\\xbdIs\\x17\\xef\\xbf\\xbd\\x06\\xef\\xbf\\xbd\\x0e_\\xef\\xbf\\xbd\\xef\\xbf\\xbd\\xef\\xbf\\xbd\\x00\\xef\\xbf\\xbd\\xef\\xbf\\xbddV\\xef\\xbf\\xbdp\\xef\\xbf\\xbd\\xcd\\x90\\xef\\xbf\\xbd\\xef\\xbf\\xbd^\\xef\\xbf\\xbd\\xc4\\x97\\x16\\xef\\xbf\\xbd2\\xef\\xbf\\xbd\\x03\\xef\\xbf\\xbd\\xef\\xbf\\xbdu\\xef\\xbf\\xbd\\xef\\xbf\\xbd\\xef\\xbf\\xbd\\xef\\xbf\\xbd\\x0e\\x7f$\\xef\\xbf\\xbdK\\x02\\x178\\xef\\xbf\\xbd\\x03\\xef\\xbf\\xbd{z=4!E\\xef\\xbf\\xbdi;\\xd1\\x84\\xef\\xbf\\xbd0\\xef\\xbf\\xbd\\x1b\\xef\\xbf\\xbd\\xef\\xbf\\xbdJb\\xef\\xbf\\xbdl\\xef\\xbf\\xbdS\\xef\\xbf\\xbdU\\t\\xef\\xbf\\xbd\\x0b\\xef\\xbf\\xbd\\xef\\xbf\\xbd~\\xef\\xbf\\xbdi\\xef\\xbf\\xbd\\xef\\xbf\\xbdi\\xef\\xbf\\xbd\\xef\\xbf\\xbd\\xef\\xbf\\xbd\\xd0\\xaa\\xef\\xbf\\xbd\\x10\\xef\\xbf\\xbdlYr|\\xef\\xbf\\xbd\\xc2\\xba\\xef\\xbf\\xbd\\xef\\xbf\\xbds\\xd7\\x83\\xef\\xbf\\xbd\\\\\\xef\\xbf\\xbdh\\xef\\xbf\\xbd\\x0f\\xef\\xbf\\xbd\\x7f\\xef\\xbf\\xbd\\xef\\xbf\\xbdB\\xd7\\x99 \\xef\\xbf\\xbd\\xef\\xbf\\xbd\\xef\\xbf\\xbd\\xef\\xbf\\xbdD\\xef\\xbf\\xbd\\xef\\xbf\\xbd[\\xef\\xbf\\xbd\\x0e\\xef\\xbf\\xbddR{M\\xef\\xbf\\xbd\\xef\\xbf\\xbdR\\xef\\xbf\\xbd\\xef\\xbf\\xbd\\x13B\\xef\\xbf\\xbd\\xef\\xbf\\xbdy^\\xdd\\x99\\xef\\xbf\\xbd\\xef\\xbf\\xbd\\xef\\xbf\\xbd D19\\xef\\xbf\\xbdE\\xef\\xbf\\xbd\\xef\\xbf\\xbd\\xd4\\x94R\\xef\\xbf\\xbdQ\\x0b\\xef\\xbf\\xbd[`\\xef\\xbf\\xbd\\xef\\xbf\\xbdE\\xef\\xbf\\xbd\\xef\\xbf\\xbd\\xef\\xbf\\xbdG\\xdd\\xb9\\xef\\xbf\\xbdY\\x17\\xdd\\x99\\xef\\xbf\\xbd\\x02oIf&\\xc2\\x81\\xef\\xbf\\xbd\\x1f\\xef\\xbf\\xbdI\\xef\\xbf\\xbd\\xef\\xbf\\xbd\\xef\\xbf\\xbd[c)3\\xef\\xbf\\xbd\\x17\\xef\\xbf\\xbd\\\\\\x13\\x00m\\xef\\xbf\\xbd\\n\\xef\\xbf\\xbd*\\xef\\xbf\\xbd;\\xef\\xbf\\xbd\\xef\\xbf\\xbd\\xef\\xbf\\xbd\\t\\r\\xef\\xbf\\xbdM\\x13\\xef\\xbf\\xbdM\\xc6\\xb7h\\x1b\\x12xMF\\xef\\xbf\\xbd\\xef\\xbf\\xbd\\xef\\xbf\\xbd\\xef\\xbf\\xbdo\\xef\\xbf\\xbdwh0b\\x04\\xef\\xbf\\xbd\\xef\\xbf\\xbd\\xef\\xbf\\xbdl]\\xef\\xbf\\xbd\\x03J\\xef\\xbf\\xbdwl\\xef\\xbf\\xbdQ\\xef\\xbf\\xbd\\xef\\xbf\\xbd'",
         "b'000c0100000100000000000006676f6f676c6503636f6d00001c000165356c7cefbfbdefbfbd2defbfbdefbfbd32efbfbdefbfbdefbfbdefbfbd09681466efbfbd54efbfbdd581efbfbdefbfbd01efbfbd59efbfbddf99efbfbdefbfbd73efbfbd40efbfbd2b531e06045cefbfbd7fefbfbd3eefbfbdefbfbd29efbfbddd8cefbfbdefbfbd72efbfbdefbfbd3befbfbdefbfbd1c056855efbfbdefbfbdefbfbdda9fefbfbdefbfbdefbfbd74014a7c24efbfbd100b57efbfbd77515e7d6b39efbfbdefbfbd10efbfbd12efbfbdefbfbd20efbfbd04350500efbfbdefbfbd0a0b106c1408efbfbdefbfbdefbfbd757befbfbdefbfbd6e1330efbfbdefbfbdcb884b1d5c616478efbfbd67efbfbdefbfbd4defbfbd127412efbfbd75efbfbd09efbfbd7f497defbfbdefbfbdefbfbd24efbfbd6befbfbdefbfbd2aefbfbd586c37111fefbfbdefbfbd437befbfbd2cefbfbd1a16efbfbd6defbfbdefbfbd67467f0a5618efbfbdefbfbdefbfbd3d28efbfbd474444efbfbd13384642efbfbdefbfbdefbfbd422c252cefbfbdefbfbd1d0e41efbfbd79efbfbd2316efbfbdefbfbd44efbfbd35203aefbfbd4a6eefbfbdefbfbd5cefbfbdefbfbdefbfbdefbfbd4befbfbd295f78efbfbdefbfbdefbfbdefbfbd322d7aefbfbd6fefbfbd55efbfbd2c3b536f53e0be9433efbfbdefbfbd3e11efbfbd12efbfbd497317efbfbd06efbfbd0e5fefbfbdefbfbdefbfbd00efbfbdefbfbd6456efbfbd70efbfbdcd90efbfbdefbfbd5eefbfbdc49716efbfbd32efbfbd03efbfbdefbfbd75efbfbdefbfbdefbfbdefbfbd0e7f24efbfbd4b021738efbfbd03efbfbd7b7a3d342145efbfbd693bd184efbfbd30efbfbd1befbfbdefbfbd4a62efbfbd6cefbfbd53efbfbd5509efbfbd0befbfbdefbfbd7eefbfbd69efbfbdefbfbd69efbfbdefbfbdefbfbdd0aaefbfbd10efbfbd6c59727cefbfbdc2baefbfbdefbfbd73d783efbfbd5cefbfbd68efbfbd0fefbfbd7fefbfbdefbfbd42d79920efbfbdefbfbdefbfbdefbfbd44efbfbdefbfbd5befbfbd0eefbfbd64527b4defbfbdefbfbd52efbfbdefbfbd1342efbfbdefbfbd795edd99efbfbdefbfbdefbfbd20443139efbfbd45efbfbdefbfbdd49452efbfbd510befbfbd5b60efbfbdefbfbd45efbfbdefbfbdefbfbd47ddb9efbfbd5917dd99efbfbd026f496626c281efbfbd1fefbfbd49efbfbdefbfbdefbfbd5b632933efbfbd17efbfbd5c13006defbfbd0aefbfbd2aefbfbd3befbfbdefbfbdefbfbd090defbfbd4d13efbfbd4dc6b7681b12784d46efbfbdefbfbdefbfbdefbfbd6fefbfbd7768306204efbfbdefbfbdefbfbd6c5defbfbd034aefbfbd776cefbfbd51efbfbdefbfbd'"
        ],
        [
         "22",
         "10.1.10.53",
         "84.54.22.33",
         "53",
         "53",
         "b'\\x00\\x0c\\x01\\x00\\x00\\x01\\x00\\x00\\x00\\x00\\x00\\x00\\x06google\\x03com\\x00\\x00\\x1c\\x00\\x01\\x7f0\\xef\\xbf\\xbd6r\\xef\\xbf\\xbd\\x16\\xef\\xbf\\xbd\\x1eaB\\xef\\xbf\\xbd\\xef\\xbf\\xbd0LOb1\\xef\\xbf\\xbd\\xef\\xbf\\xbd\\xef\\xbf\\xbdE\\xef\\xbf\\xbd\\xef\\xbf\\xbdv\\xef\\xbf\\xbd\\xef\\xbf\\xbd\\x1cN\\xef\\xbf\\xbdzF\\x1d6\\x05\\xef\\xbf\\xbd\\xef\\xbf\\xbd\\x16\\xef\\xbf\\xbd\\xef\\xbf\\xbd+\\xef\\xbf\\xbd\\x07\\x11.,R\\xef\\xbf\\xbdE\\xef\\xbf\\xbd!\\xc9\\x92\\xef\\xbf\\xbd\\x13B\\xef\\xbf\\xbd\\xef\\xbf\\xbd\\xef\\xbf\\xbd\\xef\\xbf\\xbd\\xef\\xbf\\xbd\\x1cjJd\\x1dR\\xef\\xbf\\xbd\\xef\\xbf\\xbd7\\xef\\xbf\\xbd\\x1a\\xef\\xbf\\xbd\\'l:4X\\xef\\xbf\\xbd\\xef\\xbf\\xbdq\\x0e\\x189\\'\\xef\\xbf\\xbd\\xef\\xbf\\xbdO@\\xef\\xbf\\xbd\\xef\\xbf\\xbd\\xd8\\x87%\\xef\\xbf\\xbd\\xef\\xbf\\xbd\\xef\\xbf\\xbd\\xef\\xbf\\xbd\\xef\\xbf\\xbd\\xef\\xbf\\xbd\\xef\\xbf\\xbdjH\\xef\\xbf\\xbd~\\xef\\xbf\\xbd\\xef\\xbf\\xbd)\\n\\xef\\xbf\\xbd\\xef\\xbf\\xbdO\\xef\\xbf\\xbdv/\\xef\\xbf\\xbd\\xef\\xbf\\xbd<\\xef\\xbf\\xbdIf\\x00\\xef\\xbf\\xbdem\\xef\\xbf\\xbd\\xc4\\x86\\xef\\xbf\\xbd\\xef\\xbf\\xbd\\xef\\xbf\\xbd\\xef\\xbf\\xbd\\xef\\xbf\\xbd\\xef\\xbf\\xbd\\x11\\xef\\xbf\\xbd;q\\xef\\xbf\\xbd\\xef\\xbf\\xbd\\xef\\xbf\\xbdR\\x0b\\xef\\xbf\\xbd\\xef\\xbf\\xbdZ~\\xef\\xbf\\xbd\\xef\\xbf\\xbd/\\xef\\xbf\\xbd\\xef\\xbf\\xbd\\xef\\xbf\\xbd\\xef\\xbf\\xbd\\xef\\xbf\\xbd\\xef\\xbf\\xbd\\xef\\xbf\\xbd\\xef\\xbf\\xbdO?\\xef\\xbf\\xbd\\xef\\xbf\\xbd9l\\xef\\xbf\\xbd\\xef\\xbf\\xbdmS\\xef\\xbf\\xbd\\xef\\xbf\\xbd4\\xef\\xbf\\xbd\\xef\\xbf\\xbd\\x04\\x0b\\xef\\xbf\\xbdD\\xef\\xbf\\xbd\\x02\\x0e\\xef\\xbf\\xbdn%mR\\x16<h?v\\xef\\xbf\\xbd\\xef\\xbf\\xbdj\\xef\\xbf\\xbd^\\x17b\\x02\\xef\\xbf\\xbd+\\xef\\xbf\\xbd*\\xef\\xbf\\xbd6\\xef\\xbf\\xbd\\x1d\\xdd\\xb2\\xef\\xbf\\xbd\\xef\\xbf\\xbd\\xef\\xbf\\xbd.\\xef\\xbf\\xbdN\\xef\\xbf\\xbd\\xef\\xbf\\xbd%]\\x1e\\xef\\xbf\\xbdT\\x05\\xef\\xbf\\xbd?\\xef\\xbf\\xbdh\\xef\\xbf\\xbdL\\xef\\xbf\\xbdV/wuG\\x10\\n|\\xef\\xbf\\xbd\\xef\\xbf\\xbdq\\xdd\\xacUK\\xef\\xbf\\xbdl\\xef\\xbf\\xbd1\\'\\xef\\xbf\\xbd\\xc2\\x87\\x15z\\xef\\xbf\\xbd\\xef\\xbf\\xbd\\xd2\\x8d\\r\\xef\\xbf\\xbd\\xef\\xbf\\xbd5SO\\xef\\xbf\\xbdy\\xef\\xbf\\xbd~\\xef\\xbf\\xbd\\xef\\xbf\\xbd\\x07\\xef\\xbf\\xbd\\xef\\xbf\\xbd\\xef\\xbf\\xbd_O\\xef\\xbf\\xbd\\xef\\xbf\\xbd\\xef\\xbf\\xbd7k*\\xef\\xbf\\xbd-6\\x1d\\xef\\xbf\\xbdi;Q*(\\xd6\\x9fH\\xef\\xbf\\xbd\\xef\\xbf\\xbd&\\xef\\xbf\\xbd]\\xef\\xbf\\xbd;c\\xef\\xbf\\xbd=\\xef\\xbf\\xbd\\xef\\xbf\\xbd\\xef\\xbf\\xbdN\\xef\\xbf\\xbd\\xef\\xbf\\xbd,\\xef\\xbf\\xbd\\xcb\\xa0\\xef\\xbf\\xbd\\xef\\xbf\\xbdr/\\xef\\xbf\\xbd\\x12\\x7f\\xdd\\xb5\\x13\"(\\xef\\xbf\\xbd\\x16\\xef\\xbf\\xbd\\xef\\xbf\\xbd\\x11\\xef\\xbf\\xbdT\\xef\\xbf\\xbd\\xef\\xbf\\xbdk#\\xef\\xbf\\xbd\\xef\\xbf\\xbd\\xef\\xbf\\xbd\\xef\\xbf\\xbdY\\xef\\xbf\\xbd[\\xef\\xbf\\xbd\\xef\\xbf\\xbd\\xef\\xbf\\xbd\\xef\\xbf\\xbd\\x02oLZ\\x1f&\\\\\\xef\\xbf\\xbd\\x17m\\xef\\xbf\\xbd%\\xef\\xbf\\xbd2\\xef\\xbf\\xbd\\x7f@\\x08\\xef\\xbf\\xbd\\xef\\xbf\\xbd\\xef\\xbf\\xbd\\xef\\xbf\\xbdLo\\xef\\xbf\\xbd\\xef\\xbf\\xbdB\\xef\\xbf\\xbd\\x1e\\xef\\xbf\\xbd\\xef\\xbf\\xbd\\x06M8\\xef\\xbf\\xbd\\xef\\xbf\\xbdI\\xef\\xbf\\xbd\\xef\\xbf\\xbdp\\xef\\xbf\\xbdU\\xef\\xbf\\xbd\\xef\\xbf\\xbdSD\\x7f\\xef\\xbf\\xbd\\xef\\xbf\\xbd\\xef\\xbf\\xbd2\\xef\\xbf\\xbdzp\\xef\\xbf\\xbd\\x1c\\r\\xef\\xbf\\xbd\\xef\\xbf\\xbd\\xef\\xbf\\xbd#\\xef\\xbf\\xbd\\xef\\xbf\\xbd6w\\xde\\xb1;U\\x0e\\xef\\xbf\\xbd\\x06\\xef\\xbf\\xbdmR~\\xef\\xbf\\xbdHj\\xef\\xbf\\xbdX\\x1fX\\xef\\xbf\\xbd\\xef\\xbf\\xbd\\'\\xef\\xbf\\xbd\\x0b\\xef\\xbf\\xbd_\\xef\\xbf\\xbd\\xef\\xbf\\xbd\\xef\\xbf\\xbd\\xef\\xbf\\xbd\\xef\\xbf\\xbd7;\".\\xef\\xbf\\xbd\\x10\\xef\\xbf\\xbdU\\xef\\xbf\\xbd\\x06\\x0e\\xef\\xbf\\xbdU\\xef\\xbf\\xbd\\xef\\xbf\\xbd\\x04\\xef\\xbf\\xbd\\xef\\xbf\\xbd/\\x12ZfJQ\\xef\\xbf\\xbdO\\x7f*\\xef\\xbf\\xbd\\n\\xd3\\xb5\\xef\\xbf\\xbd\"\\xef\\xbf\\xbdNMj\\xdf\\x9b|\\xef\\xbf\\xbd\\x1d#\\xef\\xbf\\xbdO\\xef\\xbf\\xbdr[\\xef\\xbf\\xbdJ\\xef\\xbf\\xbd\\'\\xef\\xbf\\xbd\\xef\\xbf\\xbdZj\\xef\\xbf\\xbd<g]y\\xef\\xbf\\xbdh\\xef\\xbf\\xbd\\xef\\xbf\\xbd/\\xef\\xbf\\xbd?'",
         "b'000c0100000100000000000006676f6f676c6503636f6d00001c00017f30efbfbd3672efbfbd16efbfbd1e6142efbfbdefbfbd304c4f6231efbfbdefbfbdefbfbd45efbfbdefbfbd76efbfbdefbfbd1c4eefbfbd7a461d3605efbfbdefbfbd16efbfbdefbfbd2befbfbd07112e2c52efbfbd45efbfbd21c992efbfbd1342efbfbdefbfbdefbfbdefbfbdefbfbd1c6a4a641d52efbfbdefbfbd37efbfbd1aefbfbd276c3a3458efbfbdefbfbd710e183927efbfbdefbfbd4f40efbfbdefbfbdd88725efbfbdefbfbdefbfbdefbfbdefbfbdefbfbdefbfbd6a48efbfbd7eefbfbdefbfbd290aefbfbdefbfbd4fefbfbd762fefbfbdefbfbd3cefbfbd496600efbfbd656defbfbdc486efbfbdefbfbdefbfbdefbfbdefbfbdefbfbd11efbfbd3b71efbfbdefbfbdefbfbd520befbfbdefbfbd5a7eefbfbdefbfbd2fefbfbdefbfbdefbfbdefbfbdefbfbdefbfbdefbfbdefbfbd4f3fefbfbdefbfbd396cefbfbdefbfbd6d53efbfbdefbfbd34efbfbdefbfbd040befbfbd44efbfbd020eefbfbd6e256d52163c683f76efbfbdefbfbd6aefbfbd5e176202efbfbd2befbfbd2aefbfbd36efbfbd1dddb2efbfbdefbfbdefbfbd2eefbfbd4eefbfbdefbfbd255d1eefbfbd5405efbfbd3fefbfbd68efbfbd4cefbfbd562f777547100a7cefbfbdefbfbd71ddac554befbfbd6cefbfbd3127efbfbdc287157aefbfbdefbfbdd28d0defbfbdefbfbd35534fefbfbd79efbfbd7eefbfbdefbfbd07efbfbdefbfbdefbfbd5f4fefbfbdefbfbdefbfbd376b2aefbfbd2d361defbfbd693b512a28d69f48efbfbdefbfbd26efbfbd5defbfbd3b63efbfbd3defbfbdefbfbdefbfbd4eefbfbdefbfbd2cefbfbdcba0efbfbdefbfbd722fefbfbd127fddb5132228efbfbd16efbfbdefbfbd11efbfbd54efbfbdefbfbd6b23efbfbdefbfbdefbfbdefbfbd59efbfbd5befbfbdefbfbdefbfbdefbfbd026f4c5a1f265cefbfbd176defbfbd25efbfbd32efbfbd7f4008efbfbdefbfbdefbfbdefbfbd4c6fefbfbdefbfbd42efbfbd1eefbfbdefbfbd064d38efbfbdefbfbd49efbfbdefbfbd70efbfbd55efbfbdefbfbd53447fefbfbdefbfbdefbfbd32efbfbd7a70efbfbd1c0defbfbdefbfbdefbfbd23efbfbdefbfbd3677deb13b550eefbfbd06efbfbd6d527eefbfbd486aefbfbd581f58efbfbdefbfbd27efbfbd0befbfbd5fefbfbdefbfbdefbfbdefbfbdefbfbd373b222eefbfbd10efbfbd55efbfbd060eefbfbd55efbfbdefbfbd04efbfbdefbfbd2f125a664a51efbfbd4f7f2aefbfbd0ad3b5efbfbd22efbfbd4e4d6adf9b7cefbfbd1d23efbfbd4fefbfbd725befbfbd4aefbfbd27efbfbdefbfbd5a6aefbfbd3c675d79efbfbd68efbfbdefbfbd2fefbfbd3f'"
        ],
        [
         "23",
         "10.1.10.53",
         "84.54.22.33",
         "53",
         "53",
         "b'\\x00\\x0c\\x01\\x00\\x00\\x01\\x00\\x00\\x00\\x00\\x00\\x00\\x06google\\x03com\\x00\\x00\\x1c\\x00\\x01L\\x0c>\\xef\\xbf\\xbd7++\\xef\\xbf\\xbdr}\\xef\\xbf\\xbd\\xef\\xbf\\xbdX\\x7f\\xef\\xbf\\xbd\\xef\\xbf\\xbd\\xef\\xbf\\xbd\\xef\\xbf\\xbd\\x08\\xef\\xbf\\xbd$q\\xef\\xbf\\xbd\\xef\\xbf\\xbd\\x07k\\xef\\xbf\\xbd?i\\xef\\xbf\\xbd\\xef\\xbf\\xbd\\xef\\xbf\\xbdg>9\\xef\\xbf\\xbd\\xef\\xbf\\xbd=\\xef\\xbf\\xbdF\\xef\\xbf\\xbdi\\xef\\xbf\\xbd\\xef\\xbf\\xbd\\xef\\xbf\\xbd\\xef\\xbf\\xbd\\xef\\xbf\\xbd3S\\xef\\xbf\\xbd\\xef\\xbf\\xbd\\xef\\xbf\\xbd\\xef\\xbf\\xbdK>\\xef\\xbf\\xbd;d\\xef\\xbf\\xbd\\x16\\xef\\xbf\\xbd\\xef\\xbf\\xbdL+\\xef\\xbf\\xbd\\xeb\\xba\\xa7\\xef\\xbf\\xbd\\xef\\xbf\\xbd\\xef\\xbf\\xbd\\x0f\\xef\\xbf\\xbd\\xef\\xbf\\xbd\\xef\\xbf\\xbd\\xef\\xbf\\xbd-[\\xef\\xbf\\xbd\\xef\\xbf\\xbd\\xef\\xbf\\xbdJ\\xef\\xbf\\xbd\\xee\\xad\\x8f\\xef\\xbf\\xbd\\x15\\n\\t\\xef\\xbf\\xbd?G@\\xef\\xbf\\xbdV1\\xef\\xbf\\xbd\"\\xef\\xbf\\xbdC\\xef\\xbf\\xbd{Z\\xef\\xbf\\xbd^C[\\xcf\\xa4X7\\x04\\xef\\xbf\\xbdE\\xef\\xbf\\xbd=1z\\xef\\xbf\\xbdz\\xef\\xbf\\xbd\\xef\\xbf\\xbdZ\\xef\\xbf\\xbd\\x0f\\xd4\\xbe%WK!\\xef\\xbf\\xbdd\\xef\\xbf\\xbd2\\\\[vt\\xc9\\xbd|\\xef\\xbf\\xbd\\x1c\\xef\\xbf\\xbd=\\xef\\xbf\\xbd\\xef\\xbf\\xbdt\\xef\\xbf\\xbd\\xef\\xbf\\xbdX\\xef\\xbf\\xbd\\xef\\xbf\\xbdr:\\xef\\xbf\\xbd\\x16\\xef\\xbf\\xbd\\xef\\xbf\\xbd\\xd8\\x963\\x03\\x11\\xef\\xbf\\xbdL\\xef\\xbf\\xbdp\\xef\\xbf\\xbd\\x04\\x1d&\\xef\\xbf\\xbd\\xef\\xbf\\xbd\\x12\\xd8\\x9fx\\xef\\xbf\\xbdZ|v\\xef\\xbf\\xbd\\xef\\xbf\\xbd\\xef\\xbf\\xbd?\\x14\\xef\\xbf\\xbd\\xef\\xbf\\xbd:\\xef\\xbf\\xbd\\xef\\xbf\\xbd\\xef\\xbf\\xbd\\xef\\xbf\\xbd\\xef\\xbf\\xbd\\'I\\xef\\xbf\\xbd\\xef\\xbf\\xbd7\\xef\\xbf\\xbd\\xef\\xbf\\xbd\\xef\\xbf\\xbd\\x12\\xd5\\x84E\\xef\\xbf\\xbd\\xef\\xbf\\xbd\\xef\\xbf\\xbdWD\\xef\\xbf\\xbd\\xef\\xbf\\xbd2\\xef\\xbf\\xbdv~>\"\\xef\\xbf\\xbd\\xde\\x9bu\\xef\\xbf\\xbd\\xef\\xbf\\xbd\\xef\\xbf\\xbd\\xef\\xbf\\xbd\\x04\\x03\\xef\\xbf\\xbd\\xef\\xbf\\xbd\\xef\\xbf\\xbd\\xd3\\xb7\\x11\\xef\\xbf\\xbd\\x1b@\\xef\\xbf\\xbd\\xef\\xbf\\xbd4\\xef\\xbf\\xbd\\xdf\\xb4dV\\xef\\xbf\\xbd\\xef\\xbf\\xbd\\xef\\xbf\\xbd\\x0e\\xef\\xbf\\xbdl\\xef\\xbf\\xbdC\\xef\\xbf\\xbd\\nP\\xef\\xbf\\xbd\\xef\\xbf\\xbd\\xef\\xbf\\xbdx\\xef\\xbf\\xbd\\xef\\xbf\\xbd\\xef\\xbf\\xbd,H\\xef\\xbf\\xbd\\xef\\xbf\\xbd\\x06\\xef\\xbf\\xbd.Qz\\xef\\xbf\\xbd\\xef\\xbf\\xbd[\\x0f\\xef\\xbf\\xbd5zB\\xee\\xb7\\xb1u\\xef\\xbf\\xbd\\xef\\xbf\\xbdx\\xef\\xbf\\xbd\\xef\\xbf\\xbde\\x1e\\xef\\xbf\\xbd~\\xef\\xbf\\xbd\\xef\\xbf\\xbd\\xcc\\x8b\\xef\\xbf\\xbd9E\\x13\\xef\\xbf\\xbdbQ\\xe9\\xa5\\x9a@?\"d\\xef\\xbf\\xbd\\xef\\xbf\\xbd \\'g\\xef\\xbf\\xbd\\x1d\\x00]\\'\\x7fWW\\x1a\\x0f\\xcf\\x9e_\\xef\\xbf\\xbdP\\xef\\xbf\\xbdH08\\xd7\\xb1-\\xef\\xbf\\xbdH\\xef\\xbf\\xbd\\xef\\xbf\\xbd\\xef\\xbf\\xbd\\xd2\\x88\\xef\\xbf\\xbd\\xef\\xbf\\xbdf\\xd6\\xa5K&\\xef\\xbf\\xbdl\\xef\\xbf\\xbd\\xef\\xbf\\xbd\\x10\\xef\\xbf\\xbd\\x1b\\xef\\xbf\\xbdD\\x14a!\\x00\\xef\\xbf\\xbdh/\\xef\\xbf\\xbd$m\\xef\\xbf\\xbd5\\xef\\xbf\\xbd+\\xef\\xbf\\xbd\\xef\\xbf\\xbd\\n#\\xef\\xbf\\xbd)\\xef\\xbf\\xbd\\x08P3H\\xef\\xbf\\xbd\\xef\\xbf\\xbd\\xef\\xbf\\xbd\\xef\\xbf\\xbd\\xef\\xbf\\xbd(\\xef\\xbf\\xbdE7\\xef\\xbf\\xbd\\xef\\xbf\\xbd\\xef\\xbf\\xbd\\x14\\x16V \\x1c1\\xc3\\x93v%q\\xef\\xbf\\xbd?|\\xef\\xbf\\xbd\\xef\\xbf\\xbd\\xef\\xbf\\xbd\\xc3\\x8bJ\\x16K)\\xef\\xbf\\xbd\\xef\\xbf\\xbdw\\xef\\xbf\\xbd,\\xd2\\xb2\\xef\\xbf\\xbd\\x07\\xef\\xbf\\xbd\\xef\\xbf\\xbdz\\xef\\xbf\\xbd\\xef\\xbf\\xbd\\xef\\xbf\\xbd}\\xef\\xbf\\xbdo\\xef\\xbf\\xbd\\x14\\x7fn\\xef\\xbf\\xbd\\xef\\xbf\\xbd+\\x16\\xef\\xbf\\xbdp\\xef\\xbf\\xbd\\xef\\xbf\\xbd\\xef\\xbf\\xbd\\xef\\xbf\\xbd\\x10E\\x11\\xef\\xbf\\xbdA\\xef\\xbf\\xbd&j\\xef\\xbf\\xbd#\\xef\\xbf\\xbd\\xef\\xbf\\xbdh(\"\\xef\\xbf\\xbdeD\\xef\\xbf\\xbd \\xef\\xbf\\xbd\\xef\\xbf\\xbd\"\\xef\\xbf\\xbd[\\xef\\xbf\\xbd\\xef\\xbf\\xbd\\nX\\xef\\xbf\\xbd-\\xef\\xbf\\xbd\\xef\\xbf\\xbd\\xc3\\x90\\xef\\xbf\\xbd5\\x18\\xef\\xbf\\xbd&\\x11\\xef\\xbf\\xbd\\xef\\xbf\\xbd?\\xe8\\x99\\xaf/\"\\xef\\xbf\\xbd\\xd5\\xa6\\xef\\xbf\\xbd~f5\\xef\\xbf\\xbd=\\xef\\xbf\\xbd\\x0b\\x14ij\\xef\\xbf\\xbd&\\xef\\xbf\\xbd\\x1d(\\xef\\xbf\\xbdJLe'",
         "b'000c0100000100000000000006676f6f676c6503636f6d00001c00014c0c3eefbfbd372b2befbfbd727defbfbdefbfbd587fefbfbdefbfbdefbfbdefbfbd08efbfbd2471efbfbdefbfbd076befbfbd3f69efbfbdefbfbdefbfbd673e39efbfbdefbfbd3defbfbd46efbfbd69efbfbdefbfbdefbfbdefbfbdefbfbd3353efbfbdefbfbdefbfbdefbfbd4b3eefbfbd3b64efbfbd16efbfbdefbfbd4c2befbfbdebbaa7efbfbdefbfbdefbfbd0fefbfbdefbfbdefbfbdefbfbd2d5befbfbdefbfbdefbfbd4aefbfbdeead8fefbfbd150a09efbfbd3f4740efbfbd5631efbfbd22efbfbd43efbfbd7b5aefbfbd5e435bcfa4583704efbfbd45efbfbd3d317aefbfbd7aefbfbdefbfbd5aefbfbd0fd4be25574b21efbfbd64efbfbd325c5b7674c9bd7cefbfbd1cefbfbd3defbfbdefbfbd74efbfbdefbfbd58efbfbdefbfbd723aefbfbd16efbfbdefbfbdd896330311efbfbd4cefbfbd70efbfbd041d26efbfbdefbfbd12d89f78efbfbd5a7c76efbfbdefbfbdefbfbd3f14efbfbdefbfbd3aefbfbdefbfbdefbfbdefbfbdefbfbd2749efbfbdefbfbd37efbfbdefbfbdefbfbd12d58445efbfbdefbfbdefbfbd5744efbfbdefbfbd32efbfbd767e3e22efbfbdde9b75efbfbdefbfbdefbfbdefbfbd0403efbfbdefbfbdefbfbdd3b711efbfbd1b40efbfbdefbfbd34efbfbddfb46456efbfbdefbfbdefbfbd0eefbfbd6cefbfbd43efbfbd0a50efbfbdefbfbdefbfbd78efbfbdefbfbdefbfbd2c48efbfbdefbfbd06efbfbd2e517aefbfbdefbfbd5b0fefbfbd357a42eeb7b175efbfbdefbfbd78efbfbdefbfbd651eefbfbd7eefbfbdefbfbdcc8befbfbd394513efbfbd6251e9a59a403f2264efbfbdefbfbd202767efbfbd1d005d277f57571a0fcf9e5fefbfbd50efbfbd483038d7b12defbfbd48efbfbdefbfbdefbfbdd288efbfbdefbfbd66d6a54b26efbfbd6cefbfbdefbfbd10efbfbd1befbfbd4414612100efbfbd682fefbfbd246defbfbd35efbfbd2befbfbdefbfbd0a23efbfbd29efbfbd08503348efbfbdefbfbdefbfbdefbfbdefbfbd28efbfbd4537efbfbdefbfbdefbfbd141656201c31c393762571efbfbd3f7cefbfbdefbfbdefbfbdc38b4a164b29efbfbdefbfbd77efbfbd2cd2b2efbfbd07efbfbdefbfbd7aefbfbdefbfbdefbfbd7defbfbd6fefbfbd147f6eefbfbdefbfbd2b16efbfbd70efbfbdefbfbdefbfbdefbfbd104511efbfbd41efbfbd266aefbfbd23efbfbdefbfbd682822efbfbd6544efbfbd20efbfbdefbfbd22efbfbd5befbfbdefbfbd0a58efbfbd2defbfbdefbfbdc390efbfbd3518efbfbd2611efbfbdefbfbd3fe899af2f22efbfbdd5a6efbfbd7e6635efbfbd3defbfbd0b14696aefbfbd26efbfbd1d28efbfbd4a4c65'"
        ],
        [
         "24",
         "10.1.10.53",
         "84.54.22.33",
         "53",
         "53",
         "b'\\x00\\x0c\\x01\\x00\\x00\\x01\\x00\\x00\\x00\\x00\\x00\\x00\\x06google\\x03com\\x00\\x00\\x1c\\x00\\x01P$\\x08\\x05+\\xef\\xbf\\xbd\\x0b2\\x13\\xef\\xbf\\xbdM<?\\xef\\xbf\\xbd\\xef\\xbf\\xbd\\xef\\xbf\\xbdt\\xef\\xbf\\xbdDq\\xef\\xbf\\xbd\\xef\\xbf\\xbd\\xef\\xbf\\xbdsE\\xef\\xbf\\xbd\\xef\\xbf\\xbd\\xef\\xbf\\xbd\\xef\\xbf\\xbd\\x0e\\xef\\xbf\\xbd\\x05E\\xef\\xbf\\xbd\\xef\\xbf\\xbd\\xef\\xbf\\xbd\\xef\\xbf\\xbd\\xef\\xbf\\xbd\\x10Et\\xcf\\xb9x\\xef\\xbf\\xbdp\\x06\\x0fwE\\xea\\xb3\\xb4\\xef\\xbf\\xbdqP\\\\\\xef\\xbf\\xbdXHq~\\xef\\xbf\\xbd\\xef\\xbf\\xbd]\\n\\xd4\\xaa\\x04\\xef\\xbf\\xbd\\xef\\xbf\\xbd*\\xef\\xbf\\xbd\\xef\\xbf\\xbd*\\xef\\xbf\\xbd\\xef\\xbf\\xbd\\xef\\xbf\\xbd\\xe8\\xa6\\xb134\\xef\\xbf\\xbd\\xef\\xbf\\xbd1\\xef\\xbf\\xbd\\xef\\xbf\\xbd\\xef\\xbf\\xbd\\xef\\xbf\\xbd\\xef\\xbf\\xbdrie\\\\+\\x7f\\xef\\xbf\\xbd\\xef\\xbf\\xbd\\xef\\xbf\\xbd\\xef\\xbf\\xbd!\\xef\\xbf\\xbd\\x06c\\x14\\xef\\xbf\\xbd`6\\xef\\xbf\\xbd=\\xef\\xbf\\xbd\\xef\\xbf\\xbd\\x11<\\xef\\xbf\\xbd\\x08W\\xef\\xbf\\xbd\\x14\\xef\\xbf\\xbd\\xef\\xbf\\xbd\\xef\\xbf\\xbdH\\xef\\xbf\\xbd\\xef\\xbf\\xbd\\xef\\xbf\\xbd\\xef\\xbf\\xbdx)U\\x037\\xef\\xbf\\xbd*\\xef\\xbf\\xbd\\xef\\xbf\\xbdq\\xef\\xbf\\xbd\\xef\\xbf\\xbdK)\\xef\\xbf\\xbdN\\xef\\xbf\\xbd\\x18\\xef\\xbf\\xbd>\\xef\\xbf\\xbdu\\xef\\xbf\\xbd\\xef\\xbf\\xbdVI\\xef\\xbf\\xbd\\xef\\xbf\\xbd\\x08H\\xef\\xbf\\xbd\\xef\\xbf\\xbdPDMU~#\\xef\\xbf\\xbd\\xef\\xbf\\xbd3\\xef\\xbf\\xbd\\xef\\xbf\\xbd\\xef\\xbf\\xbd\\xef\\xbf\\xbd(\\xc5\\x95v\\xef\\xbf\\xbd\\xef\\xbf\\xbd\\x10\\x12\\x15Y{\\x15\\xef\\xbf\\xbdO\\xef\\xbf\\xbd\\x12u\\xef\\xbf\\xbd\\xef\\xbf\\xbd \\x1a\\xef\\xbf\\xbd\":\\xef\\xbf\\xbd\\xef\\xbf\\xbd\\x08\\xef\\xbf\\xbd<\\xef\\xbf\\xbdb\\x1a!)\\xef\\xbf\\xbd6XQ\\x1e7CX~q\\xe9\\xbd\\x9aH\\x1c\\xef\\xbf\\xbdo\\xef\\xbf\\xbd\\xef\\xbf\\xbd\\x08\\x15\\xef\\xbf\\xbd\\xef\\xbf\\xbd\\n\\xef\\xbf\\xbd\\xe7\\xa0\\xa0\\x1a\\xef\\xbf\\xbd\\xef\\xbf\\xbdB\\xef\\xbf\\xbdS\\x01\\xef\\xbf\\xbdUR\\xef\\xbf\\xbd\\xce\\x8b-\\xef\\xbf\\xbdx3<\\xef\\xbf\\xbd\\\\v\\xef\\xbf\\xbd`\\xef\\xbf\\xbd;\\xef\\xbf\\xbdP\"\\\\+\\x10.A!\\xef\\xbf\\xbd\\x01%yFrt\\xef\\xbf\\xbdS\\xef\\xbf\\xbdV\\xef\\xbf\\xbd\\xef\\xbf\\xbd\\xd6\\xbd\\xef\\xbf\\xbd\\xef\\xbf\\xbdj\\xef\\xbf\\xbd\\xef\\xbf\\xbd\\x14C\\t\\xef\\xbf\\xbd\\xef\\xbf\\xbd!#\\xef\\xbf\\xbd &\\xef\\xbf\\xbd=\\x12\\xef\\xbf\\xbd\\xef\\xbf\\xbd\\xef\\xbf\\xbd%\\x05\\xd6\\xaf\\xef\\xbf\\xbd\\xef\\xbf\\xbdO$\\xef\\xbf\\xbdPD#\\x04\\xef\\xbf\\xbd\\xef\\xbf\\xbd\\xef\\xbf\\xbd\\xef\\xbf\\xbd\\xef\\xbf\\xbd\\xef\\xbf\\xbd\\xef\\xbf\\xbd\\x0cz\\x11+\\xef\\xbf\\xbd1thl} \\xef\\xbf\\xbdy\\xef\\xbf\\xbd\\xef\\xbf\\xbd^\\xef\\xbf\\xbdfM\\xef\\xbf\\xbd_\\xef\\xbf\\xbds\\xef\\xbf\\xbdf(\\xef\\xbf\\xbd\\xc5\\x9aU\\xef\\xbf\\xbd\\xef\\xbf\\xbd\\xef\\xbf\\xbd-\\x0f\\xef\\xbf\\xbd\\xef\\xbf\\xbd\\xef\\xbf\\xbdfM\\xc8\\x94\\xef\\xbf\\xbd\\x17\\xef\\xbf\\xbd\\xef\\xbf\\xbd\\xef\\xbf\\xbdG\\xef\\xbf\\xbdH\\x01\\xef\\xbf\\xbdJ\\xef\\xbf\\xbd\\xef\\xbf\\xbdS\\xef\\xbf\\xbd\\xd8\\xbf\\xef\\xbf\\xbd\\xef\\xbf\\xbd\\xef\\xbf\\xbd|E\\xef\\xbf\\xbd\\xef\\xbf\\xbd\\xef\\xbf\\xbd\\xef\\xbf\\xbd\\xef\\xbf\\xbd\\xef\\xbf\\xbdv\\xef\\xbf\\xbd\\xef\\xbf\\xbd\\x08\\xef\\xbf\\xbdUd\\xef\\xbf\\xbd\\x08\\x08\\xef\\xbf\\xbd+\\xef\\xbf\\xbdf\\x14t\\xef\\xbf\\xbdD\\xef\\xbf\\xbd+\\xef\\xbf\\xbdb\\xef\\xbf\\xbd1q\\xef\\xbf\\xbd\\xef\\xbf\\xbd\\xef\\xbf\\xbd=MC;?\\xef\\xbf\\xbd\\xef\\xbf\\xbdq\\xef\\xbf\\xbd\\xef\\xbf\\xbd\\xef\\xbf\\xbdl\\xc7\\x87I\\xef\\xbf\\xbd\\xef\\xbf\\xbdR\\xef\\xbf\\xbd\\x06$\\xef\\xbf\\xbd%\\x10\\xdd\\x840_\\x08qC\\xef\\xbf\\xbdY,\\xef\\xbf\\xbd\\xef\\xbf\\xbd\\xef\\xbf\\xbd\\xd6\\xb9\\xef\\xbf\\xbd\\x02K_\\xef\\xbf\\xbd\\xef\\xbf\\xbd\\xef\\xbf\\xbd\\xef\\xbf\\xbd\\xef\\xbf\\xbdP\\xef\\xbf\\xbdO\\xef\\xbf\\xbd\\xef\\xbf\\xbd\\x07\\xef\\xbf\\xbdp\\xef\\xbf\\xbdHC\\xee\\xb1\\x98\\xef\\xbf\\xbd.\\xef\\xbf\\xbd^\\x11\\x1a\\xef\\xbf\\xbdv:o\\x14\\x02\\x1e\\xef\\xbf\\xbdw\\x1a\"\\n\\xef\\xbf\\xbd-k\\xef\\xbf\\xbd\\x08\\xef\\xbf\\xbd]a\\'4\\xef\\xbf\\xbd\\x07\\xef\\xbf\\xbdP\\xef\\xbf\\xbdU:\\xf3\\x9a\\xbb\\x87\\xef\\xbf\\xbd'",
         "b'000c0100000100000000000006676f6f676c6503636f6d00001c0001502408052befbfbd0b3213efbfbd4d3c3fefbfbdefbfbdefbfbd74efbfbd4471efbfbdefbfbdefbfbd7345efbfbdefbfbdefbfbdefbfbd0eefbfbd0545efbfbdefbfbdefbfbdefbfbdefbfbd104574cfb978efbfbd70060f7745eab3b4efbfbd71505cefbfbd5848717eefbfbdefbfbd5d0ad4aa04efbfbdefbfbd2aefbfbdefbfbd2aefbfbdefbfbdefbfbde8a6b13334efbfbdefbfbd31efbfbdefbfbdefbfbdefbfbdefbfbd7269655c2b7fefbfbdefbfbdefbfbdefbfbd21efbfbd066314efbfbd6036efbfbd3defbfbdefbfbd113cefbfbd0857efbfbd14efbfbdefbfbdefbfbd48efbfbdefbfbdefbfbdefbfbd7829550337efbfbd2aefbfbdefbfbd71efbfbdefbfbd4b29efbfbd4eefbfbd18efbfbd3eefbfbd75efbfbdefbfbd5649efbfbdefbfbd0848efbfbdefbfbd50444d557e23efbfbdefbfbd33efbfbdefbfbdefbfbdefbfbd28c59576efbfbdefbfbd101215597b15efbfbd4fefbfbd1275efbfbdefbfbd201aefbfbd223aefbfbdefbfbd08efbfbd3cefbfbd621a2129efbfbd3658511e3743587e71e9bd9a481cefbfbd6fefbfbdefbfbd0815efbfbdefbfbd0aefbfbde7a0a01aefbfbdefbfbd42efbfbd5301efbfbd5552efbfbdce8b2defbfbd78333cefbfbd5c76efbfbd60efbfbd3befbfbd50225c2b102e4121efbfbd012579467274efbfbd53efbfbd56efbfbdefbfbdd6bdefbfbdefbfbd6aefbfbdefbfbd144309efbfbdefbfbd2123efbfbd2026efbfbd3d12efbfbdefbfbdefbfbd2505d6afefbfbdefbfbd4f24efbfbd50442304efbfbdefbfbdefbfbdefbfbdefbfbdefbfbdefbfbd0c7a112befbfbd3174686c7d20efbfbd79efbfbdefbfbd5eefbfbd664defbfbd5fefbfbd73efbfbd6628efbfbdc59a55efbfbdefbfbdefbfbd2d0fefbfbdefbfbdefbfbd664dc894efbfbd17efbfbdefbfbdefbfbd47efbfbd4801efbfbd4aefbfbdefbfbd53efbfbdd8bfefbfbdefbfbdefbfbd7c45efbfbdefbfbdefbfbdefbfbdefbfbdefbfbd76efbfbdefbfbd08efbfbd5564efbfbd0808efbfbd2befbfbd661474efbfbd44efbfbd2befbfbd62efbfbd3171efbfbdefbfbdefbfbd3d4d433b3fefbfbdefbfbd71efbfbdefbfbdefbfbd6cc78749efbfbdefbfbd52efbfbd0624efbfbd2510dd84305f087143efbfbd592cefbfbdefbfbdefbfbdd6b9efbfbd024b5fefbfbdefbfbdefbfbdefbfbdefbfbd50efbfbd4fefbfbdefbfbd07efbfbd70efbfbd4843eeb198efbfbd2eefbfbd5e111aefbfbd763a6f14021eefbfbd771a220aefbfbd2d6befbfbd08efbfbd5d612734efbfbd07efbfbd50efbfbd553af39abb87efbfbd'"
        ],
        [
         "25",
         "10.1.10.53",
         "84.54.22.33",
         "53",
         "53",
         "b'\\x00\\x0c\\x01\\x00\\x00\\x01\\x00\\x00\\x00\\x00\\x00\\x00\\x06google\\x03com\\x00\\x00\\x1c\\x00\\x01r\\xcc\\x90 ~\\x16\\xef\\xbf\\xbd\\x00\\xef\\xbf\\xbd\\xef\\xbf\\xbd\\x7f\\xef\\xbf\\xbd\\x02\\xef\\xbf\\xbdv\\xef\\xbf\\xbd\\x0ex+f\\xef\\xbf\\xbd\\xef\\xbf\\xbd\\xef\\xbf\\xbd\\xef\\xbf\\xbd\\xef\\xbf\\xbd\\xcf\\x95\\x08^\\x144WH\\xef\\xbf\\xbdY\\xef\\xbf\\xbdv\\xef\\xbf\\xbd\\xef\\xbf\\xbdzc\\x04\\xef\\xbf\\xbd\\x16\\xef\\xbf\\xbd?+K\\x05\\xef\\xbf\\xbdR\\xef\\xbf\\xbdo\\x15\\xef\\xbf\\xbd\\xeb\\x96\\x91]\\x1a\\xca\\x9eB\\xef\\xbf\\xbd\\xef\\xbf\\xbd\\xd5\\xb8od\\xef\\xbf\\xbd\\xef\\xbf\\xbd?;\\xef\\xbf\\xbd4\\xef\\xbf\\xbd[\\\\\\xef\\xbf\\xbd\\x14\\xef\\xbf\\xbdT\\x1awl\\xef\\xbf\\xbd\\'j\\x0c\\x04\\x14\\x0e\\xef\\xbf\\xbd0\\xef\\xbf\\xbd\\xef\\xbf\\xbd\\xdd\\xa3\\xef\\xbf\\xbd\\xef\\xbf\\xbd\\x05\\xef\\xbf\\xbd\\xc4\\x8c\\x18*(\\xef\\xbf\\xbd\\xef\\xbf\\xbdCV\\xce\\x8eg\\xef\\xbf\\xbd\\xef\\xbf\\xbd\\xef\\xbf\\xbd\\x07\\xef\\xbf\\xbd.\\xef\\xbf\\xbdEs\\xef\\xbf\\xbd_Ezbo\\xef\\xbf\\xbd\\xef\\xbf\\xbdo\\xef\\xbf\\xbd\\xc9\\xa4\\xef\\xbf\\xbd\\xef\\xbf\\xbd\\x07\\xef\\xbf\\xbd\\xef\\xbf\\xbd\\xef\\xbf\\xbdrg\\xef\\xbf\\xbd%\\xef\\xbf\\xbd\\xef\\xbf\\xbd\\xef\\xbf\\xbd|;\\xef\\xbf\\xbd\\xef\\xbf\\xbd\\xef\\xbf\\xbd\\xef\\xbf\\xbd\\xef\\xbf\\xbd\\xef\\xbf\\xbd\\ncA:\\xef\\xbf\\xbdi\\xef\\xbf\\xbd\\xef\\xbf\\xbd\\xef\\xbf\\xbd\\x19\\xef\\xbf\\xbdkm\\xef\\xbf\\xbd6\\xef\\xbf\\xbd\\xef\\xbf\\xbdnq\\xef\\xbf\\xbd\\xef\\xbf\\xbdB\\xef\\xbf\\xbd;z/?0\\xef\\xbf\\xbd\\xef\\xbf\\xbd\\xef\\xbf\\xbd%5\\x15\\xef\\xbf\\xbd\\xef\\xbf\\xbd\\xef\\xbf\\xbd+\\x07{!N\\xef\\xbf\\xbdO\\xef\\xbf\\xbd\\x13\\xef\\xbf\\xbdp\\xef\\xbf\\xbd\\xef\\xbf\\xbdY\\xef\\xbf\\xbd\\xef\\xbf\\xbd\\xef\\xbf\\xbd.\\xef\\xbf\\xbd\\xef\\xbf\\xbd3|\\xef\\xbf\\xbd\\xef\\xbf\\xbd.!^\\xef\\xbf\\xbd\\xef\\xbf\\xbd\\xef\\xbf\\xbd\\x1f\\xef\\xbf\\xbd\\xef\\xbf\\xbd\\xef\\xbf\\xbdb\\xef\\xbf\\xbd\\xef\\xbf\\xbd\\x1d\\xef\\xbf\\xbd\\x1b]\\x16\\xef\\xbf\\xbdy\\xef\\xbf\\xbd\\xef\\xbf\\xbd\\xdb\\x81\\xef\\xbf\\xbd\\x14\\xef\\xbf\\xbd\\xef\\xbf\\xbd\\x08\\xef\\xbf\\xbd\\r\\xef\\xbf\\xbd\\xef\\xbf\\xbd\\x16\\xef\\xbf\\xbd\\xef\\xbf\\xbd.\\xef\\xbf\\xbd\\xe2\\x90\\xb2F\\x08\\xef\\xbf\\xbdJe\\xd0\\x8b\\xef\\xbf\\xbd?\\x15\\xef\\xbf\\xbd\\x1c\\xef\\xbf\\xbd\\xee\\x88\\xb3\\x17\\xef\\xbf\\xbd\\xef\\xbf\\xbd\\xef\\xbf\\xbd\\xef\\xbf\\xbd\\x02\\xcb\\xba\\xef\\xbf\\xbdBg^\\xef\\xbf\\xbdOt8a%DS\\xef\\xbf\\xbdJw\\xef\\xbf\\xbdJI\\xef\\xbf\\xbdg\\xef\\xbf\\xbdg\"\\x7f74\\xef\\xbf\\xbdi\\x1b\\xef\\xbf\\xbd1\\xef\\xbf\\xbd\\xef\\xbf\\xbd\\x0c\\xcf\\xb9\\xef\\xbf\\xbd^Rf\\xef\\xbf\\xbd\\x07\\xef\\xbf\\xbd\\x08J\\xef\\xbf\\xbd\\xef\\xbf\\xbdy\\xef\\xbf\\xbd0(\\xef\\xbf\\xbd\\xd4\\xb7R\\x11\\xef\\xbf\\xbdh\\xc8\\xa0b\\xef\\xbf\\xbd\\xef\\xbf\\xbdD\\xef\\xbf\\xbd?y\\xef\\xbf\\xbdwvO\\xef\\xbf\\xbd\\x17\\xef\\xbf\\xbd@\\xef\\xbf\\xbd\\xef\\xbf\\xbd\\xef\\xbf\\xbd\\xef\\xbf\\xbd\\xef\\xbf\\xbd%:N\\xef\\xbf\\xbd\\x7f\\xef\\xbf\\xbdd\"\\xda\\x97\\xef\\xbf\\xbd{%\\x05#\\xef\\xbf\\xbd\\xef\\xbf\\xbd9\\xef\\xbf\\xbd\\xef\\xbf\\xbd\\xef\\xbf\\xbd\\x11_\\xc4\\x887\\xef\\xbf\\xbd\\x07\"L\\x04\\xef\\xbf\\xbda\\xd3\\x9c\\xef\\xbf\\xbd\\xef\\xbf\\xbd\\x08C4?\\xef\\xbf\\xbd\\xd2\\xb5!\\xef\\xbf\\xbd.\\xca\\xb0\\x06})\\xdd\\xaf(\\xef\\xbf\\xbd\\xef\\xbf\\xbd\\xef\\xbf\\xbdq\\xef\\xbf\\xbd\\xef\\xbf\\xbd\\xef\\xbf\\xbd\\xef\\xbf\\xbd\\x12\\xef\\xbf\\xbd*\\xef\\xbf\\xbd\\xef\\xbf\\xbd4\\xef\\xbf\\xbd*\\xef\\xbf\\xbd\\xef\\xbf\\xbd\\x00KYw\\xef\\xbf\\xbd+\\xef\\xbf\\xbd\\xef\\xbf\\xbd7\\x04\\xef\\xbf\\xbd$}R\\xef\\xbf\\xbdD\"\\x1c\\xef\\xbf\\xbd\\xef\\xbf\\xbd\\xef\\xbf\\xbd\\xef\\xbf\\xbd\\xef\\xbf\\xbd,K\\xef\\xbf\\xbd%\\xd1\\xac\\xef\\xbf\\xbdT\\xef\\xbf\\xbd\\\\{\\xef\\xbf\\xbd7\\xef\\xbf\\xbd\\xef\\xbf\\xbd\\xef\\xbf\\xbd\\x13\\xef\\xbf\\xbdB\\xef\\xbf\\xbd\\xef\\xbf\\xbd\\xef\\xbf\\xbd\\xef\\xbf\\xbd@\\xef\\xbf\\xbd\\xef\\xbf\\xbd:\\xef\\xbf\\xbd\\xef\\xbf\\xbd\\xef\\xbf\\xbd\\x11\\xef\\xbf\\xbd+u\\xef\\xbf\\xbdC\\xef\\xbf\\xbdm\\xef\\xbf\\xbd\\x0c\\xef\\xbf\\xbd\\x11\\xef\\xbf\\xbdl\\x049*\\xef\\xbf\\xbd}\\xef\\xbf\\xbdS1\\x1a\\xef\\xbf\\xbdFw\\xef\\xbf\\xbdU\\xef\\xbf\\xbdJ\\xef\\xbf\\xbd<\\xef\\xbf\\xbduNH\\xef\\xbf\\xbd\\xef\\xbf\\xbd:'",
         "b'000c0100000100000000000006676f6f676c6503636f6d00001c000172cc90207e16efbfbd00efbfbdefbfbd7fefbfbd02efbfbd76efbfbd0e782b66efbfbdefbfbdefbfbdefbfbdefbfbdcf95085e14345748efbfbd59efbfbd76efbfbdefbfbd7a6304efbfbd16efbfbd3f2b4b05efbfbd52efbfbd6f15efbfbdeb96915d1aca9e42efbfbdefbfbdd5b86f64efbfbdefbfbd3f3befbfbd34efbfbd5b5cefbfbd14efbfbd541a776cefbfbd276a0c04140eefbfbd30efbfbdefbfbddda3efbfbdefbfbd05efbfbdc48c182a28efbfbdefbfbd4356ce8e67efbfbdefbfbdefbfbd07efbfbd2eefbfbd4573efbfbd5f457a626fefbfbdefbfbd6fefbfbdc9a4efbfbdefbfbd07efbfbdefbfbdefbfbd7267efbfbd25efbfbdefbfbdefbfbd7c3befbfbdefbfbdefbfbdefbfbdefbfbdefbfbd0a63413aefbfbd69efbfbdefbfbdefbfbd19efbfbd6b6defbfbd36efbfbdefbfbd6e71efbfbdefbfbd42efbfbd3b7a2f3f30efbfbdefbfbdefbfbd253515efbfbdefbfbdefbfbd2b077b214eefbfbd4fefbfbd13efbfbd70efbfbdefbfbd59efbfbdefbfbdefbfbd2eefbfbdefbfbd337cefbfbdefbfbd2e215eefbfbdefbfbdefbfbd1fefbfbdefbfbdefbfbd62efbfbdefbfbd1defbfbd1b5d16efbfbd79efbfbdefbfbddb81efbfbd14efbfbdefbfbd08efbfbd0defbfbdefbfbd16efbfbdefbfbd2eefbfbde290b24608efbfbd4a65d08befbfbd3f15efbfbd1cefbfbdee88b317efbfbdefbfbdefbfbdefbfbd02cbbaefbfbd42675eefbfbd4f743861254453efbfbd4a77efbfbd4a49efbfbd67efbfbd67227f3734efbfbd691befbfbd31efbfbdefbfbd0ccfb9efbfbd5e5266efbfbd07efbfbd084aefbfbdefbfbd79efbfbd3028efbfbdd4b75211efbfbd68c8a062efbfbdefbfbd44efbfbd3f79efbfbd77764fefbfbd17efbfbd40efbfbdefbfbdefbfbdefbfbdefbfbd253a4eefbfbd7fefbfbd6422da97efbfbd7b250523efbfbdefbfbd39efbfbdefbfbdefbfbd115fc48837efbfbd07224c04efbfbd61d39cefbfbdefbfbd0843343fefbfbdd2b521efbfbd2ecab0067d29ddaf28efbfbdefbfbdefbfbd71efbfbdefbfbdefbfbdefbfbd12efbfbd2aefbfbdefbfbd34efbfbd2aefbfbdefbfbd004b5977efbfbd2befbfbdefbfbd3704efbfbd247d52efbfbd44221cefbfbdefbfbdefbfbdefbfbdefbfbd2c4befbfbd25d1acefbfbd54efbfbd5c7befbfbd37efbfbdefbfbdefbfbd13efbfbd42efbfbdefbfbdefbfbdefbfbd40efbfbdefbfbd3aefbfbdefbfbdefbfbd11efbfbd2b75efbfbd43efbfbd6defbfbd0cefbfbd11efbfbd6c04392aefbfbd7defbfbd53311aefbfbd4677efbfbd55efbfbd4aefbfbd3cefbfbd754e48efbfbdefbfbd3a'"
        ],
        [
         "26",
         "10.1.10.53",
         "84.54.22.33",
         "53",
         "53",
         "b'\\x00\\x0c\\x01\\x00\\x00\\x01\\x00\\x00\\x00\\x00\\x00\\x00\\x06google\\x03com\\x00\\x00\\x1c\\x00\\x01\\xef\\xbf\\xbdK\\xef\\xbf\\xbde\\xef\\xbf\\xbd4\\xef\\xbf\\xbdP$M\\x11q\\xef\\xbf\\xbd\\xef\\xbf\\xbde\\xef\\xbf\\xbd\\xef\\xbf\\xbd\\x08\\xef\\xbf\\xbdV\\xef\\xbf\\xbdq\\xef\\xbf\\xbd\\xef\\xbf\\xbd\\xef\\xbf\\xbd\\n\\xef\\xbf\\xbd7\\xef\\xbf\\xbd|/\\xef\\xbf\\xbd7\\xef\\xbf\\xbd\\xef\\xbf\\xbdR\\x0fe\\xef\\xbf\\xbd\\x1a\\xc2\\xa6\\xef\\xbf\\xbdH\\xef\\xbf\\xbd\\xef\\xbf\\xbd\\xca\\xaf\\xef\\xbf\\xbd\\x15\\xef\\xbf\\xbd\\x1b#\\x14Q\\xef\\xbf\\xbdw\\xef\\xbf\\xbdP\\x00\\xef\\xbf\\xbd\\xef\\xbf\\xbdIu\\xc8\\x85[\\x1f06%\\xef\\xbf\\xbd#+\\x03\\xef\\xbf\\xbdlY\\xef\\xbf\\xbd\\xef\\xbf\\xbd\\'\\xef\\xbf\\xbd/\\xcb\\xa9\\xef\\xbf\\xbd\\xef\\xbf\\xbd\\xef\\xbf\\xbdMu\\xef\\xbf\\xbd\\xef\\xbf\\xbd\\x0b\\xef\\xbf\\xbd\\x19\\xef\\xbf\\xbd\\x0c\\x11\\xef\\xbf\\xbd\\xef\\xbf\\xbd\\x08\\xef\\xbf\\xbd\\xef\\xbf\\xbd\\xef\\xbf\\xbdPS\\xef\\xbf\\xbdS~BG\\xef\\xbf\\xbdoI%\\xef\\xbf\\xbd\\x08\\n\\r\\xc2\\xa1\\xef\\xbf\\xbd+3Q~5\\x15\\xef\\xbf\\xbd\\x1e6\\xef\\xbf\\xbd\\xef\\xbf\\xbdk\\xce\\x9c\\x08\\xef\\xbf\\xbd\\xef\\xbf\\xbdaE\\xef\\xbf\\xbd\\xef\\xbf\\xbd\\xef\\xbf\\xbd(\\x7f\\x08\\x06\\x00\\xef\\xbf\\xbdR\\xef\\xbf\\xbd\\xef\\xbf\\xbdKA\\xef\\xbf\\xbd\\xef\\xbf\\xbd\\x102.S\\xef\\xbf\\xbd\\xef\\xbf\\xbdz8\\x005\\xef\\xbf\\xbdZ\\xef\\xbf\\xbd\\xef\\xbf\\xbdwV-{/\\xef\\xbf\\xbdq\\xef\\xbf\\xbd^\\xef\\xbf\\xbd\\xef\\xbf\\xbd{\\xef\\xbf\\xbd\\xef\\xbf\\xbdH2v\\x12\\xef\\xbf\\xbd\\x01\\xef\\xbf\\xbd\\xef\\xbf\\xbd+\\x1a\\xef\\xbf\\xbd\\r\\x1c\\xef\\xbf\\xbd?M\\nz\\xef\\xbf\\xbdIR\\xef\\xbf\\xbdh\\xef\\xbf\\xbd\\x16\\xc9\\xad\\xef\\xbf\\xbdz\\xef\\xbf\\xbdu\\xef\\xbf\\xbdtP=l\\xef\\xbf\\xbd\\xef\\xbf\\xbdj\\x05\\xef\\xbf\\xbd\\xef\\xbf\\xbd\\xef\\xbf\\xbd\\x15\\xc6\\x99\\xef\\xbf\\xbdZ\\xef\\xbf\\xbd]\\xc4\\xb8\\xef\\xbf\\xbd\\xef\\xbf\\xbd.\\xef\\xbf\\xbd\\xef\\xbf\\xbd\\xef\\xbf\\xbdD\\x10\\xef\\xbf\\xbd\\xef\\xbf\\xbd5P8l\\xef\\xbf\\xbd\\xef\\xbf\\xbd\\xef\\xbf\\xbdT\\x1a\\xef\\xbf\\xbdO\\xef\\xbf\\xbd2\\xef\\xbf\\xbd\\x1b\\xef\\xbf\\xbd\\xef\\xbf\\xbd,\\xef\\xbf\\xbd\\xef\\xbf\\xbd\\xef\\xbf\\xbd\\xef\\xbf\\xbd\\xef\\xbf\\xbd\\xef\\xbf\\xbdu\\xef\\xbf\\xbdD8`\\xef\\xbf\\xbd=2.\\xef\\xbf\\xbd\\xef\\xbf\\xbd+3|8\\xef\\xbf\\xbd\\xef\\xbf\\xbdV\\xef\\xbf\\xbd\\xef\\xbf\\xbd\\xef\\xbf\\xbdR\\xef\\xbf\\xbd\\xef\\xbf\\xbd\\xef\\xbf\\xbd\\xef\\xbf\\xbd\\xef\\xbf\\xbd\\xef\\xbf\\xbd\\xef\\xbf\\xbd\\xef\\xbf\\xbd\\xef\\xbf\\xbd\\xef\\xbf\\xbd2\"J\\xef\\xbf\\xbd\\xef\\xbf\\xbdo\\x05\\xef\\xbf\\xbde\\xef\\xbf\\xbdTt\\xef\\xbf\\xbd\\xef\\xbf\\xbdn\\xef\\xbf\\xbdEk\\xce\\x8f\\rA\\xef\\xbf\\xbd1\\xef\\xbf\\xbdn\\xef\\xbf\\xbd\\xef\\xbf\\xbd\\xef\\xbf\\xbd\\xef\\xbf\\xbd\\xef\\xbf\\xbd~\\xef\\xbf\\xbda\\xef\\xbf\\xbdv\\xef\\xbf\\xbd\\xef\\xbf\\xbd\\x03\\xef\\xbf\\xbd\\xef\\xbf\\xbd\\xef\\xbf\\xbd{b7v\\xef\\xbf\\xbd)\\xef\\xbf\\xbd\\x01\\xe3\\x95\\xa0\\xef\\xbf\\xbd8\\xef\\xbf\\xbd\\xef\\xbf\\xbd\\xef\\xbf\\xbd\\xd9\\x9d\\xef\\xbf\\xbd\\xef\\xbf\\xbd:x\\xef\\xbf\\xbdD\\xef\\xbf\\xbd\\xef\\xbf\\xbd\\xef\\xbf\\xbd\\x7f\\xef\\xbf\\xbd\\xef\\xbf\\xbdF\\x7f\\n\\x06\\xef\\xbf\\xbd\\xef\\xbf\\xbdTj\\xef\\xbf\\xbd\\xcc\\xaf\\xef\\xbf\\xbdT\\xef\\xbf\\xbd\\xef\\xbf\\xbd\\xef\\xbf\\xbd\\xef\\xbf\\xbd0\\xe2\\x95\\x96\\xef\\xbf\\xbd!\\xef\\xbf\\xbdCD-\\xef\\xbf\\xbd~\\xef\\xbf\\xbd\\xef\\xbf\\xbd\\xef\\xbf\\xbdl\\xd1\\x84\\xef\\xbf\\xbd\\xef\\xbf\\xbdF\\xc2\\xba\\x0f\\xef\\xbf\\xbd\\xef\\xbf\\xbdw\\x13\\xef\\xbf\\xbdq\\xef\\xbf\\xbd1\\xef\\xbf\\xbd\\x1a\\xd1\\xa2\\xef\\xbf\\xbd\\xef\\xbf\\xbd&\\xc4\\xad\\x11\\x04\\xef\\xbf\\xbdb~}\\xef\\xbf\\xbd\\xef\\xbf\\xbd\\xef\\xbf\\xbd\\x14\\xef\\xbf\\xbd\\xef\\xbf\\xbd\\xef\\xbf\\xbd\\xef\\xbf\\xbdk\\x05\\xef\\xbf\\xbd\\xef\\xbf\\xbdyB\\xef\\xbf\\xbd\\x17@|\\x1e\\xef\\xbf\\xbd\\xef\\xbf\\xbd\"\\xef\\xbf\\xbd3\\x05\\xef\\xbf\\xbdl?\\x11\\xef\\xbf\\xbd\\xef\\xbf\\xbd\\nV\\x06+\\xef\\xbf\\xbd\\xef\\xbf\\xbdL\\xef\\xbf\\xbd\\xef\\xbf\\xbd\\xef\\xbf\\xbd\\xef\\xbf\\xbd%Wi(\\x17E\\xef\\xbf\\xbdiw-\\xef\\xbf\\xbd\\xef\\xbf\\xbd[\\xef\\xbf\\xbd<e\\x11\\xef\\xbf\\xbd\\xef\\xbf\\xbd\\xef\\xbf\\xbd\"\\xef\\xbf\\xbd\\x0bf\\xc7\\xa4\\xef\\xbf\\xbd\\x0b\\\\9\\xef\\xbf\\xbdCo\\xef\\xbf\\xbdB.\\x04\\xef\\xbf\\xbd\\t\\xef\\xbf\\xbd'",
         "b'000c0100000100000000000006676f6f676c6503636f6d00001c0001efbfbd4befbfbd65efbfbd34efbfbd50244d1171efbfbdefbfbd65efbfbdefbfbd08efbfbd56efbfbd71efbfbdefbfbdefbfbd0aefbfbd37efbfbd7c2fefbfbd37efbfbdefbfbd520f65efbfbd1ac2a6efbfbd48efbfbdefbfbdcaafefbfbd15efbfbd1b231451efbfbd77efbfbd5000efbfbdefbfbd4975c8855b1f303625efbfbd232b03efbfbd6c59efbfbdefbfbd27efbfbd2fcba9efbfbdefbfbdefbfbd4d75efbfbdefbfbd0befbfbd19efbfbd0c11efbfbdefbfbd08efbfbdefbfbdefbfbd5053efbfbd537e4247efbfbd6f4925efbfbd080a0dc2a1efbfbd2b33517e3515efbfbd1e36efbfbdefbfbd6bce9c08efbfbdefbfbd6145efbfbdefbfbdefbfbd287f080600efbfbd52efbfbdefbfbd4b41efbfbdefbfbd10322e53efbfbdefbfbd7a380035efbfbd5aefbfbdefbfbd77562d7b2fefbfbd71efbfbd5eefbfbdefbfbd7befbfbdefbfbd48327612efbfbd01efbfbdefbfbd2b1aefbfbd0d1cefbfbd3f4d0a7aefbfbd4952efbfbd68efbfbd16c9adefbfbd7aefbfbd75efbfbd74503d6cefbfbdefbfbd6a05efbfbdefbfbdefbfbd15c699efbfbd5aefbfbd5dc4b8efbfbdefbfbd2eefbfbdefbfbdefbfbd4410efbfbdefbfbd3550386cefbfbdefbfbdefbfbd541aefbfbd4fefbfbd32efbfbd1befbfbdefbfbd2cefbfbdefbfbdefbfbdefbfbdefbfbdefbfbd75efbfbd443860efbfbd3d322eefbfbdefbfbd2b337c38efbfbdefbfbd56efbfbdefbfbdefbfbd52efbfbdefbfbdefbfbdefbfbdefbfbdefbfbdefbfbdefbfbdefbfbdefbfbd32224aefbfbdefbfbd6f05efbfbd65efbfbd5474efbfbdefbfbd6eefbfbd456bce8f0d41efbfbd31efbfbd6eefbfbdefbfbdefbfbdefbfbdefbfbd7eefbfbd61efbfbd76efbfbdefbfbd03efbfbdefbfbdefbfbd7b623776efbfbd29efbfbd01e395a0efbfbd38efbfbdefbfbdefbfbdd99defbfbdefbfbd3a78efbfbd44efbfbdefbfbdefbfbd7fefbfbdefbfbd467f0a06efbfbdefbfbd546aefbfbdccafefbfbd54efbfbdefbfbdefbfbdefbfbd30e29596efbfbd21efbfbd43442defbfbd7eefbfbdefbfbdefbfbd6cd184efbfbdefbfbd46c2ba0fefbfbdefbfbd7713efbfbd71efbfbd31efbfbd1ad1a2efbfbdefbfbd26c4ad1104efbfbd627e7defbfbdefbfbdefbfbd14efbfbdefbfbdefbfbdefbfbd6b05efbfbdefbfbd7942efbfbd17407c1eefbfbdefbfbd22efbfbd3305efbfbd6c3f11efbfbdefbfbd0a56062befbfbdefbfbd4cefbfbdefbfbdefbfbdefbfbd255769281745efbfbd69772defbfbdefbfbd5befbfbd3c6511efbfbdefbfbdefbfbd22efbfbd0b66c7a4efbfbd0b5c39efbfbd436fefbfbd422e04efbfbd09efbfbd'"
        ],
        [
         "27",
         "10.1.10.53",
         "84.54.22.33",
         "53",
         "53",
         "b'\\x00\\x0c\\x01\\x00\\x00\\x01\\x00\\x00\\x00\\x00\\x00\\x00\\x06google\\x03com\\x00\\x00\\x1c\\x00\\x01\\xef\\xbf\\xbdXH\\x04j\\x17\\x00\\xef\\xbf\\xbdU55\\x1b56\\xef\\xbf\\xbd\\x03\\n}\\xef\\xbf\\xbd\\xef\\xbf\\xbd\\n\\xc4\\xb9=\\x14\\xde\\x83\\x00\\xef\\xbf\\xbd\\x1f\\x08^!\\x12o\\xef\\xbf\\xbd\\xef\\xbf\\xbdZ*\\xef\\xbf\\xbd\\xef\\xbf\\xbd\\xef\\xbf\\xbd\\xef\\xbf\\xbd]\\xef\\xbf\\xbd\\xef\\xbf\\xbd\\xef\\xbf\\xbd&z\\x17\\x0e\\x19\"\\xef\\xbf\\xbd%\\xef\\xbf\\xbdp\\x03\"\\xef\\xbf\\xbd\\xef\\xbf\\xbd\\xef\\xbf\\xbd\\xef\\xbf\\xbd\\xef\\xbf\\xbdG\\xef\\xbf\\xbd\\xef\\xbf\\xbd\\x05TYc\\xef\\xbf\\xbd\\xef\\xbf\\xbd+\\x08\\x04z\\xef\\xbf\\xbd\\xef\\xbf\\xbd[\\xef\\xbf\\xbdO\\x7fU \\xef\\xbf\\xbdN\\x05\\x0c\\xef\\xbf\\xbd\\xef\\xbf\\xbd\\xef\\xbf\\xbd\\xef\\xbf\\xbd+\\xef\\xbf\\xbd\\xef\\xbf\\xbd{\\xef\\xbf\\xbd\\xef\\xbf\\xbd\\x0b|\\xef\\xbf\\xbd5\\x08p+\"\\xef\\xbf\\xbd\\xef\\xbf\\xbd$\\xef\\xbf\\xbd1[\\x1f\\xef\\xbf\\xbd\\xef\\xbf\\xbd\\xef\\xbf\\xbdD\\xd6\\x8a\\xef\\xbf\\xbd\\xef\\xbf\\xbd\\xef\\xbf\\xbd\\xef\\xbf\\xbd\\x7f&\\xef\\xbf\\xbd.F\\xef\\xbf\\xbdBl\\xef\\xbf\\xbd\\xef\\xbf\\xbd\\x00\\xef\\xbf\\xbd\\x02R\\xcb\\xaa*z\\xef\\xbf\\xbd\\xef\\xbf\\xbd\\xef\\xbf\\xbd\\xef\\xbf\\xbdH\\xef\\xbf\\xbd,\\t4\\x10\\xef\\xbf\\xbds\\xef\\xbf\\xbd88\\xef\\xbf\\xbd\\xef\\xbf\\xbd\\xef\\xbf\\xbd\\x10\\xef\\xbf\\xbdJR\\xef\\xbf\\xbd\\xef\\xbf\\xbd\\xef\\xbf\\xbd\\xef\\xbf\\xbd\\xef\\xbf\\xbdq\\xef\\xbf\\xbd\\xef\\xbf\\xbd.\\xef\\xbf\\xbd\\xef\\xbf\\xbd\\xef\\xbf\\xbd\\x1ck\\x10\\xef\\xbf\\xbde\\x00$\\xef\\xbf\\xbdm\\xef\\xbf\\xbd\\x0e|2iSL\\xef\\xbf\\xbdD\\xef\\xbf\\xbd|}\\x13\\x02~\\xef\\xbf\\xbd{\\xef\\xbf\\xbd0}>2\\xef\\xbf\\xbdv\\xd1\\x93y%\\xef\\xbf\\xbdw8\\xef\\xbf\\xbdK=\\x10\\xef\\xbf\\xbdC\\xef\\xbf\\xbd\\x15eC\\xef\\xbf\\xbd\\xef\\xbf\\xbdK\\xef\\xbf\\xbd\\xef\\xbf\\xbd4M<\\xef\\xbf\\xbdmO\\xef\\xbf\\xbd\\xef\\xbf\\xbdPJq\\xef\\xbf\\xbd<\\xef\\xbf\\xbd~\\xef\\xbf\\xbd\\x0b\\xef\\xbf\\xbd\\x1ch\\xdd\\x9fl$\\x01e!A3\\tz\\xef\\xbf\\xbd\\x00j[\\xef\\xbf\\xbd\\xef\\xbf\\xbdolx*\\xef\\xbf\\xbdu\\xef\\xbf\\xbd\\xef\\xbf\\xbd\\xef\\xbf\\xbd+\\x0b\\xef\\xbf\\xbd&\\xef\\xbf\\xbdG(/F\\xef\\xbf\\xbd\\xef\\xbf\\xbd@p\\x00\\x11\\xef\\xbf\\xbd+E5\\xef\\xbf\\xbdlx\\xef\\xbf\\xbd\\xef\\xbf\\xbd\\xc9\\x873\\xef\\xbf\\xbdu\\xef\\xbf\\xbd\\xef\\xbf\\xbdK\\xef\\xbf\\xbdl3\\x1b.\\x16\\x02.&\\x05\\xef\\xbf\\xbd\\x10\\xef\\xbf\\xbd\\x05\\xef\\xbf\\xbd\\x0e\\xef\\xbf\\xbd\\xef\\xbf\\xbd\\xef\\xbf\\xbd6\\xef\\xbf\\xbd\\xef\\xbf\\xbd\\xef\\xbf\\xbd\\xef\\xbf\\xbd`}2f\\\\z\\xef\\xbf\\xbd\\x18\\xef\\xbf\\xbd\\xef\\xbf\\xbd\\x18\\xd5\\x8d\\xef\\xbf\\xbdJ\\xef\\xbf\\xbd2e\\xef\\xbf\\xbd\\xef\\xbf\\xbd\\xef\\xbf\\xbd\\xef\\xbf\\xbd\\xef\\xbf\\xbd[\\xef\\xbf\\xbd1E+\\xef\\xbf\\xbdL\\xef\\xbf\\xbd\\xef\\xbf\\xbdn\\xef\\xbf\\xbd\\xef\\xbf\\xbd\\x12\\xef\\xbf\\xbd(\\x00\\xef\\xbf\\xbd9 \\xef\\xbf\\xbdO~7\\x10\\xef\\xbf\\xbd\\xef\\xbf\\xbd\\xef\\xbf\\xbd+\\xef\\xbf\\xbd\\xef\\xbf\\xbdL\\xef\\xbf\\xbd\\xef\\xbf\\xbd\\x10\\xdd\\x86I@b\\xef\\xbf\\xbdW\\n\\xef\\xbf\\xbd\\xef\\xbf\\xbdwmX\\xef\\xbf\\xbdi\\nV\\xef\\xbf\\xbd\\xef\\xbf\\xbd\\xef\\xbf\\xbd%g\\xef\\xbf\\xbd\\xef\\xbf\\xbd\\xef\\xbf\\xbd\\x08\\x01\\xef\\xbf\\xbd\\xef\\xbf\\xbd6 \\x11\\xef\\xbf\\xbd.\\x05\\xef\\xbf\\xbd^)\\xef\\xbf\\xbdv\\xef\\xbf\\xbd\\x07B\\xef\\xbf\\xbd+\\xef\\xbf\\xbdpd\\xef\\xbf\\xbdh>}x\\xef\\xbf\\xbdy!J\\xef\\xbf\\xbd\\x0c \\xef\\xbf\\xbd\\x05\\xef\\xbf\\xbd\\x06E\\xef\\xbf\\xbdm\\xef\\xbf\\xbd\\xc2\\xaf\\xef\\xbf\\xbd\\x05\\xef\\xbf\\xbd\\xef\\xbf\\xbd\\xef\\xbf\\xbdF9\\xef\\xbf\\xbd\\xef\\xbf\\xbd+\\xef\\xbf\\xbd\\xef\\xbf\\xbd\\x12#\\xef\\xbf\\xbd\\xd0\\x94h\\xef\\xbf\\xbd.R\\x1b\\x10\\xef\\xbf\\xbdu\\xef\\xbf\\xbd\\x05Cv\\xef\\xbf\\xbd\\xef\\xbf\\xbd=k\\xef\\xbf\\xbd\\xef\\xbf\\xbd\\xef\\xbf\\xbd\\x06\\x01~\\x06\\xef\\xbf\\xbd^\\xef\\xbf\\xbd\\xef\\xbf\\xbd\\x1b\\xef\\xbf\\xbd\\xef\\xbf\\xbd<Mh\\xef\\xbf\\xbd'",
         "b'000c0100000100000000000006676f6f676c6503636f6d00001c0001efbfbd5848046a1700efbfbd5535351b3536efbfbd030a7defbfbdefbfbd0ac4b93d14de8300efbfbd1f085e21126fefbfbdefbfbd5a2aefbfbdefbfbdefbfbdefbfbd5defbfbdefbfbdefbfbd267a170e1922efbfbd25efbfbd700322efbfbdefbfbdefbfbdefbfbdefbfbd47efbfbdefbfbd05545963efbfbdefbfbd2b08047aefbfbdefbfbd5befbfbd4f7f5520efbfbd4e050cefbfbdefbfbdefbfbdefbfbd2befbfbdefbfbd7befbfbdefbfbd0b7cefbfbd3508702b22efbfbdefbfbd24efbfbd315b1fefbfbdefbfbdefbfbd44d68aefbfbdefbfbdefbfbdefbfbd7f26efbfbd2e46efbfbd426cefbfbdefbfbd00efbfbd0252cbaa2a7aefbfbdefbfbdefbfbdefbfbd48efbfbd2c093410efbfbd73efbfbd3838efbfbdefbfbdefbfbd10efbfbd4a52efbfbdefbfbdefbfbdefbfbdefbfbd71efbfbdefbfbd2eefbfbdefbfbdefbfbd1c6b10efbfbd650024efbfbd6defbfbd0e7c3269534cefbfbd44efbfbd7c7d13027eefbfbd7befbfbd307d3e32efbfbd76d1937925efbfbd7738efbfbd4b3d10efbfbd43efbfbd156543efbfbdefbfbd4befbfbdefbfbd344d3cefbfbd6d4fefbfbdefbfbd504a71efbfbd3cefbfbd7eefbfbd0befbfbd1c68dd9f6c240165214133097aefbfbd006a5befbfbdefbfbd6f6c782aefbfbd75efbfbdefbfbdefbfbd2b0befbfbd26efbfbd47282f46efbfbdefbfbd40700011efbfbd2b4535efbfbd6c78efbfbdefbfbdc98733efbfbd75efbfbdefbfbd4befbfbd6c331b2e16022e2605efbfbd10efbfbd05efbfbd0eefbfbdefbfbdefbfbd36efbfbdefbfbdefbfbdefbfbd607d32665c7aefbfbd18efbfbdefbfbd18d58defbfbd4aefbfbd3265efbfbdefbfbdefbfbdefbfbdefbfbd5befbfbd31452befbfbd4cefbfbdefbfbd6eefbfbdefbfbd12efbfbd2800efbfbd3920efbfbd4f7e3710efbfbdefbfbdefbfbd2befbfbdefbfbd4cefbfbdefbfbd10dd86494062efbfbd570aefbfbdefbfbd776d58efbfbd690a56efbfbdefbfbdefbfbd2567efbfbdefbfbdefbfbd0801efbfbdefbfbd362011efbfbd2e05efbfbd5e29efbfbd76efbfbd0742efbfbd2befbfbd7064efbfbd683e7d78efbfbd79214aefbfbd0c20efbfbd05efbfbd0645efbfbd6defbfbdc2afefbfbd05efbfbdefbfbdefbfbd4639efbfbdefbfbd2befbfbdefbfbd1223efbfbdd09468efbfbd2e521b10efbfbd75efbfbd054376efbfbdefbfbd3d6befbfbdefbfbdefbfbd06017e06efbfbd5eefbfbdefbfbd1befbfbdefbfbd3c4d68efbfbd'"
        ],
        [
         "28",
         "10.1.10.53",
         "84.54.22.33",
         "53",
         "53",
         "b'\\x00\\x0c\\x01\\x00\\x00\\x01\\x00\\x00\\x00\\x00\\x00\\x00\\x06google\\x03com\\x00\\x00\\x1c\\x00\\x01w\\xef\\xbf\\xbd\\x04\\x10\\xef\\xbf\\xbd[y\\xef\\xbf\\xbd\\xef\\xbf\\xbd4\\xef\\xbf\\xbd\\xef\\xbf\\xbd\\xef\\xbf\\xbd\\x07\\xef\\xbf\\xbd\\xed\\x8c\\xbd\\xef\\xbf\\xbd\\xef\\xbf\\xbd\\xef\\xbf\\xbdQ9c\\xef\\xbf\\xbd\\xef\\xbf\\xbd\\xef\\xbf\\xbd\\xef\\xbf\\xbd\\xef\\xbf\\xbd\\x15\\xef\\xbf\\xbd\\xef\\xbf\\xbd\\xef\\xbf\\xbd\\xef\\xbf\\xbd}\\x0c\\x17\\xef\\xbf\\xbd\\xef\\xbf\\xbd\\xef\\xbf\\xbd\\xef\\xbf\\xbd\\xef\\xbf\\xbd\\x02u\\xef\\xbf\\xbde\\x1ac\\xef\\xbf\\xbd\\xef\\xbf\\xbd\\xef\\xbf\\xbddB\\x1c\\xef\\xbf\\xbd\\xef\\xbf\\xbd\\r\\xef\\xbf\\xbdR:q\\x10\\\\\\x04\\x0c\\xef\\xbf\\xbd0,\\xef\\xbf\\xbd\\x0c\\xef\\xbf\\xbd0,\\xef\\xbf\\xbd\\x0c\\xef\\xbf\\xbd0\\x0c\\x0b1\\xef\\xbf\\xbd0\\x0c\\x0b1\\xef\\xbf\\xbd0\\x0c\\xef\\xbf\\xbdB\\xef\\xbf\\xbd0\\x0c\\xef\\xbf\\xbdB\\xef\\xbf\\xbd0\\x0c\\xc3\\xb0\\x103\\x0c\\xc3\\xb0\\x103\\x0c\\xef\\xbf\\xbd0}\\xef\\xbf\\xbd\\xef\\xbf\\xbdE\\xef\\xbf\\xbd0\\xef\\xbf\\xbd\\x19\\x08\\xda\\x8cy\\xef\\xbf\\xbdT\\xef\\xbf\\xbdh\\xde\\xb16\\xef\\xbf\\xbd>\\xef\\xbf\\xbd\\xef\\xbf\\xbd\\xef\\xbf\\xbd\\xef\\xbf\\xbdL\\x7fU)\\xef\\xbf\\xbd0\\x03\\x03\\xef\\xbf\\xbdW\\xef\\xbf\\xbd\\xef\\xbf\\xbd\\xef\\xbf\\xbd\\xef\\xbf\\xbdn\\xef\\xbf\\xbdX\\x00H\\xef\\xbf\\xbd&\\xcb\\x91\\x1bM\\xef\\xbf\\xbd\\xef\\xbf\\xbdT\\x08\\x006\\x10\\xef\\xbf\\xbd[\\xef\\xbf\\xbdhU\\x0b\\xef\\xbf\\xbd[\\xef\\xbf\\xbd\\x01c\\x1f\\x17&\\x0b1\\xef\\xbf\\xbd0\\xef\\xbf\\xbd\\xef\\xbf\\xbd\\xef\\xbf\\xbd\\xef\\xbf\\xbd\\x0f\\xef\\xbf\\xbd\\x10\\xef\\xbf\\xbd@)\\xef\\xbf\\xbd\\xef\\xbf\\xbd7\\x12\\xef\\xbf\\xbdh6E\\x14\\x12h\\xef\\xbf\\xbdG\\xce\\xbeJ\\xef\\xbf\\xbd\\xef\\xbf\\xbdd\\x06\\xef\\xbf\\xbd\\x113\\xef\\xbf\\xbd@\\xef\\xbf\\xbd\\xef\\xbf\\xbd\\xef\\xbf\\xbdv=\\xef\\xbf\\xbdM\\xd5\\xb6G\\xef\\xbf\\xbd\\x05k\\xef\\xbf\\xbd$Y\\xef\\xbf\\xbd\\x19\\xef\\xbf\\xbd\\xef\\xbf\\xbd\\x0e\\x03\\xef\\xbf\\xbd\\xef\\xbf\\xbd\\xef\\xbf\\xbd\\xef\\xbf\\xbdB\\xef\\xbf\\xbd0L?\\xef\\xbf\\xbd\\xd8\\x94\\xef\\xbf\\xbd\\xef\\xbf\\xbd=\\xef\\xbf\\xbd\\x16Fw\\xef\\xbf\\xbdY;\\xef\\xbf\\xbd\\xef\\xbf\\xbd\\xef\\xbf\\xbd<\\xef\\xbf\\xbd\\xef\\xbf\\xbd\\xef\\xbf\\xbd\\x01\\x00\\x00\\xef\\xbf\\xbd\\xef\\xbf\\xbd\\xef\\xbf\\xbd\\xef\\xbf\\xbd;\\xef\\xbf\\xbd\\xef\\xbf\\xbd}\\xef\\xbf\\xbd4\\x00\\x00\\x00\\x00IEND\\xef\\xbf\\xbdB`\\xef\\xbf\\xbd'",
         "b'000c0100000100000000000006676f6f676c6503636f6d00001c000177efbfbd0410efbfbd5b79efbfbdefbfbd34efbfbdefbfbdefbfbd07efbfbded8cbdefbfbdefbfbdefbfbd513963efbfbdefbfbdefbfbdefbfbdefbfbd15efbfbdefbfbdefbfbdefbfbd7d0c17efbfbdefbfbdefbfbdefbfbdefbfbd0275efbfbd651a63efbfbdefbfbdefbfbd64421cefbfbdefbfbd0defbfbd523a71105c040cefbfbd302cefbfbd0cefbfbd302cefbfbd0cefbfbd300c0b31efbfbd300c0b31efbfbd300cefbfbd42efbfbd300cefbfbd42efbfbd300cc3b010330cc3b010330cefbfbd307defbfbdefbfbd45efbfbd30efbfbd1908da8c79efbfbd54efbfbd68deb136efbfbd3eefbfbdefbfbdefbfbdefbfbd4c7f5529efbfbd300303efbfbd57efbfbdefbfbdefbfbdefbfbd6eefbfbd580048efbfbd26cb911b4defbfbdefbfbd5408003610efbfbd5befbfbd68550befbfbd5befbfbd01631f17260b31efbfbd30efbfbdefbfbdefbfbdefbfbd0fefbfbd10efbfbd4029efbfbdefbfbd3712efbfbd683645141268efbfbd47cebe4aefbfbdefbfbd6406efbfbd1133efbfbd40efbfbdefbfbdefbfbd763defbfbd4dd5b647efbfbd056befbfbd2459efbfbd19efbfbdefbfbd0e03efbfbdefbfbdefbfbdefbfbd42efbfbd304c3fefbfbdd894efbfbdefbfbd3defbfbd164677efbfbd593befbfbdefbfbdefbfbd3cefbfbdefbfbdefbfbd010000efbfbdefbfbdefbfbdefbfbd3befbfbdefbfbd7defbfbd340000000049454e44efbfbd4260efbfbd'"
        ]
       ],
       "shape": {
        "columns": 6,
        "rows": 29
       }
      },
      "text/html": [
       "<div>\n",
       "<style scoped>\n",
       "    .dataframe tbody tr th:only-of-type {\n",
       "        vertical-align: middle;\n",
       "    }\n",
       "\n",
       "    .dataframe tbody tr th {\n",
       "        vertical-align: top;\n",
       "    }\n",
       "\n",
       "    .dataframe thead th {\n",
       "        text-align: right;\n",
       "    }\n",
       "</style>\n",
       "<table border=\"1\" class=\"dataframe\">\n",
       "  <thead>\n",
       "    <tr style=\"text-align: right;\">\n",
       "      <th></th>\n",
       "      <th>src</th>\n",
       "      <th>dst</th>\n",
       "      <th>sport</th>\n",
       "      <th>dport</th>\n",
       "      <th>payload_raw</th>\n",
       "      <th>payload_hex</th>\n",
       "    </tr>\n",
       "  </thead>\n",
       "  <tbody>\n",
       "    <tr>\n",
       "      <th>0</th>\n",
       "      <td>10.1.10.53</td>\n",
       "      <td>84.54.22.33</td>\n",
       "      <td>53</td>\n",
       "      <td>53</td>\n",
       "      <td>b'\\x00\\x0c\\x01\\x00\\x00\\x01\\x00\\x00\\x00\\x00\\x00...</td>\n",
       "      <td>b'000c0100000100000000000006676f6f676c6503636f...</td>\n",
       "    </tr>\n",
       "    <tr>\n",
       "      <th>1</th>\n",
       "      <td>10.1.10.53</td>\n",
       "      <td>84.54.22.33</td>\n",
       "      <td>53</td>\n",
       "      <td>53</td>\n",
       "      <td>b'\\x00\\x0c\\x01\\x00\\x00\\x01\\x00\\x00\\x00\\x00\\x00...</td>\n",
       "      <td>b'000c0100000100000000000006676f6f676c6503636f...</td>\n",
       "    </tr>\n",
       "    <tr>\n",
       "      <th>2</th>\n",
       "      <td>10.1.10.53</td>\n",
       "      <td>84.54.22.33</td>\n",
       "      <td>53</td>\n",
       "      <td>53</td>\n",
       "      <td>b'\\x00\\x0c\\x01\\x00\\x00\\x01\\x00\\x00\\x00\\x00\\x00...</td>\n",
       "      <td>b'000c0100000100000000000006676f6f676c6503636f...</td>\n",
       "    </tr>\n",
       "    <tr>\n",
       "      <th>3</th>\n",
       "      <td>10.1.10.53</td>\n",
       "      <td>84.54.22.33</td>\n",
       "      <td>53</td>\n",
       "      <td>53</td>\n",
       "      <td>b'\\x00\\x0c\\x01\\x00\\x00\\x01\\x00\\x00\\x00\\x00\\x00...</td>\n",
       "      <td>b'000c0100000100000000000006676f6f676c6503636f...</td>\n",
       "    </tr>\n",
       "    <tr>\n",
       "      <th>4</th>\n",
       "      <td>10.1.10.53</td>\n",
       "      <td>84.54.22.33</td>\n",
       "      <td>53</td>\n",
       "      <td>53</td>\n",
       "      <td>b'\\x00\\x0c\\x01\\x00\\x00\\x01\\x00\\x00\\x00\\x00\\x00...</td>\n",
       "      <td>b'000c0100000100000000000006676f6f676c6503636f...</td>\n",
       "    </tr>\n",
       "    <tr>\n",
       "      <th>5</th>\n",
       "      <td>10.1.10.53</td>\n",
       "      <td>84.54.22.33</td>\n",
       "      <td>53</td>\n",
       "      <td>53</td>\n",
       "      <td>b'\\x00\\x0c\\x01\\x00\\x00\\x01\\x00\\x00\\x00\\x00\\x00...</td>\n",
       "      <td>b'000c0100000100000000000006676f6f676c6503636f...</td>\n",
       "    </tr>\n",
       "    <tr>\n",
       "      <th>6</th>\n",
       "      <td>10.1.10.53</td>\n",
       "      <td>84.54.22.33</td>\n",
       "      <td>53</td>\n",
       "      <td>53</td>\n",
       "      <td>b'\\x00\\x0c\\x01\\x00\\x00\\x01\\x00\\x00\\x00\\x00\\x00...</td>\n",
       "      <td>b'000c0100000100000000000006676f6f676c6503636f...</td>\n",
       "    </tr>\n",
       "    <tr>\n",
       "      <th>7</th>\n",
       "      <td>10.1.10.53</td>\n",
       "      <td>84.54.22.33</td>\n",
       "      <td>53</td>\n",
       "      <td>53</td>\n",
       "      <td>b'\\x00\\x0c\\x01\\x00\\x00\\x01\\x00\\x00\\x00\\x00\\x00...</td>\n",
       "      <td>b'000c0100000100000000000006676f6f676c6503636f...</td>\n",
       "    </tr>\n",
       "    <tr>\n",
       "      <th>8</th>\n",
       "      <td>10.1.10.53</td>\n",
       "      <td>84.54.22.33</td>\n",
       "      <td>53</td>\n",
       "      <td>53</td>\n",
       "      <td>b'\\x00\\x0c\\x01\\x00\\x00\\x01\\x00\\x00\\x00\\x00\\x00...</td>\n",
       "      <td>b'000c0100000100000000000006676f6f676c6503636f...</td>\n",
       "    </tr>\n",
       "    <tr>\n",
       "      <th>9</th>\n",
       "      <td>10.1.10.53</td>\n",
       "      <td>84.54.22.33</td>\n",
       "      <td>53</td>\n",
       "      <td>53</td>\n",
       "      <td>b'\\x00\\x0c\\x01\\x00\\x00\\x01\\x00\\x00\\x00\\x00\\x00...</td>\n",
       "      <td>b'000c0100000100000000000006676f6f676c6503636f...</td>\n",
       "    </tr>\n",
       "    <tr>\n",
       "      <th>10</th>\n",
       "      <td>10.1.10.53</td>\n",
       "      <td>84.54.22.33</td>\n",
       "      <td>53</td>\n",
       "      <td>53</td>\n",
       "      <td>b'\\x00\\x0c\\x01\\x00\\x00\\x01\\x00\\x00\\x00\\x00\\x00...</td>\n",
       "      <td>b'000c0100000100000000000006676f6f676c6503636f...</td>\n",
       "    </tr>\n",
       "    <tr>\n",
       "      <th>11</th>\n",
       "      <td>10.1.10.53</td>\n",
       "      <td>84.54.22.33</td>\n",
       "      <td>53</td>\n",
       "      <td>53</td>\n",
       "      <td>b'\\x00\\x0c\\x01\\x00\\x00\\x01\\x00\\x00\\x00\\x00\\x00...</td>\n",
       "      <td>b'000c0100000100000000000006676f6f676c6503636f...</td>\n",
       "    </tr>\n",
       "    <tr>\n",
       "      <th>12</th>\n",
       "      <td>10.1.10.53</td>\n",
       "      <td>84.54.22.33</td>\n",
       "      <td>53</td>\n",
       "      <td>53</td>\n",
       "      <td>b'\\x00\\x0c\\x01\\x00\\x00\\x01\\x00\\x00\\x00\\x00\\x00...</td>\n",
       "      <td>b'000c0100000100000000000006676f6f676c6503636f...</td>\n",
       "    </tr>\n",
       "    <tr>\n",
       "      <th>13</th>\n",
       "      <td>10.1.10.53</td>\n",
       "      <td>84.54.22.33</td>\n",
       "      <td>53</td>\n",
       "      <td>53</td>\n",
       "      <td>b'\\x00\\x0c\\x01\\x00\\x00\\x01\\x00\\x00\\x00\\x00\\x00...</td>\n",
       "      <td>b'000c0100000100000000000006676f6f676c6503636f...</td>\n",
       "    </tr>\n",
       "    <tr>\n",
       "      <th>14</th>\n",
       "      <td>10.1.10.53</td>\n",
       "      <td>84.54.22.33</td>\n",
       "      <td>53</td>\n",
       "      <td>53</td>\n",
       "      <td>b'\\x00\\x0c\\x01\\x00\\x00\\x01\\x00\\x00\\x00\\x00\\x00...</td>\n",
       "      <td>b'000c0100000100000000000006676f6f676c6503636f...</td>\n",
       "    </tr>\n",
       "    <tr>\n",
       "      <th>15</th>\n",
       "      <td>10.1.10.53</td>\n",
       "      <td>84.54.22.33</td>\n",
       "      <td>53</td>\n",
       "      <td>53</td>\n",
       "      <td>b'\\x00\\x0c\\x01\\x00\\x00\\x01\\x00\\x00\\x00\\x00\\x00...</td>\n",
       "      <td>b'000c0100000100000000000006676f6f676c6503636f...</td>\n",
       "    </tr>\n",
       "    <tr>\n",
       "      <th>16</th>\n",
       "      <td>10.1.10.53</td>\n",
       "      <td>84.54.22.33</td>\n",
       "      <td>53</td>\n",
       "      <td>53</td>\n",
       "      <td>b'\\x00\\x0c\\x01\\x00\\x00\\x01\\x00\\x00\\x00\\x00\\x00...</td>\n",
       "      <td>b'000c0100000100000000000006676f6f676c6503636f...</td>\n",
       "    </tr>\n",
       "    <tr>\n",
       "      <th>17</th>\n",
       "      <td>10.1.10.53</td>\n",
       "      <td>84.54.22.33</td>\n",
       "      <td>53</td>\n",
       "      <td>53</td>\n",
       "      <td>b\"\\x00\\x0c\\x01\\x00\\x00\\x01\\x00\\x00\\x00\\x00\\x00...</td>\n",
       "      <td>b'000c0100000100000000000006676f6f676c6503636f...</td>\n",
       "    </tr>\n",
       "    <tr>\n",
       "      <th>18</th>\n",
       "      <td>10.1.10.53</td>\n",
       "      <td>84.54.22.33</td>\n",
       "      <td>53</td>\n",
       "      <td>53</td>\n",
       "      <td>b'\\x00\\x0c\\x01\\x00\\x00\\x01\\x00\\x00\\x00\\x00\\x00...</td>\n",
       "      <td>b'000c0100000100000000000006676f6f676c6503636f...</td>\n",
       "    </tr>\n",
       "    <tr>\n",
       "      <th>19</th>\n",
       "      <td>10.1.10.53</td>\n",
       "      <td>84.54.22.33</td>\n",
       "      <td>53</td>\n",
       "      <td>53</td>\n",
       "      <td>b'\\x00\\x0c\\x01\\x00\\x00\\x01\\x00\\x00\\x00\\x00\\x00...</td>\n",
       "      <td>b'000c0100000100000000000006676f6f676c6503636f...</td>\n",
       "    </tr>\n",
       "    <tr>\n",
       "      <th>20</th>\n",
       "      <td>10.1.10.53</td>\n",
       "      <td>84.54.22.33</td>\n",
       "      <td>53</td>\n",
       "      <td>53</td>\n",
       "      <td>b'\\x00\\x0c\\x01\\x00\\x00\\x01\\x00\\x00\\x00\\x00\\x00...</td>\n",
       "      <td>b'000c0100000100000000000006676f6f676c6503636f...</td>\n",
       "    </tr>\n",
       "    <tr>\n",
       "      <th>21</th>\n",
       "      <td>10.1.10.53</td>\n",
       "      <td>84.54.22.33</td>\n",
       "      <td>53</td>\n",
       "      <td>53</td>\n",
       "      <td>b'\\x00\\x0c\\x01\\x00\\x00\\x01\\x00\\x00\\x00\\x00\\x00...</td>\n",
       "      <td>b'000c0100000100000000000006676f6f676c6503636f...</td>\n",
       "    </tr>\n",
       "    <tr>\n",
       "      <th>22</th>\n",
       "      <td>10.1.10.53</td>\n",
       "      <td>84.54.22.33</td>\n",
       "      <td>53</td>\n",
       "      <td>53</td>\n",
       "      <td>b'\\x00\\x0c\\x01\\x00\\x00\\x01\\x00\\x00\\x00\\x00\\x00...</td>\n",
       "      <td>b'000c0100000100000000000006676f6f676c6503636f...</td>\n",
       "    </tr>\n",
       "    <tr>\n",
       "      <th>23</th>\n",
       "      <td>10.1.10.53</td>\n",
       "      <td>84.54.22.33</td>\n",
       "      <td>53</td>\n",
       "      <td>53</td>\n",
       "      <td>b'\\x00\\x0c\\x01\\x00\\x00\\x01\\x00\\x00\\x00\\x00\\x00...</td>\n",
       "      <td>b'000c0100000100000000000006676f6f676c6503636f...</td>\n",
       "    </tr>\n",
       "    <tr>\n",
       "      <th>24</th>\n",
       "      <td>10.1.10.53</td>\n",
       "      <td>84.54.22.33</td>\n",
       "      <td>53</td>\n",
       "      <td>53</td>\n",
       "      <td>b'\\x00\\x0c\\x01\\x00\\x00\\x01\\x00\\x00\\x00\\x00\\x00...</td>\n",
       "      <td>b'000c0100000100000000000006676f6f676c6503636f...</td>\n",
       "    </tr>\n",
       "    <tr>\n",
       "      <th>25</th>\n",
       "      <td>10.1.10.53</td>\n",
       "      <td>84.54.22.33</td>\n",
       "      <td>53</td>\n",
       "      <td>53</td>\n",
       "      <td>b'\\x00\\x0c\\x01\\x00\\x00\\x01\\x00\\x00\\x00\\x00\\x00...</td>\n",
       "      <td>b'000c0100000100000000000006676f6f676c6503636f...</td>\n",
       "    </tr>\n",
       "    <tr>\n",
       "      <th>26</th>\n",
       "      <td>10.1.10.53</td>\n",
       "      <td>84.54.22.33</td>\n",
       "      <td>53</td>\n",
       "      <td>53</td>\n",
       "      <td>b'\\x00\\x0c\\x01\\x00\\x00\\x01\\x00\\x00\\x00\\x00\\x00...</td>\n",
       "      <td>b'000c0100000100000000000006676f6f676c6503636f...</td>\n",
       "    </tr>\n",
       "    <tr>\n",
       "      <th>27</th>\n",
       "      <td>10.1.10.53</td>\n",
       "      <td>84.54.22.33</td>\n",
       "      <td>53</td>\n",
       "      <td>53</td>\n",
       "      <td>b'\\x00\\x0c\\x01\\x00\\x00\\x01\\x00\\x00\\x00\\x00\\x00...</td>\n",
       "      <td>b'000c0100000100000000000006676f6f676c6503636f...</td>\n",
       "    </tr>\n",
       "    <tr>\n",
       "      <th>28</th>\n",
       "      <td>10.1.10.53</td>\n",
       "      <td>84.54.22.33</td>\n",
       "      <td>53</td>\n",
       "      <td>53</td>\n",
       "      <td>b'\\x00\\x0c\\x01\\x00\\x00\\x01\\x00\\x00\\x00\\x00\\x00...</td>\n",
       "      <td>b'000c0100000100000000000006676f6f676c6503636f...</td>\n",
       "    </tr>\n",
       "  </tbody>\n",
       "</table>\n",
       "</div>"
      ],
      "text/plain": [
       "           src          dst sport dport  \\\n",
       "0   10.1.10.53  84.54.22.33    53    53   \n",
       "1   10.1.10.53  84.54.22.33    53    53   \n",
       "2   10.1.10.53  84.54.22.33    53    53   \n",
       "3   10.1.10.53  84.54.22.33    53    53   \n",
       "4   10.1.10.53  84.54.22.33    53    53   \n",
       "5   10.1.10.53  84.54.22.33    53    53   \n",
       "6   10.1.10.53  84.54.22.33    53    53   \n",
       "7   10.1.10.53  84.54.22.33    53    53   \n",
       "8   10.1.10.53  84.54.22.33    53    53   \n",
       "9   10.1.10.53  84.54.22.33    53    53   \n",
       "10  10.1.10.53  84.54.22.33    53    53   \n",
       "11  10.1.10.53  84.54.22.33    53    53   \n",
       "12  10.1.10.53  84.54.22.33    53    53   \n",
       "13  10.1.10.53  84.54.22.33    53    53   \n",
       "14  10.1.10.53  84.54.22.33    53    53   \n",
       "15  10.1.10.53  84.54.22.33    53    53   \n",
       "16  10.1.10.53  84.54.22.33    53    53   \n",
       "17  10.1.10.53  84.54.22.33    53    53   \n",
       "18  10.1.10.53  84.54.22.33    53    53   \n",
       "19  10.1.10.53  84.54.22.33    53    53   \n",
       "20  10.1.10.53  84.54.22.33    53    53   \n",
       "21  10.1.10.53  84.54.22.33    53    53   \n",
       "22  10.1.10.53  84.54.22.33    53    53   \n",
       "23  10.1.10.53  84.54.22.33    53    53   \n",
       "24  10.1.10.53  84.54.22.33    53    53   \n",
       "25  10.1.10.53  84.54.22.33    53    53   \n",
       "26  10.1.10.53  84.54.22.33    53    53   \n",
       "27  10.1.10.53  84.54.22.33    53    53   \n",
       "28  10.1.10.53  84.54.22.33    53    53   \n",
       "\n",
       "                                          payload_raw  \\\n",
       "0   b'\\x00\\x0c\\x01\\x00\\x00\\x01\\x00\\x00\\x00\\x00\\x00...   \n",
       "1   b'\\x00\\x0c\\x01\\x00\\x00\\x01\\x00\\x00\\x00\\x00\\x00...   \n",
       "2   b'\\x00\\x0c\\x01\\x00\\x00\\x01\\x00\\x00\\x00\\x00\\x00...   \n",
       "3   b'\\x00\\x0c\\x01\\x00\\x00\\x01\\x00\\x00\\x00\\x00\\x00...   \n",
       "4   b'\\x00\\x0c\\x01\\x00\\x00\\x01\\x00\\x00\\x00\\x00\\x00...   \n",
       "5   b'\\x00\\x0c\\x01\\x00\\x00\\x01\\x00\\x00\\x00\\x00\\x00...   \n",
       "6   b'\\x00\\x0c\\x01\\x00\\x00\\x01\\x00\\x00\\x00\\x00\\x00...   \n",
       "7   b'\\x00\\x0c\\x01\\x00\\x00\\x01\\x00\\x00\\x00\\x00\\x00...   \n",
       "8   b'\\x00\\x0c\\x01\\x00\\x00\\x01\\x00\\x00\\x00\\x00\\x00...   \n",
       "9   b'\\x00\\x0c\\x01\\x00\\x00\\x01\\x00\\x00\\x00\\x00\\x00...   \n",
       "10  b'\\x00\\x0c\\x01\\x00\\x00\\x01\\x00\\x00\\x00\\x00\\x00...   \n",
       "11  b'\\x00\\x0c\\x01\\x00\\x00\\x01\\x00\\x00\\x00\\x00\\x00...   \n",
       "12  b'\\x00\\x0c\\x01\\x00\\x00\\x01\\x00\\x00\\x00\\x00\\x00...   \n",
       "13  b'\\x00\\x0c\\x01\\x00\\x00\\x01\\x00\\x00\\x00\\x00\\x00...   \n",
       "14  b'\\x00\\x0c\\x01\\x00\\x00\\x01\\x00\\x00\\x00\\x00\\x00...   \n",
       "15  b'\\x00\\x0c\\x01\\x00\\x00\\x01\\x00\\x00\\x00\\x00\\x00...   \n",
       "16  b'\\x00\\x0c\\x01\\x00\\x00\\x01\\x00\\x00\\x00\\x00\\x00...   \n",
       "17  b\"\\x00\\x0c\\x01\\x00\\x00\\x01\\x00\\x00\\x00\\x00\\x00...   \n",
       "18  b'\\x00\\x0c\\x01\\x00\\x00\\x01\\x00\\x00\\x00\\x00\\x00...   \n",
       "19  b'\\x00\\x0c\\x01\\x00\\x00\\x01\\x00\\x00\\x00\\x00\\x00...   \n",
       "20  b'\\x00\\x0c\\x01\\x00\\x00\\x01\\x00\\x00\\x00\\x00\\x00...   \n",
       "21  b'\\x00\\x0c\\x01\\x00\\x00\\x01\\x00\\x00\\x00\\x00\\x00...   \n",
       "22  b'\\x00\\x0c\\x01\\x00\\x00\\x01\\x00\\x00\\x00\\x00\\x00...   \n",
       "23  b'\\x00\\x0c\\x01\\x00\\x00\\x01\\x00\\x00\\x00\\x00\\x00...   \n",
       "24  b'\\x00\\x0c\\x01\\x00\\x00\\x01\\x00\\x00\\x00\\x00\\x00...   \n",
       "25  b'\\x00\\x0c\\x01\\x00\\x00\\x01\\x00\\x00\\x00\\x00\\x00...   \n",
       "26  b'\\x00\\x0c\\x01\\x00\\x00\\x01\\x00\\x00\\x00\\x00\\x00...   \n",
       "27  b'\\x00\\x0c\\x01\\x00\\x00\\x01\\x00\\x00\\x00\\x00\\x00...   \n",
       "28  b'\\x00\\x0c\\x01\\x00\\x00\\x01\\x00\\x00\\x00\\x00\\x00...   \n",
       "\n",
       "                                          payload_hex  \n",
       "0   b'000c0100000100000000000006676f6f676c6503636f...  \n",
       "1   b'000c0100000100000000000006676f6f676c6503636f...  \n",
       "2   b'000c0100000100000000000006676f6f676c6503636f...  \n",
       "3   b'000c0100000100000000000006676f6f676c6503636f...  \n",
       "4   b'000c0100000100000000000006676f6f676c6503636f...  \n",
       "5   b'000c0100000100000000000006676f6f676c6503636f...  \n",
       "6   b'000c0100000100000000000006676f6f676c6503636f...  \n",
       "7   b'000c0100000100000000000006676f6f676c6503636f...  \n",
       "8   b'000c0100000100000000000006676f6f676c6503636f...  \n",
       "9   b'000c0100000100000000000006676f6f676c6503636f...  \n",
       "10  b'000c0100000100000000000006676f6f676c6503636f...  \n",
       "11  b'000c0100000100000000000006676f6f676c6503636f...  \n",
       "12  b'000c0100000100000000000006676f6f676c6503636f...  \n",
       "13  b'000c0100000100000000000006676f6f676c6503636f...  \n",
       "14  b'000c0100000100000000000006676f6f676c6503636f...  \n",
       "15  b'000c0100000100000000000006676f6f676c6503636f...  \n",
       "16  b'000c0100000100000000000006676f6f676c6503636f...  \n",
       "17  b'000c0100000100000000000006676f6f676c6503636f...  \n",
       "18  b'000c0100000100000000000006676f6f676c6503636f...  \n",
       "19  b'000c0100000100000000000006676f6f676c6503636f...  \n",
       "20  b'000c0100000100000000000006676f6f676c6503636f...  \n",
       "21  b'000c0100000100000000000006676f6f676c6503636f...  \n",
       "22  b'000c0100000100000000000006676f6f676c6503636f...  \n",
       "23  b'000c0100000100000000000006676f6f676c6503636f...  \n",
       "24  b'000c0100000100000000000006676f6f676c6503636f...  \n",
       "25  b'000c0100000100000000000006676f6f676c6503636f...  \n",
       "26  b'000c0100000100000000000006676f6f676c6503636f...  \n",
       "27  b'000c0100000100000000000006676f6f676c6503636f...  \n",
       "28  b'000c0100000100000000000006676f6f676c6503636f...  "
      ]
     },
     "execution_count": 107,
     "metadata": {},
     "output_type": "execute_result"
    }
   ],
   "source": [
    "finalDataframe"
   ]
  },
  {
   "cell_type": "markdown",
   "metadata": {},
   "source": [
    "### e. Obtenga los payloads del DF del inciso anterior, y añada cada uno en un array."
   ]
  },
  {
   "cell_type": "code",
   "execution_count": 110,
   "metadata": {},
   "outputs": [],
   "source": [
    "payloads = finalDataframe.payload_hex.values"
   ]
  },
  {
   "cell_type": "markdown",
   "metadata": {},
   "source": [
    "### f. Muestre el contenido del array."
   ]
  },
  {
   "cell_type": "code",
   "execution_count": 113,
   "metadata": {},
   "outputs": [
    {
     "data": {
      "text/plain": [
       "array([b'000c0100000100000000000006676f6f676c6503636f6d00001c0001efbfbd504e470d0a1a0a0000000d4948445200000162000000efbfbd080600000028efbfbd545200003aefbfbd4944415478efbfbdefbfbd097c54efbfbdefbfbdefbfbdefbfbdefbfbd3b4b12083b08efbfbd0a45efbfbdefbfbd2419efbfbdefbfbd5a69dfaa2defbfbd3b4e32efbfbdefbfbd56efbfbd56efbfbd61efbfbd5a1121efbfbdefbfbd01dcbb696b5befbfbd2e6f6befbfbd65efbfbd015cefbfbdefbfbd5defbfbd2defbfbdefbfbdefbfbd64efbfbd08efbfbd08efbfbdefbfbd67efbfbdefbfbdefbfbd3cefbfbdefbfbd4c12efbfbd24337766efbfbdefbfbd023c5f0defbfbd59efbfbd72efbfbdefbfbd79efbfbdefbfbdefbfbd1c0d18efbfbd3863efbfbd65770d1eefbfbdefbfbdefbfbdefbfbd13efbfbd69614befbfbdefbfbdefbfbdefbfbd757dc5b277efbfbd64efbfbdefbfbd15efbfbd2260063a13efbfbd0befbfbd0c16efbfbd12efbfbd26efbfbd39c690efbfbd00efbfbdefbfbdefbfbd081131d28c5148502aefbfbd40044f34efbfbdefbfbdefbfbd373c79efbfbd0e2e39efbfbdefbfbdefbfbd61324061efbfbdefbfbd2622efbfbd1311efbfbd63efbfbd6b4fefbfbd7340efbfbd39efbfbd69efbfbd3458efbfbd78efbfbd4befbfbd612166efbfbdefbfbd3077efbfbdefbfbd3364781d22efbfbdefbfbdefbfbd4328efbfbd7defbfbd307c71efbfbd2aefbfbdefbfbd0befbfbd612166efbfbd34efbfbdefbfbd2eefbfbd734b6710115d3d394ed48206efbfbdefbfbd75efbfbdefbfbdefbfbd4b5fefbfbd65062aefbfbdefbfbdefbfbd195078efbfbdefbfbd25efbfbdefbfbd03efbfbd33efbfbdefbfbd1e22453f0fefbfbdefbfbdefbfbd2b48efbfbd5d51efbfbd6befbfbdefbfbdefbfbdefbfbd38efbfbd22efbfbd1d113476efbfbd3210efbfbdefbfbdefbfbde592afccb87cefbfbd782e5cefbfbd2d62efbfbd49efbfbd42efbfbdefbfbdefbfbd40efbfbd4cefbfbdefbfbd434a5d585751efbfbdefbfbdefbfbdefbfbd7551efbfbd6b51137fefbfbd4eefbfbd3100efbfbdefbfbdefbfbd3217efbfbd303310efbfbd5c04efbfbd4021efbfbd48efbfbd424a7147272befbfbd52efbfbd555c5befbfbdefbfbdefbfbdefbfbd4758433befbfbdefbfbdd48eefbfbd71efbfbd2104efbfbd72efbfbd733defbfbd0272d4b40befbfbdefbfbdefbfbd5f53efbfbd25efbfbd7068efbfbd6112590502efbfbdefbfbdefbfbdefbfbd63efbfbdefbfbdefbfbd50efbfbd39efbfbd',\n",
       "       b'000c0100000100000000000006676f6f676c6503636f6d00001c00013aefbfbd6c653ac7a9efbfbdefbfbdefbfbd0cefbfbdefbfbdefbfbd3a7c11efbfbd58efbfbdefbfbd712e65efbfbdefbfbdefbfbd611230efbfbd4a7d340a3924767aefbfbd52efbfbd754f2fefbfbdefbfbd3bc7ab5defbfbdefbfbd4d22efbfbd7254d3a3483169efbfbdefbfbdcba5cdb010334c3c6befbfbd015f07521d2cefbfbdefbfbd46efbfbdefbfbde498a1305d1eefbfbdefbfbdefbfbd1e5359efbfbdefbfbd0b0f7169332cefbfbd0c130744efbfbdefbfbdefbfbd0befbfbdefbfbd19637b4fefbfbdefbfbd6eefbfbd514befbfbd0aefbfbd5aefbfbd007029efbfbd3633efbfbdefbfbd5c13272defbfbdefbfbd550c7912efbfbd631135efbfbd56efbfbd00efbfbdeaafab21efbfbd291defbfbdefbfbd107defbfbdefbfbdefbfbd2a051552efbfbdefbfbd47efbfbd58efbfbdefbfbdefbfbd59efbfbd532eefbfbd6b7076efbfbdefbfbd08481e38efbfbd107aefbfbdefbfbd7fefbfbd6defbfbd61213e09efbfbd2fefbfbd2fefbfbd02efbfbd461402efbfbd400042efbfbdefbfbd5eefbfbdefbfbdefbfbd79efbfbdefbfbd101d2eefbfbdefbfbdefbfbd311d06d895114b1befbfbdefbfbdefbfbdefbfbd62efbfbdefbfbdefbfbd3befbfbdefbfbd08efbfbdefbfbd3d4eefbfbdefbfbd203727276b1f02efbfbdefbfbd750c19efbfbd02efbfbd4fefbfbdefbfbdefbfbd61efbfbd5c16641662efbfbd2461efbfbd15efbfbd4664efbfbdefbfbdefbfbd16efbfbd335aefbfbdefbfbd1e132821c4b9efbfbdefbfbdefbfbd576a03efbfbd5f533d5eefbfbd573fefbfbd25efbfbdefbfbd00efbfbd52efbfbdefbfbd4b2010efbfbdefbfbd7b6d563814423cefbfbdefbfbdefbfbd2c783d2316efbfbd69efbfbd25644cefbfbdefbfbdefbfbdefbfbd08efbfbdefbfbd3d6befbfbdefbfbd5defbfbdefbfbdefbfbdc696efbfbdefbfbd0d4fefbfbdefbfbd49efbfbdefbfbdefbfbd1d32efbfbd35681defbfbddaae25ea808cefbfbd1defbfbdefbfbdefbfbd29efbfbd5f0f5618efbfbd722b3d39efbfbd18efbfbd4944efbfbdefbfbdefbfbd3a024cefbfbd63efbfbdefbfbd0eefbfbdefbfbd52efbfbd371d63efbfbd2defbfbd5d44efbfbd5d087177efbfbdefbfbdefbfbd70efbfbd647defbfbd4d282323efbfbddabf7bcba24cefbfbd73efbfbd27efbfbd32011c155e4befbfbd3b7b72efbfbd513277efbfbd10703b0aefbfbd5eefbfbdefbfbdefbfbd7e7aefbfbdefbfbd50762eefbfbdefbfbdefbfbd00057eefbfbdefbfbd',\n",
       "       b'000c0100000100000000000006676f6f676c6503636f6d00001c0001efbfbdefbfbd5e6eefbfbd2727efbfbdefbfbdefbfbd24efbfbdefbfbdefbfbdefbfbdefbfbd52efbfbdefbfbdefbfbd17efbfbd3e45706f75efbfbdefbfbd24efbfbdefbfbd4defbfbdefbfbd1cefbfbdefbfbd0eefbfbd74420defbfbdd4ba67efbfbd6defbfbdefbfbd3e3877e884aaefbfbdefbfbd35efbfbdefbfbdefbfbd3cefbfbd3eefbfbd19efbfbdefbfbd6c0e3c70efbfbdefbfbdc798efbfbdefbfbdefbfbd7738efbfbdefbfbd40d4aeefbfbd6059efbfbdefbfbd15efbfbd6f52efbfbd48efbfbdefbfbd6844efbfbd28efbfbd3befbfbd382a7e6f146059efbfbd6defbfbd15efbfbd3fefbfbd16cba109efbfbd04444aefbfbd315044efbfbd14334fefbfbd16555518efbfbd77efbfbd782e0543efbfbdefbfbd48efbfbd74efbfbdefbfbd1a373defbfbde8a18811efbfbd1befbfbd5f1f303665efbfbd301defbfbd5f50341372efbfbd392c36efbfbd180d63efbfbd06efbfbd45efbfbd3cefbfbd53c2a1efbfbdefbfbd08c38f1e4e592404efbfbd080058efbfbd3934efbfbdefbfbd70d6b0efbfbdefbfbdefbfbdefbfbd15172bc2a6efbfbdefbfbdefbfbd30efbfbd530c55efbfbd6aefbfbd7b417fefbfbd08227aefbfbd43efbfbd0250efbfbd7b17efbfbdefbfbd65efbfbd163173efbfbdefbfbd02efbfbdefbfbdefbfbdefbfbdefbfbdefbfbd60efbfbdefbfbdefbfbd07c2b54defbfbd70efbfbdefbfbd61efbfbd53efbfbdefbfbd3befbfbd200410dab069efbfbd070321697c53c8bc28efbfbdefbfbdefbfbdefbfbd1eefbfbdefbfbd680218793e005470efbfbd6521664e2825efbfbdefbfbd1d7fefbfbd7477efbfbdefbfbdefbfbd72ce98efbfbdefbfbd47efbfbdefbfbdefbfbd49efbfbdefbfbd35efbfbdefbfbd25efbfbdefbfbdefbfbdefbfbd4e003867efbfbd19604dd6b7efbfbd267c2befbfbdefbfbd22efbfbdefbfbdefbfbdefbfbdefbfbdefbfbd39efbfbd7203d1b1092728efbfbdefbfbd71efbfbd103327efbfbd0e13efbfbd40792cefbfbdefbfbd7b52efbfbd06efbfbd00efbfbd0144efbfbdefbfbdefbfbd314a09efbfbdefbfbd1fefbfbd3b347cefbfbdefbfbdefbfbd0f7eefbfbd034ed9baefbfbd68efbfbdefbfbdeb90ae5cefbfbd16efbfbd70efbfbdefbfbdefbfbd3befbfbd49efbfbd5defbfbd00e880b853efbfbdefbfbd78efbfbd6a3b3f220e197e0aefbfbdc5b3efbfbd181662e684a7504cefbfbdefbfbd40efbfbd1aefbfbd1d41efbfbdefbfbd42efbfbdefbfbd36efbfbd12efbfbd1f7068efbfbdefbfbd16efbfbdefbfbdefbfbdefbfbd73efbfbd504176efbfbdefbfbd4fefbfbd',\n",
       "       b'000c0100000100000000000006676f6f676c6503636f6d00001c0001e48e91426a5fefbfbd610defbfbdefbfbdefbfbd04efbfbdefbfbd10444aefbfbdefbfbd14efbfbd12efbfbdefbfbd42efbfbd051d420d26efbfbd40efbfbdd69e09efbfbd44efbfbd6f01efbfbd6763efbfbd72efbfbdefbfbd31efbfbd1220efbfbd0a41041aefbfbd61efbfbd3446efbfbd47efbfbdefbfbdefbfbdefbfbdefbfbd1033efbfbdefbfbdefbfbd4befbfbdefbfbdefbfbd261c5defbfbd10efbfbdefbfbd0c3703445defbfbd2eefbfbdefbfbd0cefbfbd01747828efbfbd60efbfbdefbfbdefbfbdefbfbd595defbfbdefbfbdefbfbd2d6befbfbd712d027510efbfbd60404f77efbfbdefbfbd1f0befbfbd2d3e573a1defbfbdefbfbde8aa9879efbfbdefbfbdefbfbdefbfbd56efbfbdefbfbd71efbfbd6609efbfbdefbfbdefbfbd3eefbfbdefbfbd0e7cefbfbd5b03c3a109efbfbd5f683eefbfbdefbfbd40efbfbd2a0aefbfbd57efbfbd755aefbfbdefbfbdefbfbdefbfbdc9bcefbfbdefbfbdd5b8efbfbd3fefbfbd7aefbfbdefbfbdefbfbd08efbfbd21efbfbd3529687aefbfbdefbfbd4e2defbfbd67efbfbd40efbfbdefbfbd36efbfbd2d3b6aefbfbd35306c1133efbfbdc2a6efbfbd1f6defbfbdefbfbdefbfbdefbfbd10efbfbd2eefbfbd52efbfbd74efbfbd7cefbfbd5fefbfbdefbfbd0876efbfbd58efbfbd0444133aefbfbd18efbfbd6aefbfbdcfb4efbfbdefbfbdefbfbd1478101072efbfbd5a2642efbfbd5eefbfbd2befbfbdefbfbd2924311eefbfbd1815efbfbdefbfbdefbfbd50efbfbd65efbfbd7f3910efbfbd22332cefbfbdefbfbd49efbfbdefbfbd10efbfbd38efbfbd45efbfbd231cdba413283a536e1c22efbfbdefbfbd51efbfbdefbfbd663e42efbfbd23efbfbdefbfbdefbfbdefbfbdefbfbd57efbfbd0813efbfbd6a51efbfbdefbfbd5b01c3a109efbfbd5f796fefbfbdefbfbd39efbfbdefbfbdefbfbd6d226c44efbfbd29efbfbd2eefbfbd0f18efbfbdefbfbd15302cefbfbd4cefbfbd53efbfbdefbfbdefbfbdcda64973efbfbdefbfbd3c3944efbfbdefbfbd21081556efbfbd2c7fefbfbd6befbfbdefbfbd141cefbfbd607a4cefbfbd1261efbfbd2cef92af48216f41efbfbd5301685027efbfbd7e4cefbfbd42efbfbd01efbfbdefbfbdefbfbdefbfbdefbfbdefbfbdefbfbd6befbfbd23efbfbd1956efbfbd585defbfbdefbfbd12efbfbd38efbfbd42efbfbd0c60415e1611efbfbd791b3cefbfbdefbfbd771061efbfbd40efbfbd0705efbfbd54efbfbd0aefbfbd5aefbfbd4defbfbd2fefbfbdefbfbd04efbfbd300c0b31efbfbd300c0b31efbfbd300cd38f70',\n",
       "       b'000c0100000100000000000006676f6f676c6503636f6d00001c0001efbfbdefbfbdefbfbdcbb4efbfbd16efbfbdefbfbd726aefbfbd4742574fefbfbdefbfbd18dda269efbfbdefbfbd30efbfbd1801efbfbdefbfbdefbfbdefbfbdefbfbd136522331c590d0d50efbfbdefbfbdefbfbd5e6e510c0b31efbfbd16132f5c382427cbbdefbfbdefbfbdefbfbd21efbfbd3c7eefbfbd4b22efbfbd6400efbfbdefbfbd19efbfbdefbfbdefbfbdefbfbd62efbfbdefbfbdefbfbdefbfbd091befbfbd36efbfbd70efbfbd6212efbfbdefbfbd09efbfbd0b43efbfbdefbfbd174545efbfbdc98051efbfbd20efbfbd0d4f7241302cefbfbd4c5a28125befbfbd1432efbfbd762e02efbfbdefbfbdefbfbd49efbfbdefbfbdefbfbd2b227aefbfbd4b2203efbfbdefbfbdefbfbdefbfbdefbfbd15efbfbdefbfbd7149307670efbfbdefbfbdefbfbdefbfbd5007efbfbdc6a419efbfbdefbfbd33efbfbdefbfbdefbfbd0601efbfbdefbfbdefbfbd3befbfbde896b01111efbfbdefbfbdefbfbd24efbfbd5fefbfbd126e53efbfbdefbfbdefbfbd28efbfbd0b34efbfbdefbfbd5c1358efbfbd313727efbfbdefbfbdefbfbdefbfbd36efbfbdefbfbd72efbfbd2e00d895efbfbd43efbfbd67efbfbd7e5cefbfbd0622efbfbdefbfbd757f2eefbfbdccb5efbfbdefbfbd251cefbfbd6018efbfbd61216618efbfbd39efbfbdefbfbdefbfbd04efbfbd59efbfbd5eefbfbd077932efbfbdefbfbdefbfbdefbfbdefbfbdcf80efbfbd0022cfab3b635fefbfbddabcefbfbdd6ae7defbfbd0400efbfbd0a6658efbfbdefbfbd014b61efbfbd7e134aefbfbd0e001408e190b16b38efbfbdefbfbd03efbfbd757cefbfbd2b46efbfbdefbfbd6c4defbfbdc5be46534e03efbfbd5965efbfbd44efbfbd2cefbfbdefbfbdefbfbdefbfbd27efbfbdefbfbdefbfbd35efbfbd64120e4d30efbfbd10efbfbdefbfbd0befbfbdefbfbd05020f024a52665478637fefbfbd59efbfbd03efbfbd04efbfbd0051efbfbd6b2705efbfbdefbfbdefbfbd085eefbfbd76efbfbdefbfbdefbfbd7cefbfbd6befbfbd61216606efbfbd08efbfbdefbfbd57efbfbdc4af43efbfbdefbfbd7529efbfbd1fefbfbd00efbfbdefbfbd6f7f04efbfbd295f3322122972391cefbfbd15efbfbdefbfbdefbfbdc7b5cfb01033efbfbdefbfbdefbfbdefbfbdefbfbd7eefbfbd786eefbfbd0c514defbfbd3c6fefbfbdefbfbdefbfbd102927efbfbdefbfbd23efbfbd5aefbfbd78efbfbdefbfbd2befbfbd19cbadefbfbdefbfbd041c2366efbfbd455eefbfbdd789522cefbfbdefbfbdefbfbd225a07efbfbdefbfbdefbfbdefbfbd1d163210efbfbd57efbfbd1047',\n",
       "       b'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',\n",
       "       b'000c0100000100000000000006676f6f676c6503636f6d00001c00015651efbfbdefbfbdefbfbdefbfbdefbfbdefbfbdefbfbd472d55efbfbd7cefbfbd70efbfbdefbfbd605e0befbfbdefbfbdefbfbd29efbfbd1a41efbfbd223aefbfbdefbfbdefbfbd01efbfbdefbfbdefbfbd4922efbfbdefbfbd2f06014305efbfbd701270efbfbd00efbfbd0500efbfbdd0814eefbfbd083051674b78d781efbfbd70efbfbd07efbfbdefbfbd7befbfbd6befbfbd6121664e5ecbb8efbfbdefbfbd4733efbfbd253b1cefbfbd7c22360950efbfbd60efbfbd2defbfbdefbfbd2d116603efbfbd4d32efbfbd116cefbfbd36d6a5213befbfbdefbfbd5aefbfbdefbfbdefbfbd7befbfbdefbfbd76efbfbd664740efbfbdefbfbdefbfbdefbfbdefbfbdefbfbd2fefbfbd5006222defbfbd1aefbfbdefbfbd311c2366efbfbd293f6a43efbfbdefbfbd3b2eefbfbd48efbfbdefbfbdefbfbdefbfbd3fefbfbdefbfbdefbfbdefbfbd29efbfbdefbfbd49e1ac89752fefbfbd3a25efbfbdefbfbdefbfbd2c754d70efbfbd311c02e98bb0190aefbfbd44efbfbd10efbfbd06d3a2efbfbdefbfbd35302cefbfbd4cefbfbd70685fefbfbd6fdaa7efbfbd45efbfbdefbfbd2cefbfbdefbfbd1e6befbfbd5fefbfbdefbfbd55efbfbd5f7aefbfbd695aefbfbd10efbfbdefbfbd5defbfbdefbfbdefbfbd74efbfbd00efbfbdefbfbdefbfbd43efbfbdefbfbdefbfbd5657efbfbdefbfbdefbfbdefbfbd71ea9fbeefbfbdefbfbd52664defbfbd3d2befbfbdefbfbd56efbfbdefbfbdefbfbd456e0d0c0b31efbfbd2f6c7ee18183efbfbd1defbfbd0cefbfbdefbfbdd98dcda15135efbfbdefbfbd4fefbfbdefbfbdefbfbd35efbfbdefbfbdefbfbd07efbfbdefbfbdefbfbdefbfbd2138efbfbd5474efbfbd227aefbfbd081aefbfbd175e5044efbfbdefbfbd08efbfbdefbfbd5245efbfbdefbfbdefbfbd0eefbfbdefbfbd336aefbfbd3476efbfbdefbfbd1aefbfbdefbfbdefbfbd05efbfbdefbfbdefbfbd0befbfbdefbfbd205861efbfbdefbfbdefbfbd6402efbfbd1133efbfbd67efbfbd61efbfbd01efbfbdefbfbdefbfbd61efbfbd561befbfbd00efbfbdefbfbd1f1873d19d3963efbfbdefbfbd470b2d797befbfbd0eefbfbdefbfbdefbfbd7f705b6fefbfbdefbfbdefbfbd0adea1efbfbd6121664e3276efbfbdefbfbdefbfbd5d001f7049301cefbfbd6018efbfbd6158efbfbd19efbfbd6158efbfbd19efbfbd61181662efbfbd61181662efbfbd6118efbfbdefbfbdefbfbd6118efbfbdefbfbdefbfbd6118efbfbd61216618efbfbd61216618efbfbd6158efbfbd19efbfbd6158efbfbd19efbfbd61181662efbfbd61181662efbfbd61',\n",
       "       b'000c0100000100000000000006676f6f676c6503636f6d00001c000118efbfbd4770efbfbdefbfbd13efbfbd1957efbfbdefbfbd7138efbfbd7240efbfbd4aefbfbdefbfbd533defbfbd24efbfbd51efbfbdefbfbd33efbfbdefbfbd33efbfbd7e1b2044027aefbfbdc5820befbfbd03c6914c1d75efbfbd55efbfbd44efbfbd4aefbfbd38efbfbd3fefbfbd09efbfbd3e69686cefbfbdefbfbdefbfbd671e4c69efbfbd7e025c5eefbfbd2befbfbd23efbfbddb872cefbfbd1eefbfbdefbfbd41efbfbd7befbfbdefbfbdefbfbdefbfbd30efbfbdefbfbdefbfbd0a21d097efbfbdefbfbd79efbfbd325773efbfbd6eefbfbd1cefbfbd1308efbfbdefbfbd7eefbfbdefbfbdefbfbd591a1eefbfbd3cefbfbd05efbfbd46efbfbdefbfbdefbfbdefbfbd3477efbfbdefbfbdefbfbdef93b2efbfbdefbfbdefbfbd08efbfbd0d1a3cefbfbd6348efbfbdefbfbd702602efbfbdefbfbdd08defbfbdefbfbd0befbfbdc5a5136b2aca97730fefbfbdefbfbd04330040efbfbd39efbfbd3aefbfbd6cefbfbd3848efbfbd10efbfbd69efbfbdefbfbd3e36201151efbfbdefbfbd023533230d5c0e1f1cefbfbd31efbfbdf19ea2b7efbfbd6aefbfbd63efbfbd3a2e5ecdadefbfbd2d6266efbfbd2831efbfbdefbfbd152b1c3e106fefbfbdcdb5efbfbd070e7a7cefbfbd41441cd29fefbfbd44efbfbd402aefbfbdefbfbdd3bcefbfbd7f173eefbfbdefbfbdefbfbdefbfbd0364037907efbfbd46efbfbd4a59efbfbd7865efbfbd75efbfbdefbfbd3c62efbfbdde8cefbfbdefbfbd34031ec88defbfbdefbfbdefbfbd19efbfbdefbfbdefbfbdefbfbd45707defbfbdefbfbd1a297c7e16385f44efbfbd51efbfbd60381eefbfbd450aefbfbd71efbfbd1872234cefbfbdefbfbdefbfbdefbfbd05422defbfbdefbfbdefbfbd0945efbfbd520befbfbdefbfbd3f4b766defbfbdefbfbd30efbfbdefbfbdefbfbd32efbfbd331e5fefbfbd4144efbfbd3d6679efbfbd2b553befbfbd706447d7ba5defbfbd5f0104efbfbdefbfbd791fefbfbd6a44efbfbdefbfbdefbfbdefbfbd130eefbfbdefbfbd6a572e5b3d202b73efbfbdefbfbdc5afefbfbdefbfbdefbfbd673e6e45efbfbdefbfbd6206efbfbdefbfbdefbfbdefbfbd28efbfbd1eefbfbd16313320231548efbfbdefbfbdefbfbd3cdeae3befbfbd03efbfbd3c63efbfbd0822efbfbd7a2d3c40efbfbdefbfbdefbfbd156168dd8c35efbfbd65dcb84f60efbfbd611d336044efbfbdefbfbd0a79efbfbd68532fefbfbdefbfbd2aefbfbdefbfbd192e68efbfbd2d62efbfbd17efbfbdefbfbd1325efbfbd541f',\n",
       "       b'000c0100000100000000000006676f6f676c6503636f6d00001c0001efbfbdefbfbd1e00ce9a72efbfbd3ece996defbfbdefbfbdefbfbdefbfbd0d00efbfbd6eefbfbd0cefbfbd2145efbfbdefbfbd24efbfbd5b26efbfbd25330c0b31efbfbd096cefbfbd64efbfbdefbfbd1eefbfbd77efbfbdefbfbd19633b00efbfbd6cefbfbd61efbfbdefbfbd0aefbfbd20efbfbd591d013473efbfbdefbfbd387068efbfbdefbfbdefbfbd4e56efbfbd642eefbfbd1372efbfbd1defbfbdefbfbd37efbfbdefbfbdefbfbd4c58efbfbdefbfbd01efbfbd027825efbfbd7729efbfbdefbfbd4973efbfbd5c2eefbfbd13efbfbdefbfbd2b164d46efbfbd0edeabefbfbdefbfbd4b5c322cefbfbdefbfbd00efbfbdefbfbd7befbfbdefbfbdefbfbd2a0b060fefbfbd7f71c99c3848efbfbdefbfbdefbfbd14efbfbd18efbfbd0054efbfbdefbfbdefbfbdefbfbdefbfbd61216606087befbfbd3c76efbfbd14efbfbdd0a152113defbfbd45efbfbd122eefbfbdefbfbdc2a2efbfbddfa0efbfbd33102866efbfbdefbfbdefbfbd61efbfbdefbfbd612eefbfbd13075eefbfbd710230efbfbdefbfbd1d70efbfbdefbfbd50e7a5bc44efbfbdefbfbd47d69eefbfbdefbfbd1378efbfbd670c1c674cefbfbd441f396810efbfbd42efbfbd0b3a77d9bdefbfbdd5b0efbfbd6befbfbd035c4a2cefbfbdefbfbd0023dfa73f2401ee88b70cefbfbd22efbfbdefbfbd167a2e1cefbfbd7befbfbdefbfbd0636efbfbd2c6befbfbdefbfbdefbfbd4621640944efbfbd3c53efbfbdefbfbd34efbfbd754b4defbfbdefbfbdc7b9efbfbd58efbfbdefbfbd01efbfbdefbfbdefbfbd74354a7165c2aaefbfbdefbfbd1eefbfbd10efbfbdefbfbd0d1445297aefbfbdefbfbdc2b8efbfbd0befbfbdefbfbd437211efbfbd38efbfbd58efbfbdefbfbdefbfbdefbfbd7326440c644e10730269331129efbfbdefbfbdefbfbd15efbfbd5d5c1a6c1133efbfbd09efbfbdefbfbd4a0aefbfbd031f4514efbfbd71051fefbfbd5844cf86efbfbdefbfbdefbfbdefbfbd3fefbfbdefbfbd7d2e0d1662efbfbd3864efbfbd5525efbfbd391defbfbd21147076efbfbd0c19efbfbdefbfbdefbfbd07efbfbd37efbfbd1a43efbfbd2befbfbd6aefbfbd7e5defbfbdefbfbd3a2e13efbfbd6118efbfbdefbfbd65781e31efbfbd300c0b31efbfbd300c0b31efbfbd300cefbfbd42efbfbd300cefbfbd42efbfbd300cc3b010330cc3b010330cefbfbd302cefbfbd0cefbfbd302cefbfbd0cefbfbd300c0b31efbfbd300c0b31efbfbd300cefbfbd',\n",
       "       b'000c0100000100000000000006676f6f676c6503636f6d00001c000142efbfbd300cefbfbd42efbfbd300cc3b010330cc3b010330cefbfbd302cefbfbd0cefbfbd302cefbfbd0cefbfbd300c0b31efbfbd300c0b31efbfbd300cefbfbd42efbfbd300cefbfbd42efbfbd300cc3b010330cc3b010330cefbfbd30efbfbdefbfbdefbfbdefbfbd477531cba7efbfbd1124efbfbd2cefbfbdefbfbd061423006810101c06efbfbd1620680401efbfbd5826d48326efbfbdefbfbdc6acefbfbd00efbfbdefbfbd75efbfbd1770efbfbdefbfbdefbfbd2214781b22efbfbd64efbfbd2500efbfbd0007efbfbd4020efbfbd1622efbfbd66596a7d4befbfbdefbfbdefbfbdefbfbdefbfbd3cefbfbdefbfbdefbfbd6befbfbdefbfbd33efbfbdefbfbd3353efbfbd1c5e44efbfbdefbfbdefbfbdefbfbd08efbfbdefbfbdefbfbd08482120efbfbdefbfbd14efbfbd6defbfbd0aefbfbd05efbfbdefbfbd71710d2c0aefbfbdefbfbd1f21efbfbdefbfbd047defbfbd79efbfbdefbfbd3eefbfbdefbfbd1f3dd4b3efbfbd78efbfbdefbfbd37efbfbd6f00efbfbdd49d6f1300363636efbfbdefbfbd641fefbfbdefbfbd2defbfbdefbfbdefbfbd1644efbfbd5d44042205444418efbfbd25efbfbdefbfbdefbfbdefbfbd45efbfbd17002840efbfbdefbfbdefbfbd0aefbfbd1950efbfbd0a28efbfbd7fd5b069efbfbdefbfbd26ce85efbfbdefbfbd37efbfbdefbfbdefbfbd44efbfbd3cefbfbdefbfbd395aefbfbdefbfbdefbfbd11500850efbfbdefbfbdefbfbdefbfbd5defbfbdefbfbd114befbfbdefbfbd582036efbfbd07efbfbd1077efbfbdcc93efbfbd5d7cefbfbd10efbfbd4221c582485b2665d9b6791432523f2d00efbfbd7008efbfbd5b6d6cefbfbd52efbfbdefbfbd41efbfbdefbfbdefbfbd43efbfbdefbfbdefbfbdd8b4efbfbdefbfbd57572c2defbfbdefbfbd5966efbfbdefbfbd3827ef8c9032efbfbdefbfbd3e04efbfbdefbfbdefbfbd09efbfbd38efbfbd58efbfbdefbfbd44781051efbfbd4a474412efbfbd4aefbfbd2454efbfbdefbfbd557eefbfbdefbfbd2cefbfbd3defbfbdefbfbd2c22efbfbd440a7e505d69efbfbd2fefbfbdefbfbd0c08efbfbdefbfbdefbfbd21efbfbdefbfbd02efbfbd0175efbfbdefbfbd22c68a52efbfbdc396efbfbd0a5befbfbdefbfbdc78cefbfbd7f30de9533efbfbdefbfbd44efbfbd18efbfbd2500efbfbd17efbfbd1b23efbfbd5befbfbd2defbfbdefbfbd6eefbfbd183116efbfbd2fefbfbd43efbfbdefbfbdefbfbd0030efbfbdefbfbd0272d48aefbfbdefbfbd37efbfbdefbfbd26efbfbdefbfbdefbfbd1e5022efbfbd64',\n",
       "       b'000c0100000100000000000006676f6f676c6503636f6d00001c0001efbfbdefbfbdefbfbd3c3e7defbfbdefbfbdefbfbd25efbfbdefbfbd52efbfbd4108efbfbdefbfbd74efbfbdefbfbdefbfbd5c074063efbfbd2defbfbd47efbfbd39efbfbd7539efbfbdefbfbdefbfbd45257771efbfbdefbfbd0f0eefbfbdefbfbd6fefbfbdefbfbd63efbfbd2eefbfbd38efbfbdefbfbdefbfbd67efbfbdefbfbdefbfbd0a21efbfbdefbfbd2eefbfbd7cefbfbdefbfbdefbfbd04efbfbd70efbfbd263aefbfbd623d160f1463efbfbdefbfbd64efbfbd3cefbfbdefbfbd57efbfbd081be5968e4d1eefbfbdefbfbd52de97efbfbdefbfbd5c32e9a08b42efbfbdefbfbdefbfbdefbfbdefbfbd5e222b236d3e720c521608291f282cefbfbdefbfbd1d3907efbfbd731fefbfbd0defbfbdefbfbd52efbfbd27187eefbfbdefbfbd07efbfbdefbfbd5e283aefbfbdd1a5efbfbd51efbfbd19efbfbd763a22efbfbdefbfbd67efbfbdefbfbdefbfbd745822efbfbd595a47efbfbdefbfbdefbfbdefbfbd70c7a4efbfbd0b72efbfbd2befbfbd46efbfbdefbfbd6a05e2b9bd67efbfbdefbfbd1c4f31efbfbdefbfbd25dd87de8defbfbdefbfbd224c49efbfbdefbfbd24efbfbd07efbfbd25efbfbd2e625d3321efbfbd45efbfbd6b2a1d06efbfbd3d04efbfbd4040efbfbd14efbfbdefbfbd7defbfbd35efbfbd60efbfbdefbfbdefbfbdefbfbdefbfbd29efbfbdefbfbdc99c6411efbfbdefbfbd143dd5ab1632efbfbd63c8b0efbfbd076715efbfbdefbfbdefbfbd4b2611efbfbd62efbfbdefbfbd02efbfbdefbfbdefbfbdefbfbd3c403311efbfbd54443befbfbdefbfbd2575efbfbd4cefbfbd2e2c2e7defbfbd4befbfbdefbfbd5c7defbfbdefbfbd6d31efbfbdefbfbd456aefbfbdefbfbd15efbfbd5defbfbdefbfbdefbfbdefbfbdefbfbdefbfbdefbfbd0dcda1efbfbd4cefbfbd3adfb4efbfbd62efbfbdefbfbd3befbfbdefbfbd31efbfbd76efbfbd10efbfbd5652efbfbdefbfbd226b71efbfbdefbfbdefbfbd03efbfbdc7a73703efbfbdefbfbdefbfbd35efbfbd3029efbfbdefbfbdefbfbdefbfbd1a7eefbfbdefbfbd1f0f37c4be3376efbfbdefbfbdefbfbd43efbfbd1c7d6aefbfbd26efbfbd42efbfbd79efbfbd2f0042417fefbfbdefbfbd24efbfbdefbfbdefbfbd10586a5349efbfbdefbfbdefbfbdefbfbd53efbfbd5c74efbfbd7befbfbd50efbfbd6902efbfbde78480efbfbd42efbfbdefbfbdefbfbdefbfbdcfb1efbfbd1e51efbfbd7eefbfbd71efbfbdefbfbdefbfbd0307efbfbd6bc6b1efbfbdefbfbd4b2fefbfbd34efbfbd29522a15efbfbd63efbfbdefbfbdefbfbdefbfbdefbfbdefbfbdefbfbd55efbfbdefbfbdd28708efbfbd22efbfbdefbfbd14efbfbd18efbfbdefbfbdefbfbd7e16efbfbdefbfbd4333efbfbd',\n",
       "       b'000c0100000100000000000006676f6f676c6503636f6d00001c00017eefbfbdefbfbdefbfbd20efbfbd33efbfbdefbfbd2befbfbd1eefbfbdefbfbd28efbfbd3573efbfbdefbfbdefbfbd22efbfbd44efbfbd4d73626d60efbfbd07efbfbdefbfbd45efbfbd76cc98efbfbdefbfbd5c44efbfbd154845efbfbdefbfbdefbfbd6f4c4defbfbdefbfbdefbfbdefbfbdefbfbd37efbfbd580befbfbd4defbfbdefbfbdefbfbd7343efbfbdefbfbd3a48efbfbdefbfbd59efbfbd1aefbfbd5702efbfbdefbfbd62efbfbd2843efbfbd7c76efbfbd031a76016cefbfbdd69fefbfbdefbfbdefbfbd3aefbfbd127d644e0e19efbfbd78efbfbdefbfbdefbfbd73efbfbdefbfbd314a523444efbfbdefbfbd4eefbfbd70efbfbdefbfbdefbfbd2fefbfbd18c792efbfbdd59d42efbfbd6a65596437efbfbd11efbfbd494aefbfbdefbfbd3a09703b5515efbfbd1f00efbfbdefbfbdefbfbdefbfbd1b01efbfbd76c78aefbfbdefbfbd33efbfbdefbfbdefbfbd41efbfbd715c03efbfbd47efbfbd15efbfbd26efbfbd40673a0f5c51efbfbd6f02efbfbdefbfbd7d75efbfbd045d07efbfbd68684273685f4b666159efbfbd3537efbfbdefbfbd6c7aefbfbdefbfbd43efbfbdefbfbdefbfbd25efbfbd183169efbfbd291a37efbfbdefbfbdefbfbdefbfbdefbfbddeaa0aefbfbd2defbfbd0fefbfbd21efbfbdefbfbd646eefbfbd40d486efbfbd74efbfbdefbfbd4befbfbd231aefbfbd5b236defbfbdd6bb4004efbfbd2554efbfbd48efbfbd3befbfbdefbfbdefbfbd7f4f04efbfbd4d561f0838efbfbdefbfbd5befbfbd6defbfbdefbfbd5e0c4befbfbdefbfbd37efbfbd1361223a622370efbfbdefbfbdefbfbddc9cddafefbfbd1defbfbdefbfbdefbfbdefbfbd49efbfbdefbfbdefbfbdcea67412efbfbd29d181efbfbdefbfbdc3877073efbfbd19efbfbd7fefbfbdc9beefbfbd0a631029efbfbd69efbfbd0a46794eefbfbdefbfbdefbfbd022eefbfbd56665f7273efbfbd43efbfbd1e4a62efbfbdefbfbd32efbfbdefbfbd6befbfbdefbfbd775defbfbdc7adefbfbd30efbfbdefbfbdefbfbdefbfbd2f697d487cefbfbd6befbfbd171d4a21efbfbd57efbfbd16efbfbdefbfbdefbfbdefbfbdcdb8efbfbdefbfbdefbfbd53efbfbdefbfbdefbfbd420c08efbfbd25efbfbd5c5aefbfbd6d7545efbfbdefbfbd11efbfbd2e5e1317426321efbfbd10efbfbd0aefbfbd7645efbfbd4c3247484ac7b35c5a6defbfbd31efbfbd3f25755befbfbdefbfbdefbfbd2aefbfbd1f48efbfbdefbfbd5515efbfbdefbfbd1051efbfbdefbfbd652cefbfbdefbfbd5eefbfbd6832efbfbd44efbfbdefbfbd2defbfbd36c699efbfbdefbfbd',\n",
       "       b'000c0100000100000000000006676f6f676c6503636f6d00001c0001efbfbdefbfbdefbfbdefbfbd70efbfbd512165efbfbd1e12efbfbd255cd8af5e5adb9520efbfbd3d02224c7befbfbd0911efbfbd1211177469efbfbd0eefbfbd47427cefbfbdefbfbdefbfbd2c37efbfbd07efbfbd70364befbfbdefbfbdefbfbd5befbfbdea8eb80eefbfbd1aefbfbdefbfbd021a73d19d39efbfbd72efbfbd4036efbfbdefbfbd4c54efbfbd5663efbfbd73efbfbdefbfbd1f28efbfbdefbfbdefbfbd0f5716efbfbd60efbfbd40efbfbd4d6cefbfbd69efbfbdefbfbd2c5aefbfbdd9baefbfbdefbfbd6fefbfbdefbfbd5cefbfbdefbfbdefbfbd4345166447efbfbd0141efbfbdd48170636defbfbdefbfbdefbfbdefbfbd61efbfbdefbfbd052e3528efbfbdefbfbd3465efbfbdefbfbd7defbfbd3d3defbfbd4befbfbd72efbfbd5defbfbdefbfbd5cd2bd7fefbfbdefbfbdefbfbdefbfbd354673c7a6efbfbdefbfbd41efbfbdefbfbdefbfbd312615efbfbdefbfbdefbfbd4defbfbd3defbfbd52efbfbdefbfbdefbfbd58efbfbdefbfbd5f2872efbfbdefbfbd4b01efbfbd382defbfbdefbfbdefbfbdefbfbd1c18efbfbdefbfbd53efbfbdefbfbdefbfbdefbfbdefbfbd1b73746defbfbd3818efbfbd65efbfbd2e21353223efbfbdefbfbdefbfbd0f402fcd99efbfbdefbfbd61efbfbdefbfbdefbfbd592e07efbfbdefbfbd303569070eefbfbd071e3b3220424e527c2befbfbd5274efbfbd02efbfbd3eefbfbdefbfbdefbfbd6d4befbfbdefbfbd5defbfbd7404efbfbddaa8efbfbd2734efbfbd7f42efbfbdefbfbd030046db8426efbfbd33efbfbdefbfbd0befbfbd2aefbfbdefbfbdefbfbd70efbfbd6eefbfbdefbfbdefbfbd4b3a24162244d3a221efbfbd744b2668efbfbd5609003300efbfbd096d4befbfbd07450e39efbfbd45efbfbd5c50305f6f26057f69efbfbd09dfac5f63efbfbdefbfbd61efbfbd17efbfbd7e510aefbfbd6f001c0f081aefbfbdefbfbd703407efbfbd60efbfbd3cefbfbd320b5aefbfbdefbfbdefbfbd27efbfbdefbfbdefbfbdefbfbd6b1f0fefbfbd5fefbfbd335463efbfbdefbfbdefbfbd4139efbfbd1f245ccea92cd084efbfbdefbfbdefbfbdefbfbd4befbfbd2cefbfbddba4401defbfbd72efbfbd40efbfbdc69e23efbfbd404462efbfbdefbfbd3cefbfbd750b00efbfbd0fefbfbdefbfbd78efbfbd2aefbfbd36efbfbdefbfbd394aefbfbd3eefbfbdefbfbd4308691462efbfbdefbfbdefbfbdefbfbd7a64040230efbfbd37216aefbfbd05efbfbdefbfbd4fefbfbd016e4f765defbfbd45efbfbdefbfbd41efbfbdefbfbd22',\n",
       "       b'000c0100000100000000000006676f6f676c6503636f6d00001c0001efbfbd4008efbfbd10221defbfbd5aefbfbd195d674c38efbfbd147c672befbfbdefbfbdd88104efbfbd3e364c4a6defbfbd5defbfbdefbfbdefbfbdefbfbddaa8efbfbd2c373cefbfbd6577efbfbdefbfbdefbfbd446eefbfbd2665514221efbfbd7aefbfbd7473efbfbd0cefbfbd23efbfbd0a42752122efbfbd04efbfbdefbfbdefbfbd7638efbfbd68efbfbd4575efbfbdefbfbdefbfbdefbfbd5f5cefbfbd73efbfbd623e200defbfbdefbfbd216aefbfbdefbfbd3d3922efbfbdefbfbdefbfbd7d2a22efbfbd5aefbfbdefbfbdefbfbdefbfbd7729efbfbdefbfbd241fefbfbdefbfbd1728efbfbd68efbfbdefbfbddd93763befbfbd0defbfbdefbfbdefbfbdefbfbdefbfbd45efbfbdefbfbd2b52efbfbdefbfbd15efbfbd7eefbfbd065eefbfbd04efbfbd19efbfbd5c0a1d0d42efbfbd797fefbfbd13efbfbdefbfbd160144efbfbd367eefbfbdefbfbdefbfbdefbfbd2defbfbdefbfbd2650efbfbd64efbfbd093111efbfbd43efbfbd7c3befbfbdefbfbd21efbfbdefbfbd532eefbfbdefbfbdefbfbd74efbfbdefbfbd05efbfbdefbfbdc49e5cdc8cefbfbdefbfbdefbfbd7128efbfbd32efbfbd39efbfbd2b525031efbfbdefbfbd43efbfbd06004944efbfbd42efbfbd2fefbfbd34efbfbdefbfbd2f2eefbfbd49dbb4efbfbd4fefbfbd0a646171493eefbfbdefbfbdefbfbdefbfbdefbfbd68efbfbd140112efbfbdefbfbd48efbfbd7223efbfbd5cefbfbdefbfbd7eefbfbd7cefbfbdefbfbdefbfbd134befbfbdefbfbd0aefbfbdefbfbdefbfbdefbfbd07efbfbd787cefbfbd69efbfbdefbfbd0411efbfbd4aefbfbd0557efbfbd7aefbfbdefbfbdefbfbdefbfbd10434929efbfbd4e6befbfbdefbfbd7ec3a8094938efbfbdefbfbd16351e5fefbfbd3befbfbd167eefbfbd3e607c187befbfbdefbfbd07efbfbdefbfbdefbfbdefbfbdefbfbd22034217efbfbd0befbfbdefbfbd6954efbfbd4554efbfbd6e4f1e0befbfbdefbfbd10716aefbfbd213aefbfbd00114148efbfbd37efbfbdefbfbdefbfbd2fd5ad2c7f31da8c5defbfbd2544613befbfbd4f59efbfbdefbfbdefbfbd7d2d450f6902751befbfbdefbfbd1957efbfbd7c6eefbfbd534b5f3fefbfbdefbfbdefbfbdefbfbd0aefbfbd6f0acd994d4e15efbfbd4ce7b28aefbfbdefbfbd5368efbfbdefbfbdefbfbd37efbfbd08efbfbd387aefbfbd18efbfbd7d4a297f3a5b4cefbfbdefbfbd5534efbfbd6bd595efbfbdefbfbdefbfbd47efbfbdefbfbdd587efbfbd04efbfbd586aefbfbd0defbfbdefbfbdefbfbd6fefbfbd416befbfbd2fefbfbd29efbfbdefbfbd',\n",
       "       b'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',\n",
       "       b'000c0100000100000000000006676f6f676c6503636f6d00001c00017953efbfbd09efbfbdefbfbd4fefbfbd0821efbfbdefbfbdefbfbd34efbfbde58c8cefbfbd65070aefbfbdefbfbdefbfbd3229c8b3efbfbd4befbfbd530aefbfbd60d48defbfbd4902164414424cefbfbdefbfbdefbfbd35efbfbd22efbfbdefbfbdefbfbd225677460a33efbfbdd88b4befbfbd7e11efbfbd5d7befbfbdefbfbd6cefbfbdefbfbd44efbfbd367eefbfbd73c890efbfbd10701840efbfbd12df90efbfbdefbfbdefbfbd72efbfbdefbfbdefbfbdefbfbd1fefbfbd72efbfbd60efbfbd4f522e4747efbfbdefbfbdefbfbd42efbfbdefbfbd0f1e2defbfbd7c2c76efbfbd10214defbfbd772aefbfbd2123efbfbdefbfbdefbfbd30efbfbd20efbfbdefbfbd63efbfbd6c79471a3eefbfbd0847efbfbd7676c4af15efbfbdefbfbd7b6c3f3477efbfbdefbfbd21e0b58867efbfbdefbfbdefbfbd17efbfbd5eefbfbdefbfbd52efbfbd5f44efbfbdcbbdefbfbd3d17efbfbd62efbfbd30efbfbdefbfbd7bddb3efbfbd6defbfbd54efbfbd7befbfbd0040efbfbdefbfbddf8438efbfbdefbfbd3defbfbd5f4eefbfbd026defbfbd20041a2c04efbfbd5d58efbfbdefbfbd55543a2f1a30efbfbd49efbfbdc7abefbfbdefbfbdd49c7f487e1d1426efbfbd1d04efbfbdefbfbdefbfbd2c7b0b0b3f0f73efbfbdefbfbdefbfbdefbfbdefbfbd7925efbfbd0271efbfbd7de78cb2efbfbd00efbfbd4d765d6d4befbfbd2fee8f8aefbfbd5f63efbfbdefbfbd3a7aefbfbdefbfbd4d4a18efbfbdefbfbd39efbfbd6502efbfbd4defbfbd2c0e46efbfbdefbfbd13efbfbd235befbfbd58efbfbd7b50efbfbdefbfbd79efbfbd55efbfbdefbfbdefbfbd6b57efbfbd61efbfbd4711efbfbd6a5f67625eefbfbdefbfbd0d06efbfbdefbfbdefbfbd11efbfbdefbfbdefbfbd1defbfbd2914efbfbd65efbfbdefbfbdefbfbd4a12efbfbdd99aefbfbd58efbfbd27efbfbdefbfbd481dcabaefbfbd1f394defbfbd696eefbfbdefbfbdefbfbd227aefbfbd20efbfbd1d5defbfbd5a14efbfbd4744efbfbd0e117c686befbfbdefbfbdefbfbd67efbfbd583eefbfbdefbfbd7b126641efbfbdefbfbd1d7e0fefbfbd11efbfbdefbfbd6012efbfbd0744efbfbdefbfbd0047efbfbdefbfbd46085de28fbdefbfbdefbfbdefbfbdefbfbd0544efbfbdefbfbd5c6b45efbfbdefbfbdefbfbdefbfbdefbfbd58520e3f63efbfbdefbfbdefbfbd3721efbfbdefbfbdefbfbd03071befbfbd4353efbfbd09071c1564efbfbdefbfbd0e29567a64efbfbdefbfbdefbfbd22efbfbdefbfbdddb5efbfbdefbfbd12efbfbd251befbfbd4d535defbfbdefbfbdefbfbd',\n",
       "       b'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',\n",
       "       b'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',\n",
       "       b'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',\n",
       "       b'000c0100000100000000000006676f6f676c6503636f6d00001c000174030a394aefbfbdc489efbfbd09efbfbdefbfbd77efbfbdefbfbd45efbfbd62efbfbd2defbfbd4eefbfbd66efbfbd5d3210efbfbd44efbfbd580aefbfbdefbfbdefbfbdefbfbd7941cab2efbfbdefbfbd05efbfbd3d50efbfbd1119efbfbd2c5defbfbd2eefbfbdefbfbdefbfbd46efbfbd2863efbfbdefbfbd1021efbfbdefbfbd630340efbfbdefbfbdefbfbdefbfbd470d0224efbfbd2d47efbfbdefbfbddc9cefbfbd003674efbfbd2fefbfbd4d42efbfbd67efbfbd66efbfbdefbfbdcc96efbfbdefbfbd72efbfbd7eefbfbdefbfbdefbfbd52efbfbdefbfbdefbfbd4a55efbfbd2814efbfbd3b1e1eefbfbdefbfbdefbfbd0defbfbd63efbfbd07efbfbdefbfbd3b0070ef80b0efbfbdefbfbd12efbfbdefbfbdefbfbd466970efbfbd31efbfbdefbfbdefbfbd4defbfbd35efbfbd72efbfbd462b6c0a5b680237efbfbdefbfbdefbfbdc9a9efbfbd5a09efbfbdefbfbd1aefbfbdefbfbd450a221cefbfbd72efbfbd2aefbfbdefbfbdefbfbd5cefbfbd38efbfbdefbfbd3c1eefbfbd17efbfbd36efbfbdefbfbd53efbfbd354a05efbfbd51efbfbdefbfbd3fd5aeefbfbd24efbfbde79d84efbb85efbfbd0925efbfbdefbfbdefbfbdefbfbd23efbfbd1defbfbd382aefbfbd50efbfbdefbfbdcdaf27cba2561f30efbfbd52efbfbdefbfbd6c62efbfbd3869efbfbd0267efbfbd6aefbfbd2670efbfbd7eefbfbd58efbfbd305932efbfbdefbfbd1954efbfbd64efbfbd691fefbfbd7d07efbfbd76efbfbd5defbfbdefbfbd626cefbfbd575b73526053efbfbd0656efbfbd2eefbfbd43efbfbdefbfbd3f17efbfbd604f5f6d5cefbfbd3f4fefbfbd426fefbfbd70efbfbdefbfbdefbfbd3960421376efbfbd1cefbfbd1befbfbdefbfbd4eefbfbd57efbfbd4d6defbfbd3eefbfbd665e5d3a374e0f11efbfbdefbfbd080f060fefbfbdcb8278efbfbd14efbfbdefbfbd2eefbfbdefbfbdefbfbdefbfbd78efbfbd4aefbfbd1defbfbdefbfbdefbfbd1f52d69b1defbfbd211aefbfbdefbfbdefbfbd49efbfbdefbfbd582c45efbfbd55efbfbd5cefbfbdefbfbdefbfbdefbfbd091e481cefbfbd543068d0b02e4b4eefbfbd5eefbfbd68efbfbd14727cefbfbd63efbfbdd595efbfbd233627efbfbd49efbfbd4273325117795eefbfbd69efbfbd6759efbfbd517defbfbd776eefbfbd7befbfbd0a5eefbfbdefbfbd3befbfbd04efbfbd6539efbfbd28efbfbd0defbfbd1a3674efbfbdefbfbd7defbfbdefbfbd4668efbfbdefbfbdefbfbdefbfbd4f0eefbfbd2f2a39efbfbd0fefbfbdefbfbd2befbfbdefbfbd0befbfbd0b4f4fefbfbdefbfbd3a1e55efbfbd',\n",
       "       b'000c0100000100000000000006676f6f676c6503636f6d00001c0001efbfbdefbfbdefbfbdefbfbd09efbfbdefbfbd22efbfbd52efbfbd6befbfbd4a7406514aefbfbd32efbfbd37efbfbdefbfbdefbfbd2468efbfbdefbfbd133626efbfbdefbfbd72734744efbfbd294958efbfbdefbfbdcb8aefbfbdefbfbdefbfbd04146e3aefbfbd30efbfbdefbfbdefbfbdefbfbd6eefbfbdefbfbd09efbfbdefbfbd4befbfbd3e2b2476710defbfbd5dce85efbfbd59efbfbd65efbfbd3eefbfbdefbfbdefbfbd5e4966281478efbfbdefbfbd1e772a15efbfbdefbfbd427defbfbdefbfbd03efbfbdefbfbd762b284befbfbdefbfbdefbfbd7dda984d44efbfbd48474fefbfbdefbfbd1d6545efbfbdefbfbd14efbfbdefbfbdefbfbdefbfbdefbfbddca5efbfbd7a7f056b34efbfbdefbfbdefbfbd71efbfbd09efbfbdefbfbdefbfbdefbfbd3950efbfbdefbfbd760defbfbd7aefbfbdefbfbdefbfbdefbfbdefbfbdefbfbd0615efbfbdefbfbdefbfbdefbfbdefbfbdefbfbdefbfbd427666efbfbdefbfbdefbfbd01efbfbdefbfbdefbfbdefbfbd4eefbfbd342b5eefbfbdefbfbd403c4c11d1bb61d39c5b5551efbfbdefbfbd242de6b08defbfbd641d772a3c47d784efbfbdefbfbd4aefbfbd15efbfbdefbfbdefbfbd5620efbfbd0344746f703b64efbfbdefbfbdefbfbd43692d6a59efbfbd5fefbfbd11efbfbd4aefbfbd353d0a3174efbfbd6577efbfbdefbfbd647aefbfbdefbfbdefbfbd5604346e6fefbfbdefbfbd6defbfbd23efbfbd6b0a02efbfbdefbfbdefbfbd4eefbfbd7163efbfbdefbfbd343435efbfbdefbfbd0fefbfbdefbfbd41492c16db995041efbfbdefbfbd3defbfbd6cefbfbd4e44692f7411efbfbdefbfbd3defbfbd65efbfbdefbfbd042befbfbd3f1cefbfbd68efbfbd2111efbfbd10efbfbddba9efbfbdefbfbdefbfbd2455efbfbdefbfbd175d38efbfbdefbfbd47efbfbd5a4e2725efbfbd05efbfbdefbfbd2cefbfbd302c4703efbfbdefbfbd342cefbfbdefbfbdefbfbdefbfbd3a20264eefbfbdefbfbd6248efbfbdefbfbdefbfbdefbfbdefbfbd51efbfbd023f00003befbfbdefbfbd29546a5570efbfbdefbfbd497d67076a4a34efbfbd4befbfbd0befbfbd371d2e3805ca92efbfbd2a540a2aefbfbdefbfbdefbfbdefbfbd3ddda05074d68cefbfbded84b04929efbfbdefbfbdefbfbdefbfbdefbfbd351fefbfbd70efbfbd12227a0d11efbfbdefbfbd48efbfbdefbfbdefbfbd3b01efbfbd07d0ba02efbfbd7b1867efbfbdefbfbd52efbfbdce8defbfbd3e78d8b67d561a2f797c3aefbfbd4defbfbd4309efbfbd00efbfbdefbfbdefbfbdefbfbdefbfbdc8a0781befbfbd4cefbfbd27',\n",
       "       b'000c0100000100000000000006676f6f676c6503636f6d00001c000165356c7cefbfbdefbfbd2defbfbdefbfbd32efbfbdefbfbdefbfbdefbfbd09681466efbfbd54efbfbdd581efbfbdefbfbd01efbfbd59efbfbddf99efbfbdefbfbd73efbfbd40efbfbd2b531e06045cefbfbd7fefbfbd3eefbfbdefbfbd29efbfbddd8cefbfbdefbfbd72efbfbdefbfbd3befbfbdefbfbd1c056855efbfbdefbfbdefbfbdda9fefbfbdefbfbdefbfbd74014a7c24efbfbd100b57efbfbd77515e7d6b39efbfbdefbfbd10efbfbd12efbfbdefbfbd20efbfbd04350500efbfbdefbfbd0a0b106c1408efbfbdefbfbdefbfbd757befbfbdefbfbd6e1330efbfbdefbfbdcb884b1d5c616478efbfbd67efbfbdefbfbd4defbfbd127412efbfbd75efbfbd09efbfbd7f497defbfbdefbfbdefbfbd24efbfbd6befbfbdefbfbd2aefbfbd586c37111fefbfbdefbfbd437befbfbd2cefbfbd1a16efbfbd6defbfbdefbfbd67467f0a5618efbfbdefbfbdefbfbd3d28efbfbd474444efbfbd13384642efbfbdefbfbdefbfbd422c252cefbfbdefbfbd1d0e41efbfbd79efbfbd2316efbfbdefbfbd44efbfbd35203aefbfbd4a6eefbfbdefbfbd5cefbfbdefbfbdefbfbdefbfbd4befbfbd295f78efbfbdefbfbdefbfbdefbfbd322d7aefbfbd6fefbfbd55efbfbd2c3b536f53e0be9433efbfbdefbfbd3e11efbfbd12efbfbd497317efbfbd06efbfbd0e5fefbfbdefbfbdefbfbd00efbfbdefbfbd6456efbfbd70efbfbdcd90efbfbdefbfbd5eefbfbdc49716efbfbd32efbfbd03efbfbdefbfbd75efbfbdefbfbdefbfbdefbfbd0e7f24efbfbd4b021738efbfbd03efbfbd7b7a3d342145efbfbd693bd184efbfbd30efbfbd1befbfbdefbfbd4a62efbfbd6cefbfbd53efbfbd5509efbfbd0befbfbdefbfbd7eefbfbd69efbfbdefbfbd69efbfbdefbfbdefbfbdd0aaefbfbd10efbfbd6c59727cefbfbdc2baefbfbdefbfbd73d783efbfbd5cefbfbd68efbfbd0fefbfbd7fefbfbdefbfbd42d79920efbfbdefbfbdefbfbdefbfbd44efbfbdefbfbd5befbfbd0eefbfbd64527b4defbfbdefbfbd52efbfbdefbfbd1342efbfbdefbfbd795edd99efbfbdefbfbdefbfbd20443139efbfbd45efbfbdefbfbdd49452efbfbd510befbfbd5b60efbfbdefbfbd45efbfbdefbfbdefbfbd47ddb9efbfbd5917dd99efbfbd026f496626c281efbfbd1fefbfbd49efbfbdefbfbdefbfbd5b632933efbfbd17efbfbd5c13006defbfbd0aefbfbd2aefbfbd3befbfbdefbfbdefbfbd090defbfbd4d13efbfbd4dc6b7681b12784d46efbfbdefbfbdefbfbdefbfbd6fefbfbd7768306204efbfbdefbfbdefbfbd6c5defbfbd034aefbfbd776cefbfbd51efbfbdefbfbd',\n",
       "       b'000c0100000100000000000006676f6f676c6503636f6d00001c00017f30efbfbd3672efbfbd16efbfbd1e6142efbfbdefbfbd304c4f6231efbfbdefbfbdefbfbd45efbfbdefbfbd76efbfbdefbfbd1c4eefbfbd7a461d3605efbfbdefbfbd16efbfbdefbfbd2befbfbd07112e2c52efbfbd45efbfbd21c992efbfbd1342efbfbdefbfbdefbfbdefbfbdefbfbd1c6a4a641d52efbfbdefbfbd37efbfbd1aefbfbd276c3a3458efbfbdefbfbd710e183927efbfbdefbfbd4f40efbfbdefbfbdd88725efbfbdefbfbdefbfbdefbfbdefbfbdefbfbdefbfbd6a48efbfbd7eefbfbdefbfbd290aefbfbdefbfbd4fefbfbd762fefbfbdefbfbd3cefbfbd496600efbfbd656defbfbdc486efbfbdefbfbdefbfbdefbfbdefbfbdefbfbd11efbfbd3b71efbfbdefbfbdefbfbd520befbfbdefbfbd5a7eefbfbdefbfbd2fefbfbdefbfbdefbfbdefbfbdefbfbdefbfbdefbfbdefbfbd4f3fefbfbdefbfbd396cefbfbdefbfbd6d53efbfbdefbfbd34efbfbdefbfbd040befbfbd44efbfbd020eefbfbd6e256d52163c683f76efbfbdefbfbd6aefbfbd5e176202efbfbd2befbfbd2aefbfbd36efbfbd1dddb2efbfbdefbfbdefbfbd2eefbfbd4eefbfbdefbfbd255d1eefbfbd5405efbfbd3fefbfbd68efbfbd4cefbfbd562f777547100a7cefbfbdefbfbd71ddac554befbfbd6cefbfbd3127efbfbdc287157aefbfbdefbfbdd28d0defbfbdefbfbd35534fefbfbd79efbfbd7eefbfbdefbfbd07efbfbdefbfbdefbfbd5f4fefbfbdefbfbdefbfbd376b2aefbfbd2d361defbfbd693b512a28d69f48efbfbdefbfbd26efbfbd5defbfbd3b63efbfbd3defbfbdefbfbdefbfbd4eefbfbdefbfbd2cefbfbdcba0efbfbdefbfbd722fefbfbd127fddb5132228efbfbd16efbfbdefbfbd11efbfbd54efbfbdefbfbd6b23efbfbdefbfbdefbfbdefbfbd59efbfbd5befbfbdefbfbdefbfbdefbfbd026f4c5a1f265cefbfbd176defbfbd25efbfbd32efbfbd7f4008efbfbdefbfbdefbfbdefbfbd4c6fefbfbdefbfbd42efbfbd1eefbfbdefbfbd064d38efbfbdefbfbd49efbfbdefbfbd70efbfbd55efbfbdefbfbd53447fefbfbdefbfbdefbfbd32efbfbd7a70efbfbd1c0defbfbdefbfbdefbfbd23efbfbdefbfbd3677deb13b550eefbfbd06efbfbd6d527eefbfbd486aefbfbd581f58efbfbdefbfbd27efbfbd0befbfbd5fefbfbdefbfbdefbfbdefbfbdefbfbd373b222eefbfbd10efbfbd55efbfbd060eefbfbd55efbfbdefbfbd04efbfbdefbfbd2f125a664a51efbfbd4f7f2aefbfbd0ad3b5efbfbd22efbfbd4e4d6adf9b7cefbfbd1d23efbfbd4fefbfbd725befbfbd4aefbfbd27efbfbdefbfbd5a6aefbfbd3c675d79efbfbd68efbfbdefbfbd2fefbfbd3f',\n",
       "       b'000c0100000100000000000006676f6f676c6503636f6d00001c00014c0c3eefbfbd372b2befbfbd727defbfbdefbfbd587fefbfbdefbfbdefbfbdefbfbd08efbfbd2471efbfbdefbfbd076befbfbd3f69efbfbdefbfbdefbfbd673e39efbfbdefbfbd3defbfbd46efbfbd69efbfbdefbfbdefbfbdefbfbdefbfbd3353efbfbdefbfbdefbfbdefbfbd4b3eefbfbd3b64efbfbd16efbfbdefbfbd4c2befbfbdebbaa7efbfbdefbfbdefbfbd0fefbfbdefbfbdefbfbdefbfbd2d5befbfbdefbfbdefbfbd4aefbfbdeead8fefbfbd150a09efbfbd3f4740efbfbd5631efbfbd22efbfbd43efbfbd7b5aefbfbd5e435bcfa4583704efbfbd45efbfbd3d317aefbfbd7aefbfbdefbfbd5aefbfbd0fd4be25574b21efbfbd64efbfbd325c5b7674c9bd7cefbfbd1cefbfbd3defbfbdefbfbd74efbfbdefbfbd58efbfbdefbfbd723aefbfbd16efbfbdefbfbdd896330311efbfbd4cefbfbd70efbfbd041d26efbfbdefbfbd12d89f78efbfbd5a7c76efbfbdefbfbdefbfbd3f14efbfbdefbfbd3aefbfbdefbfbdefbfbdefbfbdefbfbd2749efbfbdefbfbd37efbfbdefbfbdefbfbd12d58445efbfbdefbfbdefbfbd5744efbfbdefbfbd32efbfbd767e3e22efbfbdde9b75efbfbdefbfbdefbfbdefbfbd0403efbfbdefbfbdefbfbdd3b711efbfbd1b40efbfbdefbfbd34efbfbddfb46456efbfbdefbfbdefbfbd0eefbfbd6cefbfbd43efbfbd0a50efbfbdefbfbdefbfbd78efbfbdefbfbdefbfbd2c48efbfbdefbfbd06efbfbd2e517aefbfbdefbfbd5b0fefbfbd357a42eeb7b175efbfbdefbfbd78efbfbdefbfbd651eefbfbd7eefbfbdefbfbdcc8befbfbd394513efbfbd6251e9a59a403f2264efbfbdefbfbd202767efbfbd1d005d277f57571a0fcf9e5fefbfbd50efbfbd483038d7b12defbfbd48efbfbdefbfbdefbfbdd288efbfbdefbfbd66d6a54b26efbfbd6cefbfbdefbfbd10efbfbd1befbfbd4414612100efbfbd682fefbfbd246defbfbd35efbfbd2befbfbdefbfbd0a23efbfbd29efbfbd08503348efbfbdefbfbdefbfbdefbfbdefbfbd28efbfbd4537efbfbdefbfbdefbfbd141656201c31c393762571efbfbd3f7cefbfbdefbfbdefbfbdc38b4a164b29efbfbdefbfbd77efbfbd2cd2b2efbfbd07efbfbdefbfbd7aefbfbdefbfbdefbfbd7defbfbd6fefbfbd147f6eefbfbdefbfbd2b16efbfbd70efbfbdefbfbdefbfbdefbfbd104511efbfbd41efbfbd266aefbfbd23efbfbdefbfbd682822efbfbd6544efbfbd20efbfbdefbfbd22efbfbd5befbfbdefbfbd0a58efbfbd2defbfbdefbfbdc390efbfbd3518efbfbd2611efbfbdefbfbd3fe899af2f22efbfbdd5a6efbfbd7e6635efbfbd3defbfbd0b14696aefbfbd26efbfbd1d28efbfbd4a4c65',\n",
       "       b'000c0100000100000000000006676f6f676c6503636f6d00001c0001502408052befbfbd0b3213efbfbd4d3c3fefbfbdefbfbdefbfbd74efbfbd4471efbfbdefbfbdefbfbd7345efbfbdefbfbdefbfbdefbfbd0eefbfbd0545efbfbdefbfbdefbfbdefbfbdefbfbd104574cfb978efbfbd70060f7745eab3b4efbfbd71505cefbfbd5848717eefbfbdefbfbd5d0ad4aa04efbfbdefbfbd2aefbfbdefbfbd2aefbfbdefbfbdefbfbde8a6b13334efbfbdefbfbd31efbfbdefbfbdefbfbdefbfbdefbfbd7269655c2b7fefbfbdefbfbdefbfbdefbfbd21efbfbd066314efbfbd6036efbfbd3defbfbdefbfbd113cefbfbd0857efbfbd14efbfbdefbfbdefbfbd48efbfbdefbfbdefbfbdefbfbd7829550337efbfbd2aefbfbdefbfbd71efbfbdefbfbd4b29efbfbd4eefbfbd18efbfbd3eefbfbd75efbfbdefbfbd5649efbfbdefbfbd0848efbfbdefbfbd50444d557e23efbfbdefbfbd33efbfbdefbfbdefbfbdefbfbd28c59576efbfbdefbfbd101215597b15efbfbd4fefbfbd1275efbfbdefbfbd201aefbfbd223aefbfbdefbfbd08efbfbd3cefbfbd621a2129efbfbd3658511e3743587e71e9bd9a481cefbfbd6fefbfbdefbfbd0815efbfbdefbfbd0aefbfbde7a0a01aefbfbdefbfbd42efbfbd5301efbfbd5552efbfbdce8b2defbfbd78333cefbfbd5c76efbfbd60efbfbd3befbfbd50225c2b102e4121efbfbd012579467274efbfbd53efbfbd56efbfbdefbfbdd6bdefbfbdefbfbd6aefbfbdefbfbd144309efbfbdefbfbd2123efbfbd2026efbfbd3d12efbfbdefbfbdefbfbd2505d6afefbfbdefbfbd4f24efbfbd50442304efbfbdefbfbdefbfbdefbfbdefbfbdefbfbdefbfbd0c7a112befbfbd3174686c7d20efbfbd79efbfbdefbfbd5eefbfbd664defbfbd5fefbfbd73efbfbd6628efbfbdc59a55efbfbdefbfbdefbfbd2d0fefbfbdefbfbdefbfbd664dc894efbfbd17efbfbdefbfbdefbfbd47efbfbd4801efbfbd4aefbfbdefbfbd53efbfbdd8bfefbfbdefbfbdefbfbd7c45efbfbdefbfbdefbfbdefbfbdefbfbdefbfbd76efbfbdefbfbd08efbfbd5564efbfbd0808efbfbd2befbfbd661474efbfbd44efbfbd2befbfbd62efbfbd3171efbfbdefbfbdefbfbd3d4d433b3fefbfbdefbfbd71efbfbdefbfbdefbfbd6cc78749efbfbdefbfbd52efbfbd0624efbfbd2510dd84305f087143efbfbd592cefbfbdefbfbdefbfbdd6b9efbfbd024b5fefbfbdefbfbdefbfbdefbfbdefbfbd50efbfbd4fefbfbdefbfbd07efbfbd70efbfbd4843eeb198efbfbd2eefbfbd5e111aefbfbd763a6f14021eefbfbd771a220aefbfbd2d6befbfbd08efbfbd5d612734efbfbd07efbfbd50efbfbd553af39abb87efbfbd',\n",
       "       b'000c0100000100000000000006676f6f676c6503636f6d00001c000172cc90207e16efbfbd00efbfbdefbfbd7fefbfbd02efbfbd76efbfbd0e782b66efbfbdefbfbdefbfbdefbfbdefbfbdcf95085e14345748efbfbd59efbfbd76efbfbdefbfbd7a6304efbfbd16efbfbd3f2b4b05efbfbd52efbfbd6f15efbfbdeb96915d1aca9e42efbfbdefbfbdd5b86f64efbfbdefbfbd3f3befbfbd34efbfbd5b5cefbfbd14efbfbd541a776cefbfbd276a0c04140eefbfbd30efbfbdefbfbddda3efbfbdefbfbd05efbfbdc48c182a28efbfbdefbfbd4356ce8e67efbfbdefbfbdefbfbd07efbfbd2eefbfbd4573efbfbd5f457a626fefbfbdefbfbd6fefbfbdc9a4efbfbdefbfbd07efbfbdefbfbdefbfbd7267efbfbd25efbfbdefbfbdefbfbd7c3befbfbdefbfbdefbfbdefbfbdefbfbdefbfbd0a63413aefbfbd69efbfbdefbfbdefbfbd19efbfbd6b6defbfbd36efbfbdefbfbd6e71efbfbdefbfbd42efbfbd3b7a2f3f30efbfbdefbfbdefbfbd253515efbfbdefbfbdefbfbd2b077b214eefbfbd4fefbfbd13efbfbd70efbfbdefbfbd59efbfbdefbfbdefbfbd2eefbfbdefbfbd337cefbfbdefbfbd2e215eefbfbdefbfbdefbfbd1fefbfbdefbfbdefbfbd62efbfbdefbfbd1defbfbd1b5d16efbfbd79efbfbdefbfbddb81efbfbd14efbfbdefbfbd08efbfbd0defbfbdefbfbd16efbfbdefbfbd2eefbfbde290b24608efbfbd4a65d08befbfbd3f15efbfbd1cefbfbdee88b317efbfbdefbfbdefbfbdefbfbd02cbbaefbfbd42675eefbfbd4f743861254453efbfbd4a77efbfbd4a49efbfbd67efbfbd67227f3734efbfbd691befbfbd31efbfbdefbfbd0ccfb9efbfbd5e5266efbfbd07efbfbd084aefbfbdefbfbd79efbfbd3028efbfbdd4b75211efbfbd68c8a062efbfbdefbfbd44efbfbd3f79efbfbd77764fefbfbd17efbfbd40efbfbdefbfbdefbfbdefbfbdefbfbd253a4eefbfbd7fefbfbd6422da97efbfbd7b250523efbfbdefbfbd39efbfbdefbfbdefbfbd115fc48837efbfbd07224c04efbfbd61d39cefbfbdefbfbd0843343fefbfbdd2b521efbfbd2ecab0067d29ddaf28efbfbdefbfbdefbfbd71efbfbdefbfbdefbfbdefbfbd12efbfbd2aefbfbdefbfbd34efbfbd2aefbfbdefbfbd004b5977efbfbd2befbfbdefbfbd3704efbfbd247d52efbfbd44221cefbfbdefbfbdefbfbdefbfbdefbfbd2c4befbfbd25d1acefbfbd54efbfbd5c7befbfbd37efbfbdefbfbdefbfbd13efbfbd42efbfbdefbfbdefbfbdefbfbd40efbfbdefbfbd3aefbfbdefbfbdefbfbd11efbfbd2b75efbfbd43efbfbd6defbfbd0cefbfbd11efbfbd6c04392aefbfbd7defbfbd53311aefbfbd4677efbfbd55efbfbd4aefbfbd3cefbfbd754e48efbfbdefbfbd3a',\n",
       "       b'000c0100000100000000000006676f6f676c6503636f6d00001c0001efbfbd4befbfbd65efbfbd34efbfbd50244d1171efbfbdefbfbd65efbfbdefbfbd08efbfbd56efbfbd71efbfbdefbfbdefbfbd0aefbfbd37efbfbd7c2fefbfbd37efbfbdefbfbd520f65efbfbd1ac2a6efbfbd48efbfbdefbfbdcaafefbfbd15efbfbd1b231451efbfbd77efbfbd5000efbfbdefbfbd4975c8855b1f303625efbfbd232b03efbfbd6c59efbfbdefbfbd27efbfbd2fcba9efbfbdefbfbdefbfbd4d75efbfbdefbfbd0befbfbd19efbfbd0c11efbfbdefbfbd08efbfbdefbfbdefbfbd5053efbfbd537e4247efbfbd6f4925efbfbd080a0dc2a1efbfbd2b33517e3515efbfbd1e36efbfbdefbfbd6bce9c08efbfbdefbfbd6145efbfbdefbfbdefbfbd287f080600efbfbd52efbfbdefbfbd4b41efbfbdefbfbd10322e53efbfbdefbfbd7a380035efbfbd5aefbfbdefbfbd77562d7b2fefbfbd71efbfbd5eefbfbdefbfbd7befbfbdefbfbd48327612efbfbd01efbfbdefbfbd2b1aefbfbd0d1cefbfbd3f4d0a7aefbfbd4952efbfbd68efbfbd16c9adefbfbd7aefbfbd75efbfbd74503d6cefbfbdefbfbd6a05efbfbdefbfbdefbfbd15c699efbfbd5aefbfbd5dc4b8efbfbdefbfbd2eefbfbdefbfbdefbfbd4410efbfbdefbfbd3550386cefbfbdefbfbdefbfbd541aefbfbd4fefbfbd32efbfbd1befbfbdefbfbd2cefbfbdefbfbdefbfbdefbfbdefbfbdefbfbd75efbfbd443860efbfbd3d322eefbfbdefbfbd2b337c38efbfbdefbfbd56efbfbdefbfbdefbfbd52efbfbdefbfbdefbfbdefbfbdefbfbdefbfbdefbfbdefbfbdefbfbdefbfbd32224aefbfbdefbfbd6f05efbfbd65efbfbd5474efbfbdefbfbd6eefbfbd456bce8f0d41efbfbd31efbfbd6eefbfbdefbfbdefbfbdefbfbdefbfbd7eefbfbd61efbfbd76efbfbdefbfbd03efbfbdefbfbdefbfbd7b623776efbfbd29efbfbd01e395a0efbfbd38efbfbdefbfbdefbfbdd99defbfbdefbfbd3a78efbfbd44efbfbdefbfbdefbfbd7fefbfbdefbfbd467f0a06efbfbdefbfbd546aefbfbdccafefbfbd54efbfbdefbfbdefbfbdefbfbd30e29596efbfbd21efbfbd43442defbfbd7eefbfbdefbfbdefbfbd6cd184efbfbdefbfbd46c2ba0fefbfbdefbfbd7713efbfbd71efbfbd31efbfbd1ad1a2efbfbdefbfbd26c4ad1104efbfbd627e7defbfbdefbfbdefbfbd14efbfbdefbfbdefbfbdefbfbd6b05efbfbdefbfbd7942efbfbd17407c1eefbfbdefbfbd22efbfbd3305efbfbd6c3f11efbfbdefbfbd0a56062befbfbdefbfbd4cefbfbdefbfbdefbfbdefbfbd255769281745efbfbd69772defbfbdefbfbd5befbfbd3c6511efbfbdefbfbdefbfbd22efbfbd0b66c7a4efbfbd0b5c39efbfbd436fefbfbd422e04efbfbd09efbfbd',\n",
       "       b'000c0100000100000000000006676f6f676c6503636f6d00001c0001efbfbd5848046a1700efbfbd5535351b3536efbfbd030a7defbfbdefbfbd0ac4b93d14de8300efbfbd1f085e21126fefbfbdefbfbd5a2aefbfbdefbfbdefbfbdefbfbd5defbfbdefbfbdefbfbd267a170e1922efbfbd25efbfbd700322efbfbdefbfbdefbfbdefbfbdefbfbd47efbfbdefbfbd05545963efbfbdefbfbd2b08047aefbfbdefbfbd5befbfbd4f7f5520efbfbd4e050cefbfbdefbfbdefbfbdefbfbd2befbfbdefbfbd7befbfbdefbfbd0b7cefbfbd3508702b22efbfbdefbfbd24efbfbd315b1fefbfbdefbfbdefbfbd44d68aefbfbdefbfbdefbfbdefbfbd7f26efbfbd2e46efbfbd426cefbfbdefbfbd00efbfbd0252cbaa2a7aefbfbdefbfbdefbfbdefbfbd48efbfbd2c093410efbfbd73efbfbd3838efbfbdefbfbdefbfbd10efbfbd4a52efbfbdefbfbdefbfbdefbfbdefbfbd71efbfbdefbfbd2eefbfbdefbfbdefbfbd1c6b10efbfbd650024efbfbd6defbfbd0e7c3269534cefbfbd44efbfbd7c7d13027eefbfbd7befbfbd307d3e32efbfbd76d1937925efbfbd7738efbfbd4b3d10efbfbd43efbfbd156543efbfbdefbfbd4befbfbdefbfbd344d3cefbfbd6d4fefbfbdefbfbd504a71efbfbd3cefbfbd7eefbfbd0befbfbd1c68dd9f6c240165214133097aefbfbd006a5befbfbdefbfbd6f6c782aefbfbd75efbfbdefbfbdefbfbd2b0befbfbd26efbfbd47282f46efbfbdefbfbd40700011efbfbd2b4535efbfbd6c78efbfbdefbfbdc98733efbfbd75efbfbdefbfbd4befbfbd6c331b2e16022e2605efbfbd10efbfbd05efbfbd0eefbfbdefbfbdefbfbd36efbfbdefbfbdefbfbdefbfbd607d32665c7aefbfbd18efbfbdefbfbd18d58defbfbd4aefbfbd3265efbfbdefbfbdefbfbdefbfbdefbfbd5befbfbd31452befbfbd4cefbfbdefbfbd6eefbfbdefbfbd12efbfbd2800efbfbd3920efbfbd4f7e3710efbfbdefbfbdefbfbd2befbfbdefbfbd4cefbfbdefbfbd10dd86494062efbfbd570aefbfbdefbfbd776d58efbfbd690a56efbfbdefbfbdefbfbd2567efbfbdefbfbdefbfbd0801efbfbdefbfbd362011efbfbd2e05efbfbd5e29efbfbd76efbfbd0742efbfbd2befbfbd7064efbfbd683e7d78efbfbd79214aefbfbd0c20efbfbd05efbfbd0645efbfbd6defbfbdc2afefbfbd05efbfbdefbfbdefbfbd4639efbfbdefbfbd2befbfbdefbfbd1223efbfbdd09468efbfbd2e521b10efbfbd75efbfbd054376efbfbdefbfbd3d6befbfbdefbfbdefbfbd06017e06efbfbd5eefbfbdefbfbd1befbfbdefbfbd3c4d68efbfbd',\n",
       "       b'000c0100000100000000000006676f6f676c6503636f6d00001c000177efbfbd0410efbfbd5b79efbfbdefbfbd34efbfbdefbfbdefbfbd07efbfbded8cbdefbfbdefbfbdefbfbd513963efbfbdefbfbdefbfbdefbfbdefbfbd15efbfbdefbfbdefbfbdefbfbd7d0c17efbfbdefbfbdefbfbdefbfbdefbfbd0275efbfbd651a63efbfbdefbfbdefbfbd64421cefbfbdefbfbd0defbfbd523a71105c040cefbfbd302cefbfbd0cefbfbd302cefbfbd0cefbfbd300c0b31efbfbd300c0b31efbfbd300cefbfbd42efbfbd300cefbfbd42efbfbd300cc3b010330cc3b010330cefbfbd307defbfbdefbfbd45efbfbd30efbfbd1908da8c79efbfbd54efbfbd68deb136efbfbd3eefbfbdefbfbdefbfbdefbfbd4c7f5529efbfbd300303efbfbd57efbfbdefbfbdefbfbdefbfbd6eefbfbd580048efbfbd26cb911b4defbfbdefbfbd5408003610efbfbd5befbfbd68550befbfbd5befbfbd01631f17260b31efbfbd30efbfbdefbfbdefbfbdefbfbd0fefbfbd10efbfbd4029efbfbdefbfbd3712efbfbd683645141268efbfbd47cebe4aefbfbdefbfbd6406efbfbd1133efbfbd40efbfbdefbfbdefbfbd763defbfbd4dd5b647efbfbd056befbfbd2459efbfbd19efbfbdefbfbd0e03efbfbdefbfbdefbfbdefbfbd42efbfbd304c3fefbfbdd894efbfbdefbfbd3defbfbd164677efbfbd593befbfbdefbfbdefbfbd3cefbfbdefbfbdefbfbd010000efbfbdefbfbdefbfbdefbfbd3befbfbdefbfbd7defbfbd340000000049454e44efbfbd4260efbfbd'],\n",
       "      dtype=object)"
      ]
     },
     "execution_count": 113,
     "metadata": {},
     "output_type": "execute_result"
    }
   ],
   "source": [
    "payloads"
   ]
  },
  {
   "cell_type": "markdown",
   "metadata": {},
   "source": [
    "### g. Observe los primeros bytes del contenido,"
   ]
  },
  {
   "cell_type": "code",
   "execution_count": 116,
   "metadata": {},
   "outputs": [],
   "source": [
    "payloadsText = [bytes.fromhex(payload.decode()).decode('utf-8', errors='ignore') for payload in payloads]"
   ]
  },
  {
   "cell_type": "code",
   "execution_count": 117,
   "metadata": {},
   "outputs": [
    {
     "data": {
      "text/plain": [
       "['\\x00\\x0c\\x01\\x00\\x00\\x01\\x00\\x00\\x00\\x00\\x00\\x00\\x06google\\x03com\\x00\\x00\\x1c\\x00\\x01�PNG\\r\\n\\x1a\\n\\x00\\x00\\x00\\rIHDR\\x00\\x00\\x01b\\x00\\x00\\x00�\\x08\\x06\\x00\\x00\\x00(�TR\\x00\\x00:�IDATx��\\t|T�����;K\\x12\\x08;\\x08�\\nE��$\\x19��Ziߪ-�;N2��V�V�a�Z\\x11!��\\x01ܻik[�.ok�e�\\x01\\\\��]�-���d�\\x08�\\x08��g���<��L\\x12�$3wf��\\x02<_\\r�Y�r��y���\\x1c\\r\\x18�8c�ew\\r\\x1e����\\x13�iaK����u}Ųw�d��\\x15�\"`\\x06:\\x13�\\x0b�\\x0c\\x16�\\x12�&�9Ɛ�\\x00���\\x08\\x111ҌQHP*�@\\x04O4���7<y�\\x0e.9���a2@a��&\"�\\x13\\x11�c�kO�s@�9�i�4X�x�K�a!f��0w��3dx\\x1d\"���C(�}�0|q�*��\\x0b�a!f�4��.�sKg\\x10\\x11]=9NԂ\\x06��u���K_�e\\x06*���\\x19Px��%��\\x03�3��\\x1e\"E?\\x0f���+H�]Q�k����8�\"�\\x1d\\x114v�2\\x10���咯̸|�x.\\\\�-b�I�B���@�L��CJ]XWQ����uQ�kQ\\x13\\x7f�N�1\\x00���2\\x17�03\\x10�\\\\\\x04�@!�H�BJqG\\'+�R�U\\\\[����GXC;��Ԏ�q�!\\x04�r�s=�\\x02rԴ\\x0b���_S�%�ph�a\\x12Y\\x05\\x02����c���P�9�',\n",
       " '\\x00\\x0c\\x01\\x00\\x00\\x01\\x00\\x00\\x00\\x00\\x00\\x00\\x06google\\x03com\\x00\\x00\\x1c\\x00\\x01:�le:ǩ���\\x0c���:|\\x11�X��q.e���a\\x120�J}4\\n9$vz�R�uO/��;ǫ]��M\"�rTӣH1i��˥Ͱ\\x103L<k�\\x01_\\x07R\\x1d,��F��䘡0]\\x1e���\\x1eSY��\\x0b\\x0fqi3,�\\x0c\\x13\\x07D���\\x0b��\\x19c{O��n�QK�\\n�Z�\\x00p)�63��\\\\\\x13\\'-��U\\x0cy\\x12�c\\x115�V�\\x00�꯫!�)\\x1d��\\x10}���*\\x05\\x15R��G�X���Y�S.�kpv��\\x08H\\x1e8�\\x10z��\\x7f�m�a!>\\t�/�/�\\x02�F\\x14\\x02�@\\x00B��^���y��\\x10\\x1d.���1\\x1d\\x06ؕ\\x11K\\x1b����b���;��\\x08��=N�� 7\\'\\'k\\x1f\\x02��u\\x0c\\x19�\\x02�O���a�\\\\\\x16d\\x16b�$a�\\x15�Fd���\\x16�3Z��\\x1e\\x13(!Ĺ���Wj\\x03�_S=^�W?�%��\\x00�R��K \\x10��{mV8\\x14B<���,x=#\\x16�i�%dL����\\x08��=k��]���Ɩ��\\rO��I���\\x1d2�5h\\x1d�ڮ%ꀌ�\\x1d���)�_\\x0fV\\x18�r+=9�\\x18�ID���:\\x02L�c��\\x0e��R�7\\x1dc�-�]D�]\\x08qw���p�d}�M(##�ڿ{ˢL�s�\\'�2\\x01\\x1c\\x15^K�;{r�Q2w�\\x10p;\\n�^���~z��Pv.���\\x00\\x05~��',\n",
       " '\\x00\\x0c\\x01\\x00\\x00\\x01\\x00\\x00\\x00\\x00\\x00\\x00\\x06google\\x03com\\x00\\x00\\x1c\\x00\\x01��^n�\\'\\'���$�����R���\\x17�>Epou��$��M��\\x1c��\\x0e�tB\\r�Ժg�m��>8w脪��5���<�>�\\x19��l\\x0e<p��ǘ���w8��@Ԯ�`Y��\\x15�oR�H��hD�(�;�8*~o\\x14`Y�m�\\x15�?�\\x16ˡ\\t�\\x04DJ�1PD�\\x143O�\\x16UU\\x18�w�x.\\x05C��H�t��\\x1a7=�衈\\x11�\\x1b�_\\x1f06e�0\\x1d�_P4\\x13r�9,6�\\x18\\rc�\\x06�E�<�S¡��\\x08Ï\\x1eNY$\\x04�\\x08\\x00X�94��pְ����\\x15\\x17+¦���0�S\\x0cU�j�{A\\x7f�\\x08\"z�C�\\x02P�{\\x17��e�\\x161s��\\x02������`���\\x07µM�p��a�S��;� \\x04\\x10ڰi�\\x07\\x03!i|Sȼ(����\\x1e��h\\x02\\x18y>\\x00Tp�e!fN(%��\\x1d\\x7f�tw���rΘ��G���I��5��%����N\\x008g�\\x19`Mַ�&|+��\"������9�r\\x03ѱ\\t\\'(��q�\\x103\\'�\\x0e\\x13�@y,��{R�\\x06�\\x00�\\x01D���1J\\t��\\x1f�;4|���\\x0f~�\\x03Nٺ�h��됮\\\\�\\x16�p���;�I�]�\\x00耸S��x�j;?\"\\x0e\\x19~\\n�ų�\\x18\\x16b愧PL��@�\\x1a�\\x1dA��B��6�\\x12�\\x1fph��\\x16����s�PAv��O�',\n",
       " '\\x00\\x0c\\x01\\x00\\x00\\x01\\x00\\x00\\x00\\x00\\x00\\x00\\x06google\\x03com\\x00\\x00\\x1c\\x00\\x01䎑Bj_�a\\r���\\x04��\\x10DJ��\\x14�\\x12��B�\\x05\\x1dB\\r&�@�֞\\t�D�o\\x01�gc�r��1�\\x12 �\\nA\\x04\\x1a�a�4F�G�����\\x103���K���&\\x1c]�\\x10��\\x0c7\\x03D]�.��\\x0c�\\x01tx(�`����Y]���-k�q-\\x02u\\x10�`@Ow��\\x1f\\x0b�->W:\\x1d��誘y����V��q�f\\t���>��\\x0e|�[\\x03á\\t�_h>��@�*\\n�W�uZ����ɼ��ո�?�z���\\x08�!�5)hz��N-�g�@��6�-;j�50l\\x113�¦�\\x1fm����\\x10�.�R�t�|�_��\\x08v�X�\\x04D\\x13:�\\x18�j�ϴ���\\x14x\\x10\\x10r�Z&B�^�+��)$1\\x1e�\\x18\\x15���P�e�\\x7f9\\x10�\"3,��I��\\x10�8�E�#\\x1cۤ\\x13(:Sn\\x1c\"��Q��f>B�#�����W�\\x08\\x13�jQ��[\\x01á\\t�_yo��9���m\"lD�)�.�\\x0f\\x18��\\x150,�L�S���ͦIs��<9D��!\\x08\\x15V�,\\x7f�k��\\x14\\x1c�`zL�\\x12a�,\\uf4afH!oA�S\\x01hP\\'�~L�B�\\x01�������k�#�\\x19V�X]��\\x12�8�B�\\x0c`A^\\x16\\x11�y\\x1b<��w\\x10a�@�\\x07\\x05�T�\\n�Z�M�/��\\x04�0\\x0c\\x0b1�0\\x0c\\x0b1�0\\x0cӏp',\n",
       " '\\x00\\x0c\\x01\\x00\\x00\\x01\\x00\\x00\\x00\\x00\\x00\\x00\\x06google\\x03com\\x00\\x00\\x1c\\x00\\x01���˴�\\x16��rj�GBWO��\\x18ݢi��0�\\x18\\x01�����\\x13e\"3\\x1cY\\r\\rP���^nQ\\x0c\\x0b1�\\x16\\x13/\\\\8$\\'˽���!�<~�K\"�d\\x00��\\x19����b����\\t\\x1b�6�p�b\\x12��\\t�\\x0bC��\\x17EE�ɀQ� �\\rOrA0,�LZ(\\x12[�\\x142�v.\\x02���I���+\"z�K\"\\x03�����\\x15��qI0vp����P\\x07�Ƥ\\x19��3���\\x06\\x01���;�薰\\x11\\x11���$�_�\\x12nS���(�\\x0b4��\\\\\\x13X�17\\'����6��r�.\\x00ؕ�C�g�~\\\\�\\x06\"��u\\x7f.�̵��%\\x1c�`\\x18�a!f\\x18�9���\\x04�Y�^�\\x07y2�����π�\\x00\"ϫ;c_�ڼ�֮}�\\x04\\x00�\\nfX��\\x01Ka�~\\x13J�\\x0e\\x00\\x14\\x08ᐱk8��\\x03�u|�+F��lM�žFSN\\x03�Ye�D�,����\\'���5�d\\x12\\x0eM0�\\x10��\\x0b��\\x05\\x02\\x0f\\x02JRfTxc\\x7f�Y�\\x03�\\x04�\\x00Q�k\\'\\x05���\\x08^�v���|�k�a!f\\x06�\\x08��W�įC��u)�\\x1f�\\x00��o\\x7f\\x04�)_3\"\\x12)r9\\x1c�\\x15���ǵϰ\\x103�����~�xn�\\x0cQM�<o���\\x10)\\'��#�Z�x��+�\\x19˭��\\x04\\x1c#f�E^�\\u05c9R,���\"Z\\x07����\\x1d\\x162\\x10�W�\\x10G',\n",
       " '\\x00\\x0c\\x01\\x00\\x00\\x01\\x00\\x00\\x00\\x00\\x00\\x00\\x06google\\x03com\\x00\\x00\\x1c\\x00\\x01w� �\\x02R�\\x19\\x00�^\\x7f�ô�\\x16�\\x01 \\x1c���\\x14�7PA��u�\\x00\\x01�A�\\x1b\\x100\\'&�A�N�_\\x00�ln\\r\\x0c\\x0b1�/8��\\x1dG����\\x1b_���)����A9����\\x04�4�c\\x00������о\\x15+�\\x04�\\\\�7~\\x17�\\x7f\\x04��V��k@lM\\x0b\\x1a����͞4wѨM�߷�[\\x04á\\t��]zI_\"�\\x0eӹ�M�-�>��\\x07�\\x13с�ǐ�L����s\\x07�@\\x01wu�ډ�\\x12~<\\x10�\\x08�O\\x1d\\x06\\x1e� +��\\x161�B���\\x12��;?�[����b\\x11\\\\��\\x05R����/��\\x17��5�c�/Ph��\\x04Ev�Q&TB�-\\x13�������\\x103�\\r5\\x15�s�)�\\x10✙W�\\x13��:\"�\\x13(>�a�0C5ɒ�\\x13B�yxB8�f\\x19\\x16b�x�,�z��Q�����f���d��Y�.�\\x109_�\\n4�W�z\\x18\\x16b椠�¸���n��:\\x1d����W,\\x1aћ�\\x1cߑ�m��/6���ެz����\\x0c\\x0b1s�X�&��bc��*��l�s��W���8i~Q�u��\\x03v\\\\x���W���r�0�\\tO_c��Z��7�}K��P�\\x1fb�\\x18�����g~�y�\\n}�V�W\\x03�@�7��z���3�n�\\x10r:)�!\\x1c����\\x07�\\\\�\\x11���9)��/{`',\n",
       " '\\x00\\x0c\\x01\\x00\\x00\\x01\\x00\\x00\\x00\\x00\\x00\\x00\\x06google\\x03com\\x00\\x00\\x1c\\x00\\x01VQ�������G-U�|�p��`^\\x0b���)�\\x1aA�\":���\\x01���I\"��/\\x06\\x01C\\x05�p\\x12p�\\x00�\\x05\\x00�ЁN�\\x080QgKxׁ�p�\\x07��{�k�a!fN^˸��G3�%;\\x1c�|\"6\\tP�`�-��-\\x11f\\x03�M2�\\x11l�6֥!;��Z���{��v�fG@������/�P\\x06\"-�\\x1a��1\\x1c#f�)?jC��;.�H����?����)��Iᬉu/�:%���,uMp�1\\x1c\\x02鋰\\x19\\n�D�\\x10�\\x06Ӣ��50,�L�ph_�oڧ�E��,��\\x1ek�_��U�_z�iZ�\\x10��]���t�\\x00���C���VW����qꟾ��RfM�=+��V���En\\r\\x0c\\x0b1�/l~၃�\\x1d�\\x0c��ٍ͡Q5��O���5���\\x07����!8�Tt�\"z�\\x08\\x1a�\\x17^PD��\\x08��RE���\\x0e��3j�4v��\\x1a���\\x05���\\x0b�� Xa���d\\x02�\\x113�g�a�\\x01���a�V\\x1b�\\x00��\\x1f\\x18sѝ9c��G\\x0b-y{�\\x0e���\\x7fp[o���\\nޡ�a!fN2v���]\\x00\\x1fpI0\\x1c�`\\x18�aX�\\x19�aX�\\x19�a\\x18\\x16b�a\\x18\\x16b�a\\x18���a\\x18���a\\x18�a!f\\x18�a!f\\x18�aX�\\x19�aX�\\x19�a\\x18\\x16b�a\\x18\\x16b�a',\n",
       " '\\x00\\x0c\\x01\\x00\\x00\\x01\\x00\\x00\\x00\\x00\\x00\\x00\\x06google\\x03com\\x00\\x00\\x1c\\x00\\x01\\x18�Gp��\\x13�\\x19W��q8�r@�J��S=�$�Q��3��3�~\\x1b D\\x02z�ł\\x0b�\\x03ƑL\\x1du�U�D�J�8�?�\\t�>ihl���g\\x1eLi�~\\x02\\\\^�+�#�ۇ,�\\x1e��A�{����0���\\n!З��y�2Ws�n�\\x1c�\\x13\\x08��~���Y\\x1a\\x1e�<�\\x05�F����4w���\\uf4f2���\\x08�\\r\\x1a<�cH��p&\\x02��Ѝ��\\x0b�ť\\x13k*ʗs\\x0f��\\x043\\x00@�9�:�l�8H�\\x10�i��>6 \\x11Q��\\x0253#\\r\\\\\\x0e\\x1f\\x1c�1�\\U0005e8b7�j�c�:.^ͭ�-bf�(1��\\x15+\\x1c>\\x10o�͵�\\x07\\x0ez|�AD\\x1cҟ�D�@*��Ӽ�\\x7f\\x17>����\\x03d\\x03y\\x07�F�JY�xe�u��<b�ތ��4\\x03\\x1eȍ���\\x19����Ep}��\\x1a)|~\\x168_D�Q�`8\\x1e�E\\n�q�\\x18r#L����\\x05B-���\\tE�R\\x0b��?Kvm��0���2�3\\x1e_�AD�=fy�+U;�pdG\\u05fa]�_\\x01\\x04��y\\x1f�jD����\\x13\\x0e��jW.[= +s��ů���g>nE��b\\x06����(�\\x1e�\\x1613 #\\x15H���<ޮ;�\\x03�<c�\\x08\"�z-<@���\\x15ah\\u074c5�eܸO`�a\\x1d3`D��\\ny�hS/��*��\\x19.h�-b�\\x17��\\x13%�T\\x1f',\n",
       " '\\x00\\x0c\\x01\\x00\\x00\\x01\\x00\\x00\\x00\\x00\\x00\\x00\\x06google\\x03com\\x00\\x00\\x1c\\x00\\x01��\\x1e\\x00Κr�>Ιm����\\r\\x00�n�\\x0c�!E��$�[&�%3\\x0c\\x0b1�\\tl�d��\\x1e�w��\\x19c;\\x00�l�a��\\n� �Y\\x1d\\x014s��8ph���NV�d.�\\x13r�\\x1d��7���LX��\\x01�\\x02x%�w)��Is�\\\\.�\\x13��+\\x16MF�\\x0eޫ��K\\\\2,��\\x00��{���*\\x0b\\x06\\x0f�\\x7fqɜ8H���\\x14�\\x18�\\x00T�����a!f\\x06\\x08{�<v�\\x14�СR\\x11=�E�\\x12.��¢�ߠ�3\\x10(f���a��a.�\\x13\\x07^�q\\x020��\\x1dp��P祼D��G֞��\\x13x�g\\x0c\\x1cgL�D\\x1f9h\\x10�B�\\x0b:wٽ�հ�k�\\x03\\\\J,��\\x00#ߧ?$\\x01\\ue237\\x0c�\"��\\x16z.\\x1c�{��\\x066�,k���F!d\\tD�<S��4�uKM��ǹ�X��\\x01���t5Jqeª��\\x1e�\\x10��\\r\\x14E)z��¸�\\x0b��Cr\\x11�8�X����s&D\\x0cdN\\x10s\\x02i3\\x11)���\\x15�]\\\\\\x1al\\x113�\\t��J\\n�\\x03\\x1fE\\x14�q\\x05\\x1f�XDφ����?��}.\\r\\x16b�8d�U%�9\\x1d�!\\x14pv�\\x0c\\x19���\\x07�7�\\x1aC�+�j�~]��:.\\x13�a\\x18��ex\\x1e1�0\\x0c\\x0b1�0\\x0c\\x0b1�0\\x0c�B�0\\x0c�B�0\\x0cð\\x103\\x0cð\\x103\\x0c�0,�\\x0c�0,�\\x0c�0\\x0c\\x0b1�0\\x0c\\x0b1�0\\x0c�',\n",
       " '\\x00\\x0c\\x01\\x00\\x00\\x01\\x00\\x00\\x00\\x00\\x00\\x00\\x06google\\x03com\\x00\\x00\\x1c\\x00\\x01B�0\\x0c�B�0\\x0cð\\x103\\x0cð\\x103\\x0c�0,�\\x0c�0,�\\x0c�0\\x0c\\x0b1�0\\x0c\\x0b1�0\\x0c�B�0\\x0c�B�0\\x0cð\\x103\\x0cð\\x103\\x0c�0����Gu1˧�\\x11$�,��\\x06\\x14#\\x00h\\x10\\x10\\x1c\\x06�\\x16 h\\x04\\x01�X&ԃ&��Ƭ�\\x00��u�\\x17p���\"\\x14x\\x1b\"�d�%\\x00�\\x00\\x07�@ �\\x16\"�fYj}K�����<���k��3��3S�\\x1c^D����\\x08���\\x08H! ��\\x14�m�\\n�\\x05��qq\\r,\\n��\\x1f!��\\x04}�y��>��\\x1f=Գ�x��7�o\\x00�ԝo\\x13\\x00666��d\\x1f��-���\\x16D�]D\\x04\"\\x05DD\\x18�%����E�\\x17\\x00(@���\\n�\\x19P�\\n(�\\x7fհi��&΅��7���D�<��9Z���\\x11P\\x08P����]��\\x11K��X 6�\\x07�\\x10w�̓�]|�\\x10�B!łH[&eٶy\\x142R?-\\x00�p\\x08�[ml�R��A���C���ش��WW,-��Yf��8\\'\\uf3102��>\\x04���\\t�8�X��Dx\\x10Q�JGD\\x12�J�$T��U~��,�=��,\"�D\\n~P]i�/��\\x0c\\x08���!��\\x02�\\x01u��\"ƊR�Ö�\\n[��ǌ�\\x7f0ޕ3��D�\\x18�%\\x00�\\x17�\\x1b#�[�-��n�\\x181\\x16�/�C���\\x000��\\x02rԊ��7��&���\\x1eP\"�d',\n",
       " '\\x00\\x0c\\x01\\x00\\x00\\x01\\x00\\x00\\x00\\x00\\x00\\x00\\x06google\\x03com\\x00\\x00\\x1c\\x00\\x01���<>}���%��R�A\\x08��t���\\\\\\x07@c�-�G�9�u9���E%wq��\\x0f\\x0e��o��c�.�8���g���\\n!��.�|���\\x04�p�&:�b=\\x16\\x0f\\x14c��d�<��W�\\x08\\x1b喎M\\x1e��Rޗ��\\\\2頋B�����^\"+#m>r\\x0cR\\x16\\x08)\\x1f(,��\\x1d9\\x07�s\\x1f�\\r��R�\\'\\x18~��\\x07��^(:�ѥ�Q�\\x19�v:\"��g���tX\"�YZG����pǤ�\\x0br�+�F��j\\x05\\u2e7dg��\\x1cO1��%݇ލ��\"LI��$�\\x07�%�.b]3!�E�k*\\x1d\\x06�=\\x04�@@�\\x14��}�5�`�����)��ɜd\\x11��\\x14=ի\\x162�cȰ�\\x07g\\x15���K&\\x11�b��\\x02����<@3\\x11�TD;��%u�L�.,.}�K��\\\\}��m1��Ej��\\x15�]�������\\r͡�L�:ߴ�b��;��1�v�\\x10�VR��\"kq���\\x03�ǧ7\\x03���5�0)����\\x1a~��\\x1f\\x0f7ľ3v���C�\\x1c}j�&�B�y�/\\x00BA\\x7f��$���\\x10XjSI����S�\\\\t�{�P�i\\x02�焀�B����ϱ�\\x1eQ�~�q���\\x03\\x07�kƱ��K/�4�)R*\\x15�c�������U��҇\\x08�\"��\\x14�\\x18���~\\x16��C3�',\n",
       " '\\x00\\x0c\\x01\\x00\\x00\\x01\\x00\\x00\\x00\\x00\\x00\\x00\\x06google\\x03com\\x00\\x00\\x1c\\x00\\x01~��� �3��+�\\x1e��(�5s���\"�D�Msbm`�\\x07��E�v̘��\\\\D�\\x15HE���oLM�����7�X\\x0b�M���sC��:H��Y�\\x1a�W\\x02��b�(C�|v�\\x03\\x1av\\x01l�֟���:�\\x12}dN\\x0e\\x19�x���s��1JR4D��N�p���/�\\x18ǒ�՝B�jeYd7�\\x11�IJ��:\\tp;U\\x15�\\x1f\\x00����\\x1b\\x01�vǊ��3���A�q\\\\\\x03�G�\\x15�&�@g:\\x0f\\\\Q�o\\x02��}u�\\x04]\\x07�hhBsh_KfaY�57��lz��C���%�\\x181i�)\\x1a7�����ު\\n�-�\\x0f�!��dn�@Ԇ�t��K�#\\x1a�[#m�ֻ@\\x04�%T�H�;���\\x7fO\\x04�MV\\x1f\\x088��[�m��^\\x0cK��7�\\x13a\":b#p���ܜݯ�\\x1d����I���Φt\\x12�)с��Çps�\\x19�\\x7f�ɾ�\\nc\\x10)�i�\\nFyN���\\x02.�Vf_rs�C�\\x1eJb��2��k��w]�ǭ�0����/i}H|�k�\\x17\\x1dJ!�W�\\x16����\\u0378���S���B\\x0c\\x08�%�\\\\Z�muE��\\x11�.^\\x13\\x17Bc!�\\x10�\\n�vE�L2GHJǳ\\\\Zm�1�?%u[���*�\\x1fH��U\\x15��\\x10Q��e,��^�h2�D��-�6ƙ��',\n",
       " '\\x00\\x0c\\x01\\x00\\x00\\x01\\x00\\x00\\x00\\x00\\x00\\x00\\x06google\\x03com\\x00\\x00\\x1c\\x00\\x01����p�Q!e�\\x1e\\x12�%\\\\د^Zە �=\\x02\"L{�\\t\\x11�\\x12\\x11\\x17ti�\\x0e�GB|���,7�\\x07�p6K���[�ꎸ\\x0e�\\x1a��\\x02\\x1asѝ9�r�@6��LT�Vc�s��\\x1f(���\\x0fW\\x16�`�@�Ml�i��,Z�ٺ��o��\\\\���CE\\x16dG�\\x01A�ԁpcm����a��\\x05.5(��4e��}�==�K�r�]��\\\\ҽ\\x7f����5FsǦ��A���1&\\x15���M�=�R���X��_(r��K\\x01�8-����\\x1c\\x18��S�����\\x1bstm�8\\x18�e�.!52#���\\x0f@/͙��a���Y.\\x07��05i\\x07\\x0e�\\x07\\x1e;2 BNR|+�Rt�\\x02�>���mK��]�t\\x04�ڨ�\\'4�\\x7fB��\\x03\\x00Fۄ&�3��\\x0b�*���p�n���K:$\\x16\"DӢ!�tK&h�V\\t\\x003\\x00�\\tmK�\\x07E\\x0e9�E�\\\\P0_o&\\x05\\x7fi�\\t߬_c��a�\\x17�~Q\\n�o\\x00\\x1c\\x0f\\x08\\x1a��p4\\x07�`�<�2\\x0bZ���\\'����k\\x1f\\x0f�_�3Tc���A9�\\x1f$\\\\Ω,Є����K�,�ۤ@\\x1d�r�@�ƞ#�@Db��<�u\\x0b\\x00�\\x0f��x�*�6��9J�>��C\\x08i\\x14b����zd\\x04\\x020�7!j�\\x05��O�\\x01nOv]�E��A��\"',\n",
       " '\\x00\\x0c\\x01\\x00\\x00\\x01\\x00\\x00\\x00\\x00\\x00\\x00\\x06google\\x03com\\x00\\x00\\x1c\\x00\\x01�@\\x08�\\x10\"\\x1d�Z�\\x19]gL8�\\x14|g+��\\u0601\\x04�>6LJm�]����ڨ�,7<�ew���Dn�&eQB!�z�ts�\\x0c�#�\\nBu!\"�\\x04���v8�h�Eu����_\\\\�s�b> \\r��!j��=9\"���}*\"�Z����w)��$\\x1f��\\x17(�h��ݓv;�\\r�����E��+R��\\x15�~�\\x06^�\\x04�\\x19�\\\\\\n\\x1d\\rB�y\\x7f�\\x13��\\x16\\x01D�6~����-��&P�d�\\t1\\x11�C�|;��!��S.���t��\\x05��Ğ\\\\܌���q(�2�9�+RP1��C�\\x06\\x00ID�B�/�4��/.�I۴�O�\\ndaqI>�����h�\\x14\\x01\\x12��H�r#�\\\\��~�|���\\x13K��\\n����\\x07�x|�i��\\x04\\x11�J�\\x05W�z����\\x10CI)�Nk��~è\\tI8��\\x165\\x1e_�;�\\x16~�>`|\\x18{��\\x07�����\"\\x03B\\x17�\\x0b��iT�ET�nO\\x1e\\x0b��\\x10qj�!:�\\x00\\x11AH�7���/խ,\\x7f1ڌ]�%Da;�OY���}-E\\x0fi\\x02u\\x1b��\\x19W�|n�SK_?����\\n�o\\n͙MN\\x15�L粊��Sh���7�\\x08�8z�\\x18�}J)\\x7f:[L��U4�kՕ���G��Շ�\\x04�Xj�\\r���o�Ak�/�)��',\n",
       " '\\x00\\x0c\\x01\\x00\\x00\\x01\\x00\\x00\\x00\\x00\\x00\\x00\\x06google\\x03com\\x00\\x00\\x1c\\x00\\x01*\\x0b�˪�f�u����>�\\x07g���������6\\x1dP`=/@\\\\��s����\\x18�\"Xi\\x1f\\u05caV������S�?\\x03\\x00����\\x12�\\x0b�;���\"l\\x7f��,�4!~\\x07g�;\\x10��R=��WV#��F�Q�F\\x17G���������Յ>}g�\\x06?�\\t��\\x05pN�&��>i���)�7K��x CRZꎄ�\\x1d\\x15�fi���X�C�۵C�6�0���<8&��E�\\x1b�~F)�\\x04̊�:.O��F\\r�_��8d�\\x16l����\\x16_�l�\\x00b����Z�\\x14�|���.�Iʒ�u��Ԟ+��i͞�>o�\\x17�\\x1a�\\x11\\x02\\x13�p��\\x11)\\x10H�.������}��]©�+3˂�\\x16zK����\\x18\"N�6o�Y�&ğС�%[��6�&b�\\\\���1o�W{K�#��Ԝ+RY\\x1d�H�\\x01(k�\\x18�>�k,,��\\x1b��æ�k��|\\x02qL��=���|$�\\x12�Y�b��Ca\\x0b\\n8�cY�Y\\x16R��y%�?�F `\\x11Y)y\\'\\x11\\x0b+\\x7f^IAr��-ɭf\\x01U��<\\x12���$G\\r�����ӺXw@ۑ��RLȤU�!�\\x1b�\"�}^X��Szh;�H�l���/ ��0�o5��`AQ�w�����+��&�l\\x0c-m�}Ó��?��X��5',\n",
       " '\\x00\\x0c\\x01\\x00\\x00\\x01\\x00\\x00\\x00\\x00\\x00\\x00\\x06google\\x03com\\x00\\x00\\x1c\\x00\\x01yS�\\t��O�\\x08!���4�匌�e\\x07\\n���2)ȳ�K�S\\n�`ԍ�I\\x02\\x16D\\x14BL���5�\"���\"VwF\\n3�؋K�~\\x11�]{��l��D�6~�sȐ�\\x10p\\x18@�\\x12ߐ���r����\\x1f�r�`�OR.GG���B��\\x0f\\x1e-�|,v�\\x10!M�w*�!#���0� ��c�lyG\\x1a>�\\x08G�vvį\\x15��{l?4w��!ൈg���\\x17�^��R�_D�˽�=\\x17�b�0��{ݳ�m�T�{�\\x00@��߄8��=�_N�\\x02m� \\x04\\x1a,\\x04�]X��UT:/\\x1a0�I�ǫ��Ԝ\\x7fH~\\x1d\\x14&�\\x1d\\x04���,{\\x0b\\x0b?\\x0fs�����y%�\\x02q�}猲�\\x00�Mv]mK�/\\ue3ca�_c��:z��MJ\\x18��9�e\\x02�M�,\\x0eF��\\x13�#[�X�{P��y�U���kW�a�G\\x11�j_gb^��\\r\\x06���\\x11���\\x1d�)\\x14�e���J\\x12�ٚ�X�\\'��H\\x1dʺ�\\x1f9M�in���\"z� �\\x1d]�Z\\x14�GD�\\x0e\\x11|hk���g�X>��{\\x12fA��\\x1d~\\x0f�\\x11��`\\x12�\\x07D��\\x00G��F\\x08]⏽����\\x05D��\\\\kE�����XR\\x0e?c���7!���\\x03\\x07\\x1b�CS�\\t\\x07\\x1c\\x15d��\\x0e)Vzd���\"��ݵ��\\x12�%\\x1b�MS]���',\n",
       " '\\x00\\x0c\\x01\\x00\\x00\\x01\\x00\\x00\\x00\\x00\\x00\\x00\\x06google\\x03com\\x00\\x00\\x1c\\x00\\x01\\x1d9�\\x15Ƹ�\\nc��{\\x1b�(��6\\x17\\t\\x05��o�\"\\x1d�v�KD��Pˤ��\\x18\\x1d\\\\Q6E\\x11�\"�WCk�-\\x18\\x17�\\x1b���\\x04 �]]\\tTq�xּE�G\\x01��]�K���\\x02�\\x04����\\n�̠�l���[��`q\\x17\\n����D�x���r��y\\x0bSJ�SPTr\\x0e�8�k}��\\r�\\x0b2�^!e������aؒ���\\x1d�c\\x1a���\\x18_�7ί�\\x1bߏ܀M�4͐�\\t�!��o�\\x1e�\\x1byA\\x7f�\\x19���l\\x15V��u`�\\x149\\x079^L\\\\e��D}��>\\u07bd�`n�oL\\x0c�˦4\\u05ee\\x1f���\\x105*�G\\x0f��E���u��\\x13�]e�_wm����\\x0eB��9\\x18>�n�7!��P���]��ɬ�Ă�YB��\\x0b}�\\'gy\\x17���1�zD\\x08\\x06\\'\\x1e�������섘�\\x10��C�pqbo�\"�uqIϸ��CQȡv�;t�iJ���7��V]a,��\\x1d��2\\u0379�\\x15���\\x01�\\x7f\\x1f�%���[����\\'�\\x01I\\x11m��\\x1bS:�a��X�8)�f3.��{=R��\\x15>d�\\x19�\\x1c�)\\x06\\x07�\\x1d_p���(�\\x14Q�pS��\\x1a�X�(`Nw7���UK�\"�\\x1d��ڵ���V�?JD+��*��\\x1e��Ӆ�9�\\x12�\\t\\x05��mo����l����}��GK�',\n",
       " \"\\x00\\x0c\\x01\\x00\\x00\\x01\\x00\\x00\\x00\\x00\\x00\\x00\\x06google\\x03com\\x00\\x00\\x1c\\x00\\x01O����Ȁ����\\x0c3�\\x08>�q6A�hXͪ�]\\x0c����@�$M\\nK�U��u\\x1e�\\x1a\\x1a��\\x11�{�6�\\x00��:��\\n}�[����\\x05IHx\\x02\\x12�\\x01B\\x0b�\\x7fT�\\\\�X�w��\\x0e��\\x1b�PtM�3�=�iRV\\x9eiZ�\\x05��\\x7f���|����f���V���~chU`�_�x N\\x1a�����P��m\\\\ѽU~�S�\\r?x9�{(\\x13%E'E�'�V_*\\u0590@��k}K\\x0854w���;\\x0f���C��2X��6���ox�R\\x01\\x1b�\\x0f��b}��˳g�q�u��\\x12�.��\\x0f�k�\\x1d\\x19���%�\\x16�\\x19�\\x1e�+����^\\x1d��\\x13��\\x0f\\x13}�2�5��@��?���_�8��g\\x1e<\\x1c�\\x1b�\\x15��t���\\x10\\x08�s<r�\\x070�\\x06ۘ˘��̑�c2$\\x14\\x03ux}���D�\\x1f��r�ETHu�\\x0f�\\x02.���[j\\x03�_����5Fs(Ls�\\x15Ƙ��K�\\x0f�+��%\\n���y�\\t\\x1a-�\\x0f��\\x1aβq���V۱��I\\\\��L}���\\r��8֍��]��>�a\\\\\\x13��&�ì�����Eᭉ���6�\\x16�{]B�\\x1f\\x14xK;�\\x1a6�����\\x15\\x06VU��;�\\x1f�#\\x05�$^=+\\x05�Kܦ�v�N�?\\x08\\rn�w!�\\x19YK\\x0f\\x1dؗC��^��\\u07fb\",\n",
       " '\\x00\\x0c\\x01\\x00\\x00\\x01\\x00\\x00\\x00\\x00\\x00\\x00\\x06google\\x03com\\x00\\x00\\x1c\\x00\\x01��X��\\t�\\U000fc277�9ux�2�L\\x1b��\\x16؎��\\\\\\x01H4�#����\\x08�\\x7f�~�ݚn��V^Եn[ p���]r�H�ivᙚ\\n�\\x7f\\x12\\x1doVQ�\\x11��6&TB��.�l#\\x014�\\r泼Ӯ���A��7�X��w���zJ��\\x023��brO0rM�D}��I*~ދ��\\x02�_���ڵc-;I�x�R\\x13\\x7f/��\\x1b���ݞg\\x15�.��t\\t��oy|���~4�ۓ\\x19���\\x01#�Кֲ%XY���\\x1f\\x1c�>\\x14K�in\\x17�\\x18H���\\x0bKs�b�f����\\x17��ҧP���T��\\x13�\\x10�\\x15��Ox>Ĉ\\x15���Qh���$�\\x0e�\"���\\x00��\\tVB!���h\\x12������\\x00J���MH��2��y��,!��� �\\x02>��]��\\x05��~�%B�\\t\\x19\\x1c�F$�w+rM��\\x1e�$v�e�\\x13�����\\x15�eߗ�~�Y�&���zU�����j�R`Bo\\x0e\\x11OE���\\x7fl�9\\x1c�\\x081�/�-������IӶ7`F�],����}\\x04�M]�!�Ч?[�7.����\\t�2\\x00%�\\x1dC�\\x17/\\x1d$T([jx\\n��,@�C�/&u6\\x15��D\\x06qv��E\\x1a�\\x11j|�\\x13�9s���0uH�(G�)\\x00��\\x7f\\x05���k�ʲ�Er�%�\\x0c\\x01�l\\x01',\n",
       " '\\x00\\x0c\\x01\\x00\\x00\\x01\\x00\\x00\\x00\\x00\\x00\\x00\\x06google\\x03com\\x00\\x00\\x1c\\x00\\x01t\\x03\\n9J�ĉ�\\t��w��E�b�-�N�f�]2\\x10�D�X\\n����yAʲ��\\x05�=P�\\x11\\x19�,]�.���F�(c��\\x10!��c\\x03@����G\\r\\x02$�-G��ܜ�\\x006t�/�MB�g�f��̖��r�~���R���JU�(\\x14�;\\x1e\\x1e���\\r�c�\\x07��;\\x00p\\uf030��\\x12���Fip�1���M�5�r�F+l\\n[h\\x027���ɩ�Z\\t��\\x1a��E\\n\"\\x1c�r�*���\\\\�8��<\\x1e�\\x17�6��S�5J\\x05�Q��?ծ�$�睄ﻅ�\\t%����#�\\x1d�8*�P��ͯ\\'ˢV\\x1f0�R��lb�8i�\\x02g�j�&p�~�X�0Y2��\\x19T�d�i\\x1f�}\\x07�v�]��bl�W[sR`S�\\x06V�.�C��?\\x17�`O_m\\\\�?O�Bo�p���9`B\\x13v�\\x1c�\\x1b��N�W�Mm�>�f^]:7N\\x0f\\x11��\\x08\\x0f\\x06\\x0f�˂x�\\x14��.����x�J�\\x1d���\\x1fR֛\\x1d�!\\x1a���I��X,E�U�\\\\����\\t\\x1eH\\x1c�T0hа.KN�^�h�\\x14r|�c�Օ�#6\\'�I�Bs2Q\\x17y^�i�gY�Q}�wn�{�\\n^��;�\\x04�e9�(�\\r�\\x1a6t��}��Fh����O\\x0e�/*9�\\x0f��+��\\x0b�\\x0bOO��:\\x1eU�',\n",
       " '\\x00\\x0c\\x01\\x00\\x00\\x01\\x00\\x00\\x00\\x00\\x00\\x00\\x06google\\x03com\\x00\\x00\\x1c\\x00\\x01����\\t��\"�R�k�Jt\\x06QJ�2�7���$h��\\x136&��rsGD�)IX��ˊ���\\x04\\x14n:�0����n��\\t��K�>+$vq\\r�]΅�Y�e�>���^If(\\x14x��\\x1ew*\\x15��B}��\\x03��v+(K���}ژMD�HGO��\\x1deE��\\x14�����ܥ�z\\x7f\\x05k4���q�\\t����9P��v\\r�z������\\x06\\x15�������Bvf���\\x01����N�4+^��@<L\\x11ѻaӜ[UQ��$-氍�d\\x1dw*<Gׄ��J�\\x15���V �\\x03Dtop;d���Ci-jY�_�\\x11�J�5=\\n1t�ew��dz���V\\x044no��m�#�k\\n\\x02���N�qc��445��\\x0f��AI,\\x16ۙPA��=�l�NDi/t\\x11��=�e��\\x04+�?\\x1c�h�!\\x11�\\x10�۩���$U��\\x17]8��G�ZN\\'%�\\x05��,�0,G\\x03��4,����: &N��bH�����Q�\\x02?\\x00\\x00;��)TjUp��I}g\\x07jJ4�K�\\x0b�7\\x1d.8\\x05ʒ�*T\\n*����=ݠPt\\u058c�터I)�����5\\x1f�p�\\x12\"z\\r\\x11��H���;\\x01�\\x07к\\x02�{\\x18g��R�\\u038d�>xض}V\\x1a/y|:�M�C\\t�\\x00�����Ƞx\\x1b�L�\\'',\n",
       " '\\x00\\x0c\\x01\\x00\\x00\\x01\\x00\\x00\\x00\\x00\\x00\\x00\\x06google\\x03com\\x00\\x00\\x1c\\x00\\x01e5l|��-��2����\\th\\x14f�T�Ձ��\\x01�Y�ߙ��s�@�+S\\x1e\\x06\\x04\\\\�\\x7f�>��)�\\u074c��r��;��\\x1c\\x05hU���ڟ���t\\x01J|$�\\x10\\x0bW�wQ^}k9��\\x10�\\x12�� �\\x045\\x05\\x00��\\n\\x0b\\x10l\\x14\\x08���u{��n\\x130��ˈK\\x1d\\\\adx�g��M�\\x12t\\x12�u�\\t�\\x7fI}���$�k��*�Xl7\\x11\\x1f��C{�,�\\x1a\\x16�m��gF\\x7f\\nV\\x18���=(�GDD�\\x138FB���B,%,��\\x1d\\x0eA�y�#\\x16��D�5 :�Jn��\\\\����K�)_x����2-z�o�U�,;SoSྔ3��>\\x11�\\x12�Is\\x17�\\x06�\\x0e_���\\x00��dV�p�͐��^�ė\\x16�2�\\x03��u����\\x0e\\x7f$�K\\x02\\x178�\\x03�{z=4!E�i;ф�0�\\x1b��Jb�l�S�U\\t�\\x0b��~�i��i���Ъ�\\x10�lYr|�º��s׃�\\\\�h�\\x0f�\\x7f��Bי ����D��[�\\x0e�dR{M��R��\\x13B��y^ݙ��� D19�E��ԔR�Q\\x0b�[`��E���Gݹ�Y\\x17ݙ�\\x02oIf&\\x81�\\x1f�I���[c)3�\\x17�\\\\\\x13\\x00m�\\n�*�;���\\t\\r�M\\x13�MƷh\\x1b\\x12xMF����o�wh0b\\x04���l]�\\x03J�wl�Q��',\n",
       " '\\x00\\x0c\\x01\\x00\\x00\\x01\\x00\\x00\\x00\\x00\\x00\\x00\\x06google\\x03com\\x00\\x00\\x1c\\x00\\x01\\x7f0�6r�\\x16�\\x1eaB��0LOb1���E��v��\\x1cN�zF\\x1d6\\x05��\\x16��+�\\x07\\x11.,R�E�!ɒ�\\x13B�����\\x1cjJd\\x1dR��7�\\x1a�\\'l:4X��q\\x0e\\x189\\'��O@��؇%�������jH�~��)\\n��O�v/��<�If\\x00�em�Ć������\\x11�;q���R\\x0b��Z~��/��������O?��9l��mS��4��\\x04\\x0b�D�\\x02\\x0e�n%mR\\x16<h?v��j�^\\x17b\\x02�+�*�6�\\x1dݲ���.�N��%]\\x1e�T\\x05�?�h�L�V/wuG\\x10\\n|��qݬUK�l�1\\'�\\x87\\x15z��ҍ\\r��5SO�y�~��\\x07���_O���7k*�-6\\x1d�i;Q*(֟H��&�]�;c�=���N��,�ˠ��r/�\\x12\\x7fݵ\\x13\"(�\\x16��\\x11�T��k#����Y�[����\\x02oLZ\\x1f&\\\\�\\x17m�%�2�\\x7f@\\x08����Lo��B�\\x1e��\\x06M8��I��p�U��SD\\x7f���2�zp�\\x1c\\r���#��6wޱ;U\\x0e�\\x06�mR~�Hj�X\\x1fX��\\'�\\x0b�_�����7;\".�\\x10�U�\\x06\\x0e�U��\\x04��/\\x12ZfJQ�O\\x7f*�\\nӵ�\"�NMjߛ|�\\x1d#�O�r[�J�\\'��Zj�<g]y�h��/�?',\n",
       " '\\x00\\x0c\\x01\\x00\\x00\\x01\\x00\\x00\\x00\\x00\\x00\\x00\\x06google\\x03com\\x00\\x00\\x1c\\x00\\x01L\\x0c>�7++�r}��X\\x7f����\\x08�$q��\\x07k�?i���g>9��=�F�i�����3S����K>�;d�\\x16��L+�뺧���\\x0f����-[���J�\\ueb4f�\\x15\\n\\t�?G@�V1�\"�C�{Z�^C[ϤX7\\x04�E�=1z�z��Z�\\x0fԾ%WK!�d�2\\\\[vtɽ|�\\x1c�=��t��X��r:�\\x16��ؖ3\\x03\\x11�L�p�\\x04\\x1d&��\\x12؟x�Z|v���?\\x14��:�����\\'I��7���\\x12ՄE���WD��2�v~>\"�ޛu����\\x04\\x03���ӷ\\x11�\\x1b@��4�ߴdV���\\x0e�l�C�\\nP���x���,H��\\x06�.Qz��[\\x0f�5zB\\uedf1u��x��e\\x1e�~��̋�9E\\x13�bQ饚@?\"d�� \\'g�\\x1d\\x00]\\'\\x7fWW\\x1a\\x0fϞ_�P�H08ױ-�H���҈��f֥K&�l��\\x10�\\x1b�D\\x14a!\\x00�h/�$m�5�+��\\n#�)�\\x08P3H�����(�E7���\\x14\\x16V \\x1c1Óv%q�?|���ËJ\\x16K)��w�,Ҳ�\\x07��z���}�o�\\x14\\x7fn��+\\x16�p����\\x10E\\x11�A�&j�#��h(\"�eD� ��\"�[��\\nX�-��Ð�5\\x18�&\\x11��?虯/\"�զ�~f5�=�\\x0b\\x14ij�&�\\x1d(�JLe',\n",
       " '\\x00\\x0c\\x01\\x00\\x00\\x01\\x00\\x00\\x00\\x00\\x00\\x00\\x06google\\x03com\\x00\\x00\\x1c\\x00\\x01P$\\x08\\x05+�\\x0b2\\x13�M<?���t�Dq���sE����\\x0e�\\x05E�����\\x10EtϹx�p\\x06\\x0fwE곴�qP\\\\�XHq~��]\\nԪ\\x04��*��*���覱34��1�����rie\\\\+\\x7f����!�\\x06c\\x14�`6�=��\\x11<�\\x08W�\\x14���H����x)U\\x037�*��q��K)�N�\\x18�>�u��VI��\\x08H��PDMU~#��3����(ŕv��\\x10\\x12\\x15Y{\\x15�O�\\x12u�� \\x1a�\":��\\x08�<�b\\x1a!)�6XQ\\x1e7CX~q齚H\\x1c�o��\\x08\\x15��\\n�砠\\x1a��B�S\\x01�UR�\\u038b-�x3<�\\\\v�`�;�P\"\\\\+\\x10.A!�\\x01%yFrt�S�V��ֽ��j��\\x14C\\t��!#� &�=\\x12���%\\x05֯��O$�PD#\\x04�������\\x0cz\\x11+�1thl} �y��^�fM�_�s�f(�ŚU���-\\x0f���fMȔ�\\x17���G�H\\x01�J��S�ؿ���|E������v��\\x08�Ud�\\x08\\x08�+�f\\x14t�D�+�b�1q���=MC;?��q���lǇI��R�\\x06$�%\\x10݄0_\\x08qC�Y,���ֹ�\\x02K_�����P�O��\\x07�p�HC\\uec58�.�^\\x11\\x1a�v:o\\x14\\x02\\x1e�w\\x1a\"\\n�-k�\\x08�]a\\'4�\\x07�P�U:\\U000daec7�',\n",
       " '\\x00\\x0c\\x01\\x00\\x00\\x01\\x00\\x00\\x00\\x00\\x00\\x00\\x06google\\x03com\\x00\\x00\\x1c\\x00\\x01r̐ ~\\x16�\\x00��\\x7f�\\x02�v�\\x0ex+f�����ϕ\\x08^\\x144WH�Y�v��zc\\x04�\\x16�?+K\\x05�R�o\\x15�떑]\\x1aʞB��ոod��?;�4�[\\\\�\\x14�T\\x1awl�\\'j\\x0c\\x04\\x14\\x0e�0��ݣ��\\x05�Č\\x18*(��CVΎg���\\x07�.�Es�_Ezbo��o�ɤ��\\x07���rg�%���|;������\\ncA:�i���\\x19�km�6��nq��B�;z/?0���%5\\x15���+\\x07{!N�O�\\x13�p��Y���.��3|��.!^���\\x1f���b��\\x1d�\\x1b]\\x16�y��ہ�\\x14��\\x08�\\r��\\x16��.�\\u2432F\\x08�JeЋ�?\\x15�\\x1c�\\ue233\\x17����\\x02˺�Bg^�Ot8a%DS�Jw�JI�g�g\"\\x7f74�i\\x1b�1��\\x0cϹ�^Rf�\\x07�\\x08J��y�0(�ԷR\\x11�hȠb��D�?y�wvO�\\x17�@�����%:N�\\x7f�d\"ڗ�{%\\x05#��9���\\x11_Ĉ7�\\x07\"L\\x04�aӜ��\\x08C4?�ҵ!�.ʰ\\x06})ݯ(���q����\\x12�*��4�*��\\x00KYw�+��7\\x04�$}R�D\"\\x1c�����,K�%Ѭ�T�\\\\{�7���\\x13�B����@��:���\\x11�+u�C�m�\\x0c�\\x11�l\\x049*�}�S1\\x1a�Fw�U�J�<�uNH��:',\n",
       " '\\x00\\x0c\\x01\\x00\\x00\\x01\\x00\\x00\\x00\\x00\\x00\\x00\\x06google\\x03com\\x00\\x00\\x1c\\x00\\x01�K�e�4�P$M\\x11q��e��\\x08�V�q���\\n�7�|/�7��R\\x0fe�\\x1a¦�H��ʯ�\\x15�\\x1b#\\x14Q�w�P\\x00��Iuȅ[\\x1f06%�#+\\x03�lY��\\'�/˩���Mu��\\x0b�\\x19�\\x0c\\x11��\\x08���PS�S~BG�oI%�\\x08\\n\\r¡�+3Q~5\\x15�\\x1e6��kΜ\\x08��aE���(\\x7f\\x08\\x06\\x00�R��KA��\\x102.S��z8\\x005�Z��wV-{/�q�^��{��H2v\\x12�\\x01��+\\x1a�\\r\\x1c�?M\\nz�IR�h�\\x16ɭ�z�u�tP=l��j\\x05���\\x15ƙ�Z�]ĸ��.���D\\x10��5P8l���T\\x1a�O�2�\\x1b��,������u�D8`�=2.��+3|8��V���R����������2\"J��o\\x05�e�Tt��n�EkΏ\\rA�1�n�����~�a�v��\\x03���{b7v�)�\\x01㕠�8���ٝ��:x�D���\\x7f��F\\x7f\\n\\x06��Tj�̯�T����0╖�!�CD-�~���lф��Fº\\x0f��w\\x13�q�1�\\x1aѢ��&ĭ\\x11\\x04�b~}���\\x14����k\\x05��yB�\\x17@|\\x1e��\"�3\\x05�l?\\x11��\\nV\\x06+��L����%Wi(\\x17E�iw-��[�<e\\x11���\"�\\x0bfǤ�\\x0b\\\\9�Co�B.\\x04�\\t�',\n",
       " '\\x00\\x0c\\x01\\x00\\x00\\x01\\x00\\x00\\x00\\x00\\x00\\x00\\x06google\\x03com\\x00\\x00\\x1c\\x00\\x01�XH\\x04j\\x17\\x00�U55\\x1b56�\\x03\\n}��\\nĹ=\\x14ރ\\x00�\\x1f\\x08^!\\x12o��Z*����]���&z\\x17\\x0e\\x19\"�%�p\\x03\"�����G��\\x05TYc��+\\x08\\x04z��[�O\\x7fU �N\\x05\\x0c����+��{��\\x0b|�5\\x08p+\"��$�1[\\x1f���D֊����\\x7f&�.F�Bl��\\x00�\\x02R˪*z����H�,\\t4\\x10�s�88���\\x10�JR�����q��.���\\x1ck\\x10�e\\x00$�m�\\x0e|2iSL�D�|}\\x13\\x02~�{�0}>2�vѓy%�w8�K=\\x10�C�\\x15eC��K��4M<�mO��PJq�<�~�\\x0b�\\x1chݟl$\\x01e!A3\\tz�\\x00j[��olx*�u���+\\x0b�&�G(/F��@p\\x00\\x11�+E5�lx��ɇ3�u��K�l3\\x1b.\\x16\\x02.&\\x05�\\x10�\\x05�\\x0e���6����`}2f\\\\z�\\x18��\\x18Ս�J�2e�����[�1E+�L��n��\\x12�(\\x00�9 �O~7\\x10���+��L��\\x10݆I@b�W\\n��wmX�i\\nV���%g���\\x08\\x01��6 \\x11�.\\x05�^)�v�\\x07B�+�pd�h>}x�y!J�\\x0c �\\x05�\\x06E�m�¯�\\x05���F9��+��\\x12#�Дh�.R\\x1b\\x10�u�\\x05Cv��=k���\\x06\\x01~\\x06�^��\\x1b��<Mh�',\n",
       " '\\x00\\x0c\\x01\\x00\\x00\\x01\\x00\\x00\\x00\\x00\\x00\\x00\\x06google\\x03com\\x00\\x00\\x1c\\x00\\x01w�\\x04\\x10�[y��4���\\x07�팽���Q9c�����\\x15����}\\x0c\\x17�����\\x02u�e\\x1ac���dB\\x1c��\\r�R:q\\x10\\\\\\x04\\x0c�0,�\\x0c�0,�\\x0c�0\\x0c\\x0b1�0\\x0c\\x0b1�0\\x0c�B�0\\x0c�B�0\\x0cð\\x103\\x0cð\\x103\\x0c�0}��E�0�\\x19\\x08ڌy�T�hޱ6�>����L\\x7fU)�0\\x03\\x03�W����n�X\\x00H�&ˑ\\x1bM��T\\x08\\x006\\x10�[�hU\\x0b�[�\\x01c\\x1f\\x17&\\x0b1�0����\\x0f�\\x10�@)��7\\x12�h6E\\x14\\x12h�GξJ��d\\x06�\\x113�@���v=�MնG�\\x05k�$Y�\\x19��\\x0e\\x03����B�0L?�ؔ��=�\\x16Fw�Y;���<���\\x01\\x00\\x00����;��}�4\\x00\\x00\\x00\\x00IEND�B`�']"
      ]
     },
     "execution_count": 117,
     "metadata": {},
     "output_type": "execute_result"
    }
   ],
   "source": [
    "payloadsText"
   ]
  },
  {
   "cell_type": "markdown",
   "metadata": {},
   "source": [
    "### ¿encuentra algún tipo de dato que no haga sentido que se envíe al puerto destino? Describa lo que encontró."
   ]
  },
  {
   "cell_type": "markdown",
   "metadata": {},
   "source": [
    "Sí, en el primer paquete se observa que su payload incluye una PNG. Lo cuál es realmente inusual, ya que al tratarse de un puerto destino que tiene como función aportar el servicio DNS no hace sentido que se le envíe un archivo PNG.\n",
    "Aunque se tratara de una violación de seguridad, el enviar una imagen por este puerto no es tan usual para el hacking; pero el escenario podría describirse como un Tunel DNS, donde se busca el enviar/recibir datos (podría ser implantación de malware o bien un robo de información como una exfiltración de datos) utilizando consultas DNS para así evitar que la mayoría de firewalls detecten la anomalía. \n",
    "\n",
    "[Referencia 1](https://www.cloudflare.com/es-es/learning/dns/dns-security/)\n",
    "\n",
    "[Referencia 2](https://www.akamai.com/es/glossary/what-is-dns-tunneling#:~:text=El%20túnel%20DLS%20es%20un,como%20transporte%20de%20tráfico%20malicioso.)"
   ]
  }
 ],
 "metadata": {
  "kernelspec": {
   "display_name": "Python 3",
   "language": "python",
   "name": "python3"
  },
  "language_info": {
   "codemirror_mode": {
    "name": "ipython",
    "version": 3
   },
   "file_extension": ".py",
   "mimetype": "text/x-python",
   "name": "python",
   "nbconvert_exporter": "python",
   "pygments_lexer": "ipython3",
   "version": "3.10.2"
  }
 },
 "nbformat": 4,
 "nbformat_minor": 2
}
