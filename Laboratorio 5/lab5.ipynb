{
 "cells": [
  {
   "cell_type": "markdown",
   "metadata": {},
   "source": [
    "# Laboratorio #5 – Threat hunting"
   ]
  },
  {
   "cell_type": "markdown",
   "metadata": {},
   "source": [
    "# Librerías"
   ]
  },
  {
   "cell_type": "code",
   "execution_count": 229,
   "metadata": {},
   "outputs": [],
   "source": [
    "import json\n",
    "import pandas as pd\n",
    "import tldextract"
   ]
  },
  {
   "cell_type": "markdown",
   "metadata": {},
   "source": [
    "# Parte 1 – Filtrado y preprocesamiento"
   ]
  },
  {
   "cell_type": "markdown",
   "metadata": {},
   "source": [
    "## 1. Cargue la información del archivo large_even.json en una lista, muestre la cantidad de registros total"
   ]
  },
  {
   "cell_type": "code",
   "execution_count": 230,
   "metadata": {},
   "outputs": [
    {
     "name": "stdout",
     "output_type": "stream",
     "text": [
      "Data len =  746909\n"
     ]
    }
   ],
   "source": [
    "dataFromJson = []\n",
    "fileName = \"large_eve.json\"\n",
    "with open(fileName, \"r\", encoding=\"utf-8\") as file:\n",
    "    for line in file:\n",
    "        dataFromJson.append(json.loads(line))\n",
    "\n",
    "print(\"Data len = \", len(dataFromJson))"
   ]
  },
  {
   "cell_type": "markdown",
   "metadata": {},
   "source": [
    "## 2. Debido a que estamos buscando dominios web, del total de registros, solamente estamos interesados en los registros DNS. Cargue únicamente aquellos registros que sean DNS."
   ]
  },
  {
   "cell_type": "code",
   "execution_count": 231,
   "metadata": {},
   "outputs": [],
   "source": [
    "dnsRecords = []\n",
    "\n",
    "for record in dataFromJson:\n",
    "    if record[\"event_type\"] == \"dns\":\n",
    "        dnsRecords.append(record)"
   ]
  },
  {
   "cell_type": "markdown",
   "metadata": {},
   "source": [
    "## 3. Muestre la nueva cantidad de registros filtrados. Deben ser 21484. Esta es una cantidad mucho más manejable, pero aún se debe seguir depurando la información a buscar"
   ]
  },
  {
   "cell_type": "code",
   "execution_count": 232,
   "metadata": {},
   "outputs": [
    {
     "name": "stdout",
     "output_type": "stream",
     "text": [
      "Number of DNS records:  15749\n"
     ]
    }
   ],
   "source": [
    "print(\"Number of DNS records: \", len(dnsRecords))"
   ]
  },
  {
   "cell_type": "markdown",
   "metadata": {},
   "source": [
    "## 4. Muestre la información de 2 registros cualesquiera"
   ]
  },
  {
   "cell_type": "code",
   "execution_count": 233,
   "metadata": {},
   "outputs": [
    {
     "name": "stdout",
     "output_type": "stream",
     "text": [
      "First DNS record:  {'timestamp': '2017-07-22T17:33:16.661646-0500', 'flow_id': 1327836194150542, 'pcap_cnt': 22269, 'event_type': 'dns', 'vlan': 110, 'src_ip': '2001:0dbb:0c18:0011:0260:6eff:fe30:0863', 'src_port': 59680, 'dest_ip': '2001:0500:0001:0000:0000:0000:803f:0235', 'dest_port': 53, 'proto': 'UDP', 'dns': {'type': 'query', 'id': 15529, 'rrname': 'api.wunderground.com', 'rrtype': 'A', 'tx_id': 0}}\n",
      "Last DNS record:  {'timestamp': '2017-07-22T17:33:24.990320-0500', 'flow_id': 2022925111925872, 'pcap_cnt': 54352, 'event_type': 'dns', 'vlan': 110, 'src_ip': '2001:0dbb:0c18:0011:0260:6eff:fe30:0863', 'src_port': 38051, 'dest_ip': '2001:0500:0003:0000:0000:0000:0000:0042', 'dest_port': 53, 'proto': 'UDP', 'dns': {'type': 'query', 'id': 58278, 'rrname': 'stork79.dropbox.com', 'rrtype': 'A', 'tx_id': 0}}\n"
     ]
    }
   ],
   "source": [
    "print(\"First DNS record: \", dnsRecords[0])\n",
    "print(\"Last DNS record: \", dnsRecords[1])"
   ]
  },
  {
   "cell_type": "markdown",
   "metadata": {},
   "source": [
    "## 5. Debido a que la data consiste en estructuras JSON anidadas, utilice la característica json_normalize para normalizar la información y asignarla en un dataframe. Muestre el shape del dataframe, debería obtener (21484, 163)"
   ]
  },
  {
   "cell_type": "code",
   "execution_count": 234,
   "metadata": {},
   "outputs": [
    {
     "data": {
      "text/plain": [
       "(15749, 18)"
      ]
     },
     "execution_count": 234,
     "metadata": {},
     "output_type": "execute_result"
    }
   ],
   "source": [
    "dataframe = pd.json_normalize(dnsRecords)\n",
    "dataframe.shape"
   ]
  },
  {
   "cell_type": "code",
   "execution_count": 235,
   "metadata": {},
   "outputs": [
    {
     "data": {
      "application/vnd.microsoft.datawrangler.viewer.v0+json": {
       "columns": [
        {
         "name": "index",
         "rawType": "int64",
         "type": "integer"
        },
        {
         "name": "timestamp",
         "rawType": "object",
         "type": "string"
        },
        {
         "name": "flow_id",
         "rawType": "int64",
         "type": "integer"
        },
        {
         "name": "pcap_cnt",
         "rawType": "int64",
         "type": "integer"
        },
        {
         "name": "event_type",
         "rawType": "object",
         "type": "string"
        },
        {
         "name": "vlan",
         "rawType": "int64",
         "type": "integer"
        },
        {
         "name": "src_ip",
         "rawType": "object",
         "type": "string"
        },
        {
         "name": "src_port",
         "rawType": "int64",
         "type": "integer"
        },
        {
         "name": "dest_ip",
         "rawType": "object",
         "type": "string"
        },
        {
         "name": "dest_port",
         "rawType": "int64",
         "type": "integer"
        },
        {
         "name": "proto",
         "rawType": "object",
         "type": "string"
        },
        {
         "name": "dns.type",
         "rawType": "object",
         "type": "string"
        },
        {
         "name": "dns.id",
         "rawType": "int64",
         "type": "integer"
        },
        {
         "name": "dns.rrname",
         "rawType": "object",
         "type": "string"
        },
        {
         "name": "dns.rrtype",
         "rawType": "object",
         "type": "string"
        },
        {
         "name": "dns.tx_id",
         "rawType": "float64",
         "type": "float"
        },
        {
         "name": "dns.rcode",
         "rawType": "object",
         "type": "unknown"
        },
        {
         "name": "dns.ttl",
         "rawType": "float64",
         "type": "float"
        },
        {
         "name": "dns.rdata",
         "rawType": "object",
         "type": "unknown"
        }
       ],
       "conversionMethod": "pd.DataFrame",
       "ref": "2bc86120-e462-49d0-9fc7-2fdaec3802b7",
       "rows": [
        [
         "0",
         "2017-07-22T17:33:16.661646-0500",
         "1327836194150542",
         "22269",
         "dns",
         "110",
         "2001:0dbb:0c18:0011:0260:6eff:fe30:0863",
         "59680",
         "2001:0500:0001:0000:0000:0000:803f:0235",
         "53",
         "UDP",
         "query",
         "15529",
         "api.wunderground.com",
         "A",
         "0.0",
         null,
         null,
         null
        ]
       ],
       "shape": {
        "columns": 18,
        "rows": 1
       }
      },
      "text/html": [
       "<div>\n",
       "<style scoped>\n",
       "    .dataframe tbody tr th:only-of-type {\n",
       "        vertical-align: middle;\n",
       "    }\n",
       "\n",
       "    .dataframe tbody tr th {\n",
       "        vertical-align: top;\n",
       "    }\n",
       "\n",
       "    .dataframe thead th {\n",
       "        text-align: right;\n",
       "    }\n",
       "</style>\n",
       "<table border=\"1\" class=\"dataframe\">\n",
       "  <thead>\n",
       "    <tr style=\"text-align: right;\">\n",
       "      <th></th>\n",
       "      <th>timestamp</th>\n",
       "      <th>flow_id</th>\n",
       "      <th>pcap_cnt</th>\n",
       "      <th>event_type</th>\n",
       "      <th>vlan</th>\n",
       "      <th>src_ip</th>\n",
       "      <th>src_port</th>\n",
       "      <th>dest_ip</th>\n",
       "      <th>dest_port</th>\n",
       "      <th>proto</th>\n",
       "      <th>dns.type</th>\n",
       "      <th>dns.id</th>\n",
       "      <th>dns.rrname</th>\n",
       "      <th>dns.rrtype</th>\n",
       "      <th>dns.tx_id</th>\n",
       "      <th>dns.rcode</th>\n",
       "      <th>dns.ttl</th>\n",
       "      <th>dns.rdata</th>\n",
       "    </tr>\n",
       "  </thead>\n",
       "  <tbody>\n",
       "    <tr>\n",
       "      <th>0</th>\n",
       "      <td>2017-07-22T17:33:16.661646-0500</td>\n",
       "      <td>1327836194150542</td>\n",
       "      <td>22269</td>\n",
       "      <td>dns</td>\n",
       "      <td>110</td>\n",
       "      <td>2001:0dbb:0c18:0011:0260:6eff:fe30:0863</td>\n",
       "      <td>59680</td>\n",
       "      <td>2001:0500:0001:0000:0000:0000:803f:0235</td>\n",
       "      <td>53</td>\n",
       "      <td>UDP</td>\n",
       "      <td>query</td>\n",
       "      <td>15529</td>\n",
       "      <td>api.wunderground.com</td>\n",
       "      <td>A</td>\n",
       "      <td>0.0</td>\n",
       "      <td>NaN</td>\n",
       "      <td>NaN</td>\n",
       "      <td>NaN</td>\n",
       "    </tr>\n",
       "  </tbody>\n",
       "</table>\n",
       "</div>"
      ],
      "text/plain": [
       "                         timestamp           flow_id  pcap_cnt event_type  \\\n",
       "0  2017-07-22T17:33:16.661646-0500  1327836194150542     22269        dns   \n",
       "\n",
       "   vlan                                   src_ip  src_port  \\\n",
       "0   110  2001:0dbb:0c18:0011:0260:6eff:fe30:0863     59680   \n",
       "\n",
       "                                   dest_ip  dest_port proto dns.type  dns.id  \\\n",
       "0  2001:0500:0001:0000:0000:0000:803f:0235         53   UDP    query   15529   \n",
       "\n",
       "             dns.rrname dns.rrtype  dns.tx_id dns.rcode  dns.ttl dns.rdata  \n",
       "0  api.wunderground.com          A        0.0       NaN      NaN       NaN  "
      ]
     },
     "execution_count": 235,
     "metadata": {},
     "output_type": "execute_result"
    }
   ],
   "source": [
    "dataframe.head(1)"
   ]
  },
  {
   "cell_type": "markdown",
   "metadata": {},
   "source": [
    "## 6. Como estamos buscando dominios DGA, debemos filtrar los registros DNS para aquellos registros tipo A (son aquellos que mantienen una dirección IP asociada a un dominio). Después de filtrar debería obtener 2849 registros"
   ]
  },
  {
   "cell_type": "code",
   "execution_count": 236,
   "metadata": {},
   "outputs": [
    {
     "data": {
      "text/plain": [
       "(2849, 18)"
      ]
     },
     "execution_count": 236,
     "metadata": {},
     "output_type": "execute_result"
    }
   ],
   "source": [
    "dataframe = dataframe[dataframe[\"dns.rrtype\"] == \"A\"]\n",
    "dataframe.shape"
   ]
  },
  {
   "cell_type": "markdown",
   "metadata": {},
   "source": [
    "## 7. Filtre los dominios únicos. Debe obtener 177 registros únicos"
   ]
  },
  {
   "cell_type": "code",
   "execution_count": 237,
   "metadata": {},
   "outputs": [],
   "source": [
    "dataframe.drop_duplicates(subset=[\"dns.rrname\"], inplace=True)"
   ]
  },
  {
   "cell_type": "code",
   "execution_count": 238,
   "metadata": {},
   "outputs": [
    {
     "data": {
      "text/plain": [
       "(177, 18)"
      ]
     },
     "execution_count": 238,
     "metadata": {},
     "output_type": "execute_result"
    }
   ],
   "source": [
    "dataframe.shape"
   ]
  },
  {
   "cell_type": "markdown",
   "metadata": {},
   "source": [
    "## 8. Escriba una función que obtenga el TLD para un dominio. Por ejemplo, para api.wunderground.com el TLD es wunderground.com, para safebrowsing.clients.google.com.home, el TLD es home. Utilice un LLM para ayudarle a escribir esta función, verifique que obtiene correctamente el TLD, incluya el prompt utilizado en su notebook."
   ]
  },
  {
   "cell_type": "markdown",
   "metadata": {},
   "source": [
    "Prompt:\n",
    "<pre>\n",
    "hola. tengo un dataframe el cual tiene la siguiente estructura:\n",
    "<class 'pandas.core.frame.DataFrame'>\n",
    "Index: 177 entries, 0 to 15737\n",
    "Data columns (total 18 columns):\n",
    " #   Column      Non-Null Count  Dtype  \n",
    "---  ------      --------------  -----  \n",
    " 0   timestamp   177 non-null    object \n",
    " 1   flow_id     177 non-null    int64  \n",
    " 2   pcap_cnt    177 non-null    int64  \n",
    " 3   event_type  177 non-null    object \n",
    " 4   vlan        177 non-null    int64  \n",
    " 5   src_ip      177 non-null    object \n",
    " 6   src_port    177 non-null    int64  \n",
    " 7   dest_ip     177 non-null    object \n",
    " 8   dest_port   177 non-null    int64  \n",
    " 9   proto       177 non-null    object \n",
    " 10  dns.type    177 non-null    object \n",
    " 11  dns.id      177 non-null    int64  \n",
    " 12  dns.rrname  177 non-null    object \n",
    " 13  dns.rrtype  177 non-null    object \n",
    " 14  dns.tx_id   177 non-null    float64\n",
    " 15  dns.rcode   0 non-null      object \n",
    " 16  dns.ttl     0 non-null      float64\n",
    " 17  dns.rdata   0 non-null      object \n",
    "dtypes: float64(2), int64(6), object(10)\n",
    "memory usage: 26.3+ KB\n",
    "\n",
    "\n",
    "donde la columna \"dns.rrname\" contiene el dominio. \n",
    "aqui te dejo unos posibles valores de la columna en cuestión:\n",
    "0                              api.wunderground.com\n",
    "1                               stork79.dropbox.com\n",
    "2        hpca-tier2.office.aol.com.ad.aol.aoltw.net\n",
    "6              safebrowsing.clients.google.com.home\n",
    "9                               fxfeeds.mozilla.com\n",
    "                            ...                    \n",
    "15632                    ntp.ubuntu.com.localdomain\n",
    "15661              redir.metaservices.microsoft.com\n",
    "15701                             ocsp.verisign.com\n",
    "15716                192.168.22.201:.stayonline.net\n",
    "15737                      client-software.real.com\n",
    "Name: dns.rrname, Length: 177, dtype: object\n",
    "\n",
    "\n",
    "necesito que me ayudes a crear una función en python capaz de obtener el TLD para un cierto dominio. \n",
    "Por ejemplo, para api.wunderground.com el TLD es wunderground.com, para <br>safebrowsing.clients.google.com.home, el TLD es home\n",
    "</pre>"
   ]
  },
  {
   "cell_type": "markdown",
   "metadata": {},
   "source": [
    "Respuesta del LLM:"
   ]
  },
  {
   "cell_type": "markdown",
   "metadata": {},
   "source": [
    "Para crear una función en Python que obtenga el TLD (Top-Level Domain) de un dominio, podemos utilizar la biblioteca `tldextract`, que es muy útil para extraer los componentes de un dominio. A continuación, te muestro cómo puedes hacerlo:\n",
    "\n",
    "1. Primero, instala la biblioteca `tldextract` si no la tienes instalada:\n",
    "    ```sh\n",
    "    pip install tldextract\n",
    "    ```\n",
    "\n",
    "2. Luego, puedes definir una función que utilice `tldextract` para obtener el TLD de un dominio. Aquí tienes un ejemplo de cómo hacerlo:\n",
    "\n"
   ]
  },
  {
   "cell_type": "code",
   "execution_count": 239,
   "metadata": {},
   "outputs": [
    {
     "name": "stdout",
     "output_type": "stream",
     "text": [
      "Dominio: api.wunderground.com, TLD: wunderground.com\n",
      "Dominio: stork79.dropbox.com, TLD: dropbox.com\n",
      "Dominio: hpca-tier2.office.aol.com.ad.aol.aoltw.net, TLD: aoltw.net\n",
      "Dominio: safebrowsing.clients.google.com.home, TLD: home\n",
      "Dominio: fxfeeds.mozilla.com, TLD: mozilla.com\n"
     ]
    }
   ],
   "source": [
    "import tldextract\n",
    "\n",
    "def obtener_tld(dominio):\n",
    "    ext = tldextract.extract(dominio)\n",
    "    if ext.suffix:\n",
    "        return f\"{ext.domain}.{ext.suffix}\"\n",
    "    else:\n",
    "        return ext.domain\n",
    "\n",
    "# Ejemplos de uso\n",
    "dominios = [\n",
    "    \"api.wunderground.com\",\n",
    "    \"stork79.dropbox.com\",\n",
    "    \"hpca-tier2.office.aol.com.ad.aol.aoltw.net\",\n",
    "    \"safebrowsing.clients.google.com.home\",\n",
    "    \"fxfeeds.mozilla.com\"\n",
    "]\n",
    "\n",
    "for dominio in dominios:\n",
    "    print(f\"Dominio: {dominio}, TLD: {obtener_tld(dominio)}\")"
   ]
  },
  {
   "cell_type": "markdown",
   "metadata": {},
   "source": [
    "\n",
    "\n",
    "Este código definirá una función `obtener_tld` que toma un dominio como entrada y devuelve el TLD correspondiente. Luego, se muestran algunos ejemplos de uso de la función.\n",
    "\n",
    "Puedes incluir este código en tu notebook y verificar que obtienes correctamente el TLD para los dominios proporcionados."
   ]
  },
  {
   "cell_type": "markdown",
   "metadata": {},
   "source": [
    "## 9. Del dataframe de dominios únicos de tipo A, obtenga el TLD (top level domain) utilizando la función anterior para crear una columna nueva llamada domain_tld, y elimine todas las demás columnas."
   ]
  },
  {
   "cell_type": "code",
   "execution_count": 240,
   "metadata": {},
   "outputs": [],
   "source": [
    "dataframe[\"domain_tld\"] = dataframe[\"dns.rrname\"].apply(obtener_tld)"
   ]
  },
  {
   "cell_type": "code",
   "execution_count": 241,
   "metadata": {},
   "outputs": [
    {
     "data": {
      "application/vnd.microsoft.datawrangler.viewer.v0+json": {
       "columns": [
        {
         "name": "index",
         "rawType": "int64",
         "type": "integer"
        },
        {
         "name": "timestamp",
         "rawType": "object",
         "type": "string"
        },
        {
         "name": "flow_id",
         "rawType": "int64",
         "type": "integer"
        },
        {
         "name": "pcap_cnt",
         "rawType": "int64",
         "type": "integer"
        },
        {
         "name": "event_type",
         "rawType": "object",
         "type": "string"
        },
        {
         "name": "vlan",
         "rawType": "int64",
         "type": "integer"
        },
        {
         "name": "src_ip",
         "rawType": "object",
         "type": "string"
        },
        {
         "name": "src_port",
         "rawType": "int64",
         "type": "integer"
        },
        {
         "name": "dest_ip",
         "rawType": "object",
         "type": "string"
        },
        {
         "name": "dest_port",
         "rawType": "int64",
         "type": "integer"
        },
        {
         "name": "proto",
         "rawType": "object",
         "type": "string"
        },
        {
         "name": "dns.type",
         "rawType": "object",
         "type": "string"
        },
        {
         "name": "dns.id",
         "rawType": "int64",
         "type": "integer"
        },
        {
         "name": "dns.rrname",
         "rawType": "object",
         "type": "string"
        },
        {
         "name": "dns.rrtype",
         "rawType": "object",
         "type": "string"
        },
        {
         "name": "dns.tx_id",
         "rawType": "float64",
         "type": "float"
        },
        {
         "name": "dns.rcode",
         "rawType": "object",
         "type": "unknown"
        },
        {
         "name": "dns.ttl",
         "rawType": "float64",
         "type": "float"
        },
        {
         "name": "dns.rdata",
         "rawType": "object",
         "type": "unknown"
        },
        {
         "name": "domain_tld",
         "rawType": "object",
         "type": "string"
        }
       ],
       "conversionMethod": "pd.DataFrame",
       "ref": "dd8ed329-1c2f-4700-bf8f-c2cc4e715afb",
       "rows": [
        [
         "0",
         "2017-07-22T17:33:16.661646-0500",
         "1327836194150542",
         "22269",
         "dns",
         "110",
         "2001:0dbb:0c18:0011:0260:6eff:fe30:0863",
         "59680",
         "2001:0500:0001:0000:0000:0000:803f:0235",
         "53",
         "UDP",
         "query",
         "15529",
         "api.wunderground.com",
         "A",
         "0.0",
         null,
         null,
         null,
         "wunderground.com"
        ]
       ],
       "shape": {
        "columns": 19,
        "rows": 1
       }
      },
      "text/html": [
       "<div>\n",
       "<style scoped>\n",
       "    .dataframe tbody tr th:only-of-type {\n",
       "        vertical-align: middle;\n",
       "    }\n",
       "\n",
       "    .dataframe tbody tr th {\n",
       "        vertical-align: top;\n",
       "    }\n",
       "\n",
       "    .dataframe thead th {\n",
       "        text-align: right;\n",
       "    }\n",
       "</style>\n",
       "<table border=\"1\" class=\"dataframe\">\n",
       "  <thead>\n",
       "    <tr style=\"text-align: right;\">\n",
       "      <th></th>\n",
       "      <th>timestamp</th>\n",
       "      <th>flow_id</th>\n",
       "      <th>pcap_cnt</th>\n",
       "      <th>event_type</th>\n",
       "      <th>vlan</th>\n",
       "      <th>src_ip</th>\n",
       "      <th>src_port</th>\n",
       "      <th>dest_ip</th>\n",
       "      <th>dest_port</th>\n",
       "      <th>proto</th>\n",
       "      <th>dns.type</th>\n",
       "      <th>dns.id</th>\n",
       "      <th>dns.rrname</th>\n",
       "      <th>dns.rrtype</th>\n",
       "      <th>dns.tx_id</th>\n",
       "      <th>dns.rcode</th>\n",
       "      <th>dns.ttl</th>\n",
       "      <th>dns.rdata</th>\n",
       "      <th>domain_tld</th>\n",
       "    </tr>\n",
       "  </thead>\n",
       "  <tbody>\n",
       "    <tr>\n",
       "      <th>0</th>\n",
       "      <td>2017-07-22T17:33:16.661646-0500</td>\n",
       "      <td>1327836194150542</td>\n",
       "      <td>22269</td>\n",
       "      <td>dns</td>\n",
       "      <td>110</td>\n",
       "      <td>2001:0dbb:0c18:0011:0260:6eff:fe30:0863</td>\n",
       "      <td>59680</td>\n",
       "      <td>2001:0500:0001:0000:0000:0000:803f:0235</td>\n",
       "      <td>53</td>\n",
       "      <td>UDP</td>\n",
       "      <td>query</td>\n",
       "      <td>15529</td>\n",
       "      <td>api.wunderground.com</td>\n",
       "      <td>A</td>\n",
       "      <td>0.0</td>\n",
       "      <td>NaN</td>\n",
       "      <td>NaN</td>\n",
       "      <td>NaN</td>\n",
       "      <td>wunderground.com</td>\n",
       "    </tr>\n",
       "  </tbody>\n",
       "</table>\n",
       "</div>"
      ],
      "text/plain": [
       "                         timestamp           flow_id  pcap_cnt event_type  \\\n",
       "0  2017-07-22T17:33:16.661646-0500  1327836194150542     22269        dns   \n",
       "\n",
       "   vlan                                   src_ip  src_port  \\\n",
       "0   110  2001:0dbb:0c18:0011:0260:6eff:fe30:0863     59680   \n",
       "\n",
       "                                   dest_ip  dest_port proto dns.type  dns.id  \\\n",
       "0  2001:0500:0001:0000:0000:0000:803f:0235         53   UDP    query   15529   \n",
       "\n",
       "             dns.rrname dns.rrtype  dns.tx_id dns.rcode  dns.ttl dns.rdata  \\\n",
       "0  api.wunderground.com          A        0.0       NaN      NaN       NaN   \n",
       "\n",
       "         domain_tld  \n",
       "0  wunderground.com  "
      ]
     },
     "execution_count": 241,
     "metadata": {},
     "output_type": "execute_result"
    }
   ],
   "source": [
    "dataframe.head(1)"
   ]
  },
  {
   "cell_type": "code",
   "execution_count": 242,
   "metadata": {},
   "outputs": [],
   "source": [
    "dataframe = dataframe[\"domain_tld\"].reset_index(inplace=False).drop(columns=[\"index\"])"
   ]
  },
  {
   "cell_type": "code",
   "execution_count": null,
   "metadata": {},
   "outputs": [],
   "source": [
    "dataframe.dropna(subset=[\"domain_tld\"], inplace=True)"
   ]
  },
  {
   "cell_type": "code",
   "execution_count": 243,
   "metadata": {},
   "outputs": [
    {
     "data": {
      "application/vnd.microsoft.datawrangler.viewer.v0+json": {
       "columns": [
        {
         "name": "index",
         "rawType": "int64",
         "type": "integer"
        },
        {
         "name": "domain_tld",
         "rawType": "object",
         "type": "string"
        }
       ],
       "conversionMethod": "pd.DataFrame",
       "ref": "3d3c61d0-95bf-4d98-b360-ed1ff56cf99e",
       "rows": [
        [
         "0",
         "wunderground.com"
        ],
        [
         "1",
         "dropbox.com"
        ],
        [
         "2",
         "aoltw.net"
        ],
        [
         "3",
         "home"
        ],
        [
         "4",
         "mozilla.com"
        ],
        [
         "5",
         "metasploit.com"
        ],
        [
         "6",
         "aol.com"
        ],
        [
         "7",
         "aoltw.net"
        ],
        [
         "8",
         "aol.com"
        ],
        [
         "9",
         "aol.com"
        ],
        [
         "10",
         "aoltw.net"
        ],
        [
         "11",
         "aol.com"
        ],
        [
         "12",
         "google.com"
        ],
        [
         "13",
         "home"
        ],
        [
         "14",
         "stayonline.net"
        ],
        [
         "15",
         "aoltw.net"
        ],
        [
         "16",
         "aol.com"
        ],
        [
         "17",
         "aol.com"
        ],
        [
         "18",
         "110phpmyadmin"
        ],
        [
         "19",
         "informaction.com"
        ]
       ],
       "shape": {
        "columns": 1,
        "rows": 20
       }
      },
      "text/html": [
       "<div>\n",
       "<style scoped>\n",
       "    .dataframe tbody tr th:only-of-type {\n",
       "        vertical-align: middle;\n",
       "    }\n",
       "\n",
       "    .dataframe tbody tr th {\n",
       "        vertical-align: top;\n",
       "    }\n",
       "\n",
       "    .dataframe thead th {\n",
       "        text-align: right;\n",
       "    }\n",
       "</style>\n",
       "<table border=\"1\" class=\"dataframe\">\n",
       "  <thead>\n",
       "    <tr style=\"text-align: right;\">\n",
       "      <th></th>\n",
       "      <th>domain_tld</th>\n",
       "    </tr>\n",
       "  </thead>\n",
       "  <tbody>\n",
       "    <tr>\n",
       "      <th>0</th>\n",
       "      <td>wunderground.com</td>\n",
       "    </tr>\n",
       "    <tr>\n",
       "      <th>1</th>\n",
       "      <td>dropbox.com</td>\n",
       "    </tr>\n",
       "    <tr>\n",
       "      <th>2</th>\n",
       "      <td>aoltw.net</td>\n",
       "    </tr>\n",
       "    <tr>\n",
       "      <th>3</th>\n",
       "      <td>home</td>\n",
       "    </tr>\n",
       "    <tr>\n",
       "      <th>4</th>\n",
       "      <td>mozilla.com</td>\n",
       "    </tr>\n",
       "    <tr>\n",
       "      <th>5</th>\n",
       "      <td>metasploit.com</td>\n",
       "    </tr>\n",
       "    <tr>\n",
       "      <th>6</th>\n",
       "      <td>aol.com</td>\n",
       "    </tr>\n",
       "    <tr>\n",
       "      <th>7</th>\n",
       "      <td>aoltw.net</td>\n",
       "    </tr>\n",
       "    <tr>\n",
       "      <th>8</th>\n",
       "      <td>aol.com</td>\n",
       "    </tr>\n",
       "    <tr>\n",
       "      <th>9</th>\n",
       "      <td>aol.com</td>\n",
       "    </tr>\n",
       "    <tr>\n",
       "      <th>10</th>\n",
       "      <td>aoltw.net</td>\n",
       "    </tr>\n",
       "    <tr>\n",
       "      <th>11</th>\n",
       "      <td>aol.com</td>\n",
       "    </tr>\n",
       "    <tr>\n",
       "      <th>12</th>\n",
       "      <td>google.com</td>\n",
       "    </tr>\n",
       "    <tr>\n",
       "      <th>13</th>\n",
       "      <td>home</td>\n",
       "    </tr>\n",
       "    <tr>\n",
       "      <th>14</th>\n",
       "      <td>stayonline.net</td>\n",
       "    </tr>\n",
       "    <tr>\n",
       "      <th>15</th>\n",
       "      <td>aoltw.net</td>\n",
       "    </tr>\n",
       "    <tr>\n",
       "      <th>16</th>\n",
       "      <td>aol.com</td>\n",
       "    </tr>\n",
       "    <tr>\n",
       "      <th>17</th>\n",
       "      <td>aol.com</td>\n",
       "    </tr>\n",
       "    <tr>\n",
       "      <th>18</th>\n",
       "      <td>110phpmyadmin</td>\n",
       "    </tr>\n",
       "    <tr>\n",
       "      <th>19</th>\n",
       "      <td>informaction.com</td>\n",
       "    </tr>\n",
       "  </tbody>\n",
       "</table>\n",
       "</div>"
      ],
      "text/plain": [
       "          domain_tld\n",
       "0   wunderground.com\n",
       "1        dropbox.com\n",
       "2          aoltw.net\n",
       "3               home\n",
       "4        mozilla.com\n",
       "5     metasploit.com\n",
       "6            aol.com\n",
       "7          aoltw.net\n",
       "8            aol.com\n",
       "9            aol.com\n",
       "10         aoltw.net\n",
       "11           aol.com\n",
       "12        google.com\n",
       "13              home\n",
       "14    stayonline.net\n",
       "15         aoltw.net\n",
       "16           aol.com\n",
       "17           aol.com\n",
       "18     110phpmyadmin\n",
       "19  informaction.com"
      ]
     },
     "execution_count": 243,
     "metadata": {},
     "output_type": "execute_result"
    }
   ],
   "source": [
    "dataframe.head(20)"
   ]
  },
  {
   "cell_type": "markdown",
   "metadata": {},
   "source": [
    "# Parte 2 – Data Science"
   ]
  },
  {
   "cell_type": "code",
   "execution_count": 247,
   "metadata": {},
   "outputs": [],
   "source": [
    "geminiDataframe = dataframe.copy()"
   ]
  },
  {
   "cell_type": "markdown",
   "metadata": {},
   "source": [
    "## 10. Utilice Gemini para clasificar los dominios como DGA (1) o legítimos (0)"
   ]
  },
  {
   "cell_type": "code",
   "execution_count": 250,
   "metadata": {},
   "outputs": [
    {
     "data": {
      "application/vnd.microsoft.datawrangler.viewer.v0+json": {
       "columns": [
        {
         "name": "index",
         "rawType": "int64",
         "type": "integer"
        },
        {
         "name": "domain_tld",
         "rawType": "object",
         "type": "string"
        }
       ],
       "conversionMethod": "pd.DataFrame",
       "ref": "a7f3bba7-83fc-45ad-92da-040b143fb44e",
       "rows": [
        [
         "0",
         "wunderground.com"
        ],
        [
         "1",
         "dropbox.com"
        ],
        [
         "2",
         "aoltw.net"
        ],
        [
         "3",
         "home"
        ],
        [
         "4",
         "mozilla.com"
        ]
       ],
       "shape": {
        "columns": 1,
        "rows": 5
       }
      },
      "text/html": [
       "<div>\n",
       "<style scoped>\n",
       "    .dataframe tbody tr th:only-of-type {\n",
       "        vertical-align: middle;\n",
       "    }\n",
       "\n",
       "    .dataframe tbody tr th {\n",
       "        vertical-align: top;\n",
       "    }\n",
       "\n",
       "    .dataframe thead th {\n",
       "        text-align: right;\n",
       "    }\n",
       "</style>\n",
       "<table border=\"1\" class=\"dataframe\">\n",
       "  <thead>\n",
       "    <tr style=\"text-align: right;\">\n",
       "      <th></th>\n",
       "      <th>domain_tld</th>\n",
       "    </tr>\n",
       "  </thead>\n",
       "  <tbody>\n",
       "    <tr>\n",
       "      <th>0</th>\n",
       "      <td>wunderground.com</td>\n",
       "    </tr>\n",
       "    <tr>\n",
       "      <th>1</th>\n",
       "      <td>dropbox.com</td>\n",
       "    </tr>\n",
       "    <tr>\n",
       "      <th>2</th>\n",
       "      <td>aoltw.net</td>\n",
       "    </tr>\n",
       "    <tr>\n",
       "      <th>3</th>\n",
       "      <td>home</td>\n",
       "    </tr>\n",
       "    <tr>\n",
       "      <th>4</th>\n",
       "      <td>mozilla.com</td>\n",
       "    </tr>\n",
       "  </tbody>\n",
       "</table>\n",
       "</div>"
      ],
      "text/plain": [
       "         domain_tld\n",
       "0  wunderground.com\n",
       "1       dropbox.com\n",
       "2         aoltw.net\n",
       "3              home\n",
       "4       mozilla.com"
      ]
     },
     "execution_count": 250,
     "metadata": {},
     "output_type": "execute_result"
    }
   ],
   "source": [
    "geminiDataframe.head()"
   ]
  },
  {
   "cell_type": "code",
   "execution_count": null,
   "metadata": {},
   "outputs": [],
   "source": [
    "import google.generativeai as genai\n",
    "from google.api_core import retry\n",
    "import enum\n",
    "\n",
    "class DomainType(enum.Enum):\n",
    "    MALICIOUS = \"malicious\"\n",
    "    BENIGN = \"benign\"\n",
    "\n",
    "genai.configure(api_key=\"aqui-iría-la-llave.SI-TUVIERA-UNA\")\n",
    "retry_policy = {\n",
    "    \"retry\": retry.Retry(predicate=retry.if_transient_error, initial=10, multiplier=1.5, timeout=300)\n",
    "}\n",
    "model = genai.GenerativeModel('gemini-1.5-flash-001',\n",
    "                                generation_config=genai.GenerationConfig(\n",
    "                                    response_mime_type=\"text/x.enum\",\n",
    "                                    response_schema=DomainType\n",
    "                                ))\n",
    "\n",
    "prompt = \"\"\"Clasifica el dominio como MALICIOUS o BENIGN.\n",
    "Dominio: {domain}\"\"\""
   ]
  },
  {
   "cell_type": "code",
   "execution_count": 279,
   "metadata": {},
   "outputs": [],
   "source": [
    "# Voy a guardar el geminiDataframe en un archivo CSV para futuras ejecuciones ya que seguro me voy a acabar mi cuota de consumo y necesitaré hacerlo varios días. Pero antes voy a agregar una columna primero con valor None y así solamente envíar a Gemini los dominios que no han sido procesados\n",
    "geminiDataframe[\"dga\"] = None\n",
    "geminiDataframe.to_csv(\"geminiDataframe.csv\", index=False)"
   ]
  },
  {
   "cell_type": "code",
   "execution_count": 346,
   "metadata": {},
   "outputs": [],
   "source": [
    "geminiDataframe = pd.read_csv(\"geminiDataframe.csv\")\n",
    "geminiDataframe[\"dga\"] = geminiDataframe[\"dga\"].astype(\"Int64\")\n",
    "geminiDataframe.replace({pd.NA: None}, inplace=True)"
   ]
  },
  {
   "cell_type": "code",
   "execution_count": 347,
   "metadata": {},
   "outputs": [
    {
     "data": {
      "application/vnd.microsoft.datawrangler.viewer.v0+json": {
       "columns": [
        {
         "name": "index",
         "rawType": "int64",
         "type": "integer"
        },
        {
         "name": "domain_tld",
         "rawType": "object",
         "type": "string"
        },
        {
         "name": "dga",
         "rawType": "object",
         "type": "unknown"
        }
       ],
       "conversionMethod": "pd.DataFrame",
       "ref": "319cbf4d-7e73-4c6a-bf6b-b2c2bc2cba82",
       "rows": [
        [
         "0",
         "wunderground.com",
         "0"
        ],
        [
         "1",
         "dropbox.com",
         "0"
        ],
        [
         "2",
         "aoltw.net",
         "1"
        ],
        [
         "3",
         "home",
         "0"
        ],
        [
         "4",
         "mozilla.com",
         "0"
        ]
       ],
       "shape": {
        "columns": 2,
        "rows": 5
       }
      },
      "text/html": [
       "<div>\n",
       "<style scoped>\n",
       "    .dataframe tbody tr th:only-of-type {\n",
       "        vertical-align: middle;\n",
       "    }\n",
       "\n",
       "    .dataframe tbody tr th {\n",
       "        vertical-align: top;\n",
       "    }\n",
       "\n",
       "    .dataframe thead th {\n",
       "        text-align: right;\n",
       "    }\n",
       "</style>\n",
       "<table border=\"1\" class=\"dataframe\">\n",
       "  <thead>\n",
       "    <tr style=\"text-align: right;\">\n",
       "      <th></th>\n",
       "      <th>domain_tld</th>\n",
       "      <th>dga</th>\n",
       "    </tr>\n",
       "  </thead>\n",
       "  <tbody>\n",
       "    <tr>\n",
       "      <th>0</th>\n",
       "      <td>wunderground.com</td>\n",
       "      <td>0</td>\n",
       "    </tr>\n",
       "    <tr>\n",
       "      <th>1</th>\n",
       "      <td>dropbox.com</td>\n",
       "      <td>0</td>\n",
       "    </tr>\n",
       "    <tr>\n",
       "      <th>2</th>\n",
       "      <td>aoltw.net</td>\n",
       "      <td>1</td>\n",
       "    </tr>\n",
       "    <tr>\n",
       "      <th>3</th>\n",
       "      <td>home</td>\n",
       "      <td>0</td>\n",
       "    </tr>\n",
       "    <tr>\n",
       "      <th>4</th>\n",
       "      <td>mozilla.com</td>\n",
       "      <td>0</td>\n",
       "    </tr>\n",
       "  </tbody>\n",
       "</table>\n",
       "</div>"
      ],
      "text/plain": [
       "         domain_tld dga\n",
       "0  wunderground.com   0\n",
       "1       dropbox.com   0\n",
       "2         aoltw.net   1\n",
       "3              home   0\n",
       "4       mozilla.com   0"
      ]
     },
     "execution_count": 347,
     "metadata": {},
     "output_type": "execute_result"
    }
   ],
   "source": [
    "geminiDataframe.head()"
   ]
  },
  {
   "cell_type": "code",
   "execution_count": 353,
   "metadata": {},
   "outputs": [
    {
     "name": "stdout",
     "output_type": "stream",
     "text": [
      "Haciendo el batch de 0 a 10\n",
      "Los dominios ya han sido procesados\n",
      "Haciendo el batch de 10 a 20\n",
      "Los dominios ya han sido procesados\n",
      "Haciendo el batch de 20 a 30\n",
      "Los dominios ya han sido procesados\n",
      "Haciendo el batch de 30 a 40\n",
      "Dominio: freepbx.org, Tipo: 0\n",
      "Dominio: bigflickrfeed.com, Tipo: 1\n",
      "Dominio: gnu.org, Tipo: 0\n",
      "Dominio: wpad, Tipo: 1\n",
      "Dominio: lan, Tipo: 0\n",
      "Dominio: 56\", Tipo: 0\n",
      "Dominio: acunetix.com, Tipo: 0\n",
      "Dominio: windowsupdate.com, Tipo: 0\n",
      "Dominio: flickr.com, Tipo: 0\n",
      "Dominio: malwarecity.com, Tipo: 1\n",
      "Haciendo el batch de 40 a 50\n",
      "Dominio: facebook.com, Tipo: 0\n",
      "Dominio: securityfocus.com, Tipo: 0\n",
      "Dominio: xmarks.com, Tipo: 0\n",
      "Dominio: 0, Tipo: 1\n",
      "Dominio: cakephp.org, Tipo: 0\n",
      "Dominio: hec.net, Tipo: 0\n",
      "Dominio: adams.net, Tipo: 0\n",
      "Dominio: uidaho.edu, Tipo: 0\n",
      "Dominio: pdx.edu, Tipo: 0\n",
      "Dominio: clarkson.edu, Tipo: 0\n",
      "Haciendo el batch de 50 a 60\n",
      "Dominio: rackspace.com, Tipo: 0\n",
      "Dominio: ecvps.com, Tipo: 1\n",
      "Dominio: wisc.edu, Tipo: 0\n",
      "Dominio: facebook.net, Tipo: 0\n",
      "Dominio: easynews.com, Tipo: 0\n",
      "Dominio: bluehost.com, Tipo: 0\n",
      "Dominio: netriplex.com, Tipo: 0\n",
      "Dominio: stanford.edu, Tipo: 0\n",
      "Dominio: tummy.com, Tipo: 0\n",
      "Dominio: fastserv.com, Tipo: 0\n",
      "Haciendo el batch de 60 a 70\n",
      "Dominio: kernel.org, Tipo: 0\n",
      "Dominio: hmc.edu, Tipo: 0\n",
      "Dominio: liquidweb.com, Tipo: 0\n",
      "Dominio: 5ninesolutions.com, Tipo: 0\n",
      "Dominio: interworx.info, Tipo: 0\n",
      "Dominio: wallawalla.edu, Tipo: 0\n",
      "Dominio: sanctuaryhost.com, Tipo: 0\n",
      "Dominio: team-cymru.org, Tipo: 0\n",
      "Dominio: umoss.org, Tipo: 1\n",
      "Dominio: gigenet.com, Tipo: 0\n",
      "Haciendo el batch de 70 a 80\n",
      "Dominio: xmission.com, Tipo: 0\n",
      "Dominio: upenn.edu, Tipo: 0\n",
      "Dominio: tds.net, Tipo: 0\n",
      "Dominio: nyi.net, Tipo: 0\n",
      "Dominio: atlantic.net, Tipo: 0\n",
      "Dominio: usf.edu, Tipo: 0\n",
      "Dominio: rocketinternet.net, Tipo: 0\n",
      "Dominio: rit.edu, Tipo: 0\n",
      "Dominio: FL, Tipo: 0\n",
      "Dominio: apple.com, Tipo: 0\n",
      "Haciendo el batch de 80 a 90\n",
      "Dominio: saruman, Tipo: 0\n",
      "Dominio: 1201, Tipo: 0\n",
      "Dominio: me.com, Tipo: 0\n",
      "Dominio: youtube.com, Tipo: 0\n",
      "Dominio: msftncsi.com, Tipo: 1\n",
      "Dominio: kodapp.com, Tipo: 0\n",
      "Dominio: threatspace.net, Tipo: 1\n",
      "Dominio: backblaze.com, Tipo: 0\n",
      "Dominio: social-engineer.org, Tipo: 1\n",
      "Dominio: arduino.cc, Tipo: 0\n",
      "Haciendo el batch de 90 a 100\n",
      "Dominio: mac.com, Tipo: 0\n",
      "Dominio: nvidia.com, Tipo: 0\n",
      "Dominio: mozilla.org, Tipo: 0\n",
      "Dominio: nagios.org, Tipo: 0\n",
      "Dominio: vtlfccmfxlkgifuf.com, Tipo: 1\n",
      "Dominio: macromates.com, Tipo: 0\n",
      "Dominio: 254, Tipo: 0\n",
      "Dominio: ejfodfmfxlkgifuf.xyz, Tipo: 1\n",
      "Dominio: 192.168.22.201, Tipo: 0\n",
      "Dominio: verisign.com, Tipo: 0\n",
      "Haciendo el batch de 100 a 110\n",
      "Dominio: real.com, Tipo: 0\n"
     ]
    }
   ],
   "source": [
    "BATCH_SIZE = 10\n",
    "for i in range(0, len(geminiDataframe), BATCH_SIZE):\n",
    "    print(f\"Haciendo el batch de {i} a {i+BATCH_SIZE}\")\n",
    "    batch = geminiDataframe[i:i+BATCH_SIZE]\n",
    "    toProcess = batch[batch[\"dga\"].isnull()]\n",
    "    if toProcess.empty:\n",
    "        print(\"Los dominios ya han sido procesados\")\n",
    "        continue\n",
    "    for index, row in toProcess.iterrows():\n",
    "        domain = row[\"domain_tld\"]\n",
    "        if row[\"dga\"] is pd.NA:\n",
    "            continue\n",
    "        try:\n",
    "            response = model.generate_content(prompt.format(domain=domain), request_options=retry_policy)\n",
    "            if response is not None and len(response.parts) != 0:\n",
    "                response = response.text\n",
    "            else:\n",
    "                response = \"malicious\"\n",
    "            response = 1 if response == \"malicious\" else 0\n",
    "            print(f\"Dominio: {domain}, Tipo: {response}\")\n",
    "            geminiDataframe.loc[index, \"dga\"] = response\n",
    "        except Exception as e:\n",
    "            print(f\"Error en dominio {domain}: {e}\")\n",
    "    if input(\"Continuar? \") != \"s\":\n",
    "        break"
   ]
  },
  {
   "cell_type": "code",
   "execution_count": 354,
   "metadata": {},
   "outputs": [
    {
     "data": {
      "application/vnd.microsoft.datawrangler.viewer.v0+json": {
       "columns": [
        {
         "name": "index",
         "rawType": "int64",
         "type": "integer"
        },
        {
         "name": "domain_tld",
         "rawType": "object",
         "type": "string"
        },
        {
         "name": "dga",
         "rawType": "object",
         "type": "unknown"
        }
       ],
       "conversionMethod": "pd.DataFrame",
       "ref": "777ff212-953f-4e5c-b769-0a742aed1fcb",
       "rows": [
        [
         "0",
         "wunderground.com",
         "0"
        ],
        [
         "1",
         "dropbox.com",
         "0"
        ],
        [
         "2",
         "aoltw.net",
         "1"
        ],
        [
         "3",
         "home",
         "0"
        ],
        [
         "4",
         "mozilla.com",
         "0"
        ],
        [
         "5",
         "metasploit.com",
         "1"
        ],
        [
         "6",
         "aol.com",
         "0"
        ],
        [
         "7",
         "google.com",
         "0"
        ],
        [
         "8",
         "stayonline.net",
         "0"
        ],
        [
         "9",
         "110phpmyadmin",
         "1"
        ],
        [
         "10",
         "informaction.com",
         "1"
        ],
        [
         "11",
         "localdomain",
         "0"
        ],
        [
         "12",
         "vmware.com",
         "0"
        ],
        [
         "13",
         "windows.com",
         "0"
        ],
        [
         "14",
         "ntkrnlpa.info",
         "1"
        ],
        [
         "15",
         "portswigger.net",
         "0"
        ],
        [
         "16",
         "offensive-security.com",
         "0"
        ],
        [
         "17",
         "stopbadware.org",
         "0"
        ],
        [
         "18",
         "arrancar.org",
         "0"
        ],
        [
         "19",
         "sql-ledger.org",
         "1"
        ],
        [
         "20",
         "backtrack-linux.org",
         "0"
        ],
        [
         "21",
         "theanime.cn",
         "1"
        ],
        [
         "22",
         "vpn",
         "0"
        ],
        [
         "23",
         "phpmyadmin.net",
         "1"
        ],
        [
         "24",
         "microsoft.com",
         "0"
        ],
        [
         "25",
         "comcast.net",
         "0"
        ],
        [
         "26",
         "ubuntu.com",
         "0"
        ],
        [
         "27",
         "alexa.com",
         "0"
        ],
        [
         "28",
         "postgresql.org",
         "0"
        ],
        [
         "29",
         "sourceforge.net",
         "0"
        ],
        [
         "30",
         "freepbx.org",
         "0"
        ],
        [
         "31",
         "bigflickrfeed.com",
         "1"
        ],
        [
         "32",
         "gnu.org",
         "0"
        ],
        [
         "33",
         "wpad",
         "1"
        ],
        [
         "34",
         "lan",
         "0"
        ],
        [
         "35",
         "56\"",
         "0"
        ],
        [
         "36",
         "acunetix.com",
         "0"
        ],
        [
         "37",
         "windowsupdate.com",
         "0"
        ],
        [
         "38",
         "flickr.com",
         "0"
        ],
        [
         "39",
         "malwarecity.com",
         "1"
        ],
        [
         "40",
         "facebook.com",
         "0"
        ],
        [
         "41",
         "securityfocus.com",
         "0"
        ],
        [
         "42",
         "xmarks.com",
         "0"
        ],
        [
         "43",
         "0",
         "1"
        ],
        [
         "44",
         "cakephp.org",
         "0"
        ],
        [
         "45",
         "hec.net",
         "0"
        ],
        [
         "46",
         "adams.net",
         "0"
        ],
        [
         "47",
         "uidaho.edu",
         "0"
        ],
        [
         "48",
         "pdx.edu",
         "0"
        ],
        [
         "49",
         "clarkson.edu",
         "0"
        ]
       ],
       "shape": {
        "columns": 2,
        "rows": 100
       }
      },
      "text/html": [
       "<div>\n",
       "<style scoped>\n",
       "    .dataframe tbody tr th:only-of-type {\n",
       "        vertical-align: middle;\n",
       "    }\n",
       "\n",
       "    .dataframe tbody tr th {\n",
       "        vertical-align: top;\n",
       "    }\n",
       "\n",
       "    .dataframe thead th {\n",
       "        text-align: right;\n",
       "    }\n",
       "</style>\n",
       "<table border=\"1\" class=\"dataframe\">\n",
       "  <thead>\n",
       "    <tr style=\"text-align: right;\">\n",
       "      <th></th>\n",
       "      <th>domain_tld</th>\n",
       "      <th>dga</th>\n",
       "    </tr>\n",
       "  </thead>\n",
       "  <tbody>\n",
       "    <tr>\n",
       "      <th>0</th>\n",
       "      <td>wunderground.com</td>\n",
       "      <td>0</td>\n",
       "    </tr>\n",
       "    <tr>\n",
       "      <th>1</th>\n",
       "      <td>dropbox.com</td>\n",
       "      <td>0</td>\n",
       "    </tr>\n",
       "    <tr>\n",
       "      <th>2</th>\n",
       "      <td>aoltw.net</td>\n",
       "      <td>1</td>\n",
       "    </tr>\n",
       "    <tr>\n",
       "      <th>3</th>\n",
       "      <td>home</td>\n",
       "      <td>0</td>\n",
       "    </tr>\n",
       "    <tr>\n",
       "      <th>4</th>\n",
       "      <td>mozilla.com</td>\n",
       "      <td>0</td>\n",
       "    </tr>\n",
       "    <tr>\n",
       "      <th>...</th>\n",
       "      <td>...</td>\n",
       "      <td>...</td>\n",
       "    </tr>\n",
       "    <tr>\n",
       "      <th>95</th>\n",
       "      <td>macromates.com</td>\n",
       "      <td>0</td>\n",
       "    </tr>\n",
       "    <tr>\n",
       "      <th>96</th>\n",
       "      <td>254</td>\n",
       "      <td>0</td>\n",
       "    </tr>\n",
       "    <tr>\n",
       "      <th>97</th>\n",
       "      <td>ejfodfmfxlkgifuf.xyz</td>\n",
       "      <td>1</td>\n",
       "    </tr>\n",
       "    <tr>\n",
       "      <th>98</th>\n",
       "      <td>192.168.22.201</td>\n",
       "      <td>0</td>\n",
       "    </tr>\n",
       "    <tr>\n",
       "      <th>99</th>\n",
       "      <td>verisign.com</td>\n",
       "      <td>0</td>\n",
       "    </tr>\n",
       "  </tbody>\n",
       "</table>\n",
       "<p>100 rows × 2 columns</p>\n",
       "</div>"
      ],
      "text/plain": [
       "              domain_tld dga\n",
       "0       wunderground.com   0\n",
       "1            dropbox.com   0\n",
       "2              aoltw.net   1\n",
       "3                   home   0\n",
       "4            mozilla.com   0\n",
       "..                   ...  ..\n",
       "95        macromates.com   0\n",
       "96                   254   0\n",
       "97  ejfodfmfxlkgifuf.xyz   1\n",
       "98        192.168.22.201   0\n",
       "99          verisign.com   0\n",
       "\n",
       "[100 rows x 2 columns]"
      ]
     },
     "execution_count": 354,
     "metadata": {},
     "output_type": "execute_result"
    }
   ],
   "source": [
    "geminiDataframe.to_csv(\"geminiDataframe.csv\", index=False)\n",
    "geminiDataframe.head(100)"
   ]
  },
  {
   "cell_type": "markdown",
   "metadata": {},
   "source": [
    "## 11. Filtre aquellos considerados como DGA (valor 1 ) y muéstrelos. Recuerde que los resultados de los modelos pueden incluir falsos positivos y falsos negativos, por lo que no podemos fiarnos por completo de esta clasificación y debemos seguir indagando. Después de eliminar duplicados, debe obtener 61 registros únicos."
   ]
  },
  {
   "cell_type": "code",
   "execution_count": 364,
   "metadata": {},
   "outputs": [
    {
     "data": {
      "application/vnd.microsoft.datawrangler.viewer.v0+json": {
       "columns": [
        {
         "name": "index",
         "rawType": "int64",
         "type": "integer"
        },
        {
         "name": "domain_tld",
         "rawType": "object",
         "type": "string"
        },
        {
         "name": "dga",
         "rawType": "object",
         "type": "unknown"
        }
       ],
       "conversionMethod": "pd.DataFrame",
       "ref": "1f9faa36-a386-41e5-b15a-561d2ce7a324",
       "rows": [
        [
         "0",
         "wunderground.com",
         "0"
        ],
        [
         "1",
         "dropbox.com",
         "0"
        ],
        [
         "3",
         "home",
         "0"
        ],
        [
         "4",
         "mozilla.com",
         "0"
        ],
        [
         "6",
         "aol.com",
         "0"
        ],
        [
         "7",
         "google.com",
         "0"
        ],
        [
         "8",
         "stayonline.net",
         "0"
        ],
        [
         "11",
         "localdomain",
         "0"
        ],
        [
         "12",
         "vmware.com",
         "0"
        ],
        [
         "13",
         "windows.com",
         "0"
        ],
        [
         "15",
         "portswigger.net",
         "0"
        ],
        [
         "16",
         "offensive-security.com",
         "0"
        ],
        [
         "17",
         "stopbadware.org",
         "0"
        ],
        [
         "18",
         "arrancar.org",
         "0"
        ],
        [
         "20",
         "backtrack-linux.org",
         "0"
        ],
        [
         "22",
         "vpn",
         "0"
        ],
        [
         "24",
         "microsoft.com",
         "0"
        ],
        [
         "25",
         "comcast.net",
         "0"
        ],
        [
         "26",
         "ubuntu.com",
         "0"
        ],
        [
         "27",
         "alexa.com",
         "0"
        ],
        [
         "28",
         "postgresql.org",
         "0"
        ],
        [
         "29",
         "sourceforge.net",
         "0"
        ],
        [
         "30",
         "freepbx.org",
         "0"
        ],
        [
         "32",
         "gnu.org",
         "0"
        ],
        [
         "34",
         "lan",
         "0"
        ],
        [
         "35",
         "56\"",
         "0"
        ],
        [
         "36",
         "acunetix.com",
         "0"
        ],
        [
         "37",
         "windowsupdate.com",
         "0"
        ],
        [
         "38",
         "flickr.com",
         "0"
        ],
        [
         "40",
         "facebook.com",
         "0"
        ],
        [
         "41",
         "securityfocus.com",
         "0"
        ],
        [
         "42",
         "xmarks.com",
         "0"
        ],
        [
         "44",
         "cakephp.org",
         "0"
        ],
        [
         "45",
         "hec.net",
         "0"
        ],
        [
         "46",
         "adams.net",
         "0"
        ],
        [
         "47",
         "uidaho.edu",
         "0"
        ],
        [
         "48",
         "pdx.edu",
         "0"
        ],
        [
         "49",
         "clarkson.edu",
         "0"
        ],
        [
         "50",
         "rackspace.com",
         "0"
        ],
        [
         "52",
         "wisc.edu",
         "0"
        ],
        [
         "53",
         "facebook.net",
         "0"
        ],
        [
         "54",
         "easynews.com",
         "0"
        ],
        [
         "55",
         "bluehost.com",
         "0"
        ],
        [
         "56",
         "netriplex.com",
         "0"
        ],
        [
         "57",
         "stanford.edu",
         "0"
        ],
        [
         "58",
         "tummy.com",
         "0"
        ],
        [
         "59",
         "fastserv.com",
         "0"
        ],
        [
         "60",
         "kernel.org",
         "0"
        ],
        [
         "61",
         "hmc.edu",
         "0"
        ],
        [
         "62",
         "liquidweb.com",
         "0"
        ]
       ],
       "shape": {
        "columns": 2,
        "rows": 82
       }
      },
      "text/html": [
       "<div>\n",
       "<style scoped>\n",
       "    .dataframe tbody tr th:only-of-type {\n",
       "        vertical-align: middle;\n",
       "    }\n",
       "\n",
       "    .dataframe tbody tr th {\n",
       "        vertical-align: top;\n",
       "    }\n",
       "\n",
       "    .dataframe thead th {\n",
       "        text-align: right;\n",
       "    }\n",
       "</style>\n",
       "<table border=\"1\" class=\"dataframe\">\n",
       "  <thead>\n",
       "    <tr style=\"text-align: right;\">\n",
       "      <th></th>\n",
       "      <th>domain_tld</th>\n",
       "      <th>dga</th>\n",
       "    </tr>\n",
       "  </thead>\n",
       "  <tbody>\n",
       "    <tr>\n",
       "      <th>0</th>\n",
       "      <td>wunderground.com</td>\n",
       "      <td>0</td>\n",
       "    </tr>\n",
       "    <tr>\n",
       "      <th>1</th>\n",
       "      <td>dropbox.com</td>\n",
       "      <td>0</td>\n",
       "    </tr>\n",
       "    <tr>\n",
       "      <th>3</th>\n",
       "      <td>home</td>\n",
       "      <td>0</td>\n",
       "    </tr>\n",
       "    <tr>\n",
       "      <th>4</th>\n",
       "      <td>mozilla.com</td>\n",
       "      <td>0</td>\n",
       "    </tr>\n",
       "    <tr>\n",
       "      <th>6</th>\n",
       "      <td>aol.com</td>\n",
       "      <td>0</td>\n",
       "    </tr>\n",
       "    <tr>\n",
       "      <th>...</th>\n",
       "      <td>...</td>\n",
       "      <td>...</td>\n",
       "    </tr>\n",
       "    <tr>\n",
       "      <th>95</th>\n",
       "      <td>macromates.com</td>\n",
       "      <td>0</td>\n",
       "    </tr>\n",
       "    <tr>\n",
       "      <th>96</th>\n",
       "      <td>254</td>\n",
       "      <td>0</td>\n",
       "    </tr>\n",
       "    <tr>\n",
       "      <th>98</th>\n",
       "      <td>192.168.22.201</td>\n",
       "      <td>0</td>\n",
       "    </tr>\n",
       "    <tr>\n",
       "      <th>99</th>\n",
       "      <td>verisign.com</td>\n",
       "      <td>0</td>\n",
       "    </tr>\n",
       "    <tr>\n",
       "      <th>100</th>\n",
       "      <td>real.com</td>\n",
       "      <td>0</td>\n",
       "    </tr>\n",
       "  </tbody>\n",
       "</table>\n",
       "<p>82 rows × 2 columns</p>\n",
       "</div>"
      ],
      "text/plain": [
       "           domain_tld dga\n",
       "0    wunderground.com   0\n",
       "1         dropbox.com   0\n",
       "3                home   0\n",
       "4         mozilla.com   0\n",
       "6             aol.com   0\n",
       "..                ...  ..\n",
       "95     macromates.com   0\n",
       "96                254   0\n",
       "98     192.168.22.201   0\n",
       "99       verisign.com   0\n",
       "100          real.com   0\n",
       "\n",
       "[82 rows x 2 columns]"
      ]
     },
     "execution_count": 364,
     "metadata": {},
     "output_type": "execute_result"
    }
   ],
   "source": [
    "geminiDataframe[geminiDataframe[\"dga\"] == 0]"
   ]
  },
  {
   "cell_type": "markdown",
   "metadata": {},
   "source": [
    "# Parte 3 – Dominio experto"
   ]
  },
  {
   "cell_type": "markdown",
   "metadata": {},
   "source": [
    "## 12. Ahora ya tenemos un listado de dominios reducido y considerado como sospechoso, por lo que debemos aplicar dominio experto para encontrar los verdaderos registros maliciosos. Escriba una función que utilice la lista de un millón de TLD proporcionada en Canvas, y devuelva 0 si el TLD se encuentra en la lista y 1 si no está"
   ]
  },
  {
   "cell_type": "markdown",
   "metadata": {},
   "source": [
    "Prompt:\n",
    "<pre>\n",
    "hola. necesito tu ayuda para crear una función la cuál primero lea un csv de nombre \"top-1m.csv\" \n",
    "el cual contiene una lista de un millón de TLD. donde el csv empieza de esta forma: \n",
    "\"1,google.com 2,www.google.com 3,microsoft.com 4,data.microsoft.com 5,events.data.microsoft.com \n",
    "6,live.com 7,office.com 8,apple.com 9,microsoftonline.com 10,login.microsoftonline.com\" \n",
    "luego recorrer un dataframe en una variable de nombre 'dataframe' de una sola columna de nombre \n",
    "\"domain_tld\" y verificar si existe dentro de la lista de un millón o no, devolver 0 si el TLD se \n",
    "encuentra en la lista y 1 si no está.  \n",
    "ten cuidado en no leer el csv cada vez que se busca un TLD para evitar cargas innecesarias. \n",
    "agregar a la variable 'dataframe' la columna correspodiente a si está o no en la lista de un millón \n",
    "de TLD\n",
    "</pre>\n",
    "Respuesta del LLM:"
   ]
  },
  {
   "cell_type": "markdown",
   "metadata": {},
   "source": [
    "Para crear la función que necesitas, primero leeremos el archivo CSV \"top-1m.csv\" una sola vez y almacenaremos los TLD en un conjunto para una búsqueda rápida. Luego, recorreremos el DataFrame `dataframe` y verificaremos si cada TLD está en la lista de un millón de TLDs. Finalmente, agregaremos una nueva columna al DataFrame con el resultado de la verificación.\n",
    "\n",
    "Aquí tienes el código para lograr esto:\n",
    "\n"
   ]
  },
  {
   "cell_type": "code",
   "execution_count": 224,
   "metadata": {},
   "outputs": [
    {
     "name": "stdout",
     "output_type": "stream",
     "text": [
      "           domain_tld  en_lista\n",
      "0          google.com         0\n",
      "1  unknown-domain.com         1\n",
      "2       microsoft.com         0\n",
      "3         example.com         0\n"
     ]
    }
   ],
   "source": [
    "import pandas as pd\n",
    "\n",
    "# Leer el archivo CSV y almacenar los TLD en un conjunto\n",
    "def cargar_tlds(filepath):\n",
    "    df_tlds = pd.read_csv(filepath, header=None, usecols=[1], names=['tld'])\n",
    "    tlds_set = df_tlds['tld']\n",
    "    return tlds_set.tolist()\n",
    "\n",
    "# Función para verificar si el TLD está en la lista de un millón de TLDs\n",
    "def verificar_tld(dataframe, tlds_set):\n",
    "    dataframe['en_lista'] = dataframe['domain_tld'].apply(lambda x: 0 if x in tlds_set else 1)\n",
    "    return dataframe\n",
    "\n",
    "# Ruta al archivo CSV\n",
    "filepath = 'top-1m.csv'\n",
    "\n",
    "# Cargar los TLDs en un conjunto\n",
    "tlds_set = cargar_tlds(filepath)\n",
    "\n",
    "# Ejemplo de DataFrame\n",
    "dataframePrueba = pd.DataFrame({\n",
    "    'domain_tld': [\n",
    "        'google.com',\n",
    "        'unknown-domain.com',\n",
    "        'microsoft.com',\n",
    "        'example.com'\n",
    "    ]\n",
    "})\n",
    "\n",
    "# Verificar los TLDs y agregar la columna correspondiente\n",
    "dataframePrueba = verificar_tld(dataframePrueba, tlds_set)\n",
    "\n",
    "# Mostrar el DataFrame resultante\n",
    "print(dataframePrueba)"
   ]
  },
  {
   "cell_type": "markdown",
   "metadata": {},
   "source": [
    "\n",
    "\n",
    "Este código realiza las siguientes acciones:\n",
    "\n",
    "1. Define la función `cargar_tlds` para leer el archivo CSV \"top-1m.csv\" y almacenar los TLDs en un conjunto.\n",
    "2. Define la función `verificar_tld` para recorrer el DataFrame `dataframe` y verificar si cada TLD está en el conjunto de TLDs cargados.\n",
    "3. Carga los TLDs desde el archivo CSV utilizando `cargar_tlds`.\n",
    "4. Verifica los TLDs en el DataFrame `dataframe` y agrega una nueva columna `en_lista` con el resultado de la verificación.\n",
    "\n",
    "Puedes ajustar el código según sea necesario para tu entorno y datos específicos."
   ]
  },
  {
   "cell_type": "markdown",
   "metadata": {},
   "source": [
    "## 13. Utilice la función para determinar si los TLD se encuentran en dicha lista. Filtre aquellos que si se encuentran. Después de eliminar duplicados, debería obtener 13 dominios"
   ]
  },
  {
   "cell_type": "code",
   "execution_count": 225,
   "metadata": {},
   "outputs": [],
   "source": [
    "dataframe = verificar_tld(dataframe, tlds_set)"
   ]
  },
  {
   "cell_type": "code",
   "execution_count": 227,
   "metadata": {},
   "outputs": [],
   "source": [
    "dataframe.drop_duplicates(subset=[\"domain_tld\"], inplace=True)"
   ]
  },
  {
   "cell_type": "code",
   "execution_count": 196,
   "metadata": {},
   "outputs": [
    {
     "data": {
      "text/plain": [
       "(42, 2)"
      ]
     },
     "execution_count": 196,
     "metadata": {},
     "output_type": "execute_result"
    }
   ],
   "source": [
    "dataframe[dataframe[\"en_lista\"] == 1].shape"
   ]
  },
  {
   "cell_type": "code",
   "execution_count": 197,
   "metadata": {},
   "outputs": [
    {
     "data": {
      "application/vnd.microsoft.datawrangler.viewer.v0+json": {
       "columns": [
        {
         "name": "index",
         "rawType": "int64",
         "type": "integer"
        },
        {
         "name": "domain_tld",
         "rawType": "object",
         "type": "string"
        },
        {
         "name": "en_lista",
         "rawType": "int64",
         "type": "integer"
        }
       ],
       "conversionMethod": "pd.DataFrame",
       "ref": "dc8ef163-70b9-42df-b0e1-df69b8e362a9",
       "rows": [
        [
         "2",
         "aoltw.net",
         "1"
        ],
        [
         "3",
         "home",
         "1"
        ],
        [
         "14",
         "stayonline.net",
         "1"
        ],
        [
         "18",
         "110phpmyadmin",
         "1"
        ],
        [
         "19",
         "informaction.com",
         "1"
        ],
        [
         "20",
         "localdomain",
         "1"
        ],
        [
         "27",
         "ntkrnlpa.info",
         "1"
        ],
        [
         "33",
         "arrancar.org",
         "1"
        ],
        [
         "34",
         "sql-ledger.org",
         "1"
        ],
        [
         "35",
         "backtrack-linux.org",
         "1"
        ],
        [
         "38",
         "theanime.cn",
         "1"
        ],
        [
         "43",
         "vpn",
         "1"
        ],
        [
         "64",
         "bigflickrfeed.com",
         "1"
        ],
        [
         "66",
         "wpad",
         "1"
        ],
        [
         "67",
         "lan",
         "1"
        ],
        [
         "71",
         "56\"",
         "1"
        ],
        [
         "82",
         "malwarecity.com",
         "1"
        ],
        [
         "86",
         "securityfocus.com",
         "1"
        ],
        [
         "88",
         "0",
         "1"
        ],
        [
         "89",
         "cakephp.org",
         "1"
        ],
        [
         "90",
         "hec.net",
         "1"
        ],
        [
         "97",
         "ecvps.com",
         "1"
        ],
        [
         "102",
         "netriplex.com",
         "1"
        ],
        [
         "109",
         "5ninesolutions.com",
         "1"
        ],
        [
         "111",
         "interworx.info",
         "1"
        ],
        [
         "112",
         "wallawalla.edu",
         "1"
        ],
        [
         "113",
         "sanctuaryhost.com",
         "1"
        ],
        [
         "115",
         "umoss.org",
         "1"
        ],
        [
         "120",
         "nyi.net",
         "1"
        ],
        [
         "123",
         "rocketinternet.net",
         "1"
        ],
        [
         "126",
         "FL",
         "1"
        ],
        [
         "131",
         "saruman",
         "1"
        ],
        [
         "135",
         "1201",
         "1"
        ],
        [
         "136",
         "",
         "1"
        ],
        [
         "145",
         "kodapp.com",
         "1"
        ],
        [
         "146",
         "threatspace.net",
         "1"
        ],
        [
         "149",
         "social-engineer.org",
         "1"
        ],
        [
         "160",
         "vtlfccmfxlkgifuf.com",
         "1"
        ],
        [
         "162",
         "macromates.com",
         "1"
        ],
        [
         "163",
         "254",
         "1"
        ],
        [
         "167",
         "ejfodfmfxlkgifuf.xyz",
         "1"
        ],
        [
         "169",
         "192.168.22.201",
         "1"
        ]
       ],
       "shape": {
        "columns": 2,
        "rows": 42
       }
      },
      "text/html": [
       "<div>\n",
       "<style scoped>\n",
       "    .dataframe tbody tr th:only-of-type {\n",
       "        vertical-align: middle;\n",
       "    }\n",
       "\n",
       "    .dataframe tbody tr th {\n",
       "        vertical-align: top;\n",
       "    }\n",
       "\n",
       "    .dataframe thead th {\n",
       "        text-align: right;\n",
       "    }\n",
       "</style>\n",
       "<table border=\"1\" class=\"dataframe\">\n",
       "  <thead>\n",
       "    <tr style=\"text-align: right;\">\n",
       "      <th></th>\n",
       "      <th>domain_tld</th>\n",
       "      <th>en_lista</th>\n",
       "    </tr>\n",
       "  </thead>\n",
       "  <tbody>\n",
       "    <tr>\n",
       "      <th>2</th>\n",
       "      <td>aoltw.net</td>\n",
       "      <td>1</td>\n",
       "    </tr>\n",
       "    <tr>\n",
       "      <th>3</th>\n",
       "      <td>home</td>\n",
       "      <td>1</td>\n",
       "    </tr>\n",
       "    <tr>\n",
       "      <th>14</th>\n",
       "      <td>stayonline.net</td>\n",
       "      <td>1</td>\n",
       "    </tr>\n",
       "    <tr>\n",
       "      <th>18</th>\n",
       "      <td>110phpmyadmin</td>\n",
       "      <td>1</td>\n",
       "    </tr>\n",
       "    <tr>\n",
       "      <th>19</th>\n",
       "      <td>informaction.com</td>\n",
       "      <td>1</td>\n",
       "    </tr>\n",
       "    <tr>\n",
       "      <th>20</th>\n",
       "      <td>localdomain</td>\n",
       "      <td>1</td>\n",
       "    </tr>\n",
       "    <tr>\n",
       "      <th>27</th>\n",
       "      <td>ntkrnlpa.info</td>\n",
       "      <td>1</td>\n",
       "    </tr>\n",
       "    <tr>\n",
       "      <th>33</th>\n",
       "      <td>arrancar.org</td>\n",
       "      <td>1</td>\n",
       "    </tr>\n",
       "    <tr>\n",
       "      <th>34</th>\n",
       "      <td>sql-ledger.org</td>\n",
       "      <td>1</td>\n",
       "    </tr>\n",
       "    <tr>\n",
       "      <th>35</th>\n",
       "      <td>backtrack-linux.org</td>\n",
       "      <td>1</td>\n",
       "    </tr>\n",
       "    <tr>\n",
       "      <th>38</th>\n",
       "      <td>theanime.cn</td>\n",
       "      <td>1</td>\n",
       "    </tr>\n",
       "    <tr>\n",
       "      <th>43</th>\n",
       "      <td>vpn</td>\n",
       "      <td>1</td>\n",
       "    </tr>\n",
       "    <tr>\n",
       "      <th>64</th>\n",
       "      <td>bigflickrfeed.com</td>\n",
       "      <td>1</td>\n",
       "    </tr>\n",
       "    <tr>\n",
       "      <th>66</th>\n",
       "      <td>wpad</td>\n",
       "      <td>1</td>\n",
       "    </tr>\n",
       "    <tr>\n",
       "      <th>67</th>\n",
       "      <td>lan</td>\n",
       "      <td>1</td>\n",
       "    </tr>\n",
       "    <tr>\n",
       "      <th>71</th>\n",
       "      <td>56\"</td>\n",
       "      <td>1</td>\n",
       "    </tr>\n",
       "    <tr>\n",
       "      <th>82</th>\n",
       "      <td>malwarecity.com</td>\n",
       "      <td>1</td>\n",
       "    </tr>\n",
       "    <tr>\n",
       "      <th>86</th>\n",
       "      <td>securityfocus.com</td>\n",
       "      <td>1</td>\n",
       "    </tr>\n",
       "    <tr>\n",
       "      <th>88</th>\n",
       "      <td>0</td>\n",
       "      <td>1</td>\n",
       "    </tr>\n",
       "    <tr>\n",
       "      <th>89</th>\n",
       "      <td>cakephp.org</td>\n",
       "      <td>1</td>\n",
       "    </tr>\n",
       "    <tr>\n",
       "      <th>90</th>\n",
       "      <td>hec.net</td>\n",
       "      <td>1</td>\n",
       "    </tr>\n",
       "    <tr>\n",
       "      <th>97</th>\n",
       "      <td>ecvps.com</td>\n",
       "      <td>1</td>\n",
       "    </tr>\n",
       "    <tr>\n",
       "      <th>102</th>\n",
       "      <td>netriplex.com</td>\n",
       "      <td>1</td>\n",
       "    </tr>\n",
       "    <tr>\n",
       "      <th>109</th>\n",
       "      <td>5ninesolutions.com</td>\n",
       "      <td>1</td>\n",
       "    </tr>\n",
       "    <tr>\n",
       "      <th>111</th>\n",
       "      <td>interworx.info</td>\n",
       "      <td>1</td>\n",
       "    </tr>\n",
       "    <tr>\n",
       "      <th>112</th>\n",
       "      <td>wallawalla.edu</td>\n",
       "      <td>1</td>\n",
       "    </tr>\n",
       "    <tr>\n",
       "      <th>113</th>\n",
       "      <td>sanctuaryhost.com</td>\n",
       "      <td>1</td>\n",
       "    </tr>\n",
       "    <tr>\n",
       "      <th>115</th>\n",
       "      <td>umoss.org</td>\n",
       "      <td>1</td>\n",
       "    </tr>\n",
       "    <tr>\n",
       "      <th>120</th>\n",
       "      <td>nyi.net</td>\n",
       "      <td>1</td>\n",
       "    </tr>\n",
       "    <tr>\n",
       "      <th>123</th>\n",
       "      <td>rocketinternet.net</td>\n",
       "      <td>1</td>\n",
       "    </tr>\n",
       "    <tr>\n",
       "      <th>126</th>\n",
       "      <td>FL</td>\n",
       "      <td>1</td>\n",
       "    </tr>\n",
       "    <tr>\n",
       "      <th>131</th>\n",
       "      <td>saruman</td>\n",
       "      <td>1</td>\n",
       "    </tr>\n",
       "    <tr>\n",
       "      <th>135</th>\n",
       "      <td>1201</td>\n",
       "      <td>1</td>\n",
       "    </tr>\n",
       "    <tr>\n",
       "      <th>136</th>\n",
       "      <td></td>\n",
       "      <td>1</td>\n",
       "    </tr>\n",
       "    <tr>\n",
       "      <th>145</th>\n",
       "      <td>kodapp.com</td>\n",
       "      <td>1</td>\n",
       "    </tr>\n",
       "    <tr>\n",
       "      <th>146</th>\n",
       "      <td>threatspace.net</td>\n",
       "      <td>1</td>\n",
       "    </tr>\n",
       "    <tr>\n",
       "      <th>149</th>\n",
       "      <td>social-engineer.org</td>\n",
       "      <td>1</td>\n",
       "    </tr>\n",
       "    <tr>\n",
       "      <th>160</th>\n",
       "      <td>vtlfccmfxlkgifuf.com</td>\n",
       "      <td>1</td>\n",
       "    </tr>\n",
       "    <tr>\n",
       "      <th>162</th>\n",
       "      <td>macromates.com</td>\n",
       "      <td>1</td>\n",
       "    </tr>\n",
       "    <tr>\n",
       "      <th>163</th>\n",
       "      <td>254</td>\n",
       "      <td>1</td>\n",
       "    </tr>\n",
       "    <tr>\n",
       "      <th>167</th>\n",
       "      <td>ejfodfmfxlkgifuf.xyz</td>\n",
       "      <td>1</td>\n",
       "    </tr>\n",
       "    <tr>\n",
       "      <th>169</th>\n",
       "      <td>192.168.22.201</td>\n",
       "      <td>1</td>\n",
       "    </tr>\n",
       "  </tbody>\n",
       "</table>\n",
       "</div>"
      ],
      "text/plain": [
       "               domain_tld  en_lista\n",
       "2               aoltw.net         1\n",
       "3                    home         1\n",
       "14         stayonline.net         1\n",
       "18          110phpmyadmin         1\n",
       "19       informaction.com         1\n",
       "20            localdomain         1\n",
       "27          ntkrnlpa.info         1\n",
       "33           arrancar.org         1\n",
       "34         sql-ledger.org         1\n",
       "35    backtrack-linux.org         1\n",
       "38            theanime.cn         1\n",
       "43                    vpn         1\n",
       "64      bigflickrfeed.com         1\n",
       "66                   wpad         1\n",
       "67                    lan         1\n",
       "71                    56\"         1\n",
       "82        malwarecity.com         1\n",
       "86      securityfocus.com         1\n",
       "88                      0         1\n",
       "89            cakephp.org         1\n",
       "90                hec.net         1\n",
       "97              ecvps.com         1\n",
       "102         netriplex.com         1\n",
       "109    5ninesolutions.com         1\n",
       "111        interworx.info         1\n",
       "112        wallawalla.edu         1\n",
       "113     sanctuaryhost.com         1\n",
       "115             umoss.org         1\n",
       "120               nyi.net         1\n",
       "123    rocketinternet.net         1\n",
       "126                    FL         1\n",
       "131               saruman         1\n",
       "135                  1201         1\n",
       "136                               1\n",
       "145            kodapp.com         1\n",
       "146       threatspace.net         1\n",
       "149   social-engineer.org         1\n",
       "160  vtlfccmfxlkgifuf.com         1\n",
       "162        macromates.com         1\n",
       "163                   254         1\n",
       "167  ejfodfmfxlkgifuf.xyz         1\n",
       "169        192.168.22.201         1"
      ]
     },
     "execution_count": 197,
     "metadata": {},
     "output_type": "execute_result"
    }
   ],
   "source": [
    "dataframe[dataframe[\"en_lista\"] == 1].head(100)"
   ]
  },
  {
   "cell_type": "markdown",
   "metadata": {},
   "source": [
    "## 14. Finalmente, para confirmar los dominios maliciosos podemos buscar la fecha de creación del TLD. Cree una función qué en base al TLD, devuelva la fecha de creación de este. "
   ]
  },
  {
   "cell_type": "markdown",
   "metadata": {},
   "source": [
    "Prompt: \n",
    "<pre>\n",
    "basado en el dataframe resultante quiero que implementes otra función. necesito poder obtener \n",
    "la fecha de creación del TLD, por lo que necesito crear una función capaz de obtener la \n",
    "fecha de creación de un TLD\n",
    "</pre>\n",
    "Respuesta del LLM:"
   ]
  },
  {
   "cell_type": "markdown",
   "metadata": {},
   "source": [
    "Para obtener la fecha de creación de un TLD, podemos utilizar la biblioteca `whois` en Python, que permite consultar información WHOIS sobre dominios. A continuación, te muestro cómo puedes crear una función para obtener la fecha de creación de un TLD y aplicarla al DataFrame resultante.\n",
    "\n",
    "Primero, instala la biblioteca `whois` si no la tienes instalada:\n"
   ]
  },
  {
   "cell_type": "code",
   "execution_count": null,
   "metadata": {},
   "outputs": [],
   "source": [
    "pip install python-whois"
   ]
  },
  {
   "cell_type": "markdown",
   "metadata": {},
   "source": [
    "\n",
    "\n",
    "Luego, puedes definir la función para obtener la fecha de creación del TLD y aplicarla al DataFrame:\n",
    "\n"
   ]
  },
  {
   "cell_type": "code",
   "execution_count": null,
   "metadata": {},
   "outputs": [
    {
     "name": "stdout",
     "output_type": "stream",
     "text": [
      "           domain_tld  en_lista  \\\n",
      "0          google.com         0   \n",
      "1  unknown-domain.com         1   \n",
      "2       microsoft.com         0   \n",
      "3         example.com         1   \n",
      "\n",
      "                                     fecha_creacion  \n",
      "0  [1997-09-15 04:00:00, 1997-09-15 07:00:00+00:00]  \n",
      "1                               2020-04-11 19:59:53  \n",
      "2  [1991-05-02 04:00:00, 1991-05-02 04:00:00+00:00]  \n",
      "3                               1995-08-14 04:00:00  \n"
     ]
    }
   ],
   "source": [
    "import whois\n",
    "import pandas as pd\n",
    "\n",
    "# Función para obtener la fecha de creación de un TLD\n",
    "def obtener_fecha_creacion(tld):\n",
    "    try:\n",
    "        dominio_info = whois.whois(tld)\n",
    "        return dominio_info.creation_date\n",
    "    except Exception as e:\n",
    "        return None\n",
    "\n",
    "# Ejemplo de DataFrame resultante\n",
    "dataframePrueba = pd.DataFrame({\n",
    "    'domain_tld': [\n",
    "        'google.com',\n",
    "        'unknown-domain.com',\n",
    "        'microsoft.com',\n",
    "        'example.com'\n",
    "    ],\n",
    "    'en_lista': [0, 1, 0, 1]\n",
    "})\n",
    "\n",
    "# Aplicar la función al DataFrame para obtener la fecha de creación\n",
    "dataframePrueba['fecha_creacion'] = dataframePrueba['domain_tld'].apply(obtener_fecha_creacion)\n",
    "\n",
    "# Mostrar el DataFrame resultante\n",
    "print(dataframePrueba)"
   ]
  },
  {
   "cell_type": "markdown",
   "metadata": {},
   "source": [
    "\n",
    "\n",
    "Este código realiza las siguientes acciones:\n",
    "\n",
    "1. Define la función `obtener_fecha_creacion` que utiliza la biblioteca `whois` para obtener la fecha de creación de un TLD.\n",
    "2. Aplica la función `obtener_fecha_creacion` a la columna `domain_tld` del DataFrame resultante y agrega una nueva columna `fecha_creacion` con la fecha de creación del TLD.\n",
    "\n",
    "Puedes ajustar el código según sea necesario para tu entorno y datos específicos. Ten en cuenta que la consulta WHOIS puede no funcionar para todos los dominios y puede haber limitaciones en la cantidad de consultas que puedes realizar en un período de tiempo."
   ]
  },
  {
   "cell_type": "code",
   "execution_count": 199,
   "metadata": {},
   "outputs": [],
   "source": [
    "dataframe['fecha_creacion'] = dataframe['domain_tld'].apply(obtener_fecha_creacion)"
   ]
  },
  {
   "cell_type": "code",
   "execution_count": 205,
   "metadata": {},
   "outputs": [
    {
     "data": {
      "application/vnd.microsoft.datawrangler.viewer.v0+json": {
       "columns": [
        {
         "name": "index",
         "rawType": "int64",
         "type": "integer"
        },
        {
         "name": "domain_tld",
         "rawType": "object",
         "type": "string"
        },
        {
         "name": "en_lista",
         "rawType": "int64",
         "type": "integer"
        },
        {
         "name": "fecha_creacion",
         "rawType": "object",
         "type": "unknown"
        }
       ],
       "conversionMethod": "pd.DataFrame",
       "ref": "e8e61498-6fe5-4c55-bd59-5c7d257b35bb",
       "rows": [
        [
         "0",
         "wunderground.com",
         "0",
         "[datetime.datetime(1995, 3, 30, 5, 0), datetime.datetime(1995, 3, 30, 0, 0)]"
        ],
        [
         "1",
         "dropbox.com",
         "0",
         "[datetime.datetime(1995, 6, 28, 4, 0), datetime.datetime(1995, 6, 28, 4, 0, tzinfo=datetime.timezone.utc)]"
        ],
        [
         "2",
         "aoltw.net",
         "1",
         "2000-01-10 04:09:19"
        ],
        [
         "3",
         "home",
         "1",
         null
        ],
        [
         "4",
         "mozilla.com",
         "0",
         "1994-10-18 04:00:00"
        ]
       ],
       "shape": {
        "columns": 3,
        "rows": 5
       }
      },
      "text/html": [
       "<div>\n",
       "<style scoped>\n",
       "    .dataframe tbody tr th:only-of-type {\n",
       "        vertical-align: middle;\n",
       "    }\n",
       "\n",
       "    .dataframe tbody tr th {\n",
       "        vertical-align: top;\n",
       "    }\n",
       "\n",
       "    .dataframe thead th {\n",
       "        text-align: right;\n",
       "    }\n",
       "</style>\n",
       "<table border=\"1\" class=\"dataframe\">\n",
       "  <thead>\n",
       "    <tr style=\"text-align: right;\">\n",
       "      <th></th>\n",
       "      <th>domain_tld</th>\n",
       "      <th>en_lista</th>\n",
       "      <th>fecha_creacion</th>\n",
       "    </tr>\n",
       "  </thead>\n",
       "  <tbody>\n",
       "    <tr>\n",
       "      <th>0</th>\n",
       "      <td>wunderground.com</td>\n",
       "      <td>0</td>\n",
       "      <td>[1995-03-30 05:00:00, 1995-03-30 00:00:00]</td>\n",
       "    </tr>\n",
       "    <tr>\n",
       "      <th>1</th>\n",
       "      <td>dropbox.com</td>\n",
       "      <td>0</td>\n",
       "      <td>[1995-06-28 04:00:00, 1995-06-28 04:00:00+00:00]</td>\n",
       "    </tr>\n",
       "    <tr>\n",
       "      <th>2</th>\n",
       "      <td>aoltw.net</td>\n",
       "      <td>1</td>\n",
       "      <td>2000-01-10 04:09:19</td>\n",
       "    </tr>\n",
       "    <tr>\n",
       "      <th>3</th>\n",
       "      <td>home</td>\n",
       "      <td>1</td>\n",
       "      <td>None</td>\n",
       "    </tr>\n",
       "    <tr>\n",
       "      <th>4</th>\n",
       "      <td>mozilla.com</td>\n",
       "      <td>0</td>\n",
       "      <td>1994-10-18 04:00:00</td>\n",
       "    </tr>\n",
       "  </tbody>\n",
       "</table>\n",
       "</div>"
      ],
      "text/plain": [
       "         domain_tld  en_lista  \\\n",
       "0  wunderground.com         0   \n",
       "1       dropbox.com         0   \n",
       "2         aoltw.net         1   \n",
       "3              home         1   \n",
       "4       mozilla.com         0   \n",
       "\n",
       "                                     fecha_creacion  \n",
       "0        [1995-03-30 05:00:00, 1995-03-30 00:00:00]  \n",
       "1  [1995-06-28 04:00:00, 1995-06-28 04:00:00+00:00]  \n",
       "2                               2000-01-10 04:09:19  \n",
       "3                                              None  \n",
       "4                               1994-10-18 04:00:00  "
      ]
     },
     "execution_count": 205,
     "metadata": {},
     "output_type": "execute_result"
    }
   ],
   "source": [
    "dataframe.head()"
   ]
  },
  {
   "cell_type": "markdown",
   "metadata": {},
   "source": [
    "## 15. Muestre la fecha de creación para cada uno de los 13 dominios finales"
   ]
  },
  {
   "cell_type": "code",
   "execution_count": 206,
   "metadata": {},
   "outputs": [
    {
     "data": {
      "application/vnd.microsoft.datawrangler.viewer.v0+json": {
       "columns": [
        {
         "name": "index",
         "rawType": "int64",
         "type": "integer"
        },
        {
         "name": "domain_tld",
         "rawType": "object",
         "type": "string"
        },
        {
         "name": "en_lista",
         "rawType": "int64",
         "type": "integer"
        },
        {
         "name": "fecha_creacion",
         "rawType": "object",
         "type": "unknown"
        }
       ],
       "conversionMethod": "pd.DataFrame",
       "ref": "ab0fcd98-39dd-48da-81ae-54a5e57689e1",
       "rows": [
        [
         "2",
         "aoltw.net",
         "1",
         "2000-01-10 04:09:19"
        ],
        [
         "3",
         "home",
         "1",
         null
        ],
        [
         "14",
         "stayonline.net",
         "1",
         "1999-12-14 19:57:16"
        ],
        [
         "18",
         "110phpmyadmin",
         "1",
         null
        ],
        [
         "19",
         "informaction.com",
         "1",
         "1998-11-25 05:00:00"
        ],
        [
         "20",
         "localdomain",
         "1",
         null
        ],
        [
         "27",
         "ntkrnlpa.info",
         "1",
         null
        ],
        [
         "33",
         "arrancar.org",
         "1",
         null
        ],
        [
         "34",
         "sql-ledger.org",
         "1",
         "2000-09-08 16:25:09"
        ],
        [
         "35",
         "backtrack-linux.org",
         "1",
         "2009-04-29 00:26:42"
        ],
        [
         "38",
         "theanime.cn",
         "1",
         null
        ],
        [
         "43",
         "vpn",
         "1",
         null
        ],
        [
         "64",
         "bigflickrfeed.com",
         "1",
         null
        ],
        [
         "66",
         "wpad",
         "1",
         null
        ],
        [
         "67",
         "lan",
         "1",
         null
        ],
        [
         "71",
         "56\"",
         "1",
         null
        ],
        [
         "82",
         "malwarecity.com",
         "1",
         "[datetime.datetime(2008, 2, 6, 15, 42, 35), datetime.datetime(2008, 2, 6, 0, 0)]"
        ],
        [
         "86",
         "securityfocus.com",
         "1",
         "[datetime.datetime(1999, 1, 30, 5, 0), datetime.datetime(1999, 1, 30, 0, 0)]"
        ],
        [
         "88",
         "0",
         "1",
         null
        ],
        [
         "89",
         "cakephp.org",
         "1",
         "2005-06-13 23:07:32"
        ],
        [
         "90",
         "hec.net",
         "1",
         "1996-04-24 04:00:00"
        ],
        [
         "97",
         "ecvps.com",
         "1",
         "2009-05-21 14:24:02"
        ],
        [
         "102",
         "netriplex.com",
         "1",
         "2002-11-19 03:23:53"
        ],
        [
         "109",
         "5ninesolutions.com",
         "1",
         "[datetime.datetime(2009, 2, 19, 17, 47, 14), datetime.datetime(2009, 2, 19, 12, 47, 14)]"
        ],
        [
         "111",
         "interworx.info",
         "1",
         "2003-07-15 20:28:48"
        ],
        [
         "112",
         "wallawalla.edu",
         "1",
         "2007-05-02 00:00:00"
        ],
        [
         "113",
         "sanctuaryhost.com",
         "1",
         "[datetime.datetime(2004, 7, 13, 15, 17, 11), datetime.datetime(2004, 7, 13, 15, 17)]"
        ],
        [
         "115",
         "umoss.org",
         "1",
         "2017-09-03 14:30:22"
        ],
        [
         "120",
         "nyi.net",
         "1",
         "1998-02-04 05:00:00"
        ],
        [
         "123",
         "rocketinternet.net",
         "1",
         "1999-09-23 04:50:20"
        ],
        [
         "126",
         "FL",
         "1",
         null
        ],
        [
         "131",
         "saruman",
         "1",
         null
        ],
        [
         "135",
         "1201",
         "1",
         null
        ],
        [
         "136",
         "",
         "1",
         null
        ],
        [
         "145",
         "kodapp.com",
         "1",
         "2021-02-12 19:17:27"
        ],
        [
         "146",
         "threatspace.net",
         "1",
         "[datetime.datetime(2010, 7, 26, 18, 41, 12), datetime.datetime(2010, 7, 26, 18, 41, 12, tzinfo=datetime.timezone.utc)]"
        ],
        [
         "149",
         "social-engineer.org",
         "1",
         "2009-06-10 23:35:12"
        ],
        [
         "160",
         "vtlfccmfxlkgifuf.com",
         "1",
         null
        ],
        [
         "162",
         "macromates.com",
         "1",
         "[datetime.datetime(2003, 2, 5, 0, 25, 14), datetime.datetime(2003, 2, 4, 19, 25, 14)]"
        ],
        [
         "163",
         "254",
         "1",
         null
        ],
        [
         "167",
         "ejfodfmfxlkgifuf.xyz",
         "1",
         null
        ],
        [
         "169",
         "192.168.22.201",
         "1",
         null
        ]
       ],
       "shape": {
        "columns": 3,
        "rows": 42
       }
      },
      "text/html": [
       "<div>\n",
       "<style scoped>\n",
       "    .dataframe tbody tr th:only-of-type {\n",
       "        vertical-align: middle;\n",
       "    }\n",
       "\n",
       "    .dataframe tbody tr th {\n",
       "        vertical-align: top;\n",
       "    }\n",
       "\n",
       "    .dataframe thead th {\n",
       "        text-align: right;\n",
       "    }\n",
       "</style>\n",
       "<table border=\"1\" class=\"dataframe\">\n",
       "  <thead>\n",
       "    <tr style=\"text-align: right;\">\n",
       "      <th></th>\n",
       "      <th>domain_tld</th>\n",
       "      <th>en_lista</th>\n",
       "      <th>fecha_creacion</th>\n",
       "    </tr>\n",
       "  </thead>\n",
       "  <tbody>\n",
       "    <tr>\n",
       "      <th>2</th>\n",
       "      <td>aoltw.net</td>\n",
       "      <td>1</td>\n",
       "      <td>2000-01-10 04:09:19</td>\n",
       "    </tr>\n",
       "    <tr>\n",
       "      <th>3</th>\n",
       "      <td>home</td>\n",
       "      <td>1</td>\n",
       "      <td>None</td>\n",
       "    </tr>\n",
       "    <tr>\n",
       "      <th>14</th>\n",
       "      <td>stayonline.net</td>\n",
       "      <td>1</td>\n",
       "      <td>1999-12-14 19:57:16</td>\n",
       "    </tr>\n",
       "    <tr>\n",
       "      <th>18</th>\n",
       "      <td>110phpmyadmin</td>\n",
       "      <td>1</td>\n",
       "      <td>None</td>\n",
       "    </tr>\n",
       "    <tr>\n",
       "      <th>19</th>\n",
       "      <td>informaction.com</td>\n",
       "      <td>1</td>\n",
       "      <td>1998-11-25 05:00:00</td>\n",
       "    </tr>\n",
       "    <tr>\n",
       "      <th>20</th>\n",
       "      <td>localdomain</td>\n",
       "      <td>1</td>\n",
       "      <td>None</td>\n",
       "    </tr>\n",
       "    <tr>\n",
       "      <th>27</th>\n",
       "      <td>ntkrnlpa.info</td>\n",
       "      <td>1</td>\n",
       "      <td>None</td>\n",
       "    </tr>\n",
       "    <tr>\n",
       "      <th>33</th>\n",
       "      <td>arrancar.org</td>\n",
       "      <td>1</td>\n",
       "      <td>None</td>\n",
       "    </tr>\n",
       "    <tr>\n",
       "      <th>34</th>\n",
       "      <td>sql-ledger.org</td>\n",
       "      <td>1</td>\n",
       "      <td>2000-09-08 16:25:09</td>\n",
       "    </tr>\n",
       "    <tr>\n",
       "      <th>35</th>\n",
       "      <td>backtrack-linux.org</td>\n",
       "      <td>1</td>\n",
       "      <td>2009-04-29 00:26:42</td>\n",
       "    </tr>\n",
       "    <tr>\n",
       "      <th>38</th>\n",
       "      <td>theanime.cn</td>\n",
       "      <td>1</td>\n",
       "      <td>None</td>\n",
       "    </tr>\n",
       "    <tr>\n",
       "      <th>43</th>\n",
       "      <td>vpn</td>\n",
       "      <td>1</td>\n",
       "      <td>None</td>\n",
       "    </tr>\n",
       "    <tr>\n",
       "      <th>64</th>\n",
       "      <td>bigflickrfeed.com</td>\n",
       "      <td>1</td>\n",
       "      <td>None</td>\n",
       "    </tr>\n",
       "    <tr>\n",
       "      <th>66</th>\n",
       "      <td>wpad</td>\n",
       "      <td>1</td>\n",
       "      <td>None</td>\n",
       "    </tr>\n",
       "    <tr>\n",
       "      <th>67</th>\n",
       "      <td>lan</td>\n",
       "      <td>1</td>\n",
       "      <td>None</td>\n",
       "    </tr>\n",
       "    <tr>\n",
       "      <th>71</th>\n",
       "      <td>56\"</td>\n",
       "      <td>1</td>\n",
       "      <td>None</td>\n",
       "    </tr>\n",
       "    <tr>\n",
       "      <th>82</th>\n",
       "      <td>malwarecity.com</td>\n",
       "      <td>1</td>\n",
       "      <td>[2008-02-06 15:42:35, 2008-02-06 00:00:00]</td>\n",
       "    </tr>\n",
       "    <tr>\n",
       "      <th>86</th>\n",
       "      <td>securityfocus.com</td>\n",
       "      <td>1</td>\n",
       "      <td>[1999-01-30 05:00:00, 1999-01-30 00:00:00]</td>\n",
       "    </tr>\n",
       "    <tr>\n",
       "      <th>88</th>\n",
       "      <td>0</td>\n",
       "      <td>1</td>\n",
       "      <td>None</td>\n",
       "    </tr>\n",
       "    <tr>\n",
       "      <th>89</th>\n",
       "      <td>cakephp.org</td>\n",
       "      <td>1</td>\n",
       "      <td>2005-06-13 23:07:32</td>\n",
       "    </tr>\n",
       "    <tr>\n",
       "      <th>90</th>\n",
       "      <td>hec.net</td>\n",
       "      <td>1</td>\n",
       "      <td>1996-04-24 04:00:00</td>\n",
       "    </tr>\n",
       "    <tr>\n",
       "      <th>97</th>\n",
       "      <td>ecvps.com</td>\n",
       "      <td>1</td>\n",
       "      <td>2009-05-21 14:24:02</td>\n",
       "    </tr>\n",
       "    <tr>\n",
       "      <th>102</th>\n",
       "      <td>netriplex.com</td>\n",
       "      <td>1</td>\n",
       "      <td>2002-11-19 03:23:53</td>\n",
       "    </tr>\n",
       "    <tr>\n",
       "      <th>109</th>\n",
       "      <td>5ninesolutions.com</td>\n",
       "      <td>1</td>\n",
       "      <td>[2009-02-19 17:47:14, 2009-02-19 12:47:14]</td>\n",
       "    </tr>\n",
       "    <tr>\n",
       "      <th>111</th>\n",
       "      <td>interworx.info</td>\n",
       "      <td>1</td>\n",
       "      <td>2003-07-15 20:28:48</td>\n",
       "    </tr>\n",
       "    <tr>\n",
       "      <th>112</th>\n",
       "      <td>wallawalla.edu</td>\n",
       "      <td>1</td>\n",
       "      <td>2007-05-02 00:00:00</td>\n",
       "    </tr>\n",
       "    <tr>\n",
       "      <th>113</th>\n",
       "      <td>sanctuaryhost.com</td>\n",
       "      <td>1</td>\n",
       "      <td>[2004-07-13 15:17:11, 2004-07-13 15:17:00]</td>\n",
       "    </tr>\n",
       "    <tr>\n",
       "      <th>115</th>\n",
       "      <td>umoss.org</td>\n",
       "      <td>1</td>\n",
       "      <td>2017-09-03 14:30:22</td>\n",
       "    </tr>\n",
       "    <tr>\n",
       "      <th>120</th>\n",
       "      <td>nyi.net</td>\n",
       "      <td>1</td>\n",
       "      <td>1998-02-04 05:00:00</td>\n",
       "    </tr>\n",
       "    <tr>\n",
       "      <th>123</th>\n",
       "      <td>rocketinternet.net</td>\n",
       "      <td>1</td>\n",
       "      <td>1999-09-23 04:50:20</td>\n",
       "    </tr>\n",
       "    <tr>\n",
       "      <th>126</th>\n",
       "      <td>FL</td>\n",
       "      <td>1</td>\n",
       "      <td>None</td>\n",
       "    </tr>\n",
       "    <tr>\n",
       "      <th>131</th>\n",
       "      <td>saruman</td>\n",
       "      <td>1</td>\n",
       "      <td>None</td>\n",
       "    </tr>\n",
       "    <tr>\n",
       "      <th>135</th>\n",
       "      <td>1201</td>\n",
       "      <td>1</td>\n",
       "      <td>None</td>\n",
       "    </tr>\n",
       "    <tr>\n",
       "      <th>136</th>\n",
       "      <td></td>\n",
       "      <td>1</td>\n",
       "      <td>None</td>\n",
       "    </tr>\n",
       "    <tr>\n",
       "      <th>145</th>\n",
       "      <td>kodapp.com</td>\n",
       "      <td>1</td>\n",
       "      <td>2021-02-12 19:17:27</td>\n",
       "    </tr>\n",
       "    <tr>\n",
       "      <th>146</th>\n",
       "      <td>threatspace.net</td>\n",
       "      <td>1</td>\n",
       "      <td>[2010-07-26 18:41:12, 2010-07-26 18:41:12+00:00]</td>\n",
       "    </tr>\n",
       "    <tr>\n",
       "      <th>149</th>\n",
       "      <td>social-engineer.org</td>\n",
       "      <td>1</td>\n",
       "      <td>2009-06-10 23:35:12</td>\n",
       "    </tr>\n",
       "    <tr>\n",
       "      <th>160</th>\n",
       "      <td>vtlfccmfxlkgifuf.com</td>\n",
       "      <td>1</td>\n",
       "      <td>None</td>\n",
       "    </tr>\n",
       "    <tr>\n",
       "      <th>162</th>\n",
       "      <td>macromates.com</td>\n",
       "      <td>1</td>\n",
       "      <td>[2003-02-05 00:25:14, 2003-02-04 19:25:14]</td>\n",
       "    </tr>\n",
       "    <tr>\n",
       "      <th>163</th>\n",
       "      <td>254</td>\n",
       "      <td>1</td>\n",
       "      <td>None</td>\n",
       "    </tr>\n",
       "    <tr>\n",
       "      <th>167</th>\n",
       "      <td>ejfodfmfxlkgifuf.xyz</td>\n",
       "      <td>1</td>\n",
       "      <td>None</td>\n",
       "    </tr>\n",
       "    <tr>\n",
       "      <th>169</th>\n",
       "      <td>192.168.22.201</td>\n",
       "      <td>1</td>\n",
       "      <td>None</td>\n",
       "    </tr>\n",
       "  </tbody>\n",
       "</table>\n",
       "</div>"
      ],
      "text/plain": [
       "               domain_tld  en_lista  \\\n",
       "2               aoltw.net         1   \n",
       "3                    home         1   \n",
       "14         stayonline.net         1   \n",
       "18          110phpmyadmin         1   \n",
       "19       informaction.com         1   \n",
       "20            localdomain         1   \n",
       "27          ntkrnlpa.info         1   \n",
       "33           arrancar.org         1   \n",
       "34         sql-ledger.org         1   \n",
       "35    backtrack-linux.org         1   \n",
       "38            theanime.cn         1   \n",
       "43                    vpn         1   \n",
       "64      bigflickrfeed.com         1   \n",
       "66                   wpad         1   \n",
       "67                    lan         1   \n",
       "71                    56\"         1   \n",
       "82        malwarecity.com         1   \n",
       "86      securityfocus.com         1   \n",
       "88                      0         1   \n",
       "89            cakephp.org         1   \n",
       "90                hec.net         1   \n",
       "97              ecvps.com         1   \n",
       "102         netriplex.com         1   \n",
       "109    5ninesolutions.com         1   \n",
       "111        interworx.info         1   \n",
       "112        wallawalla.edu         1   \n",
       "113     sanctuaryhost.com         1   \n",
       "115             umoss.org         1   \n",
       "120               nyi.net         1   \n",
       "123    rocketinternet.net         1   \n",
       "126                    FL         1   \n",
       "131               saruman         1   \n",
       "135                  1201         1   \n",
       "136                               1   \n",
       "145            kodapp.com         1   \n",
       "146       threatspace.net         1   \n",
       "149   social-engineer.org         1   \n",
       "160  vtlfccmfxlkgifuf.com         1   \n",
       "162        macromates.com         1   \n",
       "163                   254         1   \n",
       "167  ejfodfmfxlkgifuf.xyz         1   \n",
       "169        192.168.22.201         1   \n",
       "\n",
       "                                       fecha_creacion  \n",
       "2                                 2000-01-10 04:09:19  \n",
       "3                                                None  \n",
       "14                                1999-12-14 19:57:16  \n",
       "18                                               None  \n",
       "19                                1998-11-25 05:00:00  \n",
       "20                                               None  \n",
       "27                                               None  \n",
       "33                                               None  \n",
       "34                                2000-09-08 16:25:09  \n",
       "35                                2009-04-29 00:26:42  \n",
       "38                                               None  \n",
       "43                                               None  \n",
       "64                                               None  \n",
       "66                                               None  \n",
       "67                                               None  \n",
       "71                                               None  \n",
       "82         [2008-02-06 15:42:35, 2008-02-06 00:00:00]  \n",
       "86         [1999-01-30 05:00:00, 1999-01-30 00:00:00]  \n",
       "88                                               None  \n",
       "89                                2005-06-13 23:07:32  \n",
       "90                                1996-04-24 04:00:00  \n",
       "97                                2009-05-21 14:24:02  \n",
       "102                               2002-11-19 03:23:53  \n",
       "109        [2009-02-19 17:47:14, 2009-02-19 12:47:14]  \n",
       "111                               2003-07-15 20:28:48  \n",
       "112                               2007-05-02 00:00:00  \n",
       "113        [2004-07-13 15:17:11, 2004-07-13 15:17:00]  \n",
       "115                               2017-09-03 14:30:22  \n",
       "120                               1998-02-04 05:00:00  \n",
       "123                               1999-09-23 04:50:20  \n",
       "126                                              None  \n",
       "131                                              None  \n",
       "135                                              None  \n",
       "136                                              None  \n",
       "145                               2021-02-12 19:17:27  \n",
       "146  [2010-07-26 18:41:12, 2010-07-26 18:41:12+00:00]  \n",
       "149                               2009-06-10 23:35:12  \n",
       "160                                              None  \n",
       "162        [2003-02-05 00:25:14, 2003-02-04 19:25:14]  \n",
       "163                                              None  \n",
       "167                                              None  \n",
       "169                                              None  "
      ]
     },
     "execution_count": 206,
     "metadata": {},
     "output_type": "execute_result"
    }
   ],
   "source": [
    "dataframe[dataframe[\"en_lista\"] == 1]"
   ]
  },
  {
   "cell_type": "markdown",
   "metadata": {},
   "source": [
    "### ¿Cuáles son los dominios que podemos confirmar como sospechosos?"
   ]
  },
  {
   "cell_type": "markdown",
   "metadata": {},
   "source": [
    "Considero que se podrían confirmar como sospechosos aquellos dominos que NO tienen una fecha de creación. También todos aquellos que tenían menos de un año (soy inexperto en el tema, pero consideraría que 1 año de diferencia sería ideal para determinar si es o no sospechoso) de vida. Haciendo una diferencia entre el año que se capturó el paquete (2017) y el año de creación del sitio, si la cantidad de años en la diferencia es menor o igual a 1 se podría confirmar como sospechoso"
   ]
  },
  {
   "cell_type": "markdown",
   "metadata": {},
   "source": [
    "## 16. Recuerde que los dominios DGA son conocidos por formarse de forma aleatoria: secuencias aleatorias de caracteres, no palabras. Indique que dominios sospechosos tienen este patrón y que pueden confirmarse como dominios DGA."
   ]
  },
  {
   "cell_type": "code",
   "execution_count": 214,
   "metadata": {},
   "outputs": [
    {
     "data": {
      "application/vnd.microsoft.datawrangler.viewer.v0+json": {
       "columns": [
        {
         "name": "index",
         "rawType": "int64",
         "type": "integer"
        },
        {
         "name": "domain_tld",
         "rawType": "object",
         "type": "string"
        },
        {
         "name": "en_lista",
         "rawType": "int64",
         "type": "integer"
        },
        {
         "name": "fecha_creacion",
         "rawType": "object",
         "type": "unknown"
        }
       ],
       "conversionMethod": "pd.DataFrame",
       "ref": "cc989f2a-fdcf-4343-b19c-e3c33caaebdd",
       "rows": [
        [
         "3",
         "home",
         "1",
         null
        ],
        [
         "18",
         "110phpmyadmin",
         "1",
         null
        ],
        [
         "20",
         "localdomain",
         "1",
         null
        ],
        [
         "27",
         "ntkrnlpa.info",
         "1",
         null
        ],
        [
         "33",
         "arrancar.org",
         "1",
         null
        ],
        [
         "38",
         "theanime.cn",
         "1",
         null
        ],
        [
         "43",
         "vpn",
         "1",
         null
        ],
        [
         "64",
         "bigflickrfeed.com",
         "1",
         null
        ],
        [
         "66",
         "wpad",
         "1",
         null
        ],
        [
         "67",
         "lan",
         "1",
         null
        ],
        [
         "71",
         "56\"",
         "1",
         null
        ],
        [
         "88",
         "0",
         "1",
         null
        ],
        [
         "126",
         "FL",
         "1",
         null
        ],
        [
         "131",
         "saruman",
         "1",
         null
        ],
        [
         "135",
         "1201",
         "1",
         null
        ],
        [
         "136",
         "",
         "1",
         null
        ],
        [
         "160",
         "vtlfccmfxlkgifuf.com",
         "1",
         null
        ],
        [
         "163",
         "254",
         "1",
         null
        ],
        [
         "167",
         "ejfodfmfxlkgifuf.xyz",
         "1",
         null
        ],
        [
         "169",
         "192.168.22.201",
         "1",
         null
        ]
       ],
       "shape": {
        "columns": 3,
        "rows": 20
       }
      },
      "text/html": [
       "<div>\n",
       "<style scoped>\n",
       "    .dataframe tbody tr th:only-of-type {\n",
       "        vertical-align: middle;\n",
       "    }\n",
       "\n",
       "    .dataframe tbody tr th {\n",
       "        vertical-align: top;\n",
       "    }\n",
       "\n",
       "    .dataframe thead th {\n",
       "        text-align: right;\n",
       "    }\n",
       "</style>\n",
       "<table border=\"1\" class=\"dataframe\">\n",
       "  <thead>\n",
       "    <tr style=\"text-align: right;\">\n",
       "      <th></th>\n",
       "      <th>domain_tld</th>\n",
       "      <th>en_lista</th>\n",
       "      <th>fecha_creacion</th>\n",
       "    </tr>\n",
       "  </thead>\n",
       "  <tbody>\n",
       "    <tr>\n",
       "      <th>3</th>\n",
       "      <td>home</td>\n",
       "      <td>1</td>\n",
       "      <td>None</td>\n",
       "    </tr>\n",
       "    <tr>\n",
       "      <th>18</th>\n",
       "      <td>110phpmyadmin</td>\n",
       "      <td>1</td>\n",
       "      <td>None</td>\n",
       "    </tr>\n",
       "    <tr>\n",
       "      <th>20</th>\n",
       "      <td>localdomain</td>\n",
       "      <td>1</td>\n",
       "      <td>None</td>\n",
       "    </tr>\n",
       "    <tr>\n",
       "      <th>27</th>\n",
       "      <td>ntkrnlpa.info</td>\n",
       "      <td>1</td>\n",
       "      <td>None</td>\n",
       "    </tr>\n",
       "    <tr>\n",
       "      <th>33</th>\n",
       "      <td>arrancar.org</td>\n",
       "      <td>1</td>\n",
       "      <td>None</td>\n",
       "    </tr>\n",
       "    <tr>\n",
       "      <th>38</th>\n",
       "      <td>theanime.cn</td>\n",
       "      <td>1</td>\n",
       "      <td>None</td>\n",
       "    </tr>\n",
       "    <tr>\n",
       "      <th>43</th>\n",
       "      <td>vpn</td>\n",
       "      <td>1</td>\n",
       "      <td>None</td>\n",
       "    </tr>\n",
       "    <tr>\n",
       "      <th>64</th>\n",
       "      <td>bigflickrfeed.com</td>\n",
       "      <td>1</td>\n",
       "      <td>None</td>\n",
       "    </tr>\n",
       "    <tr>\n",
       "      <th>66</th>\n",
       "      <td>wpad</td>\n",
       "      <td>1</td>\n",
       "      <td>None</td>\n",
       "    </tr>\n",
       "    <tr>\n",
       "      <th>67</th>\n",
       "      <td>lan</td>\n",
       "      <td>1</td>\n",
       "      <td>None</td>\n",
       "    </tr>\n",
       "    <tr>\n",
       "      <th>71</th>\n",
       "      <td>56\"</td>\n",
       "      <td>1</td>\n",
       "      <td>None</td>\n",
       "    </tr>\n",
       "    <tr>\n",
       "      <th>88</th>\n",
       "      <td>0</td>\n",
       "      <td>1</td>\n",
       "      <td>None</td>\n",
       "    </tr>\n",
       "    <tr>\n",
       "      <th>126</th>\n",
       "      <td>FL</td>\n",
       "      <td>1</td>\n",
       "      <td>None</td>\n",
       "    </tr>\n",
       "    <tr>\n",
       "      <th>131</th>\n",
       "      <td>saruman</td>\n",
       "      <td>1</td>\n",
       "      <td>None</td>\n",
       "    </tr>\n",
       "    <tr>\n",
       "      <th>135</th>\n",
       "      <td>1201</td>\n",
       "      <td>1</td>\n",
       "      <td>None</td>\n",
       "    </tr>\n",
       "    <tr>\n",
       "      <th>136</th>\n",
       "      <td></td>\n",
       "      <td>1</td>\n",
       "      <td>None</td>\n",
       "    </tr>\n",
       "    <tr>\n",
       "      <th>160</th>\n",
       "      <td>vtlfccmfxlkgifuf.com</td>\n",
       "      <td>1</td>\n",
       "      <td>None</td>\n",
       "    </tr>\n",
       "    <tr>\n",
       "      <th>163</th>\n",
       "      <td>254</td>\n",
       "      <td>1</td>\n",
       "      <td>None</td>\n",
       "    </tr>\n",
       "    <tr>\n",
       "      <th>167</th>\n",
       "      <td>ejfodfmfxlkgifuf.xyz</td>\n",
       "      <td>1</td>\n",
       "      <td>None</td>\n",
       "    </tr>\n",
       "    <tr>\n",
       "      <th>169</th>\n",
       "      <td>192.168.22.201</td>\n",
       "      <td>1</td>\n",
       "      <td>None</td>\n",
       "    </tr>\n",
       "  </tbody>\n",
       "</table>\n",
       "</div>"
      ],
      "text/plain": [
       "               domain_tld  en_lista fecha_creacion\n",
       "3                    home         1           None\n",
       "18          110phpmyadmin         1           None\n",
       "20            localdomain         1           None\n",
       "27          ntkrnlpa.info         1           None\n",
       "33           arrancar.org         1           None\n",
       "38            theanime.cn         1           None\n",
       "43                    vpn         1           None\n",
       "64      bigflickrfeed.com         1           None\n",
       "66                   wpad         1           None\n",
       "67                    lan         1           None\n",
       "71                    56\"         1           None\n",
       "88                      0         1           None\n",
       "126                    FL         1           None\n",
       "131               saruman         1           None\n",
       "135                  1201         1           None\n",
       "136                               1           None\n",
       "160  vtlfccmfxlkgifuf.com         1           None\n",
       "163                   254         1           None\n",
       "167  ejfodfmfxlkgifuf.xyz         1           None\n",
       "169        192.168.22.201         1           None"
      ]
     },
     "execution_count": 214,
     "metadata": {},
     "output_type": "execute_result"
    }
   ],
   "source": [
    "dataframe[(dataframe[\"en_lista\"] == 1) & (dataframe[\"fecha_creacion\"].isna())]"
   ]
  },
  {
   "cell_type": "markdown",
   "metadata": {},
   "source": [
    "Dada la data mostrada anteriormente se puede confirmar que hay mínimo 8 dominios que podrían clasificarse como DGA.\n",
    "Estos serían:\n",
    "* ntkrnlpa.info\n",
    "* 56\"\n",
    "* 0\n",
    "* FL\n",
    "* 1201\n",
    "* vtlfccmfxlkgifuf.com\n",
    "* 254\n",
    "* ejfodfmfxlkgifuf.xyz\n",
    "\n",
    "Digo mínimo ya que son los que tienen dos características críticas: primero que el TDL se ve que se creó de manera aleatoria y no cuentan con fecha de creación. Puede que hayan muchos más TDL que sí tienen fecha de creación y parecen creados de manera aleatoria, pero su fecha pude ser muy reciente; por lo tanto, ese TDL debería de caer en la misma clasificación de DGA debido a que su tiempo de vida es poca como para confiar en él."
   ]
  }
 ],
 "metadata": {
  "kernelspec": {
   "display_name": "Python 3",
   "language": "python",
   "name": "python3"
  },
  "language_info": {
   "codemirror_mode": {
    "name": "ipython",
    "version": 3
   },
   "file_extension": ".py",
   "mimetype": "text/x-python",
   "name": "python",
   "nbconvert_exporter": "python",
   "pygments_lexer": "ipython3",
   "version": "3.10.2"
  }
 },
 "nbformat": 4,
 "nbformat_minor": 2
}
